{
 "cells": [
  {
   "cell_type": "markdown",
   "id": "integral-thermal",
   "metadata": {},
   "source": [
    "# <center><b>Hands-on</b></center>\n",
    "\n",
    "<img src=\"../images/pandas_logo.svg\">\n",
    "<div style=\"text-align:center\">\n",
    "    Bertrand Néron, François Laurent, Etienne Kornobis\n",
    "    <br />\n",
    "    <a src=\" https://research.pasteur.fr/en/team/bioinformatics-and-biostatistics-hub/\">Bioinformatics and Biostatistiqucs HUB</a>\n",
    "    <br />\n",
    "    © Institut Pasteur, 2021\n",
    "</div>"
   ]
  },
  {
   "cell_type": "markdown",
   "id": "trained-fighter",
   "metadata": {},
   "source": [
    "# Exploring Blast results"
   ]
  },
  {
   "cell_type": "markdown",
   "id": "manufactured-cursor",
   "metadata": {},
   "source": [
    "- Import the file data/blast.txt into a pandas dataframe variable (named `blast_res`). Verify that its type is a pandas\n",
    "dataframe and display the dataframe in jupyterlab.\n",
    "\n",
    "NB: The column names for this blast format are: \"qseqid\", \"sseqid\", \"pident\", \"length\", \"mismatch\", \"gapopen\", \"qstart\", \"qend\", \"sstart\", \"send\", \"evalue\", \"bitscore\"\n",
    "You going to need to pass an extra argument (`names`) to specify the names of the columns."
   ]
  },
  {
   "cell_type": "code",
   "execution_count": null,
   "id": "musical-violence",
   "metadata": {},
   "outputs": [],
   "source": [
    "import pandas as pd"
   ]
  },
  {
   "cell_type": "code",
   "execution_count": null,
   "id": "loaded-transfer",
   "metadata": {},
   "outputs": [],
   "source": [
    "blast_colnames = [\"qseqid\",\"sseqid\",\"pident\",\"length\",\"mismatch\",\"gapopen\",\"qstart\",\"qend\",\"sstart\",\"send\",\"evalue\",\"bitscore\"]\n",
    "blast_res = pd.read_csv(\"../data/blast.txt\", sep=\"\\t\", names=blast_colnames)"
   ]
  },
  {
   "cell_type": "code",
   "execution_count": null,
   "id": "streaming-regulation",
   "metadata": {},
   "outputs": [],
   "source": [
    "type(blast_res)"
   ]
  },
  {
   "cell_type": "code",
   "execution_count": null,
   "id": "unsigned-coast",
   "metadata": {},
   "outputs": [],
   "source": [
    "blast_res"
   ]
  },
  {
   "cell_type": "markdown",
   "id": "dominant-knowing",
   "metadata": {},
   "source": [
    "Explore ``blast_res`` dataframe:\n",
    "\n",
    "- Display the 5 first lines of the dataframe.\n",
    "- Display the 8 last lines of the dataframe.\n",
    "- Display a overall statistical description of the dataframe.\n",
    "- Display the dimensions of the dataframe."
   ]
  },
  {
   "cell_type": "code",
   "execution_count": null,
   "id": "simplified-progress",
   "metadata": {},
   "outputs": [],
   "source": [
    "blast_res.head(5)"
   ]
  },
  {
   "cell_type": "code",
   "execution_count": null,
   "id": "narrow-smell",
   "metadata": {},
   "outputs": [],
   "source": [
    "blast_res.tail(8)"
   ]
  },
  {
   "cell_type": "code",
   "execution_count": null,
   "id": "identical-guest",
   "metadata": {},
   "outputs": [],
   "source": [
    "blast_res.describe()"
   ]
  },
  {
   "cell_type": "code",
   "execution_count": null,
   "id": "alpine-cleveland",
   "metadata": {},
   "outputs": [],
   "source": [
    "blast_res.shape"
   ]
  },
  {
   "cell_type": "markdown",
   "id": "imposed-squad",
   "metadata": {},
   "source": [
    "- Extract 3rd line from the ``blast_res`` dataframe. Which type of data structure is returned by this extraction ?"
   ]
  },
  {
   "cell_type": "code",
   "execution_count": null,
   "id": "complicated-football",
   "metadata": {},
   "outputs": [],
   "source": [
    "blast_res.iloc[2]"
   ]
  },
  {
   "cell_type": "code",
   "execution_count": null,
   "id": "administrative-biodiversity",
   "metadata": {},
   "outputs": [],
   "source": [
    "type(blast_res.iloc[2])"
   ]
  },
  {
   "cell_type": "markdown",
   "id": "074339d0-1519-4059-bbe4-1802a50a731e",
   "metadata": {},
   "source": [
    "- Using iloc, extract the first 5 lines from the ``blast_res`` dataframe. Which type of data structure is returned by this extraction ?"
   ]
  },
  {
   "cell_type": "code",
   "execution_count": null,
   "id": "0367828c-9201-45ee-898c-36a85fd8817c",
   "metadata": {},
   "outputs": [],
   "source": [
    "blast_res.iloc[:5]"
   ]
  },
  {
   "cell_type": "code",
   "execution_count": null,
   "id": "b6180bb6-44c3-4ab8-9f74-fca7e7e3f733",
   "metadata": {},
   "outputs": [],
   "source": [
    "type(blast_res.iloc[:5])"
   ]
  },
  {
   "cell_type": "markdown",
   "id": "equipped-amendment",
   "metadata": {},
   "source": [
    "- Extract the *sseqid* column from the ``blast_res`` dataframe. "
   ]
  },
  {
   "cell_type": "code",
   "execution_count": null,
   "id": "seasonal-europe",
   "metadata": {},
   "outputs": [],
   "source": [
    "blast_res.loc[:,'sseqid']\n",
    "# Or\n",
    "blast_res.sseqid"
   ]
  },
  {
   "cell_type": "markdown",
   "id": "55ff091c-365c-4174-b6d7-be39b0dbe11d",
   "metadata": {},
   "source": [
    "- Select only the \"qseqid\", \"sseqid\", \"pident\", \"evalue\" and \"bitscore\" columns of the Dataframe: "
   ]
  },
  {
   "cell_type": "code",
   "execution_count": null,
   "id": "7cd85008-5b14-4a62-a195-7df323a0b8a1",
   "metadata": {},
   "outputs": [],
   "source": [
    "blast_res.loc[:, [\"qseqid\", \"sseqid\", \"pident\", \"evalue\", \"bitscore\"]]"
   ]
  },
  {
   "cell_type": "markdown",
   "id": "5e3f2d8d-4a43-4719-8554-9b8b5b8b77f0",
   "metadata": {},
   "source": [
    "- Feel free to play around with DataFrame slicing (selecting different combinations of lines and columns) to get comfortable with the syntax. "
   ]
  },
  {
   "cell_type": "markdown",
   "id": "major-leave",
   "metadata": {},
   "source": [
    "- Get the minimum and maximum value of a the *evalue* column."
   ]
  },
  {
   "cell_type": "code",
   "execution_count": null,
   "id": "varied-influence",
   "metadata": {},
   "outputs": [],
   "source": [
    "blast_res.evalue.min()"
   ]
  },
  {
   "cell_type": "code",
   "execution_count": null,
   "id": "little-recipient",
   "metadata": {},
   "outputs": [],
   "source": [
    "blast_res.evalue.max()"
   ]
  },
  {
   "cell_type": "markdown",
   "id": "sitting-blackberry",
   "metadata": {},
   "source": [
    "- Get the median and the mean of the *bitscore* column."
   ]
  },
  {
   "cell_type": "code",
   "execution_count": null,
   "id": "polyphonic-retro",
   "metadata": {},
   "outputs": [],
   "source": [
    "blast_res.bitscore.median()"
   ]
  },
  {
   "cell_type": "code",
   "execution_count": null,
   "id": "advisory-symphony",
   "metadata": {},
   "outputs": [],
   "source": [
    "blast_res.bitscore.mean()"
   ]
  },
  {
   "cell_type": "markdown",
   "id": "friendly-extra",
   "metadata": {},
   "source": [
    "- Filter in all hits with a percentage of identity (*pident*) superior to 75%."
   ]
  },
  {
   "cell_type": "code",
   "execution_count": null,
   "id": "rough-globe",
   "metadata": {},
   "outputs": [],
   "source": [
    "blast_res.loc[blast_res.pident > 75]"
   ]
  },
  {
   "cell_type": "code",
   "execution_count": null,
   "id": "novel-turkey",
   "metadata": {},
   "outputs": [],
   "source": [
    "# OR \n",
    "blast_res.query(\"pident > 75\")"
   ]
  },
  {
   "cell_type": "markdown",
   "id": "several-light",
   "metadata": {},
   "source": [
    "- Based on the bitscore alone, extract only the best hit(s) (i.e. the highest(s) bitscore(s))."
   ]
  },
  {
   "cell_type": "code",
   "execution_count": null,
   "id": "arbitrary-style",
   "metadata": {},
   "outputs": [],
   "source": [
    "# Getting the highest bitscore value\n",
    "max_bitscore = blast_res.bitscore.max()\n",
    "# Extracting all the rows with a bitscore equal to the maximum bitscore\n",
    "blast_res.loc[blast_res.bitscore == max_bitscore]"
   ]
  },
  {
   "cell_type": "markdown",
   "id": "heated-poultry",
   "metadata": {},
   "source": [
    "- Filter in all hits which are corresponding to human hits in the database (*sseqid*)."
   ]
  },
  {
   "cell_type": "code",
   "execution_count": null,
   "id": "failing-crossing",
   "metadata": {},
   "outputs": [],
   "source": [
    "# This could be done with list comprehension creating a list of Booleans \n",
    "mask =[\"HUMAN\" in x for x in blast_res.sseqid] \n",
    "blast_res.loc[mask]"
   ]
  },
  {
   "cell_type": "code",
   "execution_count": null,
   "id": "trained-durham",
   "metadata": {},
   "outputs": [],
   "source": [
    "# But pandas as a specific syntax to make operation on strings in a Serie: the method str and its method contains\n",
    "blast_res.loc[blast_res.sseqid.str.contains(\"HUMAN\")]"
   ]
  },
  {
   "cell_type": "code",
   "execution_count": null,
   "id": "structural-hybrid",
   "metadata": {},
   "outputs": [],
   "source": [
    "blast_res.query(\"~sseqid.str.contains('HUMAN') & pident > 75\")"
   ]
  },
  {
   "cell_type": "markdown",
   "id": "incorporate-interface",
   "metadata": {},
   "source": [
    "- Plot a histogram of the bitscores. "
   ]
  },
  {
   "cell_type": "code",
   "execution_count": null,
   "id": "liable-wheat",
   "metadata": {},
   "outputs": [],
   "source": [
    "blast_res[\"bitscore\"].hist()"
   ]
  },
  {
   "cell_type": "markdown",
   "id": "reflected-intervention",
   "metadata": {},
   "source": [
    "- Plot a barplot of the number of hits per species (species are considered the last code after the \"_\" in the sseqid column)"
   ]
  },
  {
   "cell_type": "code",
   "execution_count": null,
   "id": "normal-glenn",
   "metadata": {},
   "outputs": [],
   "source": [
    "# First extract the species information from the sseqid column\n",
    "hits_by_sp = blast_res.sseqid.str.split(\"_\", expand=True)\n",
    "hits_by_sp"
   ]
  },
  {
   "cell_type": "code",
   "execution_count": null,
   "id": "arranged-intervention",
   "metadata": {},
   "outputs": [],
   "source": [
    "# Then count their occurences and do the barplot\n",
    "hits_by_sp.loc[:, 1].value_counts().plot(kind=\"bar\")"
   ]
  },
  {
   "cell_type": "markdown",
   "id": "generous-regression",
   "metadata": {},
   "source": [
    "# Extra exercise"
   ]
  },
  {
   "cell_type": "markdown",
   "id": "purple-legend",
   "metadata": {},
   "source": [
    "read the 'data/city_temperature.csv'\n",
    "\n",
    "force the City datatype to string by passing\n",
    "```\n",
    "dtype={'City': str}\n",
    "```\n",
    "As argument to the function to read the file.<br />\n",
    "Don't worry to the warning, it is due to State wich contains Nan for non US contry, but we do not use these data"
   ]
  },
  {
   "cell_type": "code",
   "execution_count": null,
   "id": "arctic-pickup",
   "metadata": {},
   "outputs": [],
   "source": [
    "world = pd.read_csv('../data/city_temperature.csv' , sep=',', dtype={'City': str})"
   ]
  },
  {
   "cell_type": "code",
   "execution_count": null,
   "id": "conventional-section",
   "metadata": {},
   "outputs": [],
   "source": [
    "world.columns"
   ]
  },
  {
   "cell_type": "markdown",
   "id": "authentic-hearts",
   "metadata": {},
   "source": [
    "We will work only on Europe Region. so create data named europe with only these data"
   ]
  },
  {
   "cell_type": "code",
   "execution_count": null,
   "id": "strong-skirt",
   "metadata": {},
   "outputs": [],
   "source": [
    "europe = world[world['Region'] == 'Europe']"
   ]
  },
  {
   "cell_type": "markdown",
   "id": "protected-desperate",
   "metadata": {},
   "source": [
    "Which country are in europe?"
   ]
  },
  {
   "cell_type": "code",
   "execution_count": null,
   "id": "unable-establishment",
   "metadata": {},
   "outputs": [],
   "source": [
    "europe.Country.unique()"
   ]
  },
  {
   "cell_type": "markdown",
   "id": "engaged-republican",
   "metadata": {},
   "source": [
    "remove columns 'Region' and 'State' from the data"
   ]
  },
  {
   "cell_type": "code",
   "execution_count": null,
   "id": "anticipated-illinois",
   "metadata": {},
   "outputs": [],
   "source": [
    "europe = europe[['Country', 'City', 'Month', 'Day', 'Year', 'AvgTemperature']]"
   ]
  },
  {
   "cell_type": "markdown",
   "id": "amino-grant",
   "metadata": {},
   "source": [
    "from europe data create a new dataset containing countries: 'France', 'Spain', 'Italy'"
   ]
  },
  {
   "cell_type": "code",
   "execution_count": null,
   "id": "organized-tender",
   "metadata": {},
   "outputs": [],
   "source": [
    "fr_sp_it = europe[europe['Country'].isin(['France', 'Spain', 'Italy'])]"
   ]
  },
  {
   "cell_type": "markdown",
   "id": "endangered-weekly",
   "metadata": {},
   "source": [
    "group the data on 'City' and 'Year' compute the mean of each group and keep only the 'AvgTemperature' column."
   ]
  },
  {
   "cell_type": "code",
   "execution_count": null,
   "id": "sacred-secret",
   "metadata": {},
   "outputs": [],
   "source": [
    "fr_sp_it_mean = fr_sp_it.groupby(['City', 'Year']).mean(numeric_only=True).AvgTemperature\n",
    "fr_sp_it_mean"
   ]
  },
  {
   "cell_type": "markdown",
   "id": "north-condition",
   "metadata": {},
   "source": [
    "do the same but compute the standard deviation"
   ]
  },
  {
   "cell_type": "code",
   "execution_count": null,
   "id": "absent-envelope",
   "metadata": {},
   "outputs": [],
   "source": [
    "fr_sp_it_std = fr_sp_it.groupby(['City', 'Year']).std(numeric_only=True)['AvgTemperature']\n",
    "fr_sp_it_std"
   ]
  },
  {
   "cell_type": "markdown",
   "id": "continued-tiger",
   "metadata": {},
   "source": [
    "* reset the index fo the mean data and std data\n",
    "* rename the column AvgTemperature to Tmp on the mean data\n",
    "* rename the column AvgTemperature to std on the std data"
   ]
  },
  {
   "cell_type": "code",
   "execution_count": null,
   "id": "1e1a6c6a-2c4c-4e81-b24c-781b5810154f",
   "metadata": {},
   "outputs": [],
   "source": [
    "fr_sp_it_mean.reset_index()"
   ]
  },
  {
   "cell_type": "code",
   "execution_count": null,
   "id": "geological-newman",
   "metadata": {},
   "outputs": [],
   "source": [
    "data_mean = fr_sp_it_mean.reset_index()\n",
    "data_mean.columns = ['City', 'Year', 'Tmp']\n",
    "data_std = fr_sp_it_std.reset_index()\n",
    "data_std.columns = ['City', 'Year', 'std']"
   ]
  },
  {
   "cell_type": "markdown",
   "id": "ongoing-armenia",
   "metadata": {},
   "source": [
    "merge the two table data_mean and data_std"
   ]
  },
  {
   "cell_type": "code",
   "execution_count": null,
   "id": "liquid-brighton",
   "metadata": {},
   "outputs": [],
   "source": [
    "clean_data = pd.merge(data_mean, data_std, on=['City', 'Year'])\n",
    "clean_data"
   ]
  },
  {
   "cell_type": "markdown",
   "id": "egyptian-restoration",
   "metadata": {},
   "source": [
    "save the data in a file"
   ]
  },
  {
   "cell_type": "code",
   "execution_count": null,
   "id": "agreed-diesel",
   "metadata": {},
   "outputs": [],
   "source": [
    "clean_data.to_csv('../data/fr_sp_it_temp.tsv', sep='\\t')"
   ]
  },
  {
   "cell_type": "markdown",
   "id": "interim-interstate",
   "metadata": {},
   "source": [
    "# Teasing\n",
    "\n",
    "a quick data plotting. we will improve it in matplotlib course"
   ]
  },
  {
   "cell_type": "code",
   "execution_count": null,
   "id": "animated-alert",
   "metadata": {},
   "outputs": [],
   "source": [
    "for city, df in clean_data.groupby('City'):\n",
    "    df.plot('Year', 'Tmp', label=city)"
   ]
  }
 ],
 "metadata": {
  "kernelspec": {
   "display_name": "Python 3 (ipykernel)",
   "language": "python",
   "name": "python3"
  },
  "language_info": {
   "codemirror_mode": {
    "name": "ipython",
    "version": 3
   },
   "file_extension": ".py",
   "mimetype": "text/x-python",
   "name": "python",
   "nbconvert_exporter": "python",
   "pygments_lexer": "ipython3",
   "version": "3.11.10"
  }
 },
 "nbformat": 4,
 "nbformat_minor": 5
}
