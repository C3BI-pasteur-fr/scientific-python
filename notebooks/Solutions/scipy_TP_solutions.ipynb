{
 "cells": [
  {
   "cell_type": "markdown",
   "id": "a5a5210d",
   "metadata": {
    "heading_collapsed": true
   },
   "source": [
    "## Q\n",
    "\n",
    "Import `numpy`, `pandas`, the `pyplot` module from `matplotlib`, `seaborn`, and the `stats` module from `scipy`."
   ]
  },
  {
   "cell_type": "markdown",
   "id": "5ac6cc32",
   "metadata": {
    "heading_collapsed": true
   },
   "source": [
    "## A"
   ]
  },
  {
   "cell_type": "code",
   "execution_count": null,
   "id": "529c5f56",
   "metadata": {
    "hidden": true
   },
   "outputs": [],
   "source": [
    "import numpy as np\n",
    "import pandas as pd\n",
    "from scipy import stats\n",
    "from matplotlib import pyplot as plt\n",
    "import seaborn as sns"
   ]
  },
  {
   "cell_type": "markdown",
   "id": "93ad4aaf",
   "metadata": {},
   "source": [
    "# Comparison of two group means"
   ]
  },
  {
   "cell_type": "markdown",
   "id": "0e4fd0d9",
   "metadata": {
    "heading_collapsed": true
   },
   "source": [
    "## Q\n",
    "\n",
    "Load the `mi.csv` data file, located in the `data` directory of the course repository, into a DataFrame, and show the column names and 5 first rows."
   ]
  },
  {
   "cell_type": "markdown",
   "id": "08c1dd12",
   "metadata": {
    "heading_collapsed": true
   },
   "source": [
    "## A"
   ]
  },
  {
   "cell_type": "code",
   "execution_count": null,
   "id": "eefc126c",
   "metadata": {
    "hidden": true
   },
   "outputs": [],
   "source": [
    "df = pd.read_csv('../data/mi.csv', index_col=0)"
   ]
  },
  {
   "cell_type": "code",
   "execution_count": null,
   "id": "00130518",
   "metadata": {
    "hidden": true
   },
   "outputs": [],
   "source": [
    "# in Jupyter-lab, pandas is set to display dataframes with a limited number of columns\n",
    "pd.options.display.max_columns = None\n",
    "pd.options.display.max_rows = 6\n",
    "\n",
    "df.head()"
   ]
  },
  {
   "cell_type": "markdown",
   "id": "3512f950",
   "metadata": {
    "heading_collapsed": true
   },
   "source": [
    "## Q\n",
    "\n",
    "Show a summary table for these data, numerical AND categorical.\n",
    "\n",
    "Hint: look for optional arguments to the method you know, to get info about the categorical variables."
   ]
  },
  {
   "cell_type": "markdown",
   "id": "6984434b",
   "metadata": {
    "heading_collapsed": true
   },
   "source": [
    "## A"
   ]
  },
  {
   "cell_type": "code",
   "execution_count": null,
   "id": "a7a7d087",
   "metadata": {
    "hidden": true
   },
   "outputs": [],
   "source": [
    "df.describe()"
   ]
  },
  {
   "cell_type": "code",
   "execution_count": null,
   "id": "8d45dd25",
   "metadata": {
    "hidden": true
   },
   "outputs": [],
   "source": [
    "df.describe(exclude='number')"
   ]
  },
  {
   "cell_type": "markdown",
   "id": "04163591",
   "metadata": {
    "heading_collapsed": true
   },
   "source": [
    "## Q\n",
    "\n",
    "Inspect the relationship between variables `Age` and `OwnsHouse`. What type of plots is most suitable?"
   ]
  },
  {
   "cell_type": "markdown",
   "id": "d6baac23",
   "metadata": {
    "heading_collapsed": true
   },
   "source": [
    "## A"
   ]
  },
  {
   "cell_type": "code",
   "execution_count": null,
   "id": "5de6412d",
   "metadata": {
    "hidden": true
   },
   "outputs": [],
   "source": [
    "# categorical vs continuous => boxplot, violinplot\n",
    "sns.boxplot(x='OwnsHouse', y='Age', data=df);"
   ]
  },
  {
   "cell_type": "code",
   "execution_count": null,
   "id": "ee08a262",
   "metadata": {
    "hidden": true
   },
   "outputs": [],
   "source": [
    "sns.boxplot(x='OwnsHouse', y='Age', data=df);\n",
    "sns.swarmplot(x='OwnsHouse', y='Age', hue='OwnsHouse', data=df, linewidth=1, size=3, legend=False);"
   ]
  },
  {
   "cell_type": "code",
   "execution_count": null,
   "id": "f793503f",
   "metadata": {
    "hidden": true
   },
   "outputs": [],
   "source": [
    "!cowsay \"Where on Earth do younger people own a house while elder people do not?\""
   ]
  },
  {
   "cell_type": "markdown",
   "id": "fbe5459a",
   "metadata": {
    "hidden": true
   },
   "source": [
    "Alternative representation:"
   ]
  },
  {
   "cell_type": "code",
   "execution_count": null,
   "id": "3d1a44e6",
   "metadata": {
    "hidden": true
   },
   "outputs": [],
   "source": [
    "sns.histplot(hue='OwnsHouse', y='Age', data=df, kde=True);"
   ]
  },
  {
   "cell_type": "markdown",
   "id": "bf917039",
   "metadata": {
    "heading_collapsed": true
   },
   "source": [
    "## Q\n",
    "\n",
    "Draw a boxplot or violinplot of `Age` for two categorical variables, say `OwnsHouse` and `LivesWithKids`."
   ]
  },
  {
   "cell_type": "markdown",
   "id": "ae6ca008",
   "metadata": {
    "heading_collapsed": true
   },
   "source": [
    "## A"
   ]
  },
  {
   "cell_type": "code",
   "execution_count": null,
   "id": "06e98558",
   "metadata": {
    "hidden": true
   },
   "outputs": [],
   "source": [
    "ax = sns.boxplot(x='OwnsHouse', y='Age', data=df, hue=\"LivesWithKids\")\n",
    "#sns.move_legend(ax, bbox_to_anchor=(1.02, 1), loc='upper left', borderaxespad=0);"
   ]
  },
  {
   "cell_type": "markdown",
   "id": "1e94c17b",
   "metadata": {
    "heading_collapsed": true
   },
   "source": [
    "## Q\n",
    "\n",
    "Isolate the house-owners group from the others, and report their mean age(s) as $99\\%$ confidence interval(s)."
   ]
  },
  {
   "cell_type": "markdown",
   "id": "497142f3",
   "metadata": {
    "heading_collapsed": true
   },
   "source": [
    "## A"
   ]
  },
  {
   "cell_type": "code",
   "execution_count": null,
   "id": "55d18f16",
   "metadata": {
    "hidden": true
   },
   "outputs": [],
   "source": [
    "group = df.groupby('OwnsHouse').groups\n",
    "house_owners = group['Yes']\n",
    "others = group['No']\n",
    "house_owners_age = df.loc[house_owners, 'Age']\n",
    "others_age = df.loc[others, 'Age']"
   ]
  },
  {
   "cell_type": "code",
   "execution_count": null,
   "id": "4f129b2a",
   "metadata": {
    "hidden": true
   },
   "outputs": [],
   "source": [
    "mean = np.mean(house_owners_age)\n",
    "sem = stats.sem(house_owners_age)\n",
    "distribution_of_the_mean = stats.norm(mean, sem)"
   ]
  },
  {
   "cell_type": "code",
   "execution_count": null,
   "id": "9613dc45-cdac-4932-b646-d36965d2d4e6",
   "metadata": {
    "hidden": true
   },
   "outputs": [],
   "source": [
    "distribution_of_the_mean.interval(.99)"
   ]
  },
  {
   "cell_type": "markdown",
   "id": "a721a374",
   "metadata": {
    "hidden": true
   },
   "source": [
    "Alternative calculation, for both groups:\n",
    "\n",
    "First we need to evaluate the inverse survival function of the standard normal distribution at $0.5\\%$."
   ]
  },
  {
   "cell_type": "code",
   "execution_count": null,
   "id": "1fca5a60",
   "metadata": {
    "hidden": true
   },
   "outputs": [],
   "source": [
    "alpha = 0.01\n",
    "z = stats.norm().isf(alpha / 2)"
   ]
  },
  {
   "cell_type": "code",
   "execution_count": null,
   "id": "9f044f06",
   "metadata": {
    "hidden": true
   },
   "outputs": [],
   "source": [
    "for group_name, group_age in (\n",
    "    ('House owners', house_owners_age),\n",
    "    ('Others', others_age),\n",
    "):\n",
    "    m = np.mean(group_age)\n",
    "    z_times_sem = z * stats.sem(group_age)\n",
    "    print(f'{group_name}: {m:.2f} ± {z_times_sem:.2f} years old on average')"
   ]
  },
  {
   "cell_type": "markdown",
   "id": "ea79970d",
   "metadata": {
    "heading_collapsed": true
   },
   "source": [
    "## Q\n",
    "\n",
    "Check whether the age is normally distributed in a group, first following a graphical approach."
   ]
  },
  {
   "cell_type": "markdown",
   "id": "15e4d4c9",
   "metadata": {
    "heading_collapsed": true
   },
   "source": [
    "## A"
   ]
  },
  {
   "cell_type": "code",
   "execution_count": null,
   "id": "6ec85793-d159-47ac-bf2e-d28778dbb865",
   "metadata": {
    "hidden": true
   },
   "outputs": [],
   "source": [
    "stats.probplot(house_owners_age, fit=True, plot=plt);"
   ]
  },
  {
   "cell_type": "markdown",
   "id": "f9008612",
   "metadata": {
    "hidden": true
   },
   "source": [
    "`probplot` does not allow customizing the plot, but conveniently provides the elements to reproduce the plot with lower-level functions."
   ]
  },
  {
   "cell_type": "code",
   "execution_count": null,
   "id": "5575fa6c",
   "metadata": {
    "hidden": true
   },
   "outputs": [],
   "source": [
    "help(stats.probplot)"
   ]
  },
  {
   "cell_type": "code",
   "execution_count": null,
   "id": "ddf5d4b0",
   "metadata": {
    "hidden": true
   },
   "outputs": [],
   "source": [
    "(theoretical_quantiles, observed_quantiles), (slope, intercept, _) = stats.probplot(house_owners_age, fit=True)\n",
    "# blue crosses\n",
    "plt.scatter(theoretical_quantiles, observed_quantiles, marker='+', color='b')\n",
    "# red line\n",
    "plt.axline((0, intercept), slope=slope, color='r')\n",
    "# axis labels\n",
    "plt.xlabel('theoretical quantiles')\n",
    "plt.ylabel('ordered observations (age)');"
   ]
  },
  {
   "cell_type": "markdown",
   "id": "24b49c4c",
   "metadata": {
    "hidden": true
   },
   "source": [
    "The red line is fitted to the blue points and does not align well on the linear part.\n",
    "\n",
    "We can seek confirmation with a normality test, although it is already clear the age is not normally distributed in our sample:"
   ]
  },
  {
   "cell_type": "code",
   "execution_count": null,
   "id": "ed0042b6",
   "metadata": {
    "hidden": true
   },
   "outputs": [],
   "source": [
    "stats.normaltest(house_owners_age)"
   ]
  },
  {
   "cell_type": "markdown",
   "id": "f35584b7",
   "metadata": {
    "hidden": true
   },
   "source": [
    "Here, we have comfortable sample sizes and these departures from normality may not affect the power of the statistical test."
   ]
  },
  {
   "cell_type": "markdown",
   "id": "2cc80be1",
   "metadata": {
    "heading_collapsed": true
   },
   "source": [
    "## Q\n",
    "\n",
    "Are the sample size and variance of the two groups similar enough for running a standard $t$ test?"
   ]
  },
  {
   "cell_type": "markdown",
   "id": "cd58c73a",
   "metadata": {
    "heading_collapsed": true
   },
   "source": [
    "## A"
   ]
  },
  {
   "cell_type": "code",
   "execution_count": null,
   "id": "0dbb79f7",
   "metadata": {
    "hidden": true
   },
   "outputs": [],
   "source": [
    "len(house_owners_age), len(others_age), np.std(house_owners_age), np.std(others_age)"
   ]
  },
  {
   "cell_type": "markdown",
   "id": "3e221ea2",
   "metadata": {
    "hidden": true
   },
   "source": [
    "`ttest_ind` allows standard deviation ratios [up to $2$](https://en.wikipedia.org/wiki/Student%27s_t-test#Equal_or_unequal_sample_sizes,_similar_variances_(1/2_%3C_sX1/sX2_%3C_2)).\n",
    "The groups can have different sample sizes."
   ]
  },
  {
   "cell_type": "markdown",
   "id": "d61f454a",
   "metadata": {
    "heading_collapsed": true
   },
   "source": [
    "## Q\n",
    "\n",
    "Test whether the group mean ages equal."
   ]
  },
  {
   "cell_type": "markdown",
   "id": "b076e8e6",
   "metadata": {
    "heading_collapsed": true
   },
   "source": [
    "## A"
   ]
  },
  {
   "cell_type": "code",
   "execution_count": null,
   "id": "1d238900",
   "metadata": {
    "hidden": true
   },
   "outputs": [],
   "source": [
    "# define your significance level first!\n",
    "significance_level = 0.05\n",
    "\n",
    "# run a t-test for independent samples\n",
    "stats.ttest_ind(house_owners_age, others_age)"
   ]
  },
  {
   "cell_type": "code",
   "execution_count": null,
   "id": "472c03d6",
   "metadata": {
    "hidden": true
   },
   "outputs": [],
   "source": [
    "_, pvalue = stats.ttest_ind(house_owners_age, others_age)\n",
    "pvalue <= significance_level"
   ]
  },
  {
   "cell_type": "markdown",
   "id": "62b30b76",
   "metadata": {
    "heading_collapsed": true
   },
   "source": [
    "## Q\n",
    "\n",
    "How would you report the result of this test, with extensive information about the effect?"
   ]
  },
  {
   "cell_type": "markdown",
   "id": "efeac3ab",
   "metadata": {
    "heading_collapsed": true
   },
   "source": [
    "## A"
   ]
  },
  {
   "cell_type": "code",
   "execution_count": null,
   "id": "341157b6",
   "metadata": {
    "hidden": true
   },
   "outputs": [],
   "source": [
    "# we need:\n",
    "# * the number of degrees of freedom, to give a complete report of the outcome of the t-test,\n",
    "n1, n2 = len(house_owners_age), len(others_age)\n",
    "degrees_of_freedom = n1 + n2 - 2\n",
    "\n",
    "# * the mean difference (this is almost an effect size, not compared with the associated variability),\n",
    "mean_difference = np.mean(house_owners_age) - np.mean(others_age)\n",
    "\n",
    "# * and the effect size.\n",
    "t, _ = stats.ttest_ind(house_owners_age, others_age)\n",
    "cohen_d = t * np.sqrt(1/n1 + 1/n2)\n",
    "\n",
    "#   alternatively, for the lazy people:\n",
    "import pingouin as pg\n",
    "cohen_d_again = pg.compute_effsize(house_owners_age, others_age)\n",
    "\n",
    "degrees_of_freedom, mean_difference, cohen_d, cohen_d_again"
   ]
  },
  {
   "cell_type": "markdown",
   "id": "b79f8a5c",
   "metadata": {
    "hidden": true
   },
   "source": [
    "«**In our study**, house owners ($n=288$) were found to be significantly younger than the other surveyed people ($n=528$; $10.3$ years younger on average, $t(814)=-10.9$, $p<0.05$). This effect was found to be large (Cohen's $d \\approx 0.8$).»\n",
    "\n",
    "Note: as we report the sample size for each group, we may omit the (still nice-to-have) information of the number of degrees of freedom."
   ]
  },
  {
   "cell_type": "code",
   "execution_count": null,
   "id": "c45d530a",
   "metadata": {
    "hidden": true
   },
   "outputs": [],
   "source": [
    "help(pg.compute_effsize)"
   ]
  },
  {
   "cell_type": "code",
   "execution_count": null,
   "id": "3b123c41",
   "metadata": {
    "hidden": true
   },
   "outputs": [],
   "source": [
    "pg.compute_effsize(house_owners_age, others_age, eftype='hedges')"
   ]
  },
  {
   "cell_type": "markdown",
   "id": "b7d98432",
   "metadata": {},
   "source": [
    "# Comparing two distributions"
   ]
  },
  {
   "cell_type": "markdown",
   "id": "7f5453a9",
   "metadata": {},
   "source": [
    "Now let proceed to comparing age between people living with kids and those living without kids.\n",
    "Plot the data."
   ]
  },
  {
   "cell_type": "code",
   "execution_count": null,
   "id": "0aeaeee7",
   "metadata": {},
   "outputs": [],
   "source": [
    "sns.boxplot(x='LivesWithKids', y='Age', data=df)\n",
    "sns.swarmplot(x='LivesWithKids', y='Age', hue='LivesWithKids', data=df, linewidth=1, size=3, legend=False);"
   ]
  },
  {
   "cell_type": "markdown",
   "id": "02cbfb3c",
   "metadata": {
    "heading_collapsed": true
   },
   "source": [
    "## Q\n",
    "\n",
    "How do the common descriptive statistics (mean, variance) compare?"
   ]
  },
  {
   "cell_type": "markdown",
   "id": "d2f481d2",
   "metadata": {
    "heading_collapsed": true
   },
   "source": [
    "## A"
   ]
  },
  {
   "cell_type": "code",
   "execution_count": null,
   "id": "e9c1cc3c",
   "metadata": {
    "hidden": true
   },
   "outputs": [],
   "source": [
    "lives_with_kids = df['Age'][df['LivesWithKids']=='Yes']\n",
    "lives_without_kids = df['Age'][df['LivesWithKids']=='No']\n",
    "np.mean(lives_without_kids), np.mean(lives_with_kids), np.std(lives_without_kids), np.std(lives_with_kids)"
   ]
  },
  {
   "cell_type": "markdown",
   "id": "3d7ad6b1",
   "metadata": {
    "hidden": true
   },
   "source": [
    "A difference in group means is very unlikely, and the ratio of the group standard deviations is large but $<2$.\n",
    "\n",
    "The main feature to notice is the double mode in the *lives without kids* group.\n",
    "Similar samples drawn from the same population could be (more) biased towards elder or younger people, and this could result in mean differences, in a direction or another, even to the point such differences become significant."
   ]
  },
  {
   "cell_type": "code",
   "execution_count": null,
   "id": "b6bfdb58",
   "metadata": {
    "hidden": true
   },
   "outputs": [],
   "source": [
    "sns.histplot(lives_without_kids);"
   ]
  },
  {
   "cell_type": "markdown",
   "id": "bef7a30a",
   "metadata": {
    "hidden": true
   },
   "source": [
    "As a consequence, there is no point in comparing the two groups in terms of central tendency (means). A $t$-test is not suitable."
   ]
  },
  {
   "cell_type": "markdown",
   "id": "34b67889",
   "metadata": {
    "heading_collapsed": true
   },
   "source": [
    "## Q\n",
    "\n",
    "How can we compare the two groups to state they differ from one another?"
   ]
  },
  {
   "cell_type": "markdown",
   "id": "89181560",
   "metadata": {
    "heading_collapsed": true
   },
   "source": [
    "## A (with nested Q&A)"
   ]
  },
  {
   "cell_type": "markdown",
   "id": "ef4093df",
   "metadata": {
    "hidden": true
   },
   "source": [
    "We need a two-sample goodness-of-fit test.\n",
    "\n",
    "This can be done in two ways:\n",
    "\n",
    "* with a $\\chi^2$ test of homogeneity, binning the age;\n",
    "* with a two-sample Kolmogorov-Smirnov test.\n",
    "\n",
    "### Q\n",
    "\n",
    "Bin the two groups, first with 5-year-wide bins, extract frequencies and proceed to performing a $\\chi^2$ test."
   ]
  },
  {
   "cell_type": "markdown",
   "id": "4338fe92",
   "metadata": {
    "heading_collapsed": true,
    "hidden": true
   },
   "source": [
    "### A"
   ]
  },
  {
   "cell_type": "code",
   "execution_count": null,
   "id": "f57a8ff6",
   "metadata": {
    "hidden": true
   },
   "outputs": [],
   "source": [
    "bins = np.arange(20, 70+1, 5)\n",
    "lives_without_kids_freqs, _ = np.histogram(lives_without_kids, bins)\n",
    "lives_with_kids_freqs, _ = np.histogram(lives_with_kids, bins)\n",
    "lives_without_kids_freqs, lives_with_kids_freqs"
   ]
  },
  {
   "cell_type": "markdown",
   "id": "980a9794",
   "metadata": {
    "hidden": true
   },
   "source": [
    "Let us check we did not miss any observation:"
   ]
  },
  {
   "cell_type": "code",
   "execution_count": null,
   "id": "de19e80b",
   "metadata": {
    "hidden": true
   },
   "outputs": [],
   "source": [
    "assert np.sum(lives_without_kids_freqs) + np.sum(lives_with_kids_freqs) == len(df)\n",
    "len(df)"
   ]
  },
  {
   "cell_type": "markdown",
   "id": "0150c1f5",
   "metadata": {
    "hidden": true
   },
   "source": [
    "Note that we have less than 5 observations in one combination of factor levels. In principle we should revise the binning so that all bins contain at least 5 observations.\n",
    "\n",
    "For the purpose of comparing the impact of the binning, let us run the test anyway."
   ]
  },
  {
   "cell_type": "code",
   "execution_count": null,
   "id": "b021e03f",
   "metadata": {
    "hidden": true
   },
   "outputs": [],
   "source": [
    "chi2, pvalue, dof, _ = stats.chi2_contingency(np.stack((lives_with_kids_freqs, lives_without_kids_freqs), axis=0))\n",
    "print(f'χ²({dof}) = {chi2:.1f}, p-value = {pvalue:.3g}')"
   ]
  },
  {
   "cell_type": "markdown",
   "id": "218a59ec",
   "metadata": {
    "heading_collapsed": true,
    "hidden": true
   },
   "source": [
    "### Q\n",
    "\n",
    "Are all the assumptions met? Adjust the procedure if necessary. Any interpretation?"
   ]
  },
  {
   "cell_type": "markdown",
   "id": "abdce59a",
   "metadata": {
    "heading_collapsed": true,
    "hidden": true
   },
   "source": [
    "### A"
   ]
  },
  {
   "cell_type": "code",
   "execution_count": null,
   "id": "3e64b5ce",
   "metadata": {
    "hidden": true
   },
   "outputs": [],
   "source": [
    "bins = np.arange(20, 70+1, 10)\n",
    "lives_without_kids_freqs, _ = np.histogram(lives_without_kids, bins)\n",
    "lives_with_kids_freqs, _ = np.histogram(lives_with_kids, bins)\n",
    "lives_without_kids_freqs, lives_with_kids_freqs"
   ]
  },
  {
   "cell_type": "code",
   "execution_count": null,
   "id": "e79b98f2",
   "metadata": {
    "hidden": true
   },
   "outputs": [],
   "source": [
    "chi2, pvalue, dof, _ = stats.chi2_contingency(np.stack((lives_with_kids_freqs, lives_without_kids_freqs), axis=0))\n",
    "print(f'χ²({dof}) = {chi2:.1f}, p-value = {pvalue:.3g}')"
   ]
  },
  {
   "cell_type": "markdown",
   "id": "949edcfb",
   "metadata": {
    "hidden": true
   },
   "source": [
    "The low frequency in one group, in the first case, did not affect the outcome of the test because of the relatively large number of bins.\n",
    "\n",
    "Although there is no doubt we do have an effect here, we can also run a two-sample Kolmogorov-Smirnov test. It is good practice to seek confirmation with different but equivalent tests."
   ]
  },
  {
   "cell_type": "code",
   "execution_count": null,
   "id": "7ea01f76",
   "metadata": {
    "hidden": true
   },
   "outputs": [],
   "source": [
    "stats.ks_2samp(lives_with_kids, lives_without_kids)"
   ]
  },
  {
   "cell_type": "markdown",
   "id": "982eafde",
   "metadata": {},
   "source": [
    "# ..."
   ]
  }
 ],
 "metadata": {
  "kernelspec": {
   "display_name": "Python 3 (ipykernel)",
   "language": "python",
   "name": "python3"
  },
  "language_info": {
   "codemirror_mode": {
    "name": "ipython",
    "version": 3
   },
   "file_extension": ".py",
   "mimetype": "text/x-python",
   "name": "python",
   "nbconvert_exporter": "python",
   "pygments_lexer": "ipython3",
   "version": "3.11.10"
  },
  "toc": {
   "base_numbering": 1,
   "nav_menu": {},
   "number_sections": false,
   "sideBar": false,
   "skip_h1_title": false,
   "title_cell": "Table of Contents",
   "title_sidebar": "Contents",
   "toc_cell": false,
   "toc_position": {
    "height": "calc(100% - 180px)",
    "left": "10px",
    "top": "150px",
    "width": "384px"
   },
   "toc_section_display": false,
   "toc_window_display": false
  }
 },
 "nbformat": 4,
 "nbformat_minor": 5
}
