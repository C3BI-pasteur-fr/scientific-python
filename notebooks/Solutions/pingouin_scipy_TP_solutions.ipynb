{
 "cells": [
  {
   "cell_type": "markdown",
   "id": "a5a5210d",
   "metadata": {
    "heading_collapsed": true
   },
   "source": [
    "## Q\n",
    "\n",
    "Import `numpy`, `pandas`, `pingouin`, `seaborn`, and the `stats` module from `scipy`."
   ]
  },
  {
   "cell_type": "markdown",
   "id": "5ac6cc32",
   "metadata": {
    "heading_collapsed": true
   },
   "source": [
    "## A"
   ]
  },
  {
   "cell_type": "code",
   "execution_count": null,
   "id": "529c5f56",
   "metadata": {
    "hidden": true
   },
   "outputs": [],
   "source": [
    "import numpy as np\n",
    "import pandas as pd\n",
    "from scipy import stats\n",
    "import seaborn as sns\n",
    "import pingouin as pg"
   ]
  },
  {
   "cell_type": "markdown",
   "id": "93ad4aaf",
   "metadata": {},
   "source": [
    "# Descriptive statistics"
   ]
  },
  {
   "cell_type": "markdown",
   "id": "0e4fd0d9",
   "metadata": {
    "heading_collapsed": true
   },
   "source": [
    "## Q\n",
    "\n",
    "Load the `mi.csv` data file located in the `../data` directory into a DataFrame (the first column in the file is an index column), and inspect its content printing:\n",
    "* the first rows, with column names,\n",
    "* a summary table of all the variables,\n",
    "* a summary table of the categorical variables only."
   ]
  },
  {
   "cell_type": "markdown",
   "id": "08c1dd12",
   "metadata": {
    "heading_collapsed": true
   },
   "source": [
    "## A"
   ]
  },
  {
   "cell_type": "code",
   "execution_count": null,
   "id": "eefc126c",
   "metadata": {
    "hidden": true
   },
   "outputs": [],
   "source": [
    "df = pd.read_csv('../data/mi.csv', index_col=0)"
   ]
  },
  {
   "cell_type": "code",
   "execution_count": null,
   "id": "00130518",
   "metadata": {
    "hidden": true
   },
   "outputs": [],
   "source": [
    "df.head()"
   ]
  },
  {
   "cell_type": "code",
   "execution_count": null,
   "id": "3097c601-7651-4e9a-afcf-e2c3d9b11fd7",
   "metadata": {},
   "outputs": [],
   "source": [
    "df.describe().T"
   ]
  },
  {
   "cell_type": "code",
   "execution_count": null,
   "id": "8d45dd25",
   "metadata": {
    "hidden": true
   },
   "outputs": [],
   "source": [
    "df.describe(exclude='number').T"
   ]
  },
  {
   "cell_type": "markdown",
   "id": "04163591",
   "metadata": {
    "heading_collapsed": true
   },
   "source": [
    "## Q\n",
    "\n",
    "Inspect the relationship between variables `Age` and `OwnsHouse`. What type of plots is most suitable?"
   ]
  },
  {
   "cell_type": "markdown",
   "id": "d6baac23",
   "metadata": {
    "heading_collapsed": true
   },
   "source": [
    "## A"
   ]
  },
  {
   "cell_type": "code",
   "execution_count": null,
   "id": "5de6412d",
   "metadata": {
    "hidden": true
   },
   "outputs": [],
   "source": [
    "# categorical vs continuous => boxplot, violinplot\n",
    "sns.boxplot(x='OwnsHouse', y='Age', data=df);"
   ]
  },
  {
   "cell_type": "code",
   "execution_count": null,
   "id": "ee08a262",
   "metadata": {
    "hidden": true
   },
   "outputs": [],
   "source": [
    "sns.boxplot(x='OwnsHouse', y='Age', data=df);\n",
    "sns.swarmplot(x='OwnsHouse', y='Age', hue='OwnsHouse', data=df, linewidth=1, size=3, legend=False);"
   ]
  },
  {
   "cell_type": "markdown",
   "id": "966a41f4-38ce-4df3-89f4-2cd98b70c438",
   "metadata": {},
   "source": [
    "The \"Yes\" and \"No\" levels might have been interchanged."
   ]
  },
  {
   "cell_type": "markdown",
   "id": "bf917039",
   "metadata": {
    "heading_collapsed": true
   },
   "source": [
    "## Q\n",
    "\n",
    "Draw a box plot (or violin plot) of variable `Age` for two categorical variables, say `OwnsHouse` and `LivesWithKids`."
   ]
  },
  {
   "cell_type": "markdown",
   "id": "ae6ca008",
   "metadata": {
    "heading_collapsed": true
   },
   "source": [
    "## A"
   ]
  },
  {
   "cell_type": "code",
   "execution_count": null,
   "id": "06e98558",
   "metadata": {
    "hidden": true
   },
   "outputs": [],
   "source": [
    "ax = sns.boxplot(x='OwnsHouse', y='Age', data=df, hue=\"LivesWithKids\")\n",
    "#sns.move_legend(ax, bbox_to_anchor=(1.02, 1), loc='upper left', borderaxespad=0);"
   ]
  },
  {
   "cell_type": "markdown",
   "id": "1e94c17b",
   "metadata": {
    "heading_collapsed": true
   },
   "source": [
    "## Q\n",
    "\n",
    "Isolate the house-owners group from the others, and report their mean age(s) as $99\\%$ confidence interval(s)."
   ]
  },
  {
   "cell_type": "markdown",
   "id": "497142f3",
   "metadata": {
    "heading_collapsed": true
   },
   "source": [
    "## A"
   ]
  },
  {
   "cell_type": "code",
   "execution_count": null,
   "id": "55d18f16",
   "metadata": {
    "hidden": true
   },
   "outputs": [],
   "source": [
    "owns_house = df.groupby('OwnsHouse').groups\n",
    "house_owners_age = df.loc[owns_house['Yes'], 'Age']\n",
    "others_age = df.loc[owns_house['No'], 'Age']"
   ]
  },
  {
   "cell_type": "code",
   "execution_count": null,
   "id": "4f129b2a",
   "metadata": {
    "hidden": true
   },
   "outputs": [],
   "source": [
    "mean = np.mean(house_owners_age)\n",
    "sem = stats.sem(house_owners_age)\n",
    "distribution_of_the_mean = stats.norm(mean, sem)"
   ]
  },
  {
   "cell_type": "code",
   "execution_count": null,
   "id": "9613dc45-cdac-4932-b646-d36965d2d4e6",
   "metadata": {
    "hidden": true
   },
   "outputs": [],
   "source": [
    "distribution_of_the_mean.interval(.99)"
   ]
  },
  {
   "cell_type": "markdown",
   "id": "a721a374",
   "metadata": {
    "hidden": true
   },
   "source": [
    "### Bonus\n",
    "\n",
    "Alternative calculation, for both groups:\n",
    "\n",
    "First we need to evaluate the inverse survival function of the standard normal distribution at $0.005$."
   ]
  },
  {
   "cell_type": "code",
   "execution_count": null,
   "id": "1fca5a60",
   "metadata": {
    "hidden": true
   },
   "outputs": [],
   "source": [
    "alpha = 0.01\n",
    "z = stats.norm().isf(alpha / 2)"
   ]
  },
  {
   "cell_type": "code",
   "execution_count": null,
   "id": "9f044f06",
   "metadata": {
    "hidden": true
   },
   "outputs": [],
   "source": [
    "for group_name, group_age in (\n",
    "    ('House owners', house_owners_age),\n",
    "    ('Others', others_age),\n",
    "):\n",
    "    m = np.mean(group_age)\n",
    "    z_times_sem = z * stats.sem(group_age)\n",
    "    print(f'{group_name}: {m:.2f} ± {z_times_sem:.2f} years old on average')"
   ]
  },
  {
   "cell_type": "markdown",
   "id": "41b73555-f925-444a-a3dc-033407054810",
   "metadata": {
    "hidden": true
   },
   "source": [
    "# Tests on single variables\n",
    "\n",
    "Let us consider the logarithm of variable `HeartRate`."
   ]
  },
  {
   "cell_type": "code",
   "execution_count": null,
   "id": "b2909a2b-2a63-43ef-914d-4f3050d73589",
   "metadata": {},
   "outputs": [],
   "source": [
    "df['logHeartRate'] = np.log(df['HeartRate'])\n",
    "sns.histplot(df, x='logHeartRate', hue='Sex');"
   ]
  },
  {
   "cell_type": "markdown",
   "id": "f5d6ea38-8582-4eb8-839e-64a4b6cf33e1",
   "metadata": {},
   "source": [
    "## Q\n",
    "\n",
    "Draw Q-Q plots for variables `HeartRate` and `logHeartRate`."
   ]
  },
  {
   "cell_type": "markdown",
   "id": "28a8b3a6-1765-440b-88af-a9a491964b12",
   "metadata": {},
   "source": [
    "## A"
   ]
  },
  {
   "cell_type": "code",
   "execution_count": null,
   "id": "a74cc81e-d3a1-4d48-a2da-31479af531d4",
   "metadata": {},
   "outputs": [],
   "source": [
    "pg.qqplot(df['HeartRate']);"
   ]
  },
  {
   "cell_type": "code",
   "execution_count": null,
   "id": "fe198641-2797-4f86-87b0-017fa744f997",
   "metadata": {},
   "outputs": [],
   "source": [
    "pg.qqplot(df['logHeartRate']);"
   ]
  },
  {
   "cell_type": "markdown",
   "id": "cb1c9031-3e44-4598-926b-39634faf996f",
   "metadata": {
    "hidden": true
   },
   "source": [
    "## Q\n",
    "\n",
    "Perform an omnibus normality test (`normaltest`) on the `logHeartRate` variable for the different levels of variable `Sex`."
   ]
  },
  {
   "cell_type": "markdown",
   "id": "b5ea7bf3-b792-4a0b-8e18-f94c4c97ab94",
   "metadata": {},
   "source": [
    "## A"
   ]
  },
  {
   "cell_type": "code",
   "execution_count": null,
   "id": "9e3b3b74-4cac-4a5a-b071-9b8e279d5d3d",
   "metadata": {},
   "outputs": [],
   "source": [
    "pg.normality(df, dv='logHeartRate', group='Sex', method='normaltest')"
   ]
  },
  {
   "cell_type": "markdown",
   "id": "5dada4aa-3ead-4fc3-8792-3805d1100afb",
   "metadata": {},
   "source": [
    "### Bonus\n",
    "\n",
    "Normality test with SciPy (more convenient if your data are a NumPy array):"
   ]
  },
  {
   "cell_type": "code",
   "execution_count": null,
   "id": "ed0042b6",
   "metadata": {
    "hidden": true
   },
   "outputs": [],
   "source": [
    "sex = df.groupby('Sex').groups\n",
    "logHeartRate_female = df.loc[sex['Female'], 'logHeartRate']\n",
    "stats.normaltest(logHeartRate_female)"
   ]
  },
  {
   "cell_type": "markdown",
   "id": "d61f454a",
   "metadata": {
    "heading_collapsed": true
   },
   "source": [
    "## Q\n",
    "\n",
    "Perform a Welch *t*-test on `logHeartRate` between males and females."
   ]
  },
  {
   "cell_type": "markdown",
   "id": "b076e8e6",
   "metadata": {
    "heading_collapsed": true
   },
   "source": [
    "## A"
   ]
  },
  {
   "cell_type": "code",
   "execution_count": null,
   "id": "fd70b092-f188-430e-8587-964607e88221",
   "metadata": {
    "hidden": true
   },
   "outputs": [],
   "source": [
    "# define your significance level first!\n",
    "significance_level = 0.05\n",
    "\n",
    "# define the two groups whose means are to be compared\n",
    "logHeartRate_female = df.loc[sex['Female'], 'logHeartRate']\n",
    "logHeartRate_male = df.loc[sex['Male'], 'logHeartRate']\n",
    "\n",
    "# test whether the group means equal or differ\n",
    "pg.ttest(logHeartRate_female, logHeartRate_male, confidence=1-significance_level)"
   ]
  },
  {
   "cell_type": "markdown",
   "id": "da439d15-3b30-45d2-ac4c-d109d4fb7f9b",
   "metadata": {},
   "source": [
    "Note: T>0 implies the first group's mean is greater than the second group's mean.\n",
    "\n",
    "With SciPy, usage is very similar, although per default group variances are assumed equal. Welch *t*-test can be selected with `equal_var=False`:"
   ]
  },
  {
   "cell_type": "code",
   "execution_count": null,
   "id": "a03c0966-4d77-427c-8371-0edae12fa097",
   "metadata": {
    "hidden": true
   },
   "outputs": [],
   "source": [
    "test_result = stats.ttest_ind(logHeartRate_female, logHeartRate_male, equal_var=False)\n",
    "test_result"
   ]
  },
  {
   "cell_type": "code",
   "execution_count": null,
   "id": "472c03d6",
   "metadata": {
    "hidden": true
   },
   "outputs": [],
   "source": [
    "test_result.pvalue <= significance_level"
   ]
  },
  {
   "cell_type": "markdown",
   "id": "fbe5f273-8b48-464a-8fcf-6271fdf728f5",
   "metadata": {},
   "source": [
    "## Q\n",
    "\n",
    "Instead of taking the log of `HeartRate` and perform a parametric *t*-test, we could have performed a non-parametric Mann-Whitney *U* Test, for example.\n",
    "\n",
    "Check we also find a difference between males and females' means with this latter test."
   ]
  },
  {
   "cell_type": "markdown",
   "id": "8d2cb07c-50b6-43e5-aee3-ba065052fd66",
   "metadata": {},
   "source": [
    "## A"
   ]
  },
  {
   "cell_type": "code",
   "execution_count": null,
   "id": "4721b937-35e1-4fd3-bf9e-fe5401874ef1",
   "metadata": {},
   "outputs": [],
   "source": [
    "HeartRate_female = df.loc[sex['Female'], 'HeartRate']\n",
    "HeartRate_male = df.loc[sex['Male'], 'HeartRate']\n",
    "pg.mwu(HeartRate_female, HeartRate_male)"
   ]
  },
  {
   "cell_type": "markdown",
   "id": "b7d98432",
   "metadata": {},
   "source": [
    "# Comparing two distributions"
   ]
  },
  {
   "cell_type": "markdown",
   "id": "7f5453a9",
   "metadata": {},
   "source": [
    "Now let proceed to comparing age between people living with kids and those living without kids."
   ]
  },
  {
   "cell_type": "code",
   "execution_count": null,
   "id": "0aeaeee7",
   "metadata": {},
   "outputs": [],
   "source": [
    "sns.boxplot(x='LivesWithKids', y='Age', data=df)\n",
    "sns.swarmplot(x='LivesWithKids', y='Age', hue='LivesWithKids', data=df, linewidth=1, size=3, legend=False);"
   ]
  },
  {
   "cell_type": "markdown",
   "id": "02cbfb3c",
   "metadata": {
    "heading_collapsed": true
   },
   "source": [
    "## Q\n",
    "\n",
    "Looking at the distributions, it does not make sense to compare the group means. Let us perform a two-sample goodness-of-fit test instead.\n",
    "\n",
    "Bin the two groups from 20 to 70 years (included) with 5-year-wide bins (hint: use Pandas' `cut` function) and proceed to performing a $\\chi^2$ test of homogeneity."
   ]
  },
  {
   "cell_type": "markdown",
   "id": "4338fe92",
   "metadata": {
    "heading_collapsed": true,
    "hidden": true
   },
   "source": [
    "## A"
   ]
  },
  {
   "cell_type": "code",
   "execution_count": null,
   "id": "db11c1ed-8ba0-4c66-bcf3-48c88ded986e",
   "metadata": {},
   "outputs": [],
   "source": [
    "lives_with_kids = df.groupby('LivesWithKids').groups\n",
    "bins = np.arange(20, 70+1, 5) # note the increment for value 70 to be included; whatever value between 0 (excluded) and 5 is alright"
   ]
  },
  {
   "cell_type": "markdown",
   "id": "7b810fdd-21e9-4346-9422-0829753d0786",
   "metadata": {},
   "source": [
    "Using Pandas' `cut`, we create a new column `AgeBin` in the dataframe:"
   ]
  },
  {
   "cell_type": "code",
   "execution_count": null,
   "id": "26044940-50cd-4561-b96a-a314165acb70",
   "metadata": {},
   "outputs": [],
   "source": [
    "labels= [f\"{lower_bound}-{lower_bound + 5}\" for lower_bound in bins[:-1]]\n",
    "df['BinnedAge'] = pd.cut(df['Age'], bins=bins, labels=labels, right=False)\n",
    "df['BinnedAge']"
   ]
  },
  {
   "cell_type": "markdown",
   "id": "2d32ab67-de07-4b73-964e-2a9b8bd27358",
   "metadata": {
    "hidden": true
   },
   "source": [
    "We perform the test (note the warning):"
   ]
  },
  {
   "cell_type": "code",
   "execution_count": null,
   "id": "449991a4-4b3d-49e3-ae2a-698189a135c7",
   "metadata": {},
   "outputs": [],
   "source": [
    "_, frequencies, results = pg.chi2_independence(df, x='BinnedAge', y='LivesWithKids')\n",
    "results"
   ]
  },
  {
   "cell_type": "markdown",
   "id": "e2bab2b8-11ab-48f2-839f-c8cae9dff0f0",
   "metadata": {},
   "source": [
    "We have too few parents younger than 25:"
   ]
  },
  {
   "cell_type": "code",
   "execution_count": null,
   "id": "7b49344f-2708-4f15-a25e-d0f60bc97b1c",
   "metadata": {},
   "outputs": [],
   "source": [
    "frequencies"
   ]
  },
  {
   "cell_type": "markdown",
   "id": "82a1dafd-f1db-4ad6-8491-1a2056e7a809",
   "metadata": {},
   "source": [
    "Before we move on, to achieve a similar result, we can use SciPy's `chi2_contingency`. We can reuse the above `frequencies` dataframe, or compute it using NumPy's `histogram` instead:"
   ]
  },
  {
   "cell_type": "code",
   "execution_count": null,
   "id": "f57a8ff6",
   "metadata": {
    "hidden": true
   },
   "outputs": [],
   "source": [
    "parents_age = df.loc[lives_with_kids['Yes'], 'Age']\n",
    "others_age = df.loc[lives_with_kids['No'], 'Age']\n",
    "parents_age_freqs, _ = np.histogram(parents_age, bins)\n",
    "others_age_freqs, _ = np.histogram(others_age, bins)\n",
    "freqs = np.stack((parents_age_freqs, others_age_freqs))\n",
    "freqs"
   ]
  },
  {
   "cell_type": "code",
   "execution_count": null,
   "id": "b021e03f",
   "metadata": {
    "hidden": true
   },
   "outputs": [],
   "source": [
    "chi2, pvalue, dof, _ = stats.chi2_contingency(freqs)\n",
    "print(f'χ²({dof}) = {chi2:.1f}, p-value = {pvalue:.3g}')"
   ]
  },
  {
   "cell_type": "markdown",
   "id": "218a59ec",
   "metadata": {
    "heading_collapsed": true,
    "hidden": true
   },
   "source": [
    "## Q\n",
    "\n",
    "Repeat the procedure with 10-year bins."
   ]
  },
  {
   "cell_type": "markdown",
   "id": "abdce59a",
   "metadata": {
    "heading_collapsed": true,
    "hidden": true
   },
   "source": [
    "## A"
   ]
  },
  {
   "cell_type": "code",
   "execution_count": null,
   "id": "3e64b5ce",
   "metadata": {
    "hidden": true
   },
   "outputs": [],
   "source": [
    "bins = np.arange(20, 70+1, 10)\n",
    "labels= [f\"{lower_bound}-{lower_bound + 10}\" for lower_bound in bins[:-1]]\n",
    "df['BinnedAge'] = pd.cut(df['Age'], bins=bins, labels=labels, right=False)\n",
    "_, frequencies, results = pg.chi2_independence(df, x='BinnedAge', y='LivesWithKids')\n",
    "frequencies"
   ]
  },
  {
   "cell_type": "code",
   "execution_count": null,
   "id": "e79b98f2",
   "metadata": {
    "hidden": true
   },
   "outputs": [],
   "source": [
    "results"
   ]
  },
  {
   "cell_type": "markdown",
   "id": "949edcfb",
   "metadata": {
    "hidden": true
   },
   "source": [
    "### Bonus\n",
    "\n",
    "To avoid binning, we can also perform a two-sample Kolmogorov-Smirnov test, available in SciPy only:"
   ]
  },
  {
   "cell_type": "code",
   "execution_count": null,
   "id": "7ea01f76",
   "metadata": {
    "hidden": true
   },
   "outputs": [],
   "source": [
    "stats.ks_2samp(parents_age, others_age)"
   ]
  },
  {
   "cell_type": "markdown",
   "id": "404b5a1d-4d24-497b-8a59-9e7b37d5f8fe",
   "metadata": {},
   "source": [
    "# Multiway ANOVA\n",
    "\n",
    "## Q\n",
    "\n",
    "Explain variations in heart rate using age and sex as factors (beware: there is a trap!)"
   ]
  },
  {
   "cell_type": "markdown",
   "id": "8cd25a18-5f88-4b2b-9c42-a50eb9a28620",
   "metadata": {},
   "source": [
    "## A"
   ]
  },
  {
   "cell_type": "code",
   "execution_count": null,
   "id": "c1ae931b-5da2-4e9b-8019-8a1599e95970",
   "metadata": {},
   "outputs": [],
   "source": [
    "pg.anova(data=df, dv='HeartRate', between=['BinnedAge', 'Sex'])"
   ]
  },
  {
   "cell_type": "markdown",
   "id": "d6dd75bf-aa69-4230-b65a-c0a347722ca6",
   "metadata": {},
   "source": [
    "## Q\n",
    "\n",
    "We find a significant interaction while the effect of age fails to come up as significant by a short margin. Let us first draw an interaction plot."
   ]
  },
  {
   "cell_type": "markdown",
   "id": "eb03922e-0914-429e-850a-b9247de0d642",
   "metadata": {},
   "source": [
    "## A"
   ]
  },
  {
   "cell_type": "code",
   "execution_count": null,
   "id": "7d4dee15-1178-4793-a970-82bc9ed49d74",
   "metadata": {},
   "outputs": [],
   "source": [
    "pg.plot_paired(df, 'HeartRate', 'Sex', 'BinnedAge');"
   ]
  },
  {
   "cell_type": "code",
   "execution_count": null,
   "id": "52c337c2-d5a0-4284-91d7-a11af70e5a9a",
   "metadata": {},
   "outputs": [],
   "source": [
    "pg.plot_paired(df, 'HeartRate', 'BinnedAge', 'Sex');"
   ]
  },
  {
   "cell_type": "markdown",
   "id": "90404029-628c-49c9-a480-94609dcf75b2",
   "metadata": {},
   "source": [
    "## Q\n",
    "\n",
    "For the purpose of performing multiple comparisons and some *p*-value correction, let us conduct separate $t$-tests for each age interval and organise the results into a dataframe.\n",
    "\n",
    "If comfortable enough with Python, define a \"Pingouin-like\" function `stratified_ttests` that takes a dataframe `data`, a dependent variable name `dv`, a between factor name `between` and a stratum factor `strata`."
   ]
  },
  {
   "cell_type": "markdown",
   "id": "2c4f62b3-a716-4bb7-a14e-8a758abea7fd",
   "metadata": {},
   "source": [
    "## A"
   ]
  },
  {
   "cell_type": "code",
   "execution_count": null,
   "id": "556d5072-a813-4551-9cb5-e5cbba528bed",
   "metadata": {},
   "outputs": [],
   "source": [
    "def stratified_ttests(data, dv, between, strata):\n",
    "    # convert `strata` into a dictionary with the levels as keys and the corresponding rows as values\n",
    "    strata = data.groupby(strata).groups\n",
    "    # list the levels of the between factor, so that we input the groups in `ttest` in a consistent order\n",
    "    levels = data[between].unique()\n",
    "    # the present function only supports binary between factors, because we call `ttest`\n",
    "    assert len(levels) == 2\n",
    "    level1, level2 = levels\n",
    "    # loop over the different strata\n",
    "    results = []\n",
    "    for stratum, rows in strata.items():\n",
    "        # pick the corresponding rows of data\n",
    "        stratum_data = data.loc[rows]\n",
    "        # make the two groups\n",
    "        group1 = stratum_data.loc[stratum_data[between]==level1, dv]\n",
    "        group2 = stratum_data.loc[stratum_data[between]==level2, dv]\n",
    "        # perform the test\n",
    "        result = pg.ttest(group1, group2)\n",
    "        # `result` is a single-row dataframe; set the index label so that we can concatenate the rows afterwards\n",
    "        result.index = [stratum]\n",
    "        results.append(result)\n",
    "    # concatenate the rows and return the resulting dataframe\n",
    "    return pd.concat(results)"
   ]
  },
  {
   "cell_type": "code",
   "execution_count": null,
   "id": "45de8b53-30cc-48ab-adc6-945970d356af",
   "metadata": {},
   "outputs": [],
   "source": [
    "results = stratified_ttests(df, 'HeartRate', 'Sex', 'BinnedAge')\n",
    "results"
   ]
  },
  {
   "cell_type": "markdown",
   "id": "8a96fa2f-d966-4caf-b02c-70721b57d124",
   "metadata": {},
   "source": [
    "Simpler but not-reusable implementation:"
   ]
  },
  {
   "cell_type": "code",
   "execution_count": null,
   "id": "9b060b84-c930-4f46-a39d-c1e4237358f5",
   "metadata": {},
   "outputs": [],
   "source": [
    "results = []\n",
    "for stratum in ('20-30', '30-40', '40-50', '50-60', '60-70'):\n",
    "    stratum_data = df[df['BinnedAge']==stratum]\n",
    "    group1 = stratum_data.loc[stratum_data['Sex']=='Female', 'HeartRate']\n",
    "    group2 = stratum_data.loc[stratum_data['Sex']=='Male', 'HeartRate']\n",
    "    result = pg.ttest(group1, group2)\n",
    "    result.index = [stratum]\n",
    "    results.append(result)\n",
    "results = pd.concat(results)\n",
    "results"
   ]
  },
  {
   "cell_type": "markdown",
   "id": "b7c9c6f6-b875-4796-b3cc-3199b6759d86",
   "metadata": {},
   "source": [
    "## Q\n",
    "\n",
    "Correct the *p*-values, for example using the Holm procedure."
   ]
  },
  {
   "cell_type": "markdown",
   "id": "6feae507-f3d4-4946-9579-edb1eeac6682",
   "metadata": {},
   "source": [
    "## A"
   ]
  },
  {
   "cell_type": "code",
   "execution_count": null,
   "id": "e5411a4f-31a5-452c-b644-286ef34412da",
   "metadata": {},
   "outputs": [],
   "source": [
    "significance, corrected_pvalues = pg.multicomp(results['p-val'], method='holm')\n",
    "results['corrected p-val'], results['significance'] = corrected_pvalues, significance\n",
    "results"
   ]
  }
 ],
 "metadata": {
  "kernelspec": {
   "display_name": "Python 3 (ipykernel)",
   "language": "python",
   "name": "python3"
  },
  "language_info": {
   "codemirror_mode": {
    "name": "ipython",
    "version": 3
   },
   "file_extension": ".py",
   "mimetype": "text/x-python",
   "name": "python",
   "nbconvert_exporter": "python",
   "pygments_lexer": "ipython3",
   "version": "3.11.10"
  },
  "toc": {
   "base_numbering": 1,
   "nav_menu": {},
   "number_sections": false,
   "sideBar": false,
   "skip_h1_title": false,
   "title_cell": "Table of Contents",
   "title_sidebar": "Contents",
   "toc_cell": false,
   "toc_position": {
    "height": "calc(100% - 180px)",
    "left": "10px",
    "top": "150px",
    "width": "384px"
   },
   "toc_section_display": false,
   "toc_window_display": false
  }
 },
 "nbformat": 4,
 "nbformat_minor": 5
}
