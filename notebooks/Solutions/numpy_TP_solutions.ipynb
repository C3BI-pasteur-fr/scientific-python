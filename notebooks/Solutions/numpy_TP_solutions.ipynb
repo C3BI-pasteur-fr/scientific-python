{
 "cells": [
  {
   "cell_type": "markdown",
   "id": "30009376-e2fd-4708-96b9-33f1e6693b66",
   "metadata": {},
   "source": [
    "# <center>**TP**</center>\n",
    "\n",
    "<img src=\"../images/NumPy_logo_2020.png\" style=\"margin:0 auto;width:400px\">\n",
    "<div style=\"text-align:center\">\n",
    "    Bertrand Néron\n",
    "    <br />\n",
    "    <a src=\" https://research.pasteur.fr/en/team/bioinformatics-and-biostatistics-hub/\">Bioinformatics and Biostatistiqucs HUB</a>\n",
    "    <br />\n",
    "    © Institut Pasteur, 2021\n",
    "</div>"
   ]
  },
  {
   "cell_type": "code",
   "execution_count": null,
   "id": "0284b06d-60af-4928-b141-2ebb94f42409",
   "metadata": {},
   "outputs": [],
   "source": [
    "import numpy as np"
   ]
  },
  {
   "cell_type": "markdown",
   "id": "91148a98-b863-44da-b545-d2e855439296",
   "metadata": {
    "tags": []
   },
   "source": [
    "# Matrix creation\n",
    "\n",
    "> - Create a 4x4 matrix with 2's on the diagonal.\n",
    "> - Create a 100x100 matrix with 2's on the diagonal.\n",
    "> - Create a matrix 5x5 with random number uniformly distributed\n",
    "> - Create these matrix:\n",
    "```\n",
    "1 0 0 0 0\n",
    "0 1 0 0 0\n",
    "0 0 5 0 0\n",
    "0 0 0 1 0\n",
    "0 0 0 0 1\n",
    "```\n",
    "and \n",
    "```\n",
    "0 1  1  1  1\n",
    "1 0  1  1  1\n",
    "1 1 -4  1  1\n",
    "1 1  1  0  1\n",
    "1 1  1  1  0\n",
    "```"
   ]
  },
  {
   "cell_type": "code",
   "execution_count": null,
   "id": "6c942ef2-a908-4691-973e-cced18038773",
   "metadata": {},
   "outputs": [],
   "source": [
    "# Create a 4x4 matrix with 2's on the diagonal.\n",
    "x = np.diag([2,2])\n",
    "x"
   ]
  },
  {
   "cell_type": "code",
   "execution_count": null,
   "id": "e05d85cd-9bf8-4887-af4c-3c28af7ca0ed",
   "metadata": {},
   "outputs": [],
   "source": [
    "# Create a 100x100 matrix with 2's on the diagonal.\n",
    "x = np.diag([2]*100)\n",
    "x"
   ]
  },
  {
   "cell_type": "code",
   "execution_count": null,
   "id": "f1e1bab1-4c4e-4178-8acb-0a021567e42a",
   "metadata": {},
   "outputs": [],
   "source": [
    "# Create \n",
    "#\n",
    "# 1 0 0 0 0\n",
    "# 0 1 0 0 0\n",
    "# 0 0 5 0 0\n",
    "# 0 0 0 1 0\n",
    "# 0 0 0 0 1\n",
    "\n",
    "A = np.diag([1]*5)\n",
    "A"
   ]
  },
  {
   "cell_type": "code",
   "execution_count": null,
   "id": "b593a85a-78c3-477b-8353-295ea1b84947",
   "metadata": {},
   "outputs": [],
   "source": [
    "A[2,2]=5\n",
    "A"
   ]
  },
  {
   "cell_type": "code",
   "execution_count": null,
   "id": "7819240f-22fe-4632-9224-f0ffc24a5363",
   "metadata": {},
   "outputs": [],
   "source": [
    "# Create\n",
    "\n",
    "# 0 1  1  1  1\n",
    "# 1 0  1  1  1\n",
    "# 1 1 -4  1  1\n",
    "# 1 1  1  0  1\n",
    "# 1 1  1  1  0\n",
    "\n",
    "B = np.ones((5,5))\n",
    "B"
   ]
  },
  {
   "cell_type": "code",
   "execution_count": null,
   "id": "1d979c9f-951f-4f4d-97af-09c720f81789",
   "metadata": {},
   "outputs": [],
   "source": [
    "B = B - A\n",
    "B"
   ]
  },
  {
   "cell_type": "markdown",
   "id": "8ea9a95a-ea62-4019-a372-b7ef09a17b0d",
   "metadata": {},
   "source": [
    "# data standardization and Normalization"
   ]
  },
  {
   "cell_type": "markdown",
   "id": "d7b68f21-b266-40bd-8eb7-f8aa9d686150",
   "metadata": {},
   "source": [
    "Standardization formula     $X_{standardized}= \\frac{X - \\mu}{\\sigma}$\n",
    "\n",
    "Normalization formula $X_{normalized} = \\frac{X - X_{min}}{X_{max} - X_{min}}$"
   ]
  },
  {
   "cell_type": "code",
   "execution_count": null,
   "id": "5ec00cf9-56b8-4b6a-8e6f-d28bde271a29",
   "metadata": {},
   "outputs": [],
   "source": [
    "data = np.random.normal(loc=1.0, scale=2.0, size=(5,4))\n",
    "data"
   ]
  },
  {
   "cell_type": "code",
   "execution_count": null,
   "id": "aeba7a09-ef69-4544-a5d0-e8ca761c3de6",
   "metadata": {},
   "outputs": [],
   "source": [
    "data.mean(), data.min(), data.max()"
   ]
  },
  {
   "cell_type": "markdown",
   "id": "92df12eb-f2fc-41a2-bdc0-171281a5a00d",
   "metadata": {},
   "source": [
    "standardize and normalize the array above"
   ]
  },
  {
   "cell_type": "code",
   "execution_count": null,
   "id": "9fdb9df9-7be0-4797-81f8-8c3786c93c79",
   "metadata": {},
   "outputs": [],
   "source": [
    "data_std = (data - data.mean() / data.std()) \n",
    "data_std"
   ]
  },
  {
   "cell_type": "code",
   "execution_count": null,
   "id": "6d72e1c2-c745-4464-9ac0-96fa4db7df97",
   "metadata": {},
   "outputs": [],
   "source": [
    "data_std.mean(), data_std.min(), data_std.max()"
   ]
  },
  {
   "cell_type": "code",
   "execution_count": null,
   "id": "8c791d74-3871-4c9d-b53a-c6f9fc68ebd1",
   "metadata": {},
   "outputs": [],
   "source": [
    "data_norm = (data - data.min()) / (data.max() - data.min())\n",
    "data_norm"
   ]
  },
  {
   "cell_type": "code",
   "execution_count": null,
   "id": "ecf5680c-0b94-4126-8249-ce34b3b71a4a",
   "metadata": {},
   "outputs": [],
   "source": [
    "data_norm.mean(), data_norm.min(), data_norm.max()"
   ]
  },
  {
   "cell_type": "markdown",
   "id": "e8b115cf-9dd3-4949-80d7-d582fd4ce5f3",
   "metadata": {},
   "source": [
    "## normalisation (continue)\n",
    "\n",
    "We want to normalized the data but instead to normalized all the matrix\n",
    "We need to normalize each row\n",
    "\n",
    "So we had to compute the min and max for each row and apply the normalization formula on each row"
   ]
  },
  {
   "cell_type": "markdown",
   "id": "24ffa3c7-4153-48c0-92c0-897366398a8d",
   "metadata": {},
   "source": [
    "let have a look on our data again"
   ]
  },
  {
   "cell_type": "code",
   "execution_count": null,
   "id": "263ff894-2606-4024-8e7b-6e495f0371e8",
   "metadata": {},
   "outputs": [],
   "source": [
    "data = np.array([[i+rows for i  in range(0, 60, 10)] for rows in range(5)])\n",
    "data"
   ]
  },
  {
   "cell_type": "code",
   "execution_count": null,
   "id": "4af13052-33d4-43be-bc24-50e0e7ae479a",
   "metadata": {},
   "outputs": [],
   "source": [
    "data.min(axis=1)"
   ]
  },
  {
   "cell_type": "code",
   "execution_count": null,
   "id": "99236967-2b01-4c34-a4dd-994556097af9",
   "metadata": {},
   "outputs": [],
   "source": [
    "data - data.min(axis=1)"
   ]
  },
  {
   "cell_type": "code",
   "execution_count": null,
   "id": "fcebf8d3-f65c-477d-9cc6-3b34e339c17d",
   "metadata": {},
   "outputs": [],
   "source": [
    "data.min(axis=1)[:, np.newaxis]"
   ]
  },
  {
   "cell_type": "code",
   "execution_count": null,
   "id": "f18d4aa2-34e7-4d47-9902-4fca17180bee",
   "metadata": {},
   "outputs": [],
   "source": [
    "data - data.min(axis=1)[:, np.newaxis]"
   ]
  },
  {
   "cell_type": "code",
   "execution_count": null,
   "id": "60dd0836-2dee-4e1e-b770-e6eae863a400",
   "metadata": {},
   "outputs": [],
   "source": [
    "data.max(axis=1) - data.min(axis=1)"
   ]
  },
  {
   "cell_type": "code",
   "execution_count": null,
   "id": "ff70e7b7-f5ad-4535-8c1a-d8c473a076f4",
   "metadata": {},
   "outputs": [],
   "source": [
    "(data.max(axis=1) - data.min(axis=1))[:, np.newaxis]"
   ]
  },
  {
   "cell_type": "code",
   "execution_count": null,
   "id": "c71c9f9f-5248-4e2c-a5a3-4715b238c0aa",
   "metadata": {},
   "outputs": [],
   "source": [
    "(data - data.min(axis=1)[:, np.newaxis]) / (data.max(axis=1) - data.min(axis=1))[:, np.newaxis]"
   ]
  },
  {
   "cell_type": "markdown",
   "id": "ef078fba-06aa-4d04-b385-6acf7f3729e3",
   "metadata": {},
   "source": [
    "https://numpy.org/doc/stable/user/basics.broadcasting.html?highlight=broadcasting#numpy.doc.broadcasting"
   ]
  },
  {
   "cell_type": "markdown",
   "id": "277e38c1-9a80-435a-a65e-41426e049660",
   "metadata": {},
   "source": [
    "but by the end we will prefer the formula below (it avoid to compute min twice)"
   ]
  },
  {
   "cell_type": "code",
   "execution_count": null,
   "id": "cbf3b1af-fd03-4e2e-a6c4-f1a0de7ee8ba",
   "metadata": {},
   "outputs": [],
   "source": [
    "data"
   ]
  },
  {
   "cell_type": "code",
   "execution_count": null,
   "id": "c7234115-9785-4f56-9582-6e6feb21e3ae",
   "metadata": {},
   "outputs": [],
   "source": [
    "data_substract_min = data - data.min(axis=1)[:, np.newaxis]\n",
    "data_substract_min"
   ]
  },
  {
   "cell_type": "code",
   "execution_count": null,
   "id": "13cab2b7-2c34-48e0-b13a-272b1a6f3d7f",
   "metadata": {},
   "outputs": [],
   "source": [
    "data_norm = data_substract_min / data_substract_min.max(axis=1)[:, np.newaxis]\n",
    "data_norm"
   ]
  },
  {
   "cell_type": "markdown",
   "id": "8cf6ad25-b654-4b67-9330-c4c0feaa8020",
   "metadata": {},
   "source": [
    "# array selection"
   ]
  },
  {
   "cell_type": "markdown",
   "id": "f3560080-8642-447d-93e2-2deb2a201209",
   "metadata": {},
   "source": [
    "Create the matrix below\n",
    "\n",
    "<img src=\"../images/np_tp_sel.png\" style=\"margin:0 auto;width:200px\">"
   ]
  },
  {
   "cell_type": "code",
   "execution_count": null,
   "id": "1bc4f726-21b3-43f5-9ffc-e7d4952051e4",
   "metadata": {},
   "outputs": [],
   "source": [
    "data = np.array([[i+rows for i  in range(0, 60, 10)] for rows in range(5)])\n",
    "data"
   ]
  },
  {
   "cell_type": "markdown",
   "id": "bed1e0ed-43ad-4cd8-ac71-29139715c566",
   "metadata": {},
   "source": [
    "Select blue cells"
   ]
  },
  {
   "cell_type": "code",
   "execution_count": null,
   "id": "50d0a63c-da02-4dcb-ba94-853d7070634b",
   "metadata": {},
   "outputs": [],
   "source": [
    "data[::2]"
   ]
  },
  {
   "cell_type": "markdown",
   "id": "67f63ea9-c4e9-4704-8bc7-a7b1b061bf55",
   "metadata": {},
   "source": [
    "select Green cells"
   ]
  },
  {
   "cell_type": "code",
   "execution_count": null,
   "id": "a80db5f6-495c-4582-92ab-70ccd6499bef",
   "metadata": {},
   "outputs": [],
   "source": [
    " data[1::2, 1:4:2]"
   ]
  },
  {
   "cell_type": "markdown",
   "id": "16667dfd-7861-40e2-8a22-c86876d0ad15",
   "metadata": {},
   "source": [
    "Create the matrix below, Then select the blue cells\n",
    "\n",
    "<img src=\"../images/diag_inv.png\" style=\"margin:0 auto;width:200px\">\n",
    "\n",
    "tip check numpy doc https://numpy.org/doc/stable/reference/generated/numpy.rot90.html"
   ]
  },
  {
   "cell_type": "code",
   "execution_count": null,
   "id": "a95648b4-d0f0-4e67-a883-500a0a3d15b7",
   "metadata": {},
   "outputs": [],
   "source": [
    "d = np.arange(16).reshape(4,4)\n",
    "eye = np.eye(4)\n",
    "mask = np.rot90(eye)\n",
    "mask = mask.astype(bool)\n",
    "d[mask]"
   ]
  },
  {
   "cell_type": "code",
   "execution_count": null,
   "id": "6c6edc8b-76a4-4576-8114-24e6dab4af6f",
   "metadata": {},
   "outputs": [],
   "source": [
    "d.dtype"
   ]
  },
  {
   "cell_type": "markdown",
   "id": "8d06a505-5619-400d-bd12-c4f02a944e5e",
   "metadata": {},
   "source": [
    "## basic work on images\n",
    "\n",
    "In the exercises below we will manipulate images so we need to use matplotlib to read and show them"
   ]
  },
  {
   "cell_type": "code",
   "execution_count": null,
   "id": "0d339684-bf69-47c0-87f4-c72b6ceae1b4",
   "metadata": {},
   "outputs": [],
   "source": [
    "from matplotlib import image\n",
    "from matplotlib import pyplot"
   ]
  },
  {
   "cell_type": "markdown",
   "id": "a93a7d94-eab4-45e7-a557-bc1c1cbed382",
   "metadata": {},
   "source": [
    "To open an image as a numpy *ndarray*, use the *matplotlib.image* package "
   ]
  },
  {
   "cell_type": "code",
   "execution_count": null,
   "id": "ce686f82-93c8-439b-bb83-1b7a7a7809bb",
   "metadata": {},
   "outputs": [],
   "source": [
    "koala = image.imread('../data/koala.jpeg')"
   ]
  },
  {
   "cell_type": "markdown",
   "id": "40b7d3cf-d071-4e5b-9e8c-1dccc637350f",
   "metadata": {},
   "source": [
    "To display a *numpy.ndarray* as an image, use the *pyplot.imshow* function"
   ]
  },
  {
   "cell_type": "code",
   "execution_count": null,
   "id": "3c758a0b-1379-4b4f-aaa6-eaef7fbdd39c",
   "metadata": {},
   "outputs": [],
   "source": [
    "pyplot.imshow(koala)"
   ]
  },
  {
   "cell_type": "markdown",
   "id": "5838f059-d8c7-45e1-bdd2-e53a5cda0cb2",
   "metadata": {},
   "source": [
    "## data basic exploration"
   ]
  },
  {
   "cell_type": "markdown",
   "id": "85773df1-55e8-41e5-99c1-a77e343c5af2",
   "metadata": {},
   "source": [
    "have a look on the data, what is the structure of the data?"
   ]
  },
  {
   "cell_type": "code",
   "execution_count": null,
   "id": "472fbc43-fed9-4c4b-af6c-387310abb27b",
   "metadata": {},
   "outputs": [],
   "source": [
    "print(koala.ndim)\n",
    "print(koala.shape)"
   ]
  },
  {
   "cell_type": "markdown",
   "id": "69b45d27-a427-48be-bdbc-4206f5b944cb",
   "metadata": {},
   "source": [
    "What is the size (height, width) of the image?"
   ]
  },
  {
   "cell_type": "code",
   "execution_count": null,
   "id": "99c6ba96-5f58-4cbd-861c-0ee9933e621c",
   "metadata": {},
   "outputs": [],
   "source": [
    "height, width = koala.shape[:2]\n",
    "print(f\"koala image have {height}px height x {width}px width\")"
   ]
  },
  {
   "cell_type": "markdown",
   "id": "525a50b8-82da-461e-9733-6f637f6f0bb2",
   "metadata": {},
   "source": [
    "what is the maximum, value of the pixel for each layer (red,green, blue)?"
   ]
  },
  {
   "cell_type": "code",
   "execution_count": null,
   "id": "3c081098-f814-41fa-8146-b504e6bbdeba",
   "metadata": {},
   "outputs": [],
   "source": [
    "red_layer = koala[:, :, 0]\n",
    "green_layer = koala[:, :, 1]\n",
    "blue_layer = koala[:, :, 2]"
   ]
  },
  {
   "cell_type": "code",
   "execution_count": null,
   "id": "4cfb1372-d17e-4b6e-b421-0c1164286379",
   "metadata": {},
   "outputs": [],
   "source": [
    "red_layer.max(), green_layer.max(), blue_layer.max()"
   ]
  },
  {
   "cell_type": "markdown",
   "id": "c8b39e9e-5d9b-4918-bc49-76f7baa5cd29",
   "metadata": {},
   "source": [
    "what is the min value of the pixel for each layer (red,green, blue)?"
   ]
  },
  {
   "cell_type": "code",
   "execution_count": null,
   "id": "78b692ab-6396-48b6-842b-0e11a2cb4575",
   "metadata": {},
   "outputs": [],
   "source": [
    "red_layer.min(), green_layer.min(), blue_layer.min()"
   ]
  },
  {
   "cell_type": "markdown",
   "id": "2c53f07b-c36f-4818-b20a-a86befa8e50e",
   "metadata": {},
   "source": [
    "what is the mean value of the pixel for each layer (red,green, blue)?"
   ]
  },
  {
   "cell_type": "code",
   "execution_count": null,
   "id": "46e6795f-84af-487e-91e2-c786c71eb2ab",
   "metadata": {},
   "outputs": [],
   "source": [
    "red_layer.mean(), green_layer.mean(), blue_layer.mean()"
   ]
  },
  {
   "cell_type": "markdown",
   "id": "54afb033-ca4c-4a52-8510-b4a35d431a7b",
   "metadata": {},
   "source": [
    "create a new image which contains only the head of the koala (check the axis on koala image). and display it"
   ]
  },
  {
   "cell_type": "code",
   "execution_count": null,
   "id": "15751610-ec1c-4d11-9db2-111878b7f0bb",
   "metadata": {},
   "outputs": [],
   "source": [
    "head = koala[0:220, 300:580, :]\n",
    "pyplot.imshow(head)"
   ]
  },
  {
   "cell_type": "markdown",
   "id": "013c9f50-3169-4f94-bf0c-6d11ea0577d5",
   "metadata": {},
   "source": [
    "from the original koala image, create a B&W image by averaging the pixel values of the 3 layers: red, green, blue.\n",
    "> to display the image use\n",
    "```python\n",
    "pyplot.imshow(<my_array>, cmap='gray', vmin=<the pixel min value>, vmax=<the pixel max value>)\n",
    "```"
   ]
  },
  {
   "cell_type": "code",
   "execution_count": null,
   "id": "4cffca41-de2c-45c2-85dc-f9dfb1b5988e",
   "metadata": {},
   "outputs": [],
   "source": [
    "nb = koala.mean(axis=2)"
   ]
  },
  {
   "cell_type": "code",
   "execution_count": null,
   "id": "fb4adc6e-1c87-4e4a-8bce-e3ac7e101a5f",
   "metadata": {},
   "outputs": [],
   "source": [
    "nb.shape"
   ]
  },
  {
   "cell_type": "code",
   "execution_count": null,
   "id": "7b46155c-4da5-40b7-a790-012b376adc1f",
   "metadata": {},
   "outputs": [],
   "source": [
    "pyplot.imshow(nb, cmap='gray', vmin=0, vmax=255)"
   ]
  },
  {
   "cell_type": "markdown",
   "id": "39fb8e5c-ef27-4314-bf1a-df6aaa73f2a8",
   "metadata": {},
   "source": [
    "Filter the B&W image set each pixel which intensity is < 120 to 0\n",
    "\n",
    "display the 2 images (the B&W and filtered B&W)"
   ]
  },
  {
   "cell_type": "code",
   "execution_count": null,
   "id": "0ac82651-85e1-443e-91ee-074de97ad394",
   "metadata": {},
   "outputs": [],
   "source": [
    "nb2 = nb.copy()\n",
    "mask = nb2 < 120"
   ]
  },
  {
   "cell_type": "code",
   "execution_count": null,
   "id": "061699ef-b71a-44a8-ab24-498c2272031e",
   "metadata": {},
   "outputs": [],
   "source": [
    "nb2[mask] = 0"
   ]
  },
  {
   "cell_type": "code",
   "execution_count": null,
   "id": "2bfd95b9-df7b-4c15-8396-934d5d491beb",
   "metadata": {},
   "outputs": [],
   "source": [
    "nb2.min(), nb2.max()"
   ]
  },
  {
   "cell_type": "code",
   "execution_count": null,
   "id": "6c59e056-7ba5-4d29-9c6c-7fc3594d4bd7",
   "metadata": {},
   "outputs": [],
   "source": [
    "pyplot.imshow(nb2, cmap='gray', vmin=0, vmax=255)"
   ]
  },
  {
   "cell_type": "markdown",
   "id": "48f7770b-1041-4b0e-a05c-8d2a83b78d6b",
   "metadata": {},
   "source": [
    "Create a new image from koala, but where the intensity of blue is half than in the original koala picture.\n",
    "*Hint*\n",
    "> check the type of the original & newly computed pixels in blue layer"
   ]
  },
  {
   "cell_type": "code",
   "execution_count": null,
   "id": "7f013e30-1d48-4e79-b82d-a94a6bb16b6e",
   "metadata": {},
   "outputs": [],
   "source": [
    "blue2 = blue_layer / 2\n",
    "blue2 = blue2.round()\n",
    "print(blue_layer.dtype, blue2.dtype)"
   ]
  },
  {
   "cell_type": "code",
   "execution_count": null,
   "id": "cb7437b7-2ab3-472d-bd1a-26f92c2d9cfa",
   "metadata": {},
   "outputs": [],
   "source": [
    "blue2 = blue2.astype(int)"
   ]
  },
  {
   "cell_type": "code",
   "execution_count": null,
   "id": "fd19a630-5db4-44ef-ac35-10dd6afe942d",
   "metadata": {},
   "outputs": [],
   "source": [
    "koala2 = np.array([red_layer, green_layer, blue2])\n",
    "print(koala.shape)\n",
    "print(koala2.shape)"
   ]
  },
  {
   "cell_type": "markdown",
   "id": "40e13039-919a-4325-8d82-ae46378d1782",
   "metadata": {},
   "source": [
    "We saw that the axes in koala2 are not in same order as in original image\n",
    "\n",
    "In the image the last axis must match to the layers. So we have to sort the axis"
   ]
  },
  {
   "cell_type": "code",
   "execution_count": null,
   "id": "6b870e0d-f378-49f2-b610-d10c91e15412",
   "metadata": {},
   "outputs": [],
   "source": [
    "print(koala2.shape)\n",
    "koala2 = np.swapaxes(koala2, 0,2)\n",
    "print(koala2.shape)\n",
    "koala2 = np.swapaxes(koala2, 0, 1)\n",
    "print(koala2.shape)"
   ]
  },
  {
   "cell_type": "code",
   "execution_count": null,
   "id": "861d60a3-470c-4609-993f-c4df092b425d",
   "metadata": {},
   "outputs": [],
   "source": [
    "pyplot.imshow(koala2)"
   ]
  },
  {
   "cell_type": "code",
   "execution_count": null,
   "id": "ef832af1-e67b-4e3c-a572-9c18851a440d",
   "metadata": {},
   "outputs": [],
   "source": [
    "## Read the few lines of code below"
   ]
  },
  {
   "cell_type": "code",
   "execution_count": null,
   "id": "a6356842-1e5a-45c5-8c34-c899f0f99330",
   "metadata": {},
   "outputs": [],
   "source": [
    "koala3 = koala[:]\n",
    "koala3.shape"
   ]
  },
  {
   "cell_type": "markdown",
   "id": "34c65328-a5f1-40f2-80d7-0f7ae51af59b",
   "metadata": {},
   "source": [
    "let's reset all values of koala3 to zero"
   ]
  },
  {
   "cell_type": "code",
   "execution_count": null,
   "id": "25f45eed-dd9e-41f4-9a84-2902074d6ce1",
   "metadata": {},
   "outputs": [],
   "source": [
    "koala3.flat = 0\n",
    "pyplot.imshow(koala3)"
   ]
  },
  {
   "cell_type": "markdown",
   "id": "5b81e01c-0c98-4a53-94cb-47ade37d74ac",
   "metadata": {},
   "source": [
    "What I shoukd expect for koala data?\n",
    "\n",
    "Can you explain?"
   ]
  },
  {
   "cell_type": "code",
   "execution_count": null,
   "id": "455bebf3-e8c9-472c-a0bc-57da84cbe9cc",
   "metadata": {},
   "outputs": [],
   "source": [
    "pyplot.imshow(koala)"
   ]
  },
  {
   "cell_type": "markdown",
   "id": "b0bd30ce-9cca-4e57-99a2-ce5e7f91d8d3",
   "metadata": {},
   "source": [
    "what should I did to keep koala ?"
   ]
  },
  {
   "cell_type": "code",
   "execution_count": null,
   "id": "904a10d0-c77a-4a06-8944-a5102449aaf9",
   "metadata": {},
   "outputs": [],
   "source": [
    "koala = image.imread('../data/koala.jpeg')\n",
    "koala3 = koala.copy()\n",
    "koala3.flat = 0"
   ]
  },
  {
   "cell_type": "code",
   "execution_count": null,
   "id": "3b32cb50-b8f9-4182-917c-c4cf1e454244",
   "metadata": {},
   "outputs": [],
   "source": [
    "pyplot.imshow(koala3)"
   ]
  },
  {
   "cell_type": "code",
   "execution_count": null,
   "id": "6b03ec6e-d278-4e8b-b14f-c2009f107cf7",
   "metadata": {},
   "outputs": [],
   "source": [
    "pyplot.imshow(koala)"
   ]
  }
 ],
 "metadata": {
  "kernelspec": {
   "display_name": "Python 3 (ipykernel)",
   "language": "python",
   "name": "python3"
  },
  "language_info": {
   "codemirror_mode": {
    "name": "ipython",
    "version": 3
   },
   "file_extension": ".py",
   "mimetype": "text/x-python",
   "name": "python",
   "nbconvert_exporter": "python",
   "pygments_lexer": "ipython3",
   "version": "3.11.10"
  }
 },
 "nbformat": 4,
 "nbformat_minor": 5
}
