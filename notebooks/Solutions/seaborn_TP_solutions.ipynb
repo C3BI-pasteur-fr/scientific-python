{
 "cells": [
  {
   "cell_type": "markdown",
   "id": "instrumental-personal",
   "metadata": {},
   "source": [
    "# <center><b>Hands-on</b></center>\n",
    "\n",
    "<div style=\"text-align:center\">\n",
    "    <img src=\"../images/seaborn.png\" width=\"600px\">\n",
    "    <div>\n",
    "       Bertrand Néron, François Laurent, Etienne Kornobis, Vincent Guillemot\n",
    "       <br />\n",
    "       <a src=\" https://research.pasteur.fr/en/team/bioinformatics-and-biostatistics-hub/\">Bioinformatics and Biostatistiqucs HUB</a>\n",
    "       <br />\n",
    "       © Institut Pasteur, 2024\n",
    "    </div>    \n",
    "</div>"
   ]
  },
  {
   "cell_type": "markdown",
   "id": "compliant-basis",
   "metadata": {},
   "source": [
    "Practice your graphing skills through the data of [happiness 2016](https://www.kaggle.com/datasets/unsdsn/world-happiness?select=2016.csv)\n",
    "\n",
    "(The data are already in data directory as `happiness_2016.csv`)"
   ]
  },
  {
   "cell_type": "markdown",
   "id": "3778963b-3bae-486d-8db7-30f23eb239ac",
   "metadata": {},
   "source": [
    "## Import the data and have a look on them\n",
    "\n",
    "1. import the pandas and seaborn modules\n",
    "2. import the data"
   ]
  },
  {
   "cell_type": "code",
   "execution_count": null,
   "id": "minor-doctrine",
   "metadata": {},
   "outputs": [],
   "source": [
    "import pandas as pd\n",
    "import seaborn as sns"
   ]
  },
  {
   "cell_type": "code",
   "execution_count": null,
   "id": "skilled-daniel",
   "metadata": {},
   "outputs": [],
   "source": [
    "ha_df = pd.read_csv(\"../data/happiness_2016.csv\")"
   ]
  },
  {
   "cell_type": "markdown",
   "id": "3d7b230d-ab79-4075-b3ce-248a3dc85fbb",
   "metadata": {},
   "source": [
    "3. have a look on them"
   ]
  },
  {
   "cell_type": "code",
   "execution_count": null,
   "id": "f8729a5b-314d-42fc-b130-783ca5e2076a",
   "metadata": {},
   "outputs": [],
   "source": [
    "ha_df.shape"
   ]
  },
  {
   "cell_type": "code",
   "execution_count": null,
   "id": "brutal-manufacturer",
   "metadata": {},
   "outputs": [],
   "source": [
    "ha_df.head()"
   ]
  },
  {
   "cell_type": "markdown",
   "id": "departmental-exhibition",
   "metadata": {},
   "source": [
    "## Do a boxplot showing the differences in `happiness` between `Region`:"
   ]
  },
  {
   "cell_type": "code",
   "execution_count": null,
   "id": "saved-identity",
   "metadata": {},
   "outputs": [],
   "source": [
    "sns.boxplot(data=ha_df, x=\"Happiness Score\", y=\"Region\")"
   ]
  },
  {
   "cell_type": "markdown",
   "id": "portuguese-worse",
   "metadata": {},
   "source": [
    "## Using a histogram and continuous probability density curve, display the distribution of `Freedom` in the dataset"
   ]
  },
  {
   "cell_type": "code",
   "execution_count": null,
   "id": "continuous-indian",
   "metadata": {},
   "outputs": [],
   "source": [
    "sns.histplot(data=ha_df, x=\"Freedom\")"
   ]
  },
  {
   "cell_type": "code",
   "execution_count": null,
   "id": "understanding-vegetarian",
   "metadata": {},
   "outputs": [],
   "source": [
    "sns.histplot(data=ha_df, x=\"Freedom\", kde=True)"
   ]
  },
  {
   "cell_type": "markdown",
   "id": "prepared-stephen",
   "metadata": {},
   "source": [
    "- Use a barplot to show the count of country per Region (see the documentation for a countplot)"
   ]
  },
  {
   "cell_type": "code",
   "execution_count": null,
   "id": "worldwide-communication",
   "metadata": {},
   "outputs": [],
   "source": [
    "sns.countplot(data=ha_df, x=\"Region\")"
   ]
  },
  {
   "cell_type": "markdown",
   "id": "4e1d16f2-57d8-4f0e-9a69-e9ab193a3ebc",
   "metadata": {},
   "source": [
    "As you can see the labels overlaps each ohers and are not readable\n",
    "\n",
    "One possibility is to rotate the X-labels. In this case is better to provide the labels."
   ]
  },
  {
   "cell_type": "code",
   "execution_count": null,
   "id": "64ee74bb-5f37-485f-8c03-d06ac14d3010",
   "metadata": {},
   "outputs": [],
   "source": [
    "# extract the Region from the data, I will use them as labels for figures below\n",
    "regions = ha_df.loc[:, 'Region'].drop_duplicates()"
   ]
  },
  {
   "cell_type": "code",
   "execution_count": null,
   "id": "eb7c96ac-585a-4787-a2ee-dec3d04790ca",
   "metadata": {},
   "outputs": [],
   "source": [
    "ax = sns.countplot(data=ha_df, x=\"Region\")\n",
    "ax.set_xticks(regions)\n",
    "ax.set_xticklabels(regions, rotation=45, ha='right', rotation_mode='anchor')"
   ]
  },
  {
   "cell_type": "markdown",
   "id": "e2eac27c-2de9-4942-82b9-294318ec5fd4",
   "metadata": {},
   "source": [
    "## On the same data `Happiness` and `Region` do a boxplot and a swarmplot to display the structure of the data"
   ]
  },
  {
   "cell_type": "code",
   "execution_count": null,
   "id": "b0fd6058-65b0-4f9b-bc59-dce0193f1580",
   "metadata": {},
   "outputs": [],
   "source": [
    "ax = sns.swarmplot(data=ha_df, x=\"Region\", y=\"Happiness Score\")\n",
    "ax.set_xticks(regions)\n",
    "ax.set_xticklabels(regions,rotation=45, ha='right', rotation_mode='anchor')"
   ]
  },
  {
   "cell_type": "code",
   "execution_count": null,
   "id": "1fe079b4-013a-4d48-ac31-9daad4b4673e",
   "metadata": {},
   "outputs": [],
   "source": [
    "ax = sns.boxplot(data=ha_df, x=\"Region\", y=\"Happiness Score\", hue='Region') # see the result of the option hue\n",
    "ax.set_xticks(regions)\n",
    "ax.set_xticklabels(regions,rotation=45, ha='right', rotation_mode='anchor')"
   ]
  },
  {
   "cell_type": "markdown",
   "id": "immediate-method",
   "metadata": {},
   "source": [
    "## Plot the distribution of `happiness` for the people leaving `Western Europe`"
   ]
  },
  {
   "cell_type": "code",
   "execution_count": null,
   "id": "academic-measure",
   "metadata": {},
   "outputs": [],
   "source": [
    "sns.histplot(data=ha_df.query(\"Region == 'Western Europe'\"), x=\"Happiness Score\", kde=True)"
   ]
  },
  {
   "cell_type": "markdown",
   "id": "fd9789db-9bab-478a-bcec-1c8b6775cf20",
   "metadata": {},
   "source": [
    "## Plot the `Health (Life Expectancy)` vs `Happiness Score` and color the dots according to the region specify a size for the figure (9 inches x 7) \n",
    "\n",
    "1. import pyplot\n",
    "2. then create a new figure and axis at the right size\n",
    "3. create the plot"
   ]
  },
  {
   "cell_type": "code",
   "execution_count": null,
   "id": "d42f72f1-1d01-496e-89a1-68391ffa4281",
   "metadata": {},
   "outputs": [],
   "source": [
    "import matplotlib.pyplot as plt"
   ]
  },
  {
   "cell_type": "code",
   "execution_count": null,
   "id": "52ae8376-3c66-4ca6-86a9-f9ae9f56076f",
   "metadata": {},
   "outputs": [],
   "source": [
    "fig, ax = plt.subplots(figsize=(9, 7))\n",
    "sns.scatterplot(data=ha_df, x=\"Health (Life Expectancy)\", y=\"Happiness Score\", hue=\"Region\", ax=ax)"
   ]
  },
  {
   "cell_type": "markdown",
   "id": "temporal-synthesis",
   "metadata": {},
   "source": [
    "- Feel free to explore more of [seaborn](https://seaborn.pydata.org/examples/index.html) !"
   ]
  },
  {
   "cell_type": "markdown",
   "id": "3063abf7-2251-48eb-b371-6c5b70b45fe7",
   "metadata": {},
   "source": [
    "## Do a barplot of the Happiness Score for each Region"
   ]
  },
  {
   "cell_type": "code",
   "execution_count": null,
   "id": "85dd0df6-74e7-43be-9a7c-eb922a06601b",
   "metadata": {},
   "outputs": [],
   "source": [
    "sns.barplot(data=ha_df, y=\"Region\", x=\"Happiness Score\", hue='Region', orient='h')"
   ]
  },
  {
   "cell_type": "markdown",
   "id": "3ee5741a-64f4-4690-963b-1f7e729398bf",
   "metadata": {},
   "source": [
    "## from this point we will focus on the Regions\n",
    "\n",
    "### clean our dataset. Remove not relevant columns"
   ]
  },
  {
   "cell_type": "code",
   "execution_count": null,
   "id": "0344b730-1535-47fb-82f5-07003fd223f9",
   "metadata": {},
   "outputs": [],
   "source": [
    "ha_df.columns"
   ]
  },
  {
   "cell_type": "markdown",
   "id": "36e449d1-0add-4ebc-8903-d535219ce423",
   "metadata": {},
   "source": [
    "1. keep only columns 'Region', 'Happiness Score', 'Economy (GDP per Capita)', 'Family', 'Freedom','Trust (Government Corruption)', 'Generosity'\n",
    "2. set the index to the Region\n",
    "3. have a look on your new data"
   ]
  },
  {
   "cell_type": "code",
   "execution_count": null,
   "id": "bdf897c4-b8f3-4dff-b9c0-0ad47b25ecc0",
   "metadata": {},
   "outputs": [],
   "source": [
    "region_df = ha_df.loc[:, ['Region', 'Happiness Score', 'Economy (GDP per Capita)', 'Family', 'Freedom','Trust (Government Corruption)', 'Generosity']]\n",
    "region_df.set_index('Region', inplace=True)\n",
    "region_df.head()"
   ]
  },
  {
   "cell_type": "markdown",
   "id": "e1ae03ac-ac7c-436d-987d-113e9cca3eec",
   "metadata": {},
   "source": [
    "## Aggregate the new data region by region. Compute the mean of each country as value for the corresponding Region"
   ]
  },
  {
   "cell_type": "code",
   "execution_count": null,
   "id": "3fc3ea89-a448-4e7b-abfb-3fa92cffc5f7",
   "metadata": {},
   "outputs": [],
   "source": [
    "reg_agg = region_df.groupby('Region').agg('mean')\n",
    "reg_agg"
   ]
  },
  {
   "cell_type": "markdown",
   "id": "97cb188c-3e50-4492-961f-cadea3611aaa",
   "metadata": {},
   "source": [
    "## Do a hierarchically-clustered heatmap "
   ]
  },
  {
   "cell_type": "code",
   "execution_count": null,
   "id": "9aa21ed4-e9b2-4eb3-a693-c59ceb513552",
   "metadata": {},
   "outputs": [],
   "source": [
    "sns.clustermap(data=reg_agg)"
   ]
  },
  {
   "cell_type": "markdown",
   "id": "88d27d29-e3b8-43d7-8324-25e50c247872",
   "metadata": {},
   "source": [
    "Check the data."
   ]
  },
  {
   "cell_type": "code",
   "execution_count": null,
   "id": "0128f575-0b2a-4cbc-8f6e-8b7e22d81254",
   "metadata": {},
   "outputs": [],
   "source": [
    "reg_agg.describe()"
   ]
  },
  {
   "cell_type": "markdown",
   "id": "f9b39ab8-0051-4840-9e87-fe2bcb8ca07a",
   "metadata": {},
   "source": [
    "The data are not in the same range, so it could be better to standardize the data before to do the clustering"
   ]
  },
  {
   "cell_type": "code",
   "execution_count": null,
   "id": "ff4beb57-b357-47a3-b7bd-877e05229b6b",
   "metadata": {},
   "outputs": [],
   "source": [
    "normalized_reg=(reg_agg - reg_agg.mean()) / reg_agg.std()\n",
    "normalized_reg"
   ]
  },
  {
   "cell_type": "code",
   "execution_count": null,
   "id": "e19f9472-cb9b-434b-8689-2bf09d49b902",
   "metadata": {},
   "outputs": [],
   "source": [
    "sns.clustermap(data=normalized_reg, annot=True) # see the results of the annot option "
   ]
  },
  {
   "cell_type": "markdown",
   "id": "d64a0377-339b-4fe7-beb4-a32e4a4e0113",
   "metadata": {},
   "source": [
    "It's possible to do that directly in seaborn. with the option z_score (https://seaborn.pydata.org/generated/seaborn.clustermap.html)"
   ]
  },
  {
   "cell_type": "code",
   "execution_count": null,
   "id": "3b439517-5007-4fbb-828d-265f9835594f",
   "metadata": {},
   "outputs": [],
   "source": [
    "sns.clustermap(data=reg_agg, z_score=1, annot=True)"
   ]
  },
  {
   "cell_type": "markdown",
   "id": "f8d6188e-3a37-4ba5-b377-a11696054e9c",
   "metadata": {},
   "source": [
    "- Explore the clustermap documentation to have a more visual heatmap by standardizing the data within genes."
   ]
  },
  {
   "cell_type": "markdown",
   "id": "a2627322-e6a5-422f-8a69-b89dbd4b777e",
   "metadata": {},
   "source": [
    "## Create a function which produce a single image with four different plots of your choice and save it to pdf file.\n",
    "\n",
    "like the image below."
   ]
  },
  {
   "cell_type": "markdown",
   "id": "4121ff3d-6814-493e-a505-357ad81b0d28",
   "metadata": {},
   "source": [
    "<img src=\"../images/multiple_figure.png\" width=\"50%\" />"
   ]
  },
  {
   "cell_type": "code",
   "execution_count": null,
   "id": "a322c866-9232-4fae-bcee-9a635e3fd70b",
   "metadata": {},
   "outputs": [],
   "source": [
    "import matplotlib.pyplot as plt"
   ]
  },
  {
   "cell_type": "code",
   "execution_count": null,
   "id": "044022d1-741d-4a07-ba7f-c1f863cca138",
   "metadata": {},
   "outputs": [],
   "source": [
    "def expression_graph():\n",
    "    fig, axs = plt.subplots(2,2, figsize=(9,7), constrained_layout=True) # constrained_layout=True avoid overlapping between axis title and X-labels from the above figure\n",
    "    sns.boxplot(data=ha_df, x=\"Happiness Score\", y=\"Region\", hue='Region', ax=axs[0,0])\n",
    "    axs[0,0].set_title(\"happiness data structure\")\n",
    "    \n",
    "    sns.scatterplot(data=ha_df, x=\"Health (Life Expectancy)\", y=\"Happiness Score\", hue=\"Region\", legend=False, ax=axs[0,1])\n",
    "    axs[0,1].set_title(\"Happiness vs Health\")\n",
    "    \n",
    "    sns.barplot(data=ha_df, y=\"Region\", x=\"Happiness Score\", hue='Region', orient='h', ax=axs[1,0])\n",
    "    axs[1,0].set_title(\"happiness through the world\")\n",
    "    \n",
    "    sns.histplot(data=ha_df, x=\"Happiness Score\", kde=True, ax=axs[1,1])\n",
    "    axs[1,1].set_title(\"Happiness data distribution\")\n",
    "    \n",
    "    return fig\n",
    "    "
   ]
  },
  {
   "cell_type": "code",
   "execution_count": null,
   "id": "c33bfc78-7480-4327-93a0-f8aaca0d3614",
   "metadata": {},
   "outputs": [],
   "source": [
    "my_fig = expression_graph()\n",
    "my_fig.suptitle(\"Happiness Report\")\n",
    "my_fig.savefig(\"happiness_visualization.pdf\",  bbox_inches = \"tight\") # bbox_inches = \"tight\" avoid to truncate the Y-labels on left on pdf"
   ]
  },
  {
   "cell_type": "markdown",
   "id": "0d05aba4-3c85-4cd9-85f3-5296b19308fb",
   "metadata": {},
   "source": [
    "# Extras"
   ]
  },
  {
   "cell_type": "markdown",
   "id": "66d6668e-683f-462e-a72f-28bdda8736f2",
   "metadata": {},
   "source": [
    "- Using ipywidget, make a function to display barplot of `Happiness Score` by country but with region selected by the user (using a Dropdown widget)"
   ]
  },
  {
   "cell_type": "markdown",
   "id": "042bd87e-d2dc-4544-a771-51d80c565d0f",
   "metadata": {},
   "source": [
    "Imports the needed modules \n",
    "- `widgets` and `interact` from the `ipywidgets` package\n"
   ]
  },
  {
   "cell_type": "code",
   "execution_count": null,
   "id": "64ebeca1-1332-4585-9e5c-c1b66f82be71",
   "metadata": {},
   "outputs": [],
   "source": [
    "from ipywidgets import widgets\n",
    "from ipywidgets import interact"
   ]
  },
  {
   "cell_type": "markdown",
   "id": "277264e6-a173-40c5-b71e-4cd551a7fa99",
   "metadata": {},
   "source": [
    "create a dataframe containing regions (without duplicates values"
   ]
  },
  {
   "cell_type": "code",
   "execution_count": null,
   "id": "ebf7fde9-b4a1-4e8a-86ab-86ad8b1b533a",
   "metadata": {},
   "outputs": [],
   "source": [
    "regions = ha_df.loc[:, 'Region'].drop_duplicates()"
   ]
  },
  {
   "cell_type": "markdown",
   "id": "f34e5053-ccf5-4a67-96db-7457fe16bbd6",
   "metadata": {},
   "source": [
    "1. Use this DataFarame to populate your dropdown list\n",
    "2. Use the region selected in dropdown list as parameter of your function\n",
    "3. select form the whole data frame the data corresponding to this region\n",
    "4. display the barplot"
   ]
  },
  {
   "cell_type": "markdown",
   "id": "feba608f-2ecb-41ae-b04a-12f075fd644b",
   "metadata": {},
   "source": [
    "below the code skeleton of your function\n",
    "\n",
    "```python\n",
    "@interact(region=widgets.Dropdown(options=regions))\n",
    "def plot_counts(region):\n",
    "    data = ha_df.loc[ha_df['Region'] == region]\n",
    "    ax = sns.barplot(data= ....\n",
    "```"
   ]
  },
  {
   "cell_type": "code",
   "execution_count": null,
   "id": "fb746fda-36cc-4c35-92d8-257a489fb278",
   "metadata": {},
   "outputs": [],
   "source": [
    "\n",
    "@interact(region=widgets.Dropdown(options=regions))\n",
    "def plot_counts(region):\n",
    "    data = ha_df.loc[ha_df['Region'] == region]\n",
    "    ax = sns.barplot(data=data, y='Happiness Score', x='Country')\n",
    "    ax.set_xticks(data.Country)\n",
    "    ax.set_xticklabels(data.Country, rotation=45, ha='right', rotation_mode='anchor')\n",
    "    "
   ]
  },
  {
   "cell_type": "markdown",
   "id": "3f4bd68e-eb26-46f8-a00f-86f9d0570580",
   "metadata": {},
   "source": [
    "You can customize your figure as classical seaborn/matplotib figure\n",
    "\n",
    "for instance to display the value above each bar"
   ]
  },
  {
   "cell_type": "code",
   "execution_count": null,
   "id": "7bcee7c5-f1c2-4035-9b7c-e68e1d73a932",
   "metadata": {},
   "outputs": [],
   "source": [
    "\n",
    "@interact(region=widgets.Dropdown(options=regions))\n",
    "def plot_counts(region):\n",
    "    data = ha_df.loc[ha_df['Region'] == region]\n",
    "    ax = sns.barplot(data=data, y='Happiness Score', x='Country')\n",
    "    for i in ax.containers:\n",
    "        # add label on each bar https://www.geeksforgeeks.org/how-to-show-values-on-seaborn-barplot/\n",
    "        ax.bar_label(i, fmt=\"{:.2f}\", rotation='vertical', padding=3)\n",
    "        \n",
    "    ax.set_xticks(data.Country)\n",
    "    ax.set_xticklabels(data.Country, rotation=45, ha='right', rotation_mode='anchor')\n",
    "    ax.margins(y=0.1) # add margin to avoid to have label outside the barplotboundaries, here add 10% white space vertically \n",
    "    # https://stackoverflow.com/questions/72662991/how-can-i-prevent-bar-labels-from-going-outside-the-barplot-boundaries-range\n",
    "    "
   ]
  },
  {
   "cell_type": "code",
   "execution_count": null,
   "id": "d78b7b86-ecaa-4d27-80ca-2d3e46c2aca3",
   "metadata": {},
   "outputs": [],
   "source": []
  }
 ],
 "metadata": {
  "kernelspec": {
   "display_name": "Python 3 (ipykernel)",
   "language": "python",
   "name": "python3"
  },
  "language_info": {
   "codemirror_mode": {
    "name": "ipython",
    "version": 3
   },
   "file_extension": ".py",
   "mimetype": "text/x-python",
   "name": "python",
   "nbconvert_exporter": "python",
   "pygments_lexer": "ipython3",
   "version": "3.11.10"
  }
 },
 "nbformat": 4,
 "nbformat_minor": 5
}
