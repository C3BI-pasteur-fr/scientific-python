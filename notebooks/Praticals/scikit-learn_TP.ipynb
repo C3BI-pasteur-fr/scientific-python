{
 "cells": [
  {
   "cell_type": "markdown",
   "id": "b955dcc3",
   "metadata": {},
   "source": [
    "<img alt=\"https://allisonhorst.github.io/palmerpenguins/\" src=\"https://raw.githubusercontent.com/allisonhorst/palmerpenguins/master/man/figures/lter_penguins.png\" width=60% />"
   ]
  },
  {
   "cell_type": "code",
   "execution_count": 1,
   "id": "416c5291",
   "metadata": {},
   "outputs": [],
   "source": [
    "import numpy as np\n",
    "import pandas as pd\n",
    "import seaborn as sns\n",
    "import plotly.graph_objects as go\n",
    "import plotly.express as px"
   ]
  },
  {
   "cell_type": "code",
   "execution_count": 2,
   "id": "9d9ba356",
   "metadata": {},
   "outputs": [
    {
     "data": {
      "text/html": [
       "<div>\n",
       "<style scoped>\n",
       "    .dataframe tbody tr th:only-of-type {\n",
       "        vertical-align: middle;\n",
       "    }\n",
       "\n",
       "    .dataframe tbody tr th {\n",
       "        vertical-align: top;\n",
       "    }\n",
       "\n",
       "    .dataframe thead th {\n",
       "        text-align: right;\n",
       "    }\n",
       "</style>\n",
       "<table border=\"1\" class=\"dataframe\">\n",
       "  <thead>\n",
       "    <tr style=\"text-align: right;\">\n",
       "      <th></th>\n",
       "      <th>species_short</th>\n",
       "      <th>island</th>\n",
       "      <th>culmen_length_mm</th>\n",
       "      <th>culmen_depth_mm</th>\n",
       "      <th>flipper_length_mm</th>\n",
       "      <th>body_mass_g</th>\n",
       "      <th>sex</th>\n",
       "    </tr>\n",
       "  </thead>\n",
       "  <tbody>\n",
       "    <tr>\n",
       "      <th>0</th>\n",
       "      <td>Adelie</td>\n",
       "      <td>Torgersen</td>\n",
       "      <td>39.1</td>\n",
       "      <td>18.7</td>\n",
       "      <td>181.0</td>\n",
       "      <td>3750.0</td>\n",
       "      <td>MALE</td>\n",
       "    </tr>\n",
       "    <tr>\n",
       "      <th>1</th>\n",
       "      <td>Adelie</td>\n",
       "      <td>Torgersen</td>\n",
       "      <td>39.5</td>\n",
       "      <td>17.4</td>\n",
       "      <td>186.0</td>\n",
       "      <td>3800.0</td>\n",
       "      <td>FEMALE</td>\n",
       "    </tr>\n",
       "    <tr>\n",
       "      <th>2</th>\n",
       "      <td>Adelie</td>\n",
       "      <td>Torgersen</td>\n",
       "      <td>40.3</td>\n",
       "      <td>18.0</td>\n",
       "      <td>195.0</td>\n",
       "      <td>3250.0</td>\n",
       "      <td>FEMALE</td>\n",
       "    </tr>\n",
       "    <tr>\n",
       "      <th>3</th>\n",
       "      <td>Adelie</td>\n",
       "      <td>Torgersen</td>\n",
       "      <td>NaN</td>\n",
       "      <td>NaN</td>\n",
       "      <td>NaN</td>\n",
       "      <td>NaN</td>\n",
       "      <td>NaN</td>\n",
       "    </tr>\n",
       "    <tr>\n",
       "      <th>4</th>\n",
       "      <td>Adelie</td>\n",
       "      <td>Torgersen</td>\n",
       "      <td>36.7</td>\n",
       "      <td>19.3</td>\n",
       "      <td>193.0</td>\n",
       "      <td>3450.0</td>\n",
       "      <td>FEMALE</td>\n",
       "    </tr>\n",
       "  </tbody>\n",
       "</table>\n",
       "</div>"
      ],
      "text/plain": [
       "  species_short     island  culmen_length_mm  culmen_depth_mm  \\\n",
       "0        Adelie  Torgersen              39.1             18.7   \n",
       "1        Adelie  Torgersen              39.5             17.4   \n",
       "2        Adelie  Torgersen              40.3             18.0   \n",
       "3        Adelie  Torgersen               NaN              NaN   \n",
       "4        Adelie  Torgersen              36.7             19.3   \n",
       "\n",
       "   flipper_length_mm  body_mass_g     sex  \n",
       "0              181.0       3750.0    MALE  \n",
       "1              186.0       3800.0  FEMALE  \n",
       "2              195.0       3250.0  FEMALE  \n",
       "3                NaN          NaN     NaN  \n",
       "4              193.0       3450.0  FEMALE  "
      ]
     },
     "execution_count": 2,
     "metadata": {},
     "output_type": "execute_result"
    }
   ],
   "source": [
    "penguins = pd.read_csv(\"https://github.com/allisonhorst/palmerpenguins/raw/5b5891f01b52ae26ad8cb9755ec93672f49328a8/data/penguins_size.csv\")\n",
    "penguins.head()"
   ]
  },
  {
   "cell_type": "markdown",
   "id": "e1a82ffe",
   "metadata": {},
   "source": [
    "# PCA\n",
    "\n",
    "## Q\n",
    "\n",
    "Remove the undefined values and get the sample size for each species."
   ]
  },
  {
   "cell_type": "markdown",
   "id": "623d14fd",
   "metadata": {
    "heading_collapsed": true
   },
   "source": [
    "## A"
   ]
  },
  {
   "cell_type": "code",
   "execution_count": null,
   "id": "b2e86638",
   "metadata": {
    "hidden": true
   },
   "outputs": [],
   "source": []
  },
  {
   "cell_type": "markdown",
   "id": "fc6e86fd",
   "metadata": {},
   "source": [
    "## Q\n",
    "\n",
    "Plot a `pairplot` so that each species can be distinguished by a different color."
   ]
  },
  {
   "cell_type": "markdown",
   "id": "b0b71cf0",
   "metadata": {
    "heading_collapsed": true
   },
   "source": [
    "## A"
   ]
  },
  {
   "cell_type": "code",
   "execution_count": null,
   "id": "82fef377",
   "metadata": {
    "hidden": true
   },
   "outputs": [],
   "source": []
  },
  {
   "cell_type": "markdown",
   "id": "3ac3648c",
   "metadata": {},
   "source": [
    "## Q\n",
    "\n",
    "Pick the continuous variables, standardize their values and perform a PCA on the scaled data, with as many components as possible.\n",
    "\n",
    "Draw a scree plot to choose a number of principal components."
   ]
  },
  {
   "cell_type": "markdown",
   "id": "6aa45291",
   "metadata": {
    "heading_collapsed": true
   },
   "source": [
    "## A"
   ]
  },
  {
   "cell_type": "code",
   "execution_count": null,
   "id": "1722dc49",
   "metadata": {},
   "outputs": [],
   "source": []
  },
  {
   "cell_type": "markdown",
   "id": "6fbc37aa",
   "metadata": {},
   "source": [
    "## Q\n",
    "\n",
    "Perform a new PCA with a number of principal components, projects the data onto the principal axes, and plot the final data representing each species with a different color (hint: look at [this plotting function](https://plotly.github.io/plotly.py-docs/generated/plotly.express.scatter_3d.html))."
   ]
  },
  {
   "cell_type": "markdown",
   "id": "4fe3999e",
   "metadata": {
    "heading_collapsed": true
   },
   "source": [
    "## A"
   ]
  },
  {
   "cell_type": "code",
   "execution_count": null,
   "id": "3782d970",
   "metadata": {
    "hidden": true
   },
   "outputs": [],
   "source": []
  },
  {
   "cell_type": "markdown",
   "id": "10f75594",
   "metadata": {},
   "source": [
    "# UMAP"
   ]
  },
  {
   "cell_type": "markdown",
   "id": "398dd715",
   "metadata": {},
   "source": [
    "## Q\n",
    "\n",
    "Plot a 2D UMAP projection of the scaled penguin data (continuous variables, one penguin = one dot), and color the dots by species."
   ]
  },
  {
   "cell_type": "markdown",
   "id": "9f71db23",
   "metadata": {
    "heading_collapsed": true
   },
   "source": [
    "## A"
   ]
  },
  {
   "cell_type": "code",
   "execution_count": null,
   "id": "fd18eba0",
   "metadata": {
    "hidden": true
   },
   "outputs": [],
   "source": []
  },
  {
   "cell_type": "markdown",
   "id": "4f02b5f3-7dc6-4d1f-99ee-903acd622445",
   "metadata": {
    "hidden": true
   },
   "source": [
    "## Q\n",
    "\n",
    "Adelie and Chinstrap penguins look more difficult to separate. To quantify how separated are the two corresponding clouds of points, we can use the silhouette score applied to the projected data for Adelie and Chinstrap penguins only."
   ]
  },
  {
   "cell_type": "code",
   "execution_count": 3,
   "id": "6b062178-f700-46db-bd23-9cd592fb75f9",
   "metadata": {},
   "outputs": [],
   "source": [
    "from sklearn.metrics import silhouette_score"
   ]
  },
  {
   "cell_type": "markdown",
   "id": "2741e1a7-dcfd-4753-b544-82a0068af462",
   "metadata": {
    "hidden": true
   },
   "source": [
    "Find the combination of values that maximizes the above score, using a grid search with neighbor counts 2, 3, 5, 10, 20, 30, 50, 100 and minimum distances 0.1, 0.2, 0.3, 0.4, 0.5, 0.6, 0.7, 0.8, 0.9, 1.0."
   ]
  },
  {
   "cell_type": "markdown",
   "id": "32ce12af-d202-4104-b51b-3b1be08e0e73",
   "metadata": {},
   "source": [
    "## A"
   ]
  },
  {
   "cell_type": "code",
   "execution_count": null,
   "id": "a2193b0b-5009-4269-bf7d-c25af101c4a3",
   "metadata": {},
   "outputs": [],
   "source": []
  }
 ],
 "metadata": {
  "kernelspec": {
   "display_name": "Python 3 (ipykernel)",
   "language": "python",
   "name": "python3"
  },
  "language_info": {
   "codemirror_mode": {
    "name": "ipython",
    "version": 3
   },
   "file_extension": ".py",
   "mimetype": "text/x-python",
   "name": "python",
   "nbconvert_exporter": "python",
   "pygments_lexer": "ipython3",
   "version": "3.10.12"
  },
  "toc": {
   "base_numbering": 1,
   "nav_menu": {},
   "number_sections": false,
   "sideBar": true,
   "skip_h1_title": false,
   "title_cell": "Table of Contents",
   "title_sidebar": "Contents",
   "toc_cell": false,
   "toc_position": {},
   "toc_section_display": true,
   "toc_window_display": true
  }
 },
 "nbformat": 4,
 "nbformat_minor": 5
}
