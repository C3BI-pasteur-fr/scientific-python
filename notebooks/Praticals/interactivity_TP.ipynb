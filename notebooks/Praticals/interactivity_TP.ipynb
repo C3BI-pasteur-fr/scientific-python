{
 "cells": [
  {
   "cell_type": "markdown",
   "id": "6066486e-1c4d-4da3-bbdd-d55bff7f64ca",
   "metadata": {},
   "source": [
    "<center><b>Hands-on</b></center>\n",
    "<b><p style=\"text-align:center;font-size:50px\">Interactivity</p></b>\n",
    "<div style=\"text-align:center\">\n",
    "    <div>\n",
    "       Etienne Kornobis, François Laurent, Bertrand Néron\n",
    "       <br />\n",
    "       <a src=\" https://research.pasteur.fr/en/team/bioinformatics-and-biostatistics-hub/\">Bioinformatics and Biostatistics HUB</a>\n",
    "       <br />\n",
    "       © Institut Pasteur, 2022\n",
    "    </div>    \n",
    "</div>"
   ]
  },
  {
   "cell_type": "code",
   "execution_count": 1,
   "id": "4d12349e-6d72-4fb1-8bd7-775816af97e4",
   "metadata": {},
   "outputs": [],
   "source": [
    "import pandas as pd\n",
    "import seaborn as sns\n",
    "from ipywidgets import interact, widgets"
   ]
  },
  {
   "cell_type": "markdown",
   "id": "c4cfe182-0b6d-4325-8d53-459ad69ba161",
   "metadata": {},
   "source": [
    "Using the `data/city_temperature.csv` dataset, we are going to practice interactivity using ipywidgets. \n",
    "- Make a decorated function which returns a dataframe with only the data for a country selected by the user (through a dropdown widget for example): \n",
    "\n",
    "There is other ways, but the `unique` method can be of use as well:\n",
    "> https://pandas.pydata.org/pandas-docs/stable/reference/api/pandas.Series.unique.html#pandas.Series.unique"
   ]
  },
  {
   "cell_type": "code",
   "execution_count": null,
   "id": "3eba1eea-b75d-4a85-b1e0-404a89a3f6f2",
   "metadata": {},
   "outputs": [],
   "source": []
  },
  {
   "cell_type": "markdown",
   "id": "3841dd4e-c97d-4df7-b501-6dc385cb38c3",
   "metadata": {},
   "source": [
    "- Make a decorated function which returns a graph of the temperatures with only the data for a city selected by the user."
   ]
  },
  {
   "cell_type": "code",
   "execution_count": null,
   "id": "f8599e2c-3b5d-4c52-a959-372572669253",
   "metadata": {},
   "outputs": [],
   "source": []
  },
  {
   "cell_type": "markdown",
   "id": "83c1db00-c52e-4f02-a922-a572329be2b1",
   "metadata": {},
   "source": [
    "These temperatures in Fahrenheit are cumbersome especially in Europe, let's convert them to Celsius. Here is the formula to apply:\n",
    "\n",
    "$$°C = \\frac{°F - 32}{1.8}$$\n",
    "- Create a new column to the dataframe with the temperatures as Celsius and redraw the last graph. We saw in the course that mathematical operations can be directly performed on Series, but it is also a good occasion to practice the `apply` method, using a `farhenheit_to_celsius` function for the conversion).\n",
    "\n",
    "> https://pandas.pydata.org/pandas-docs/stable/reference/api/pandas.DataFrame.apply.html"
   ]
  },
  {
   "cell_type": "code",
   "execution_count": null,
   "id": "aa8ec056-256f-4a95-bc9e-8ba3a5e13a15",
   "metadata": {},
   "outputs": [],
   "source": []
  },
  {
   "cell_type": "markdown",
   "id": "ace3cbd1-95ea-42a8-a763-4e6ecc481c6e",
   "metadata": {},
   "source": [
    "As a side note `apply` can be usefull to access indices and columns names but `itertuples` is a much faster method to deal with the same kind of operations.\n",
    "\n",
    "> https://pandas.pydata.org/pandas-docs/stable/reference/api/pandas.DataFrame.itertuples.html"
   ]
  },
  {
   "cell_type": "markdown",
   "id": "99e9b153-c168-4192-a18e-0c12fb3a61c4",
   "metadata": {},
   "source": [
    "- Using your interactive plot, you should see something strange checking the 10 first cities. What is happening in Addis Ababa ?"
   ]
  },
  {
   "cell_type": "code",
   "execution_count": null,
   "id": "1e1fc7e2-8d86-4ef3-bd77-866b68d6dc48",
   "metadata": {},
   "outputs": [],
   "source": []
  }
 ],
 "metadata": {
  "kernelspec": {
   "display_name": "dev",
   "language": "python",
   "name": "dev"
  },
  "language_info": {
   "codemirror_mode": {
    "name": "ipython",
    "version": 3
   },
   "file_extension": ".py",
   "mimetype": "text/x-python",
   "name": "python",
   "nbconvert_exporter": "python",
   "pygments_lexer": "ipython3",
   "version": "3.10.4"
  }
 },
 "nbformat": 4,
 "nbformat_minor": 5
}
