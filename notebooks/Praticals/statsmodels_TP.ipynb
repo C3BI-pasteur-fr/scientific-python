{
 "cells": [
  {
   "cell_type": "code",
   "execution_count": 1,
   "id": "4e16caf7",
   "metadata": {},
   "outputs": [],
   "source": [
    "import numpy as np\n",
    "import pandas as pd\n",
    "import seaborn as sns\n",
    "from scipy import stats\n",
    "import statsmodels.api as sm\n",
    "import statsmodels.formula.api as smf\n",
    "from statsmodels.stats import diagnostic\n",
    "from statsmodels.stats.multitest import multipletests\n",
    "from statsmodels.stats.outliers_influence import OLSInfluence"
   ]
  },
  {
   "cell_type": "markdown",
   "id": "4f4198c3",
   "metadata": {},
   "source": [
    "# Toy dataset for ANOVAs and planned comparisons"
   ]
  },
  {
   "cell_type": "markdown",
   "id": "4b5a7dba",
   "metadata": {},
   "source": [
    "## Q\n",
    "\n",
    "Load the `../data/wheat.txt` toy dataset [[1]](https://campus.murraystate.edu/academic/faculty/cmecklin/STA565/wheat.txt) with the adequate separator."
   ]
  },
  {
   "cell_type": "markdown",
   "id": "8e90dac4",
   "metadata": {
    "heading_collapsed": true
   },
   "source": [
    "## A"
   ]
  },
  {
   "cell_type": "code",
   "execution_count": null,
   "id": "5b4a7e26",
   "metadata": {
    "hidden": true
   },
   "outputs": [],
   "source": []
  },
  {
   "cell_type": "markdown",
   "id": "5d17c0ff",
   "metadata": {},
   "source": [
    "## Q\n",
    "\n",
    "Perform a one-way ANOVA using a Wilkinson formula to specify a linear model of response variable `yield` with `variety` as independent variable. Print the summary tables and, if necessary, an ANOVA table."
   ]
  },
  {
   "cell_type": "markdown",
   "id": "ca353d75",
   "metadata": {
    "heading_collapsed": true
   },
   "source": [
    "## A"
   ]
  },
  {
   "cell_type": "code",
   "execution_count": null,
   "id": "7af3849e",
   "metadata": {
    "hidden": true
   },
   "outputs": [],
   "source": []
  },
  {
   "cell_type": "markdown",
   "id": "f024bed7",
   "metadata": {},
   "source": [
    "## Q\n",
    "\n",
    "Perform a two-way ANOVA of `yield` using `variety` and `location` as categorical variables. Can we introduce an interaction term?"
   ]
  },
  {
   "cell_type": "markdown",
   "id": "6b946a85",
   "metadata": {
    "heading_collapsed": true
   },
   "source": [
    "## A"
   ]
  },
  {
   "cell_type": "code",
   "execution_count": null,
   "id": "b478ee2e",
   "metadata": {
    "hidden": true
   },
   "outputs": [],
   "source": []
  },
  {
   "cell_type": "markdown",
   "id": "479601d6",
   "metadata": {
    "heading_collapsed": true
   },
   "source": [
    "## Q\n",
    "\n",
    "`variety` now appears to have a significant effect. Run pairwise *t* tests to determine which varieties exhibit different yields, with Sidak-Holm correction for multiple comparisons."
   ]
  },
  {
   "cell_type": "markdown",
   "id": "8caafefb",
   "metadata": {
    "heading_collapsed": true
   },
   "source": [
    "## A"
   ]
  },
  {
   "cell_type": "code",
   "execution_count": null,
   "id": "66bf1fec",
   "metadata": {
    "hidden": true
   },
   "outputs": [],
   "source": []
  },
  {
   "cell_type": "markdown",
   "id": "1f05bf78-6108-4c46-bda1-cec5d451ca48",
   "metadata": {},
   "source": [
    "## Q\n",
    "\n",
    "Fit a mixed-effect linear model treating factor `location` as a random effect."
   ]
  },
  {
   "cell_type": "markdown",
   "id": "77ccd5ef-b6ee-4028-bdc7-585f808a8d29",
   "metadata": {},
   "source": [
    "## A"
   ]
  },
  {
   "cell_type": "code",
   "execution_count": null,
   "id": "e3dd22f6-b4bb-46d3-b61a-0f96c0b42ed6",
   "metadata": {},
   "outputs": [],
   "source": []
  },
  {
   "cell_type": "markdown",
   "id": "39dbd8dd-91c1-4ccf-a0a5-46febad022f5",
   "metadata": {},
   "source": [
    "## Q\n",
    "\n",
    "Perform a Wald test to determine whether `variety` also exhibits a significant effect with this model."
   ]
  },
  {
   "cell_type": "markdown",
   "id": "a5eed031-9789-4d93-a092-661258439102",
   "metadata": {},
   "source": [
    "## A"
   ]
  },
  {
   "cell_type": "code",
   "execution_count": null,
   "id": "0b7b04bd-a961-4fda-8d21-4f4f0b40a15c",
   "metadata": {},
   "outputs": [],
   "source": []
  },
  {
   "cell_type": "markdown",
   "id": "caa21cf7-b76f-448a-bfff-26fbc905ad62",
   "metadata": {},
   "source": [
    "## Q\n",
    "\n",
    "Perform pairwise Wald tests for each pair of different varieties, and make a dataframe with a `pvalue` column and as many rows (10) as `X-Y` comparisons."
   ]
  },
  {
   "cell_type": "markdown",
   "id": "a0c24cb5-3723-467e-87e3-0635eb94c599",
   "metadata": {},
   "source": [
    "## A"
   ]
  },
  {
   "cell_type": "code",
   "execution_count": null,
   "id": "5118dc82-7e06-4981-acfa-3724262e70da",
   "metadata": {},
   "outputs": [],
   "source": []
  },
  {
   "cell_type": "markdown",
   "id": "1a11bcee-430b-4060-888b-9f6d330d024c",
   "metadata": {
    "hidden": true
   },
   "source": [
    "## Q\n",
    "\n",
    "Correct the p-values for multiple comparisons, and add a `corrected pvalue` column to the result dataframe."
   ]
  },
  {
   "cell_type": "code",
   "execution_count": null,
   "id": "5c35b139-8159-4c50-ac2b-70325f90e8a9",
   "metadata": {},
   "outputs": [],
   "source": []
  },
  {
   "cell_type": "markdown",
   "id": "051d5e9e-95de-40ab-b676-97982ab2d4f3",
   "metadata": {},
   "source": [
    "At least one difference now shows up as significant."
   ]
  },
  {
   "cell_type": "markdown",
   "id": "358dce7a",
   "metadata": {},
   "source": [
    "# Generalized linear models"
   ]
  },
  {
   "cell_type": "markdown",
   "id": "143dff65",
   "metadata": {},
   "source": [
    "## Q\n",
    "\n",
    "Load the `../data/titanic_tickets.csv` data file and look at it.\n",
    "\n",
    "Exclude the null-fare tickets."
   ]
  },
  {
   "cell_type": "markdown",
   "id": "9c8a8d0f",
   "metadata": {
    "heading_collapsed": true
   },
   "source": [
    "## A"
   ]
  },
  {
   "cell_type": "code",
   "execution_count": null,
   "id": "f06ebd84",
   "metadata": {
    "hidden": true
   },
   "outputs": [],
   "source": []
  },
  {
   "cell_type": "markdown",
   "id": "0e6efdb8",
   "metadata": {},
   "source": [
    "Meaning of some columns:\n",
    "* `Pclass`: 1 = first class, 2 = second class, 3 = third class\n",
    "* `Cabins`: number of cabins the ticket refers to\n",
    "* `Passengers`: number of passengers registered on the ticket\n",
    "* `SibSp`: maximum number of siblings or spouse\n",
    "* `Parch`: maximum number of parents or children\n",
    "* `Embarked`: C = Cherbourg (2nd port of embarkation), Q = Queenstown (3rd), S = Southampton (1st)\n",
    "* `Deck`: <img src=\"../images/titanic_decks.png\" style=\"height:600px\" />\n",
    "\n",
    "\n",
    "## Q\n",
    "\n",
    "Instead of the classical `Survived` variable, we will try to explain the variations in `Fare`.\n",
    "\n",
    "Let us first consider the first-class tickets only. In order not to loose many data, replace the missing deck information by an empty string (`''`).\n",
    "\n",
    "Fit a _standard_ linear model for `Fare` as response variable, using `Embarked`, `Deck`, `Cabins`, `Passengers` and `Children` as independent variables (no interaction), and print the summary tables."
   ]
  },
  {
   "cell_type": "markdown",
   "id": "ae10616e",
   "metadata": {
    "heading_collapsed": true
   },
   "source": [
    "## A"
   ]
  },
  {
   "cell_type": "code",
   "execution_count": null,
   "id": "6be244ef",
   "metadata": {
    "hidden": true
   },
   "outputs": [],
   "source": []
  },
  {
   "cell_type": "markdown",
   "id": "074c8e82",
   "metadata": {},
   "source": [
    "##\n",
    "\n",
    "If you used `ols`, you may notice several issues, including the non-normality of the residuals, with high skewness and kurtosis.\n",
    "\n",
    "If you defined all variables as categorical, you may also be warned about multicollinearity. Let us ignore these warnings for now.\n",
    "\n",
    "## Q\n",
    "\n",
    "Print the residuals as a function of the predicted values."
   ]
  },
  {
   "cell_type": "markdown",
   "id": "aad150f8",
   "metadata": {
    "heading_collapsed": true
   },
   "source": [
    "## A"
   ]
  },
  {
   "cell_type": "code",
   "execution_count": null,
   "id": "8571c87e",
   "metadata": {
    "hidden": true
   },
   "outputs": [],
   "source": []
  },
  {
   "cell_type": "markdown",
   "id": "5c6150f9",
   "metadata": {},
   "source": [
    "## Q\n",
    "\n",
    "We have a clear case of heteroscedasticity, as could be expected from some statistics in the summary tables.\n",
    "\n",
    "Before we move to a generalized linear model, let us try to improve the current model removing outliers.\n",
    "Plot the Cook's distance for each ticket. Remove the outlier(s) and fit the model again."
   ]
  },
  {
   "cell_type": "markdown",
   "id": "57c49da8",
   "metadata": {
    "heading_collapsed": true
   },
   "source": [
    "## A"
   ]
  },
  {
   "cell_type": "code",
   "execution_count": null,
   "id": "c2b97f70",
   "metadata": {
    "hidden": true
   },
   "outputs": [],
   "source": []
  },
  {
   "cell_type": "markdown",
   "id": "94cb7b0a",
   "metadata": {},
   "source": [
    "## Q\n",
    "\n",
    "Plot the density of `Fare` for first-class passengers and overlay a fitted distribution function from the exponential family. `scipy.stats.invgauss` and `scipy.stats.gamma` may be useful here."
   ]
  },
  {
   "cell_type": "markdown",
   "id": "9b31306d",
   "metadata": {
    "heading_collapsed": true
   },
   "source": [
    "## A"
   ]
  },
  {
   "cell_type": "code",
   "execution_count": null,
   "id": "d2ec65b5",
   "metadata": {
    "hidden": true
   },
   "outputs": [],
   "source": []
  },
  {
   "cell_type": "markdown",
   "id": "6e8d2e6b",
   "metadata": {},
   "source": [
    "## Q\n",
    "\n",
    "Fit a generalized linear model using an inverse Gaussian distribution of `Fare` using `Embarked`, `Deck`, `Cabins`, `Passengers` and `Children` for the linear predictor.\n",
    "\n",
    "Compare fares between decks, with corrections for multiple comparisons."
   ]
  },
  {
   "cell_type": "markdown",
   "id": "0f7a8edc",
   "metadata": {
    "heading_collapsed": true
   },
   "source": [
    "## A"
   ]
  },
  {
   "cell_type": "code",
   "execution_count": null,
   "id": "e58c6f4c",
   "metadata": {
    "hidden": true
   },
   "outputs": [],
   "source": []
  },
  {
   "cell_type": "markdown",
   "id": "a7c01894",
   "metadata": {},
   "source": [
    "## Q\n",
    "\n",
    "Group the decks so that *A*, *B* and *C* are labelled *ABC*, and *D* and *E* are labelled *DE*. Check whether the simplified model unveils any difference of fare between the grouped decks."
   ]
  },
  {
   "cell_type": "markdown",
   "id": "e72dd608",
   "metadata": {
    "heading_collapsed": true
   },
   "source": [
    "## A"
   ]
  },
  {
   "cell_type": "code",
   "execution_count": null,
   "id": "7e1e4b40",
   "metadata": {
    "hidden": true
   },
   "outputs": [],
   "source": []
  },
  {
   "cell_type": "markdown",
   "id": "36556c9e",
   "metadata": {},
   "source": [
    "## Q\n",
    "\n",
    "Programmatically search for a model with interaction terms that minimize the AIC.\n",
    "\n",
    "You may for example look for the best model among those with a single `A * B` interaction term, and then repeat the procedure with the `A * B` term as a replacement for both `A` and `B`."
   ]
  },
  {
   "cell_type": "markdown",
   "id": "b7706819",
   "metadata": {
    "heading_collapsed": true
   },
   "source": [
    "## A"
   ]
  },
  {
   "cell_type": "code",
   "execution_count": null,
   "id": "63983757",
   "metadata": {
    "hidden": true
   },
   "outputs": [],
   "source": []
  },
  {
   "cell_type": "markdown",
   "id": "89bfc75b",
   "metadata": {},
   "source": [
    "## Q\n",
    "\n",
    "Draw a [stripplot](https://seaborn.pydata.org/generated/seaborn.stripplot.html) of the AIC for the various models explored.\n",
    "\n",
    "Example:\n",
    "\n",
    "<img src=\"../images/stripplot.png\" />"
   ]
  },
  {
   "cell_type": "markdown",
   "id": "e596ffca",
   "metadata": {
    "heading_collapsed": true
   },
   "source": [
    "## A"
   ]
  },
  {
   "cell_type": "code",
   "execution_count": null,
   "id": "70bda649",
   "metadata": {
    "hidden": true
   },
   "outputs": [],
   "source": []
  }
 ],
 "metadata": {
  "kernelspec": {
   "display_name": "Python 3 (ipykernel)",
   "language": "python",
   "name": "python3"
  },
  "language_info": {
   "codemirror_mode": {
    "name": "ipython",
    "version": 3
   },
   "file_extension": ".py",
   "mimetype": "text/x-python",
   "name": "python",
   "nbconvert_exporter": "python",
   "pygments_lexer": "ipython3",
   "version": "3.12.7"
  },
  "toc": {
   "base_numbering": 1,
   "nav_menu": {},
   "number_sections": false,
   "sideBar": false,
   "skip_h1_title": false,
   "title_cell": "Table of Contents",
   "title_sidebar": "Contents",
   "toc_cell": false,
   "toc_position": {},
   "toc_section_display": false,
   "toc_window_display": false
  }
 },
 "nbformat": 4,
 "nbformat_minor": 5
}
