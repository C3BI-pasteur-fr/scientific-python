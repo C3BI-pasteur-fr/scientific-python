{
 "cells": [
  {
   "cell_type": "markdown",
   "id": "functional-attraction",
   "metadata": {},
   "source": [
    "# <center><b>Hands-on</b></center>\n",
    "\n",
    "<div style=\"text-align:center\">\n",
    "    <img src=\"images/jupyter.png\" width=\"600px\">\n",
    "    <div>\n",
    "       Bertrand Néron, François Laurent, Etienne Kornobis\n",
    "       <br />\n",
    "       <a src=\" https://research.pasteur.fr/en/team/bioinformatics-and-biostatistics-hub/\">Bioinformatics and Biostatistics HUB</a>\n",
    "       <br />\n",
    "       © Institut Pasteur, 2021\n",
    "    </div>    \n",
    "</div>"
   ]
  },
  {
   "cell_type": "markdown",
   "id": "advance-vaccine",
   "metadata": {},
   "source": [
    "# Introduction to JupyterLab\n",
    "\n",
    "## Aim of this section\n",
    "\n",
    "- Whet your appetite on notebook technologies.\n",
    "- Discover, get comfortable with Jupyterlab and create notebooks.\n",
    "\n",
    "## Install\n",
    "\n",
    "After creating a folder for the course, use `venv` to create a virtual environment named for example `sp_env`:\n",
    "\n",
    "```shell\n",
    "python3 -m venv sp_env\n",
    "```\n",
    "\n",
    "This will create a folder `sp_env` in your working directory. The corresponding virtual environment can be activated with:\n",
    "\n",
    "```shell\n",
    "source sp_env/bin/activate\n",
    "```\n",
    "\n",
    "You are now in a virtual environment. You can install librairies in it using pip and these will be installed specifically in this environment (and not globally on your machine). For more on virtual environment, [see the documentation](https://docs.python.org/3/library/venv.html).\n",
    "\n",
    "Once the virtual environment activated, we can start composing this environment, now with jupyterlab\n",
    "\n",
    "```shell\n",
    "pip install jupyterlab\n",
    "```\n",
    "\n",
    "You can now start the jupyter server as follows:\n",
    "\n",
    "```shell\n",
    "jupyter lab\n",
    "```\n",
    "\n",
    "And open the specified URL in your internet browser (Chrome or Firefox are\n",
    "better supported). By default, the address will be http://localhost:8888 and you will be automatically redirected to this tab.\n",
    "\n",
    "Once all your work is done, you can exit the virtual environment with:\n",
    "\n",
    "```shell\n",
    "deactivate\n",
    "```\n",
    "\n",
    "You will need to reactivate it (with `source sp_env/bin/activate`) in order to use it again.\n",
    "\n",
    "For more exhaustive guidelines on JupyterLab installation, you can see [the official Jupyter documentation](https://jupyter.org/install).\n",
    "\n",
    "## Basic functioning of Jupyter notebooks\n",
    "\n",
    "### Using the interface\n",
    "\n",
    "Jupyter notebooks are organized in **cells** which are executed\n",
    "separately. Therefore the code execution is not necessarily sequential as\n",
    "in classical scripts. Cell execution order can be witnessed in the value in\n",
    "between squared brackets `[]` on the left of the corresponding cell. **You\n",
    "should be careful with cell execution order in jupyter**.\n",
    "\n",
    "Jupyter cells can be of various **types**:\n",
    "\n",
    "  - **Code**: actual code blocks of your notebooks (which will be interpreted by a kernel).\n",
    "  - **Markdown**: To integrate explanations within your notebooks.\n",
    "  - **Raw**: Raw it is...\n",
    "  - And more...\n",
    "\n",
    "Jupyter use **2 editing modes**:\n",
    "\n",
    "- **Command mode** (``Esc``): To organize cells and browse the notebook.\n",
    "\n",
    "  Using keystrokes, you can:\n",
    "\n",
    "| key | effect |\n",
    "|-|-|\n",
    "| ↑, ↓ | Move up and down in cells |\n",
    "| a | Add cell above |\n",
    "| b | Add cell below |\n",
    "| dd | Delete cell |\n",
    "\n",
    "  You can as well use drag and drop with your mouse to move cells or groups of cells around.\n",
    "  Cell type can be changed in command mode using the graphical interface or shortcuts:\n",
    "\n",
    "|key|Switch cell to this mode|\n",
    "|-|-|\n",
    "|y|Code|\n",
    "|m|Markdown|\n",
    "|r|Raw|\n",
    "\n",
    "- **Edit mode** (`Enter/Return`): To edit the active cell. Then to execute the cell you have 2 options:\n",
    "\n",
    "|keys|effect|\n",
    "|-|-|\n",
    "|`Ctrl + Enter`|Execute current cell|\n",
    "|`Shift + Enter`|Execute current cell and move to the next cell|\n",
    "\n",
    "### Markdown cells\n",
    "\n",
    "Markdown is a lightweight markup language with plain text formatting syntax. These markdown cells are typically the place where you will add descriptions and explanations regarding the analysis performed in the notebook. To help you remember the markdown syntax and format your markdown cells, here is a [cheatsheet](https://www.markdownguide.org/cheat-sheet). In these cells, you can add as well html code.\n",
    "\n",
    "\n",
    "### Code cells and kernels\n",
    "\n",
    "Code cells are interpreted using a specified **kernel**. Kernels are programming language specific processes. They run independently and interact with Jupyter.\n",
    "\n",
    "You can choose which kernel to use at notebook creation or later on using the menu or the widget at top right side of the notebook (where you see the currently running kernel). Many other kernels are available for different languages and if you use conda, you can as well switch to environment specific kernels. Here is [a list of available kernels for Jupyter](https://github.com/jupyter/jupyter/wiki/Jupyter-kernels).\n",
    "\n",
    "### Jupyter magic commands\n",
    "\n",
    "Jupyter provides some functionalities which can be added at the beginning of a code cell called **magic commands**. Here is [an exhaustive list of Jupyter magic commands](https://ipython.readthedocs.io/en/stable/interactive/magics.html).\n",
    "\n",
    "Here are some example of useful magic commands:\n",
    "\n",
    "- Run cell with bash in subprocess:"
   ]
  },
  {
   "cell_type": "code",
   "execution_count": 13,
   "id": "respective-prize",
   "metadata": {},
   "outputs": [
    {
     "name": "stdout",
     "output_type": "stream",
     "text": [
      "This is a bash script\n",
      "1\n",
      "2\n",
      "3\n",
      "Over and out\n"
     ]
    }
   ],
   "source": [
    "%%bash\n",
    "\n",
    "echo \"This is a bash script\"\n",
    "for i in {1..3}; do echo $i; done\n",
    "echo \"Over and out\""
   ]
  },
  {
   "cell_type": "markdown",
   "id": "pharmaceutical-college",
   "metadata": {},
   "source": [
    "- The exclamation mark character ``!`` can be used as well to execute the following line in a bash subprocess. For example:"
   ]
  },
  {
   "cell_type": "code",
   "execution_count": 21,
   "id": "drawn-soldier",
   "metadata": {},
   "outputs": [
    {
     "name": "stdout",
     "output_type": "stream",
     "text": [
      "This is executed in a bash subprocess\n"
     ]
    }
   ],
   "source": [
    "! echo \"This is executed in a bash subprocess\""
   ]
  },
  {
   "cell_type": "markdown",
   "id": "natural-submission",
   "metadata": {},
   "source": [
    "- `%%timeit` can be used to check for execution time of a cell:"
   ]
  },
  {
   "cell_type": "code",
   "execution_count": 2,
   "id": "under-embassy",
   "metadata": {},
   "outputs": [
    {
     "name": "stdout",
     "output_type": "stream",
     "text": [
      "7.9 µs ± 41.5 ns per loop (mean ± std. dev. of 7 runs, 100,000 loops each)\n"
     ]
    }
   ],
   "source": [
    "%%timeit\n",
    "\n",
    "for _ in range(1000): True"
   ]
  },
  {
   "cell_type": "markdown",
   "id": "constant-driving",
   "metadata": {},
   "source": [
    "- Load more extension for the notebook, for example `autoreload` is useful extension to automatically reload a module imported in a Jupyter notebook if the module has changed locally:"
   ]
  },
  {
   "cell_type": "code",
   "execution_count": 22,
   "id": "waiting-credit",
   "metadata": {},
   "outputs": [
    {
     "name": "stdout",
     "output_type": "stream",
     "text": [
      "The autoreload extension is already loaded. To reload it, use:\n",
      "  %reload_ext autoreload\n"
     ]
    }
   ],
   "source": [
    "%load_ext autoreload\n",
    "%autoreload 2"
   ]
  },
  {
   "cell_type": "markdown",
   "id": "laden-seeker",
   "metadata": {},
   "source": [
    "# Exercices"
   ]
  },
  {
   "cell_type": "markdown",
   "id": "fitted-insert",
   "metadata": {},
   "source": [
    "The aim here is to get comfortable in Jupyterlab.\n",
    "\n",
    "## Exercise\n",
    "\n",
    "- Start a Jupyterlab server.\n",
    "- Create a new notebook with a python3 kernel.\n",
    "- Create, delete and move cells around using shortcuts and graphical interface.\n",
    "\n",
    "Reminder: A kernel provides a programming language support in Jupyter. Kernels are available for Python, R, Julia, and many more."
   ]
  },
  {
   "cell_type": "code",
   "execution_count": null,
   "id": "international-thomson",
   "metadata": {},
   "outputs": [],
   "source": []
  },
  {
   "cell_type": "markdown",
   "id": "olympic-shoot",
   "metadata": {},
   "source": [
    "## Exercise\n",
    "\n",
    "In the notebook, create a code cell with simple python code inside with a\n",
    "``print`` statement, execute the cell and witness its output.\n",
    "\n",
    "For example::\n",
    "\n",
    "  print(\"Hello World !\")"
   ]
  },
  {
   "cell_type": "code",
   "execution_count": null,
   "id": "creative-conditioning",
   "metadata": {},
   "outputs": [],
   "source": []
  },
  {
   "cell_type": "markdown",
   "id": "bibliographic-concern",
   "metadata": {},
   "source": [
    "## Exercise\n",
    "\n",
    "In the notebook, create a markdown cell with:\n",
    "\n",
    "- A Header\n",
    "- Bold text\n",
    "- A list\n",
    "- A link to the jupyter documentation ie https://jupyter.org/documentation\n",
    "\n",
    "Render (execute) the cell to display the cell with a pretty formatting."
   ]
  },
  {
   "cell_type": "code",
   "execution_count": null,
   "id": "ruled-bottle",
   "metadata": {},
   "outputs": [],
   "source": []
  },
  {
   "cell_type": "markdown",
   "id": "verbal-field",
   "metadata": {},
   "source": [
    "## Exercise\n",
    "\n",
    "Grasp the concept of cell execution by creating three cells:\n",
    "\n",
    "- 1 cell defining a variable with a simple value. (e.g. `myvar=12`)\n",
    "- 1 cell defining the same variable with a different value from the previous cell (e.g. `myvar=42`)\n",
    "- 1 cell printing the value of the variable (`print(myvar)`).\n",
    "\n",
    "Witness how execution order of your cells can affect the result of the cell printing the output. This is **potentially dangerous** when using notebooks and has to be kept in mind when coded and used."
   ]
  },
  {
   "cell_type": "code",
   "execution_count": null,
   "id": "identified-calculation",
   "metadata": {},
   "outputs": [],
   "source": []
  },
  {
   "cell_type": "markdown",
   "id": "unauthorized-carter",
   "metadata": {},
   "source": [
    "## Exercise\n",
    "\n",
    "Using a Jupyter magic command, create a cell listing the files in the current directory using a bash subprocess."
   ]
  },
  {
   "cell_type": "code",
   "execution_count": null,
   "id": "abandoned-shareware",
   "metadata": {},
   "outputs": [],
   "source": []
  },
  {
   "cell_type": "markdown",
   "id": "molecular-census",
   "metadata": {},
   "source": [
    "## Exercise\n",
    "\n",
    "Using the graphical interface, export your notebook as html file."
   ]
  },
  {
   "cell_type": "code",
   "execution_count": null,
   "id": "overall-assurance",
   "metadata": {},
   "outputs": [],
   "source": []
  },
  {
   "cell_type": "markdown",
   "id": "static-array",
   "metadata": {},
   "source": [
    "# More documentation\n",
    "\n",
    "JupyterLab: https://jupyterlab.readthedocs.io/en/latest/\n",
    "\n",
    "## A note about Extensions\n",
    "\n",
    "JupyterLab is highly extensible. A lot of extensions are developed by the Jupyter community and can allow you to tune your Jupyter configuration. Here is a couple of examples:\n",
    "\n",
    "- Visualize and fold your code according to the table of content of your notebook: toc\n",
    "- Import/Export your notebook as simple script/markdown files: jupytext.\n",
    "- Deal with your conda environments in JupyterLab: nbconda\n",
    "\n",
    "You can discover and install much more extensions using the Extension Manager in the JupyterLab interface."
   ]
  },
  {
   "cell_type": "code",
   "execution_count": null,
   "id": "2f5122ee-9eca-4716-b4f1-8f9228486742",
   "metadata": {},
   "outputs": [],
   "source": []
  }
 ],
 "metadata": {
  "kernelspec": {
   "display_name": "Python [conda env:dev]",
   "language": "python",
   "name": "conda-env-dev-py"
  },
  "language_info": {
   "codemirror_mode": {
    "name": "ipython",
    "version": 3
   },
   "file_extension": ".py",
   "mimetype": "text/x-python",
   "name": "python",
   "nbconvert_exporter": "python",
   "pygments_lexer": "ipython3",
   "version": "3.10.4"
  }
 },
 "nbformat": 4,
 "nbformat_minor": 5
}
