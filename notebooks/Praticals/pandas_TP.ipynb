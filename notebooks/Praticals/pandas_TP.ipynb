{
 "cells": [
  {
   "cell_type": "markdown",
   "id": "separated-samba",
   "metadata": {},
   "source": [
    "# <center><b>Hands-on</b></center>\n",
    "\n",
    "<img src=\"./images/pandas_logo.svg\">\n",
    "<div style=\"text-align:center\">\n",
    "    Bertrand Néron, François Laurent, Etienne Kornobis\n",
    "    <br />\n",
    "    <a src=\" https://research.pasteur.fr/en/team/bioinformatics-and-biostatistics-hub/\">Bioinformatics and Biostatistiqucs HUB</a>\n",
    "    <br />\n",
    "    © Institut Pasteur, 2021\n",
    "</div>"
   ]
  },
  {
   "cell_type": "markdown",
   "id": "hazardous-berry",
   "metadata": {},
   "source": [
    "# Exploring Blast results"
   ]
  },
  {
   "cell_type": "markdown",
   "id": "union-charleston",
   "metadata": {},
   "source": [
    "- Import the file data/blast.txt into a pandas dataframe variable (named `blast_res`). Verify that its type is a pandas\n",
    "dataframe and display the dataframe in jupyterlab.\n",
    "\n",
    "NB: The column names for this blast format are: \"qseqid\", \"sseqid\", \"pident\", \"length\", \"mismatch\", \"gapopen\", \"qstart\", \"qend\", \"sstart\", \"send\", \"evalue\", \"bitscore\"\n",
    "You going to need to pass an extra argument (`names`) to specify the names of the columns."
   ]
  },
  {
   "cell_type": "code",
   "execution_count": null,
   "id": "assured-telescope",
   "metadata": {},
   "outputs": [],
   "source": []
  },
  {
   "cell_type": "markdown",
   "id": "parallel-algorithm",
   "metadata": {},
   "source": [
    "Explore ``blast_res`` dataframe:\n",
    "\n",
    "- Display the 5 first lines of the dataframe.\n",
    "- Display the 8 last lines of the dataframe.\n",
    "- Display a overall statistical description of the dataframe.\n",
    "- Display the dimensions of the dataframe."
   ]
  },
  {
   "cell_type": "code",
   "execution_count": null,
   "id": "nuclear-carrier",
   "metadata": {},
   "outputs": [],
   "source": []
  },
  {
   "cell_type": "markdown",
   "id": "still-scheme",
   "metadata": {},
   "source": [
    "- Extract the 3rd line from the ``blast_res`` dataframe. Which type of data structure is returned by this extraction ?"
   ]
  },
  {
   "cell_type": "code",
   "execution_count": null,
   "id": "northern-worse",
   "metadata": {},
   "outputs": [],
   "source": []
  },
  {
   "cell_type": "markdown",
   "id": "f80cc361-62ca-444e-a36a-810aebb4a7a8",
   "metadata": {},
   "source": [
    "- Using iloc, extract the first 5 lines from the ``blast_res`` dataframe. Which type of data structure is returned by this extraction ?"
   ]
  },
  {
   "cell_type": "code",
   "execution_count": null,
   "id": "ca60d822-08ae-4456-a424-3fec2a4bde9c",
   "metadata": {},
   "outputs": [],
   "source": []
  },
  {
   "cell_type": "markdown",
   "id": "persistent-beijing",
   "metadata": {},
   "source": [
    "- Extract the *sseqid* column from the ``blast_res`` dataframe. "
   ]
  },
  {
   "cell_type": "code",
   "execution_count": null,
   "id": "directed-brazilian",
   "metadata": {},
   "outputs": [],
   "source": []
  },
  {
   "cell_type": "markdown",
   "id": "c0c9dbb9-936a-498d-a41a-83f8cd259f34",
   "metadata": {},
   "source": [
    "- Select only the \"qseqid\", \"sseqid\", \"pident\", \"evalue\" and \"bitscore\" columns of the Dataframe: "
   ]
  },
  {
   "cell_type": "code",
   "execution_count": null,
   "id": "5293eb0b-8d96-48e1-bf3f-8a37a7502d9c",
   "metadata": {},
   "outputs": [],
   "source": []
  },
  {
   "cell_type": "markdown",
   "id": "6f7ee8ca-ff29-4a36-941c-f000ae35edc4",
   "metadata": {},
   "source": [
    "- Feel free to play around with DataFrame slicing (selecting different combinations of lines and columns) to get comfortable with the syntax. "
   ]
  },
  {
   "cell_type": "code",
   "execution_count": null,
   "id": "dda0eb84-c727-40bf-a9b9-fb16d224fead",
   "metadata": {},
   "outputs": [],
   "source": []
  },
  {
   "cell_type": "markdown",
   "id": "generic-hearts",
   "metadata": {},
   "source": [
    "- Get the minimum and maximum value of a the *evalue* column."
   ]
  },
  {
   "cell_type": "code",
   "execution_count": null,
   "id": "prescription-appraisal",
   "metadata": {},
   "outputs": [],
   "source": []
  },
  {
   "cell_type": "markdown",
   "id": "naughty-brook",
   "metadata": {},
   "source": [
    "- Get the median and the mean of the *bitscore* column."
   ]
  },
  {
   "cell_type": "code",
   "execution_count": null,
   "id": "extended-chicken",
   "metadata": {},
   "outputs": [],
   "source": []
  },
  {
   "cell_type": "markdown",
   "id": "contrary-allah",
   "metadata": {},
   "source": [
    "- Filter in all hits with a percentage of identity (*pident*) superior to 75%."
   ]
  },
  {
   "cell_type": "code",
   "execution_count": null,
   "id": "liked-shell",
   "metadata": {},
   "outputs": [],
   "source": []
  },
  {
   "cell_type": "markdown",
   "id": "neutral-experience",
   "metadata": {},
   "source": [
    "- Based on the bitscore alone, extract only the best hit(s) (i.e. the highest(s) bitscore(s))."
   ]
  },
  {
   "cell_type": "code",
   "execution_count": null,
   "id": "three-period",
   "metadata": {},
   "outputs": [],
   "source": []
  },
  {
   "cell_type": "markdown",
   "id": "blank-digest",
   "metadata": {},
   "source": [
    "- Filter in all hits which are corresponding to human hits in the database (*sseqid*)."
   ]
  },
  {
   "cell_type": "code",
   "execution_count": null,
   "id": "empirical-manhattan",
   "metadata": {},
   "outputs": [],
   "source": []
  },
  {
   "cell_type": "markdown",
   "id": "graphic-corruption",
   "metadata": {},
   "source": [
    "- Filter in all hits with a percentage of identity superior to 75% **AND** and is NOT a HUMAN hit (sseqid does not contain \"HUMAN\"). (Hint: To negate a boolean in a query you can use \"~\" in front of it)."
   ]
  },
  {
   "cell_type": "code",
   "execution_count": null,
   "id": "numerical-spread",
   "metadata": {},
   "outputs": [],
   "source": []
  },
  {
   "cell_type": "markdown",
   "id": "boolean-verse",
   "metadata": {},
   "source": [
    "- Plot a histogram of the bitscores. "
   ]
  },
  {
   "cell_type": "code",
   "execution_count": null,
   "id": "genetic-navigation",
   "metadata": {},
   "outputs": [],
   "source": []
  },
  {
   "cell_type": "markdown",
   "id": "destroyed-velvet",
   "metadata": {},
   "source": [
    "- Plot a barplot of the number of hits per species (species are considered the last code after the \"_\" in the sseqid column). You might to have to look at the documentation of [str.split method](https://pandas.pydata.org/pandas-docs/stable/reference/api/pandas.Series.str.split.html) for this one."
   ]
  },
  {
   "cell_type": "code",
   "execution_count": null,
   "id": "composite-twelve",
   "metadata": {},
   "outputs": [],
   "source": []
  },
  {
   "cell_type": "markdown",
   "id": "typical-japan",
   "metadata": {},
   "source": [
    "# Extra exercise"
   ]
  },
  {
   "cell_type": "markdown",
   "id": "electronic-ferry",
   "metadata": {},
   "source": [
    "- Read the 'data/city_temperature.csv'\n",
    "\n",
    "- Force the City datatype to string by passing `dtype={'City': str}` as argument to the function to read the file.\n",
    "Don't worry for the warning, it is due to State wich contains Nan for non US contry, but we do not use these data."
   ]
  },
  {
   "cell_type": "code",
   "execution_count": null,
   "id": "verified-acceptance",
   "metadata": {},
   "outputs": [],
   "source": []
  },
  {
   "cell_type": "code",
   "execution_count": null,
   "id": "extreme-radio",
   "metadata": {},
   "outputs": [],
   "source": []
  },
  {
   "cell_type": "markdown",
   "id": "phantom-inclusion",
   "metadata": {},
   "source": [
    "We will work only on the Europe Region, so create a datafrane named europe with only these data.\n",
    "Let's explore it a little bit\n",
    "* how many data?\n",
    "* which columns? \n",
    "* index? "
   ]
  },
  {
   "cell_type": "code",
   "execution_count": null,
   "id": "saving-labor",
   "metadata": {},
   "outputs": [],
   "source": []
  },
  {
   "cell_type": "code",
   "execution_count": null,
   "id": "pleased-collaboration",
   "metadata": {},
   "outputs": [],
   "source": []
  },
  {
   "cell_type": "code",
   "execution_count": null,
   "id": "tracked-addition",
   "metadata": {},
   "outputs": [],
   "source": []
  },
  {
   "cell_type": "markdown",
   "id": "manufactured-hierarchy",
   "metadata": {},
   "source": [
    "- which countries are in Europe ?"
   ]
  },
  {
   "cell_type": "code",
   "execution_count": null,
   "id": "sharing-lawsuit",
   "metadata": {},
   "outputs": [],
   "source": []
  },
  {
   "cell_type": "markdown",
   "id": "adopted-eligibility",
   "metadata": {},
   "source": [
    "- Remove the columns 'Region' and 'State' from the data"
   ]
  },
  {
   "cell_type": "code",
   "execution_count": null,
   "id": "korean-nudist",
   "metadata": {},
   "outputs": [],
   "source": []
  },
  {
   "cell_type": "markdown",
   "id": "creative-apparatus",
   "metadata": {},
   "source": [
    "- From the Europe dataframe create a new dataset containing countries: 'France', 'Spain', 'Italy'"
   ]
  },
  {
   "cell_type": "code",
   "execution_count": null,
   "id": "solar-nursery",
   "metadata": {},
   "outputs": [],
   "source": []
  },
  {
   "cell_type": "markdown",
   "id": "written-spank",
   "metadata": {},
   "source": [
    "- Group the data on 'City' and 'Year' compute the mean of each group and keep only the 'AvgTemperature' column."
   ]
  },
  {
   "cell_type": "code",
   "execution_count": null,
   "id": "effective-declaration",
   "metadata": {},
   "outputs": [],
   "source": []
  },
  {
   "cell_type": "markdown",
   "id": "stretch-diesel",
   "metadata": {},
   "source": [
    "- Do the same but compute the standard deviation"
   ]
  },
  {
   "cell_type": "code",
   "execution_count": null,
   "id": "occupational-script",
   "metadata": {},
   "outputs": [],
   "source": []
  },
  {
   "cell_type": "markdown",
   "id": "liked-mobility",
   "metadata": {},
   "source": [
    "* reset the index for the mean data and std data\n",
    "* rename the column AvgTemperature to Tmp on the mean data\n",
    "* rename the column AvgTemperature to std on the std data"
   ]
  },
  {
   "cell_type": "code",
   "execution_count": null,
   "id": "fewer-banner",
   "metadata": {},
   "outputs": [],
   "source": []
  },
  {
   "cell_type": "markdown",
   "id": "continuing-noise",
   "metadata": {},
   "source": [
    "- merge the two tables data_mean and data_std"
   ]
  },
  {
   "cell_type": "code",
   "execution_count": null,
   "id": "noticed-southwest",
   "metadata": {},
   "outputs": [],
   "source": []
  },
  {
   "cell_type": "markdown",
   "id": "strong-employee",
   "metadata": {},
   "source": [
    "- save the data in a file"
   ]
  },
  {
   "cell_type": "code",
   "execution_count": null,
   "id": "involved-weekly",
   "metadata": {},
   "outputs": [],
   "source": []
  },
  {
   "cell_type": "markdown",
   "id": "young-camping",
   "metadata": {},
   "source": [
    "# Teasing\n",
    "\n",
    "a quick data plotting. we will improve it in matplotlib course"
   ]
  },
  {
   "cell_type": "code",
   "execution_count": null,
   "id": "japanese-pierre",
   "metadata": {},
   "outputs": [],
   "source": [
    "for city, df in clean_data.groupby('City'):\n",
    "    df.plot('Year', 'Tmp', label=city)"
   ]
  },
  {
   "cell_type": "code",
   "execution_count": null,
   "id": "tough-trash",
   "metadata": {},
   "outputs": [],
   "source": []
  }
 ],
 "metadata": {
  "kernelspec": {
   "display_name": "Python 3 (ipykernel)",
   "language": "python",
   "name": "python3"
  },
  "language_info": {
   "codemirror_mode": {
    "name": "ipython",
    "version": 3
   },
   "file_extension": ".py",
   "mimetype": "text/x-python",
   "name": "python",
   "nbconvert_exporter": "python",
   "pygments_lexer": "ipython3",
   "version": "3.10.4"
  }
 },
 "nbformat": 4,
 "nbformat_minor": 5
}
