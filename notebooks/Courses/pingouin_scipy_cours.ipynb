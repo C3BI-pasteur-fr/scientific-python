{
 "cells": [
  {
   "cell_type": "code",
   "execution_count": null,
   "id": "8ccafd3d",
   "metadata": {
    "tags": []
   },
   "outputs": [],
   "source": [
    "import sys\n",
    "!\"{sys.executable}\" -m pip install scipy ipywidgets\n",
    "import scipy_material"
   ]
  },
  {
   "cell_type": "markdown",
   "id": "6d2c6ebd",
   "metadata": {},
   "source": [
    "<h1 align='center'>Statistical tests with the Pingouin and SciPy libraries</h1>\n",
    "\n",
    "<div style='text-align:center'><img width=600 src='https://pingouin-stats.org/build/html/_images/logo_pingouin.png' /></div>\n",
    "<div style='text-align:center'><img width=300 src='https://docs.scipy.org/doc/scipy/_static/logo.svg' /></div>\n",
    "\n",
    "The [Pingouin](https://pingouin-stats.org/build/html/index.html) library features a selection of commonly-used statistical operations. The provided functions have verbose output and can be used independently of one another."
   ]
  },
  {
   "cell_type": "code",
   "execution_count": 2,
   "id": "1f8a7a30-48e3-4f5a-8836-3912b049b5bb",
   "metadata": {},
   "outputs": [],
   "source": [
    "import pingouin as pg"
   ]
  },
  {
   "cell_type": "markdown",
   "id": "b46252c6-5c09-40e2-890d-9abeccd4e7be",
   "metadata": {},
   "source": [
    "In contrast, [SciPy](https://docs.scipy.org/doc/scipy/reference/#api-definition) is a collection of mathematical tools aiming at diverse fields. It is the one of the oldest Python libraries. Its functionalities are split in several modules:"
   ]
  },
  {
   "cell_type": "code",
   "execution_count": 3,
   "id": "42342d74",
   "metadata": {},
   "outputs": [],
   "source": [
    "from scipy import (\n",
    "    cluster,     # Clustering algorithms\n",
    "    constants,   # Physical and mathematical constants\n",
    "    fftpack,     # Fast Fourier Transform routines\n",
    "    integrate,   # Integration and ordinary differential equation solvers\n",
    "    interpolate, # Interpolation and smoothing splines\n",
    "    io,          # Input and Output\n",
    "    linalg,      # Linear algebra\n",
    "    ndimage,     # N-dimensional image processing\n",
    "    odr,         # Orthogonal distance regression\n",
    "    optimize,    # Optimization and root-finding routines\n",
    "    signal,      # Signal processing\n",
    "    sparse,      # Sparse matrices and associated routines\n",
    "    spatial,     # Spatial data structures and algorithms\n",
    "    special,     # Special functions\n",
    "    stats,       # Statistical distributions and functions\n",
    ")"
   ]
  },
  {
   "cell_type": "markdown",
   "id": "4a37e843-892d-4bfd-93a2-46e94c2a45e8",
   "metadata": {},
   "source": [
    "We will make a brief overview of the `scipy.stats` module only, in particular basic functionalities that cannot be found in Pingouin."
   ]
  },
  {
   "cell_type": "markdown",
   "id": "0d715671-e4ad-4d4d-b60f-9397e2b80b90",
   "metadata": {
    "tags": []
   },
   "source": [
    "# Outline"
   ]
  },
  {
   "cell_type": "markdown",
   "id": "5162d7b2-625a-4699-922e-92c5c2bfa769",
   "metadata": {
    "tags": []
   },
   "source": [
    "Descriptive statistics are well covered by Pandas and the plotting libraries.\n",
    "This course focuses merely on statistical tests.\n",
    "\n",
    "* Distributions\n",
    "* Student $t$ tests\n",
    "    * compare a sample mean against the population mean\n",
    "    * compare means of two independent samples\n",
    "    * compare the means of paired samples\n",
    "* Analyses of variance\n",
    "    * compare more than two group means\n",
    "* Tests for other tests' assumptions\n",
    "    * normality tests\n",
    "    * homoscedasticity tests\n",
    "* $\\chi^2$ tests for categorical variables\n",
    "    * homogeneity and independence tests\n",
    "    * goodness-of-fit tests\n",
    "* Effect sizes"
   ]
  },
  {
   "cell_type": "markdown",
   "id": "6d15967d-ecf9-469a-a740-c7fe9cbf04d2",
   "metadata": {},
   "source": [
    "# Distributions"
   ]
  },
  {
   "cell_type": "markdown",
   "id": "164b1fe2-412d-48f8-a6f0-d2352a9d575a",
   "metadata": {},
   "source": [
    "For this section, the related utilities are provided by `scipy.stats`:"
   ]
  },
  {
   "cell_type": "code",
   "execution_count": 4,
   "id": "78db8576-5c83-4967-97b8-19dd4ff9b3b5",
   "metadata": {},
   "outputs": [],
   "source": [
    "import numpy as np\n",
    "from scipy import stats"
   ]
  },
  {
   "cell_type": "markdown",
   "id": "4c99b2f0-8832-40cb-a63e-d4abdef4f257",
   "metadata": {},
   "source": [
    "Reminder about module loading:\n",
    "\n",
    "Example: how to access the `sem` function defined in the `scipy.stats` module?"
   ]
  },
  {
   "cell_type": "code",
   "execution_count": 5,
   "id": "898957c8",
   "metadata": {},
   "outputs": [
    {
     "name": "stdout",
     "output_type": "stream",
     "text": [
      "skipping\n"
     ]
    }
   ],
   "source": [
    "%%script echo skipping\n",
    "\n",
    "import scipy.stats\n",
    "scipy.stats.sem\n",
    "\n",
    "from scipy import stats\n",
    "stats.sem\n",
    "\n",
    "from scipy.stats import *\n",
    "sem"
   ]
  },
  {
   "cell_type": "markdown",
   "id": "4dc592bf-9900-4838-ab03-98039c17cfd8",
   "metadata": {},
   "source": [
    "## Confidence intervals\n",
    "\n",
    "Common information such as the sample mean or standard deviation are trivial to obtain. For example, we have seen Pandas' `describe`:"
   ]
  },
  {
   "cell_type": "code",
   "execution_count": 6,
   "id": "0a56b871-8335-42b1-b8e0-f1cdc68b5281",
   "metadata": {},
   "outputs": [
    {
     "data": {
      "text/html": [
       "<div>\n",
       "<style scoped>\n",
       "    .dataframe tbody tr th:only-of-type {\n",
       "        vertical-align: middle;\n",
       "    }\n",
       "\n",
       "    .dataframe tbody tr th {\n",
       "        vertical-align: top;\n",
       "    }\n",
       "\n",
       "    .dataframe thead th {\n",
       "        text-align: right;\n",
       "    }\n",
       "</style>\n",
       "<table border=\"1\" class=\"dataframe\">\n",
       "  <thead>\n",
       "    <tr style=\"text-align: right;\">\n",
       "      <th></th>\n",
       "      <th>total_bill</th>\n",
       "      <th>tip</th>\n",
       "      <th>size</th>\n",
       "    </tr>\n",
       "  </thead>\n",
       "  <tbody>\n",
       "    <tr>\n",
       "      <th>count</th>\n",
       "      <td>244.000000</td>\n",
       "      <td>244.000000</td>\n",
       "      <td>244.000000</td>\n",
       "    </tr>\n",
       "    <tr>\n",
       "      <th>mean</th>\n",
       "      <td>19.785943</td>\n",
       "      <td>2.998279</td>\n",
       "      <td>2.569672</td>\n",
       "    </tr>\n",
       "    <tr>\n",
       "      <th>std</th>\n",
       "      <td>8.902412</td>\n",
       "      <td>1.383638</td>\n",
       "      <td>0.951100</td>\n",
       "    </tr>\n",
       "    <tr>\n",
       "      <th>min</th>\n",
       "      <td>3.070000</td>\n",
       "      <td>1.000000</td>\n",
       "      <td>1.000000</td>\n",
       "    </tr>\n",
       "    <tr>\n",
       "      <th>25%</th>\n",
       "      <td>13.347500</td>\n",
       "      <td>2.000000</td>\n",
       "      <td>2.000000</td>\n",
       "    </tr>\n",
       "    <tr>\n",
       "      <th>50%</th>\n",
       "      <td>17.795000</td>\n",
       "      <td>2.900000</td>\n",
       "      <td>2.000000</td>\n",
       "    </tr>\n",
       "    <tr>\n",
       "      <th>75%</th>\n",
       "      <td>24.127500</td>\n",
       "      <td>3.562500</td>\n",
       "      <td>3.000000</td>\n",
       "    </tr>\n",
       "    <tr>\n",
       "      <th>max</th>\n",
       "      <td>50.810000</td>\n",
       "      <td>10.000000</td>\n",
       "      <td>6.000000</td>\n",
       "    </tr>\n",
       "  </tbody>\n",
       "</table>\n",
       "</div>"
      ],
      "text/plain": [
       "       total_bill         tip        size\n",
       "count  244.000000  244.000000  244.000000\n",
       "mean    19.785943    2.998279    2.569672\n",
       "std      8.902412    1.383638    0.951100\n",
       "min      3.070000    1.000000    1.000000\n",
       "25%     13.347500    2.000000    2.000000\n",
       "50%     17.795000    2.900000    2.000000\n",
       "75%     24.127500    3.562500    3.000000\n",
       "max     50.810000   10.000000    6.000000"
      ]
     },
     "execution_count": 6,
     "metadata": {},
     "output_type": "execute_result"
    }
   ],
   "source": [
    "dataframe = pg.read_dataset('tips')\n",
    "dataframe.describe()\n",
    "#dataframe.describe(exclude=np.number)"
   ]
  },
  {
   "cell_type": "markdown",
   "id": "2b311609",
   "metadata": {
    "hidden": true
   },
   "source": [
    "To report the value of the population mean and account for the uncertainty that results from the fact the true value is actually unknown (the sample mean above is our best guess), we can give a confidence interval instead.\n",
    "\n",
    "Reminder: the population mean follows a normal distribution centered at the sample mean, with standard deviation equal to the standard error of the mean (or, equivalently, the standard deviation of the sample divided by the square root of the sample size)."
   ]
  },
  {
   "cell_type": "code",
   "execution_count": 7,
   "id": "e60ba8f3",
   "metadata": {
    "hidden": true,
    "tags": []
   },
   "outputs": [
    {
     "data": {
      "image/png": "[encoded data removed]",
      "text/plain": [
       "<Figure size 640x480 with 1 Axes>"
      ]
     },
     "metadata": {},
     "output_type": "display_data"
    }
   ],
   "source": [
    "scipy_material.illustration_confidence_interval(19.785943, stats.sem(dataframe['total_bill']))"
   ]
  },
  {
   "cell_type": "markdown",
   "id": "e2b36e29",
   "metadata": {
    "hidden": true
   },
   "source": [
    "Computing a confidence interval with SciPy involves instantiating the normal distribution with the `norm` function and calling the `interval` method of the returned object."
   ]
  },
  {
   "cell_type": "code",
   "execution_count": 8,
   "id": "e911524f",
   "metadata": {
    "hidden": true
   },
   "outputs": [],
   "source": [
    "X = dataframe['total_bill']\n",
    "mu = np.mean(X)\n",
    "sigma = stats.sem(X)\n",
    "distribution_of_the_mean = stats.norm(mu, sigma)"
   ]
  },
  {
   "cell_type": "code",
   "execution_count": 9,
   "id": "2494dc66-d5bf-4235-b2f7-02daf5da7d2f",
   "metadata": {},
   "outputs": [
    {
     "data": {
      "text/plain": [
       "(18.668922839262997, 20.902962406638643)"
      ]
     },
     "execution_count": 9,
     "metadata": {},
     "output_type": "execute_result"
    }
   ],
   "source": [
    "distribution_of_the_mean.interval(0.95)"
   ]
  },
  {
   "cell_type": "markdown",
   "id": "db72ca26-00df-45be-9700-2f9af50228d0",
   "metadata": {},
   "source": [
    "Note again that we have set the scale parameter `sigma` equal to the sem. In contrast, if variable `total_bill` followed a normal distribution, we could define its distribution as:"
   ]
  },
  {
   "cell_type": "code",
   "execution_count": 10,
   "id": "1fad2898-81e4-4814-b496-146f54d21e29",
   "metadata": {},
   "outputs": [],
   "source": [
    "normal_distribution = stats.norm(X.mean(), X.std())"
   ]
  },
  {
   "cell_type": "markdown",
   "id": "1d77e3ca-f4af-4135-bfee-92054898eaa6",
   "metadata": {},
   "source": [
    "The objects `norm` returns (*e.g.* `distribution_of_the_mean`) feature numerous other methods:"
   ]
  },
  {
   "cell_type": "code",
   "execution_count": 11,
   "id": "1341b01d",
   "metadata": {
    "hidden": true
   },
   "outputs": [
    {
     "data": {
      "text/plain": [
       "0.2704798697499871"
      ]
     },
     "execution_count": 11,
     "metadata": {},
     "output_type": "execute_result"
    }
   ],
   "source": [
    "# probability density function\n",
    "distribution_of_the_mean.pdf(19.0)"
   ]
  },
  {
   "cell_type": "code",
   "execution_count": 12,
   "id": "d6bbb149",
   "metadata": {
    "hidden": true
   },
   "outputs": [
    {
     "data": {
      "text/plain": [
       "0.0839406210836206"
      ]
     },
     "execution_count": 12,
     "metadata": {},
     "output_type": "execute_result"
    }
   ],
   "source": [
    "# cumulative distribution function\n",
    "distribution_of_the_mean.cdf(19.0)"
   ]
  },
  {
   "cell_type": "markdown",
   "id": "2b05f3b3",
   "metadata": {
    "hidden": true
   },
   "source": [
    "See [scipy.stats.rv_continuous](https://docs.scipy.org/doc/scipy/reference/generated/scipy.stats.rv_continuous.html#scipy.stats.rv_continuous) for more methods.\n",
    "\n",
    "As another example, we can make use of the inverse survival function `isf` to re-implement the calculation of the $1-\\alpha=95\\%$ confidence interval based on the following formula:\n",
    "\n",
    "$$\n",
    "\\bar{x} \\pm z_{1-\\alpha/2}\\frac{\\sigma}{\\sqrt{n}}\n",
    "$$\n",
    "\n",
    "Indeed, $z_{1-\\alpha/2}$ is calculated as follows:"
   ]
  },
  {
   "cell_type": "code",
   "execution_count": 13,
   "id": "62f75d44",
   "metadata": {
    "hidden": true
   },
   "outputs": [
    {
     "data": {
      "text/plain": [
       "1.9599639845400545"
      ]
     },
     "execution_count": 13,
     "metadata": {},
     "output_type": "execute_result"
    }
   ],
   "source": [
    "alpha = 0.05\n",
    "z = stats.norm().isf(alpha / 2)\n",
    "z"
   ]
  },
  {
   "cell_type": "markdown",
   "id": "7728089e",
   "metadata": {
    "hidden": true
   },
   "source": [
    "For a $95\\%$ confidence interval, we usually take $z\\approx 1.96$. Note we took the standard normal distribution, with null mean and unit standard deviation (`stats.norm()` is equivalent to `stats.norm(0, 1)`).\n",
    "\n",
    "$\\frac{\\sigma}{\\sqrt{n}}$ is the standard deviation of the sample mean, or standard error of mean, that we have already calculated using the `sem` function."
   ]
  },
  {
   "cell_type": "code",
   "execution_count": 14,
   "id": "99fe274d",
   "metadata": {
    "hidden": true
   },
   "outputs": [
    {
     "name": "stdout",
     "output_type": "stream",
     "text": [
      "Bills are 19.79 ± 1.12 on average\n"
     ]
    }
   ],
   "source": [
    "print(f'Bills are {mu:.2f} ± {z * sigma:.2f} on average')"
   ]
  },
  {
   "cell_type": "markdown",
   "id": "91a55884-2ca8-4cb0-9190-6c42bea7047b",
   "metadata": {
    "heading_collapsed": true,
    "hidden": true,
    "tags": []
   },
   "source": [
    "## Fitting"
   ]
  },
  {
   "cell_type": "markdown",
   "id": "72a7068e-ac7c-4940-b5e1-103ecf4cec2c",
   "metadata": {},
   "source": [
    "We have seen how to fit a normal distribution explicitly passing a mean and standard deviation. More generally, for any distribution from `scipy.stats`, we can get the required parameters using the `stats.<distribution>.fit` method. For example, for distribution `stats.norm` with sample `X`:"
   ]
  },
  {
   "cell_type": "code",
   "execution_count": 15,
   "id": "11cb5a3f-c48d-457d-9134-c56665b5e169",
   "metadata": {},
   "outputs": [],
   "source": [
    "normal_distribution = stats.norm(*stats.norm.fit(X))"
   ]
  },
  {
   "cell_type": "markdown",
   "id": "4c483874-e9db-440a-b1c8-7dd47a06008a",
   "metadata": {
    "hidden": true
   },
   "source": [
    "Now, unlike the population mean, there is no guarantee a sample follows a normal distribution.\n",
    "\n",
    "To determine what distribution a sample best follows, we can fit various distributions to the data and visually appreciate how well these distributions match with the data by plotting a scaled histogram and the probability density functions of the fitted distributions on top of the histogram."
   ]
  },
  {
   "cell_type": "code",
   "execution_count": 16,
   "id": "578edd4a-bcb1-4f9e-a8ba-d3e63bbabb71",
   "metadata": {
    "hidden": true,
    "tags": []
   },
   "outputs": [
    {
     "data": {
      "image/png": "[encoded data removed]",
      "text/plain": [
       "<Figure size 640x480 with 1 Axes>"
      ]
     },
     "metadata": {},
     "output_type": "display_data"
    }
   ],
   "source": [
    "# plot the histogram\n",
    "import seaborn as sns\n",
    "sns.histplot(X, bins=20, stat='density')\n",
    "\n",
    "# fit a log-normal distribution\n",
    "lognorm = stats.lognorm(*stats.lognorm.fit(X))\n",
    "\n",
    "# draw the probability density function\n",
    "from matplotlib import pyplot as plt\n",
    "grid = np.arange(1, 52, .1)\n",
    "plt.plot(grid, lognorm.pdf(grid));\n",
    "\n",
    "# fit and overlay more distributions\n",
    "#weibull = stats.weibull_min(*stats.weibull_min.fit(X))\n",
    "#plt.plot(grid, weibull.pdf(grid));\n",
    "#t = stats.t(*stats.t.fit(X))\n",
    "#plt.plot(grid, t.pdf(grid));\n",
    "#chi2 = stats.chi2(*stats.chi2.fit(X))\n",
    "#plt.plot(grid, chi2.pdf(grid));"
   ]
  },
  {
   "cell_type": "markdown",
   "id": "d1fc8931-8459-46cf-b085-765298aaac0a",
   "metadata": {},
   "source": [
    "Note that plotting histograms is good practice anyway, because it helps to spot data distributions with multiple modes. Multiple modes in a sample are a red flag for tests that compare estimates of central tendency (*e.g.* means)."
   ]
  },
  {
   "cell_type": "markdown",
   "id": "cb8febd8",
   "metadata": {
    "hidden": true
   },
   "source": [
    "...and we can test whether `total_bill` follows a log-normal distribution in our sample with the one-sample Kolmogorov-Smirnov test:"
   ]
  },
  {
   "cell_type": "code",
   "execution_count": 17,
   "id": "5b1b8872",
   "metadata": {
    "hidden": true,
    "tags": []
   },
   "outputs": [
    {
     "data": {
      "text/plain": [
       "0.7387575212859724"
      ]
     },
     "execution_count": 17,
     "metadata": {},
     "output_type": "execute_result"
    }
   ],
   "source": [
    "statistic, pvalue = stats.kstest(X, lognorm.cdf)\n",
    "pvalue"
   ]
  },
  {
   "cell_type": "markdown",
   "id": "ddeacee0-2062-476d-b7ec-9e0f036d6c4b",
   "metadata": {
    "heading_collapsed": true,
    "tags": []
   },
   "source": [
    "# Statistical testing"
   ]
  },
  {
   "cell_type": "markdown",
   "id": "5f2fcb2e-1097-4bb7-ba77-fceaa3b55702",
   "metadata": {
    "hidden": true
   },
   "source": [
    "\n",
    "> What have we just done?\n",
    "\n",
    "We compared our **observations** `x` with some **expectation**.\n",
    "\n",
    "We actually formulated a so-called *null hypothesis*, denoted $H_0$, that models the situation such that \"nothing is going on\", *i.e.* the observations meet the expectation.\n",
    "\n",
    "We also implicitly defined an alternative hypothesis, usually denoted $H_1$ or $H_A$, that can simply be the opposite of $H_0$.\n",
    "\n",
    "For example:\n",
    "\n",
    "$$\n",
    "\\left\\{\n",
    "\\begin{array}{ l l l }\n",
    "H_0: & X \\sim \\mathcal{N}(\\mu, \\sigma^2) & \\mbox{with } \\mu \\mbox{ assumed to be } \\bar{x} \\mbox{ and } \\sigma^2 \\mbox{ as } \\frac{1}{n-1}\\sum_{i=0}^{n-1} (x_i - \\bar{x})^2 \\\\\n",
    "H_A: & \\mbox{not } H_0\n",
    "\\end{array}\n",
    "\\right.\n",
    "$$\n",
    "\n",
    "A test consists in contrasting the two incompatible hypotheses.\n",
    "\n",
    "If we had a single observation – say $z=1.4$ – to compare with a distribution – say $\\mathcal{N}(0,1)$ – we would simply compute the probability for this value to be drawn from this distribution (or not):"
   ]
  },
  {
   "cell_type": "code",
   "execution_count": 18,
   "id": "8346ad8e",
   "metadata": {
    "hidden": true
   },
   "outputs": [],
   "source": [
    "z = 1.4\n",
    "\n",
    "N = stats.norm(0, 1)\n",
    "\n",
    "onesided_pvalue = N.sf(z) # sf= survival function\n",
    "twosided_pvalue = 2 * min(N.cdf(z), N.sf(z))"
   ]
  },
  {
   "cell_type": "code",
   "execution_count": 19,
   "id": "404476b6",
   "metadata": {
    "hidden": true,
    "tags": []
   },
   "outputs": [
    {
     "data": {
      "image/png": "[encoded data removed]",
      "text/plain": [
       "<Figure size 640x480 with 1 Axes>"
      ]
     },
     "metadata": {},
     "output_type": "display_data"
    }
   ],
   "source": [
    "scipy_material.illustration_onesided_probabilitymass(z, N, onesided_pvalue)"
   ]
  },
  {
   "cell_type": "markdown",
   "id": "99a007ac",
   "metadata": {
    "hidden": true
   },
   "source": [
    "In practice, all tests boil down to comparing a single value with a reference distribution. Basically, a test expresses the discrepancy between the observations and the expectation in the shape of a *statistic*, and this statistic is supposed to follow a given distribution under $H_0$.\n",
    "\n",
    "This is used as a basis to calculate a *p*-value that estimates the probability of erroneously rejecting $H_0$.\n",
    "\n",
    "The experimenter also defines a significance level $\\alpha$, with common values $\\alpha=0.05$ or $0.01$, that sets the maximum tolerated risk of making a *type-1 error*, *i.e.* of rejecting $H_0$ by chance.\n",
    "If the obtained <em>p</em>-value is lower than $\\alpha$, then s·he can conclude there is sufficient evidence to reject $H_0$."
   ]
  },
  {
   "cell_type": "code",
   "execution_count": 20,
   "id": "b162e92e",
   "metadata": {
    "hidden": true,
    "hide_input": true,
    "jupyter": {
     "source_hidden": true
    },
    "tags": []
   },
   "outputs": [
    {
     "data": {
      "text/html": [
       "<style>table#typeoferrors { text-align: center; font-size: large; margin-left: 1px;} #typeoferrors td { text-align: center; font-size: large; border-right: solid 1px black; border-bottom: solid 1px black; } #typeoferrors td.border { font-size: small; border-left: solid 1px black; border-top: solid 1px black; } #typeoferrors td.wrong { color: orange; } #typeoferrors td.ok { color: green; } #typeoferrors span.sub { font-size: x-small; } #typeoferrors td.footnote { text-align: left; font-size: xx-small; border-right: 0px; border-bottom: 0px; } </style> <table id=\"typeoferrors\">     <tr><td rowspan=\"2\" colspan=\"2\"></td><td colspan=\"2\" class=\"border\">Conclusion about $H_0$<br />from the statistical test</td></tr>    <tr><td>accept</td><td>reject</td></tr>     <tr><td rowspan=\"2\" class=\"border\">Truth about $H_0$<br />in the population</td><td>true</td><td class=\"ok\">Correct</td><td  class=\"wrong\">Type 1 error<br /><span class=\"sub\">observe difference<br />when none exists</span></td></tr>     <tr><td>false</td><td class=\"wrong\">Type 2 error<br /><span class=\"sub\">fail to observe difference<br />when one exists</span></td><td class=\"ok\">Correct</td></tr>     <tr><td colspan=\"4\" class=\"footnote\"> <a href=\"https://faculty.nps.edu/rbassett/_book/hypothesis-testing-one-sample.html#fig:errorsHypTesting\">https://faculty.nps.edu/rbassett/_book/hypothesis-testing-one-sample.html#fig:errorsHypTesting</a>     </td></tr> </table>\n"
      ],
      "text/plain": [
       "<IPython.core.display.HTML object>"
      ]
     },
     "metadata": {},
     "output_type": "display_data"
    }
   ],
   "source": [
    "%%html\n",
    "<style>table#typeoferrors { text-align: center; font-size: large; margin-left: 1px;} #typeoferrors td { text-align: center; font-size: large; border-right: solid 1px black; border-bottom: solid 1px black; } #typeoferrors td.border { font-size: small; border-left: solid 1px black; border-top: solid 1px black; } #typeoferrors td.wrong { color: orange; } #typeoferrors td.ok { color: green; } #typeoferrors span.sub { font-size: x-small; } #typeoferrors td.footnote { text-align: left; font-size: xx-small; border-right: 0px; border-bottom: 0px; } </style> <table id=\"typeoferrors\">     <tr><td rowspan=\"2\" colspan=\"2\"></td><td colspan=\"2\" class=\"border\">Conclusion about $H_0$<br />from the statistical test</td></tr>    <tr><td>accept</td><td>reject</td></tr>     <tr><td rowspan=\"2\" class=\"border\">Truth about $H_0$<br />in the population</td><td>true</td><td class=\"ok\">Correct</td><td  class=\"wrong\">Type 1 error<br /><span class=\"sub\">observe difference<br />when none exists</span></td></tr>     <tr><td>false</td><td class=\"wrong\">Type 2 error<br /><span class=\"sub\">fail to observe difference<br />when one exists</span></td><td class=\"ok\">Correct</td></tr>     <tr><td colspan=\"4\" class=\"footnote\"> <a href=\"https://faculty.nps.edu/rbassett/_book/hypothesis-testing-one-sample.html#fig:errorsHypTesting\">https://faculty.nps.edu/rbassett/_book/hypothesis-testing-one-sample.html#fig:errorsHypTesting</a>     </td></tr> </table>"
   ]
  },
  {
   "cell_type": "markdown",
   "id": "446ba63e-df67-46ca-8921-eca686462c93",
   "metadata": {
    "heading_collapsed": true,
    "tags": []
   },
   "source": [
    "## *t* tests"
   ]
  },
  {
   "cell_type": "markdown",
   "id": "8f9602b8-5f64-438b-8051-c71f9c8b0b14",
   "metadata": {
    "hidden": true
   },
   "source": [
    "*t* tests derive a statistic that is supposed to follow the [Student's *t* distribution](https://docs.scipy.org/doc/scipy/reference/generated/scipy.stats.t.html) under $H_0$:"
   ]
  },
  {
   "cell_type": "code",
   "execution_count": 21,
   "id": "67d046f0-ca64-4a12-8e32-58b8e7e142a0",
   "metadata": {
    "hidden": true,
    "tags": []
   },
   "outputs": [
    {
     "data": {
      "image/png": "[encoded data removed]",
      "text/plain": [
       "<Figure size 640x480 with 1 Axes>"
      ]
     },
     "metadata": {},
     "output_type": "display_data"
    }
   ],
   "source": [
    "scipy_material.illustration_t_pdfs()"
   ]
  },
  {
   "cell_type": "markdown",
   "id": "701ee597-2eec-4404-8a0e-601ae2121e19",
   "metadata": {
    "hidden": true
   },
   "source": [
    "At high degrees of freedom, the *t* distribution approaches the normal distribution. At lower degrees of freedom, the *t* distribution exhibits heavier tails and is less sensitive to extreme values."
   ]
  },
  {
   "cell_type": "markdown",
   "id": "e1606aca-1582-44a8-8f17-4804b416e005",
   "metadata": {},
   "source": [
    "There exist several *t* tests. Pingouin's [`ttest`](https://pingouin-stats.org/build/html/generated/pingouin.ttest.html#pingouin.ttest) function provides several of them:\n",
    "\n",
    "`pg.ttest(x, y, paired=False, alternative='two-sided', correction='auto', r=0.707, confidence=0.95)`"
   ]
  },
  {
   "cell_type": "markdown",
   "id": "ca6bf548-cadf-4c75-8130-fe0c3ef8de9a",
   "metadata": {
    "heading_collapsed": true,
    "hidden": true,
    "tags": []
   },
   "source": [
    "### One-sample *t* test"
   ]
  },
  {
   "cell_type": "markdown",
   "id": "a9fdde2b-8764-4f9f-b249-6af66347b3b1",
   "metadata": {
    "hidden": true
   },
   "source": [
    "This test compares a sample's central tendency (*sample mean*) with a reference value (*population mean*).\n",
    "\n",
    "<table style=\"text-align: center;\"><tr><td>\n",
    "<img src='../images/8mice.svg' />\n",
    "</td><td>\n",
    "<img src='../images/Scientific_journal_icon.svg' width=\"96px\" />\n",
    "</td></tr><tr><td><center>\n",
    "<code>x=[49.5 81.9 64.0 17.3 59.8 94.6 69.9 12.4]</code>\n",
    "</center></td><td><center>\n",
    "<code>&mu;=50</code>\n",
    "</center></td></tr></table>\n",
    "\n",
    "Let us call $\\mu$ this reference value. Our expectation is that the sample mean $\\bar{X}$ is close enough to $\\mu$.\n",
    "In other words, $H_0: \\bar{X} = \\mu$.\n",
    "The statistic is:\n",
    "$$\n",
    "\\frac{\\bar{X} - \\mu}{\\mathrm{SEM}} \\mbox{ } \\mbox{ } \\mbox{ } \\mbox{ } \\mbox{ } \\mbox{ } \\mbox{ } \\sim t(n-1) \\mbox{ } \\textrm{under} \\mbox{ } H_0\n",
    "$$"
   ]
  },
  {
   "cell_type": "code",
   "execution_count": 22,
   "id": "bb6f0e09-f529-47bb-8470-66130193a791",
   "metadata": {},
   "outputs": [],
   "source": [
    "x = np.array([49.47257879, 81.93967205, 64.030398, 17.25423608, 59.80082512,\n",
    "              94.56012514, 69.91672899, 12.39640637])\n",
    "\n",
    "mu = 50"
   ]
  },
  {
   "cell_type": "markdown",
   "id": "2ff75a9a-9f15-4be6-9312-388fb0b62a4a",
   "metadata": {},
   "source": [
    "With Pingouin:"
   ]
  },
  {
   "cell_type": "code",
   "execution_count": 23,
   "id": "ec4b0084-93c3-40b9-94c5-d05679a1dc45",
   "metadata": {},
   "outputs": [
    {
     "data": {
      "text/html": [
       "<div>\n",
       "<style scoped>\n",
       "    .dataframe tbody tr th:only-of-type {\n",
       "        vertical-align: middle;\n",
       "    }\n",
       "\n",
       "    .dataframe tbody tr th {\n",
       "        vertical-align: top;\n",
       "    }\n",
       "\n",
       "    .dataframe thead th {\n",
       "        text-align: right;\n",
       "    }\n",
       "</style>\n",
       "<table border=\"1\" class=\"dataframe\">\n",
       "  <thead>\n",
       "    <tr style=\"text-align: right;\">\n",
       "      <th></th>\n",
       "      <th>T</th>\n",
       "      <th>dof</th>\n",
       "      <th>alternative</th>\n",
       "      <th>p-val</th>\n",
       "      <th>CI95%</th>\n",
       "      <th>cohen-d</th>\n",
       "      <th>BF10</th>\n",
       "      <th>power</th>\n",
       "    </tr>\n",
       "  </thead>\n",
       "  <tbody>\n",
       "    <tr>\n",
       "      <th>T-test</th>\n",
       "      <td>0.602406</td>\n",
       "      <td>7</td>\n",
       "      <td>two-sided</td>\n",
       "      <td>0.565899</td>\n",
       "      <td>[31.95, 80.4]</td>\n",
       "      <td>0.212983</td>\n",
       "      <td>0.391</td>\n",
       "      <td>0.08203</td>\n",
       "    </tr>\n",
       "  </tbody>\n",
       "</table>\n",
       "</div>"
      ],
      "text/plain": [
       "               T  dof alternative     p-val          CI95%   cohen-d   BF10  \\\n",
       "T-test  0.602406    7   two-sided  0.565899  [31.95, 80.4]  0.212983  0.391   \n",
       "\n",
       "          power  \n",
       "T-test  0.08203  "
      ]
     },
     "execution_count": 23,
     "metadata": {},
     "output_type": "execute_result"
    }
   ],
   "source": [
    "pg.ttest(x, mu)"
   ]
  },
  {
   "cell_type": "markdown",
   "id": "e96a45be-1ab1-4278-a5a3-e49574e0133a",
   "metadata": {
    "hidden": true
   },
   "source": [
    "For completeness, SciPy's one-sample *t* test is [ttest_1samp](https://docs.scipy.org/doc/scipy/reference/generated/scipy.stats.ttest_1samp.html):\n",
    "\n",
    "`scipy.stats.ttest_1samp(a, popmean, axis=0, nan_policy='propagate', alternative='two-sided')`"
   ]
  },
  {
   "cell_type": "code",
   "execution_count": 24,
   "id": "b471633d-c9ad-455e-84e1-d32af085b32a",
   "metadata": {
    "hidden": true
   },
   "outputs": [
    {
     "data": {
      "text/plain": [
       "TtestResult(statistic=0.6024056396957578, pvalue=0.5658990587680466, df=7)"
      ]
     },
     "execution_count": 24,
     "metadata": {},
     "output_type": "execute_result"
    }
   ],
   "source": [
    "stats.ttest_1samp(x, mu)"
   ]
  },
  {
   "cell_type": "markdown",
   "id": "2144869e-9e4a-4e63-ae58-81c5a6be7205",
   "metadata": {
    "heading_collapsed": true,
    "hidden": true,
    "tags": []
   },
   "source": [
    "### *t* test for independent samples"
   ]
  },
  {
   "cell_type": "markdown",
   "id": "4b892f33-761a-40b6-873d-ff9f7758cef3",
   "metadata": {
    "hidden": true
   },
   "source": [
    "This test compares the means of two samples or groups, *e.g.* a control sample and a sample from a mutated population: $H_0: \\bar{X_1} = \\bar{X_2}$.\n",
    "\n",
    "<table style=\"text-align:center;\"><tr><td>\n",
    "<img src=\"../images/8mice.svg\" alt=\"sample of the control population\" />\n",
    "</td><td>\n",
    "<img src=\"../images/8mutants1.svg\" alt=\"sample of a mutated population\" />\n",
    "</td></tr><tr><td><center>\n",
    "<code>x<sub>1</sub>=[49.5 81.9 64.0 17.3 59.8 94.6 69.9 12.4]</code>\n",
    "</center></td><td><center>\n",
    "<code>x<sub>2</sub>=[64.2 96.6 101.9 85.3 66.5 63.9 127.6 55.0]</code>\n",
    "</center></td></tr></table>"
   ]
  },
  {
   "cell_type": "code",
   "execution_count": 25,
   "id": "8cc7f8c2-75d3-447f-b27c-4ed6350e4075",
   "metadata": {},
   "outputs": [],
   "source": [
    "x1 = x\n",
    "x2 = np.array([64.22723692, 96.56483856, 101.94191774, 85.31918879,\n",
    "               66.4952999, 63.88841224, 127.63861749, 55.00527005])"
   ]
  },
  {
   "cell_type": "markdown",
   "id": "16c87bf3-dd77-487f-8b96-9560a1ef3315",
   "metadata": {},
   "source": [
    "With Pingouin:"
   ]
  },
  {
   "cell_type": "code",
   "execution_count": 26,
   "id": "7dae4d48-36b9-40df-87fa-a3c73ca42a19",
   "metadata": {},
   "outputs": [
    {
     "data": {
      "text/html": [
       "<div>\n",
       "<style scoped>\n",
       "    .dataframe tbody tr th:only-of-type {\n",
       "        vertical-align: middle;\n",
       "    }\n",
       "\n",
       "    .dataframe tbody tr th {\n",
       "        vertical-align: top;\n",
       "    }\n",
       "\n",
       "    .dataframe thead th {\n",
       "        text-align: right;\n",
       "    }\n",
       "</style>\n",
       "<table border=\"1\" class=\"dataframe\">\n",
       "  <thead>\n",
       "    <tr style=\"text-align: right;\">\n",
       "      <th></th>\n",
       "      <th>T</th>\n",
       "      <th>dof</th>\n",
       "      <th>alternative</th>\n",
       "      <th>p-val</th>\n",
       "      <th>CI95%</th>\n",
       "      <th>cohen-d</th>\n",
       "      <th>BF10</th>\n",
       "      <th>power</th>\n",
       "    </tr>\n",
       "  </thead>\n",
       "  <tbody>\n",
       "    <tr>\n",
       "      <th>T-test</th>\n",
       "      <td>-1.961743</td>\n",
       "      <td>14</td>\n",
       "      <td>two-sided</td>\n",
       "      <td>0.069989</td>\n",
       "      <td>[-55.4, 2.47]</td>\n",
       "      <td>0.980872</td>\n",
       "      <td>1.42</td>\n",
       "      <td>0.447175</td>\n",
       "    </tr>\n",
       "  </tbody>\n",
       "</table>\n",
       "</div>"
      ],
      "text/plain": [
       "               T  dof alternative     p-val          CI95%   cohen-d  BF10  \\\n",
       "T-test -1.961743   14   two-sided  0.069989  [-55.4, 2.47]  0.980872  1.42   \n",
       "\n",
       "           power  \n",
       "T-test  0.447175  "
      ]
     },
     "execution_count": 26,
     "metadata": {},
     "output_type": "execute_result"
    }
   ],
   "source": [
    "pg.ttest(x1, x2)"
   ]
  },
  {
   "cell_type": "markdown",
   "id": "ce4cf3a8-190f-4436-9044-743e985fe748",
   "metadata": {
    "hidden": true
   },
   "source": [
    "SciPy's *t* test for independent samples uses the statistic $t=\\frac{\\bar{X_1}-\\bar{X_2}}{\\sqrt{(\\frac{1}{n_1}+\\frac{1}{n_2})\\mbox{ }\\textrm{PooledVariance}}}$ with $\\textrm{PooledVariance} = \\frac{1}{n_1+n_2-2}\\sum_{j\\in\\{1,2\\}}\\sum_i (x_{ij}-\\bar{x_j})^2$ and is available as [ttest_ind](https://docs.scipy.org/doc/scipy/reference/generated/scipy.stats.ttest_ind.html):\n",
    "\n",
    "`scipy.stats.ttest_ind(a, b, axis=0, equal_var=True, nan_policy='propagate', permutations=None, random_state=None, alternative='two-sided', trim=0)`"
   ]
  },
  {
   "cell_type": "code",
   "execution_count": 27,
   "id": "6231e214-ac36-4c4f-8a16-e1551c8484b4",
   "metadata": {
    "hidden": true
   },
   "outputs": [
    {
     "data": {
      "text/plain": [
       "TtestResult(statistic=-1.96174329619957, pvalue=0.06998888828308221, df=14.0)"
      ]
     },
     "execution_count": 27,
     "metadata": {},
     "output_type": "execute_result"
    }
   ],
   "source": [
    "stats.ttest_ind(x1, x2)"
   ]
  },
  {
   "cell_type": "markdown",
   "id": "5b579c8e-1062-4083-bcc1-49009f0c65a1",
   "metadata": {},
   "source": [
    "Results are consistent.\n",
    "\n",
    "However, if the two samples were of different sizes, Pingouin's `ttest` would automatically use Welch's *t* test instead.\n",
    "\n",
    "SciPy's `ttest_ind` also provides this variant of the *t* test, passing argument `equal_variance=False`. It also provides a less common variant known as Yuen's *t* test, with `equal_var=False` and `trim=0.2` (requires more data).\n",
    "\n",
    "Note that SciPy's default *t* test does not require equal numbers of observations per group. However, it assumes the groups are normally distributed (but is relatively robust to non-«extreme non-normality») and, more importantly, have [similar variances ($0.5<\\frac{s_{X_1}}{s_{X_2}}<2$)](https://en.wikipedia.org/wiki/Student%27s_t-test#Equal_or_unequal_sample_sizes,_similar_variances_(1/2_%3C_sX1/sX2_%3C_2))."
   ]
  },
  {
   "cell_type": "markdown",
   "id": "1083c04c-1221-446f-84a0-7084413a7722",
   "metadata": {
    "heading_collapsed": true,
    "hidden": true,
    "tags": []
   },
   "source": [
    "### *t* test for paired samples"
   ]
  },
  {
   "cell_type": "markdown",
   "id": "a7dbe59b-7e10-4bd6-b455-37e4a517b30f",
   "metadata": {
    "hidden": true
   },
   "source": [
    "<img src='../images/paired1.svg' />"
   ]
  },
  {
   "cell_type": "markdown",
   "id": "aa3d8377-0704-4371-ab1f-e8567e66f112",
   "metadata": {},
   "source": [
    "Let us now assume `x1[i]` and `x2[i]` are measurements from a same animal `i`, under two different experimental conditions.\n",
    "\n",
    "With Pingouin:"
   ]
  },
  {
   "cell_type": "code",
   "execution_count": 28,
   "id": "70ee9cae-b8ad-4b51-b443-03befe14606c",
   "metadata": {},
   "outputs": [
    {
     "data": {
      "text/html": [
       "<div>\n",
       "<style scoped>\n",
       "    .dataframe tbody tr th:only-of-type {\n",
       "        vertical-align: middle;\n",
       "    }\n",
       "\n",
       "    .dataframe tbody tr th {\n",
       "        vertical-align: top;\n",
       "    }\n",
       "\n",
       "    .dataframe thead th {\n",
       "        text-align: right;\n",
       "    }\n",
       "</style>\n",
       "<table border=\"1\" class=\"dataframe\">\n",
       "  <thead>\n",
       "    <tr style=\"text-align: right;\">\n",
       "      <th></th>\n",
       "      <th>T</th>\n",
       "      <th>dof</th>\n",
       "      <th>alternative</th>\n",
       "      <th>p-val</th>\n",
       "      <th>CI95%</th>\n",
       "      <th>cohen-d</th>\n",
       "      <th>BF10</th>\n",
       "      <th>power</th>\n",
       "    </tr>\n",
       "  </thead>\n",
       "  <tbody>\n",
       "    <tr>\n",
       "      <th>T-test</th>\n",
       "      <td>-2.361598</td>\n",
       "      <td>7</td>\n",
       "      <td>two-sided</td>\n",
       "      <td>0.050223</td>\n",
       "      <td>[-52.96, 0.03]</td>\n",
       "      <td>0.980872</td>\n",
       "      <td>1.892</td>\n",
       "      <td>0.664343</td>\n",
       "    </tr>\n",
       "  </tbody>\n",
       "</table>\n",
       "</div>"
      ],
      "text/plain": [
       "               T  dof alternative     p-val           CI95%   cohen-d   BF10  \\\n",
       "T-test -2.361598    7   two-sided  0.050223  [-52.96, 0.03]  0.980872  1.892   \n",
       "\n",
       "           power  \n",
       "T-test  0.664343  "
      ]
     },
     "execution_count": 28,
     "metadata": {},
     "output_type": "execute_result"
    }
   ],
   "source": [
    "pg.ttest(x1, x2, paired=True)"
   ]
  },
  {
   "cell_type": "markdown",
   "id": "0cfc1090-95e0-4f80-8eec-9e81b21082ef",
   "metadata": {
    "hidden": true
   },
   "source": [
    "SciPy's *t* test for paired samples is [ttest_rel](https://docs.scipy.org/doc/scipy/reference/generated/scipy.stats.ttest_rel.html):\n",
    "\n",
    "`scipy.stats.ttest_rel(a, b, axis=0, nan_policy='propagate', alternative='two-sided')`\n",
    "\n",
    "This is actually a one-sample *t* test of the between-group differences against a population mean equal to zero (compare [1](https://github.com/scipy/scipy/blob/v1.7.1/scipy/stats/stats.py#L6450-L6460) and [2](https://github.com/scipy/scipy/blob/v1.7.1/scipy/stats/stats.py#L5647-L5656))."
   ]
  },
  {
   "cell_type": "markdown",
   "id": "234dc53a-dce0-426e-8f57-4a4f9bfa38fc",
   "metadata": {
    "hidden": true
   },
   "source": [
    "### Effect sizes"
   ]
  },
  {
   "cell_type": "markdown",
   "id": "ed009c59-e22b-4771-bfc9-f113dc365047",
   "metadata": {
    "hidden": true
   },
   "source": [
    "Very low *p*-values are not measurements of the strength of an effect. One should consider the *effect size* instead.\n",
    "\n",
    "A common measure of effect size for two independent samples is [Cohen's $d$](https://en.wikipedia.org/wiki/Effect_size#Cohen's_d): $d = \\frac{\\bar{X_2}-\\bar{X_1}}{\\sqrt{\\textrm{PooledVariance}}}$"
   ]
  },
  {
   "cell_type": "code",
   "execution_count": 29,
   "id": "3beb1fbb-a1ac-40aa-b4ce-b97f151392f5",
   "metadata": {
    "hidden": true,
    "tags": []
   },
   "outputs": [
    {
     "data": {
      "image/png": "[encoded data removed]",
      "text/plain": [
       "<Figure size 640x480 with 1 Axes>"
      ]
     },
     "metadata": {},
     "output_type": "display_data"
    },
    {
     "data": {
      "application/vnd.jupyter.widget-view+json": {
       "model_id": "9875a313d0a84b52851402faae8a09d0",
       "version_major": 2,
       "version_minor": 0
      },
      "text/plain": [
       "interactive(children=(FloatSlider(value=0.5, description='cohen_d', max=4.0), Output()), _dom_classes=('widget…"
      ]
     },
     "metadata": {},
     "output_type": "display_data"
    }
   ],
   "source": [
    "scipy_material.illustration_cohen_d();"
   ]
  },
  {
   "cell_type": "markdown",
   "id": "f8e1face-4845-459d-95c2-8674181d39b5",
   "metadata": {
    "hidden": true
   },
   "source": [
    "With large enough sample sizes, one can find significant effects of size $0.1$ for example, which may not be of practical interest. Statistical significance does not imply practical significance.\n",
    "   \n",
    "Measurements of effect size were proposed together with [tables](https://core.ecu.edu/wuenschk/docs30/EffectSizeConventions.pdf) for interpreting size values. For example, for Cohen's $d$:\n",
    "   \n",
    "| $|d|$ | size of effect |\n",
    "| :-: | :-- |\n",
    "| $0.2$ | small |\n",
    "| $0.5$ | medium |\n",
    "| $0.8$ | large |"
   ]
  },
  {
   "cell_type": "markdown",
   "id": "2a060217-5a49-49b5-b8df-ec2609084c1a",
   "metadata": {
    "hidden": true
   },
   "source": [
    "Pingouin's [compute_effsize](https://pingouin-stats.org/build/html/generated/pingouin.compute_effsize.html#pingouin.compute_effsize) provides various effect sizes (default is Cohen's *d*) for the comparison of two means, for dependent or independent (default) samples:"
   ]
  },
  {
   "cell_type": "code",
   "execution_count": 30,
   "id": "2ba983bc-ef4c-4a15-ac23-776fffd88afb",
   "metadata": {
    "hidden": true,
    "tags": []
   },
   "outputs": [
    {
     "data": {
      "text/plain": [
       "-0.980871648099785"
      ]
     },
     "execution_count": 30,
     "metadata": {},
     "output_type": "execute_result"
    }
   ],
   "source": [
    "pg.compute_effsize(x1, x2)"
   ]
  },
  {
   "cell_type": "markdown",
   "id": "6b0fd532-87d0-4747-b3a3-322d77c2bfbd",
   "metadata": {
    "heading_collapsed": true,
    "tags": []
   },
   "source": [
    "## Analysis of variance"
   ]
  },
  {
   "cell_type": "markdown",
   "id": "b03b649e-32e0-421a-8ba9-fcb81b01404a",
   "metadata": {
    "hidden": true
   },
   "source": [
    "### One-way ANOVA\n",
    "\n",
    "Comparing three or more group means reads $H_0: \\bar{X_0} = \\bar{X_1} = ... = \\bar{X_k}$ and is usually carried out with an *analysis of variance*.\n",
    "\n",
    "The total variance ($SS_{\\textrm{total}}$) is decomposed as the sum of two terms: *within-group* variance ($SS_{\\textrm{error}}$) and *between-group* variance ($SS_{\\textrm{treatment}}$).\n",
    "\n",
    "$$\n",
    "\\underbrace{\\sum_j\\sum_i (x_{ij} - \\bar{\\bar{x}})^2}_{SS_{\\textrm{total}}} = \\underbrace{\\sum_j\\sum_i (\\bar{x_j} - \\bar{\\bar{x}})^2}_{SS_{\\textrm{treatment}}} + \\underbrace{\\sum_j\\sum_i (x_{ij} - \\bar{x_j})^2}_{SS_{\\textrm{error}}}\n",
    "$$\n",
    "Many statistical tools give the following detailed table:\n",
    "\n",
    "| Source | Degrees of<br />freedom | Sum of squares | Mean squares | $\\mbox{ }F\\mbox{ }$ | $p$-value |\n",
    "| :- | :-: | :-: | :-: | :-: | :-: |\n",
    "| Treatment | $k-1$ | $SS_{\\textrm{treatment}}$ | $MS_{\\textrm{treatment}}$ | $\\frac{MS_{\\textrm{treatment}}}{MS_{\\textrm{error}}}$ | $\\mbox{ }p\\mbox{ }$ |\n",
    "| Error | $N-k$ | $SS_{\\textrm{error}}$ | $MS_{\\textrm{error}}$ | | |\n",
    "| Total | $N-1$ | $SS_{\\textrm{total}}$ | | | |\n",
    "\n",
    "The statistic $F = \\frac{MS_{\\textrm{treatment}}}{MS_{\\textrm{error}}}$ follows the Fisher's [F](https://docs.scipy.org/doc/scipy/reference/generated/scipy.stats.f.html) distribution under $H_0$.\n",
    "\n",
    "More about it at: https://www.coursera.org/learn/stanford-statistics/lecture/pskeN/the-idea-of-analysis-of-variance"
   ]
  },
  {
   "cell_type": "markdown",
   "id": "a5329bbf-ee6c-432d-a130-dca099e18258",
   "metadata": {
    "hidden": true
   },
   "source": [
    "If we define three samples or groups:"
   ]
  },
  {
   "cell_type": "code",
   "execution_count": 31,
   "id": "e917eacc-d454-4476-ac0e-404d67ba5f47",
   "metadata": {},
   "outputs": [],
   "source": [
    "# copied-pasted from https://www.statology.org/bartletts-test-python/\n",
    "A = [85, 86, 88, 75, 78, 94, 98, 79, 71, 80]\n",
    "B = [91, 92, 93, 85, 87, 84, 82, 88, 95, 96]\n",
    "C = [79, 78, 88, 94, 92, 85, 83, 85, 82, 81]"
   ]
  },
  {
   "cell_type": "markdown",
   "id": "671a6865-7bf5-4ff4-b4ff-ec8ee4454994",
   "metadata": {},
   "source": [
    "To perform an ANOVA with Pingouin, we will have to represent the above data in a single DataFrame, in the so-called *long format*, with one row = one observation, and each variable (both dependent and independent) as a column:"
   ]
  },
  {
   "cell_type": "code",
   "execution_count": 32,
   "id": "47010494-cac1-4af9-9490-77fd0cf0d5b8",
   "metadata": {},
   "outputs": [
    {
     "data": {
      "text/html": [
       "<div>\n",
       "<style scoped>\n",
       "    .dataframe tbody tr th:only-of-type {\n",
       "        vertical-align: middle;\n",
       "    }\n",
       "\n",
       "    .dataframe tbody tr th {\n",
       "        vertical-align: top;\n",
       "    }\n",
       "\n",
       "    .dataframe thead th {\n",
       "        text-align: right;\n",
       "    }\n",
       "</style>\n",
       "<table border=\"1\" class=\"dataframe\">\n",
       "  <thead>\n",
       "    <tr style=\"text-align: right;\">\n",
       "      <th></th>\n",
       "      <th>0</th>\n",
       "      <th>1</th>\n",
       "      <th>2</th>\n",
       "      <th>3</th>\n",
       "      <th>4</th>\n",
       "      <th>5</th>\n",
       "      <th>6</th>\n",
       "      <th>7</th>\n",
       "      <th>8</th>\n",
       "      <th>9</th>\n",
       "      <th>...</th>\n",
       "      <th>20</th>\n",
       "      <th>21</th>\n",
       "      <th>22</th>\n",
       "      <th>23</th>\n",
       "      <th>24</th>\n",
       "      <th>25</th>\n",
       "      <th>26</th>\n",
       "      <th>27</th>\n",
       "      <th>28</th>\n",
       "      <th>29</th>\n",
       "    </tr>\n",
       "  </thead>\n",
       "  <tbody>\n",
       "    <tr>\n",
       "      <th>response</th>\n",
       "      <td>85</td>\n",
       "      <td>86</td>\n",
       "      <td>88</td>\n",
       "      <td>75</td>\n",
       "      <td>78</td>\n",
       "      <td>94</td>\n",
       "      <td>98</td>\n",
       "      <td>79</td>\n",
       "      <td>71</td>\n",
       "      <td>80</td>\n",
       "      <td>...</td>\n",
       "      <td>79</td>\n",
       "      <td>78</td>\n",
       "      <td>88</td>\n",
       "      <td>94</td>\n",
       "      <td>92</td>\n",
       "      <td>85</td>\n",
       "      <td>83</td>\n",
       "      <td>85</td>\n",
       "      <td>82</td>\n",
       "      <td>81</td>\n",
       "    </tr>\n",
       "    <tr>\n",
       "      <th>group</th>\n",
       "      <td>A</td>\n",
       "      <td>A</td>\n",
       "      <td>A</td>\n",
       "      <td>A</td>\n",
       "      <td>A</td>\n",
       "      <td>A</td>\n",
       "      <td>A</td>\n",
       "      <td>A</td>\n",
       "      <td>A</td>\n",
       "      <td>A</td>\n",
       "      <td>...</td>\n",
       "      <td>C</td>\n",
       "      <td>C</td>\n",
       "      <td>C</td>\n",
       "      <td>C</td>\n",
       "      <td>C</td>\n",
       "      <td>C</td>\n",
       "      <td>C</td>\n",
       "      <td>C</td>\n",
       "      <td>C</td>\n",
       "      <td>C</td>\n",
       "    </tr>\n",
       "  </tbody>\n",
       "</table>\n",
       "<p>2 rows × 30 columns</p>\n",
       "</div>"
      ],
      "text/plain": [
       "          0   1   2   3   4   5   6   7   8   9   ...  20  21  22  23  24  25  \\\n",
       "response  85  86  88  75  78  94  98  79  71  80  ...  79  78  88  94  92  85   \n",
       "group      A   A   A   A   A   A   A   A   A   A  ...   C   C   C   C   C   C   \n",
       "\n",
       "          26  27  28  29  \n",
       "response  83  85  82  81  \n",
       "group      C   C   C   C  \n",
       "\n",
       "[2 rows x 30 columns]"
      ]
     },
     "execution_count": 32,
     "metadata": {},
     "output_type": "execute_result"
    }
   ],
   "source": [
    "import pandas as pd\n",
    "\n",
    "df = pd.DataFrame(dict(\n",
    "    response = np.concatenate([A,B,C]),\n",
    "    group    = np.repeat(['A','B','C'], [len(A),len(B),len(C)]),\n",
    "))\n",
    "\n",
    "df.T"
   ]
  },
  {
   "cell_type": "markdown",
   "id": "ec8b9c7e-8ba4-4f47-9ff7-33d70d33145f",
   "metadata": {},
   "source": [
    "With Pingouin:"
   ]
  },
  {
   "cell_type": "code",
   "execution_count": 33,
   "id": "e36f108d-4674-4a1c-89d1-eca3360b1ae0",
   "metadata": {},
   "outputs": [
    {
     "data": {
      "text/html": [
       "<div>\n",
       "<style scoped>\n",
       "    .dataframe tbody tr th:only-of-type {\n",
       "        vertical-align: middle;\n",
       "    }\n",
       "\n",
       "    .dataframe tbody tr th {\n",
       "        vertical-align: top;\n",
       "    }\n",
       "\n",
       "    .dataframe thead th {\n",
       "        text-align: right;\n",
       "    }\n",
       "</style>\n",
       "<table border=\"1\" class=\"dataframe\">\n",
       "  <thead>\n",
       "    <tr style=\"text-align: right;\">\n",
       "      <th></th>\n",
       "      <th>Source</th>\n",
       "      <th>ddof1</th>\n",
       "      <th>ddof2</th>\n",
       "      <th>F</th>\n",
       "      <th>p-unc</th>\n",
       "      <th>np2</th>\n",
       "    </tr>\n",
       "  </thead>\n",
       "  <tbody>\n",
       "    <tr>\n",
       "      <th>0</th>\n",
       "      <td>group</td>\n",
       "      <td>2</td>\n",
       "      <td>27</td>\n",
       "      <td>2.357532</td>\n",
       "      <td>0.113848</td>\n",
       "      <td>0.14867</td>\n",
       "    </tr>\n",
       "  </tbody>\n",
       "</table>\n",
       "</div>"
      ],
      "text/plain": [
       "  Source  ddof1  ddof2         F     p-unc      np2\n",
       "0  group      2     27  2.357532  0.113848  0.14867"
      ]
     },
     "execution_count": 33,
     "metadata": {},
     "output_type": "execute_result"
    }
   ],
   "source": [
    "pg.anova(df, dv='response', between='group')"
   ]
  },
  {
   "cell_type": "markdown",
   "id": "a85b93e4-596d-47c9-a0c5-e8c43150dca7",
   "metadata": {
    "hidden": true
   },
   "source": [
    "SciPy also provides a [one-way ANOVA](https://github.com/scipy/scipy/blob/v1.7.1/scipy/stats/mstats_basic.py#L2937-L2967) with function [f_oneway](https://docs.scipy.org/doc/scipy/reference/reference/generated/scipy.stats.f_oneway.html):"
   ]
  },
  {
   "cell_type": "code",
   "execution_count": 34,
   "id": "2bf0aafa-d23f-44fe-b9e0-cf4bf13e7314",
   "metadata": {
    "hidden": true
   },
   "outputs": [
    {
     "data": {
      "text/plain": [
       "F_onewayResult(statistic=2.3575322551335636, pvalue=0.11384795345837218)"
      ]
     },
     "execution_count": 34,
     "metadata": {},
     "output_type": "execute_result"
    }
   ],
   "source": [
    "stats.f_oneway(A, B, C)"
   ]
  },
  {
   "cell_type": "markdown",
   "id": "164aa1ae-5446-4680-9571-c783edaf4101",
   "metadata": {
    "hidden": true,
    "tags": []
   },
   "source": [
    "The ANOVA is an *omnibus* test and does not tell which groups exhibit differing means. Specific differences are later identified using *post-hoc tests* (more about it in next session)."
   ]
  },
  {
   "cell_type": "markdown",
   "id": "0ea4e6c8-4851-4704-b9ca-6257239ab07b",
   "metadata": {
    "heading_collapsed": true,
    "hidden": true,
    "tags": []
   },
   "source": [
    "### Size effect"
   ]
  },
  {
   "cell_type": "markdown",
   "id": "39925882-deb4-43e1-8d82-9fb1e68df0ba",
   "metadata": {
    "hidden": true,
    "tags": []
   },
   "source": [
    "Pingouin's `anova` provides the partial $\\eta_p^2=\\frac{SS_{\\textrm{treatment}}}{SS_{\\textrm{treatment}}+SS_{\\textrm{error}}}$ in the returned table.\n",
    "\n",
    "You can pass argument `effsize='n2'` to get the $\\eta^2=\\frac{SS_{\\textrm{treatment}}}{SS_{\\textrm{error}}}$ instead."
   ]
  },
  {
   "cell_type": "markdown",
   "id": "8b59d33f-5f79-4e57-a629-bce754da1c7b",
   "metadata": {},
   "source": [
    "### Multi-way ANOVA"
   ]
  },
  {
   "cell_type": "markdown",
   "id": "2194415d-c032-4133-b051-4018f1f05417",
   "metadata": {},
   "source": [
    "Pingouin's [`anova`](https://pingouin-stats.org/build/html/generated/pingouin.anova.html#pingouin.anova) can take a __list__ of factors as argument `between`. Beware that it treats the designated columns as categorical variables and does not warn if the data are continuous. Pay attention to the reported numbers of degrees of freedom."
   ]
  },
  {
   "cell_type": "code",
   "execution_count": 35,
   "id": "a00e151c-d532-49cf-bfa2-25aa003324cf",
   "metadata": {},
   "outputs": [],
   "source": [
    "plant_data = pd.DataFrame({\n",
    "    'water':  np.repeat(['daily', 'weekly'], 15),\n",
    "    'sun':    np.tile(np.repeat(['low', 'med', 'high'], 5), 2),\n",
    "    'height': np.array([\n",
    "                        6.3, 6.8, 5.5, 5.1, 6.0, 6.1, 5.0, 6.1, 3.6, 5.4,\n",
    "                        6.4, 5.7, 8.3, 7.7, 7.0, 2.9, 3.2, 2.3, 3.9, 4.1,\n",
    "                        3.5, 5.3, 5.8, 4.6, 3.6, 5.2, 6.2, 5.1, 6.7, 7.0,\n",
    "])})"
   ]
  },
  {
   "cell_type": "code",
   "execution_count": 36,
   "id": "e9d46687-c35e-41fb-8452-087c100c8253",
   "metadata": {},
   "outputs": [
    {
     "data": {
      "text/html": [
       "<div>\n",
       "<style scoped>\n",
       "    .dataframe tbody tr th:only-of-type {\n",
       "        vertical-align: middle;\n",
       "    }\n",
       "\n",
       "    .dataframe tbody tr th {\n",
       "        vertical-align: top;\n",
       "    }\n",
       "\n",
       "    .dataframe thead th {\n",
       "        text-align: right;\n",
       "    }\n",
       "</style>\n",
       "<table border=\"1\" class=\"dataframe\">\n",
       "  <thead>\n",
       "    <tr style=\"text-align: right;\">\n",
       "      <th></th>\n",
       "      <th>Source</th>\n",
       "      <th>SS</th>\n",
       "      <th>DF</th>\n",
       "      <th>MS</th>\n",
       "      <th>F</th>\n",
       "      <th>p-unc</th>\n",
       "      <th>np2</th>\n",
       "    </tr>\n",
       "  </thead>\n",
       "  <tbody>\n",
       "    <tr>\n",
       "      <th>0</th>\n",
       "      <td>water</td>\n",
       "      <td>15.552000</td>\n",
       "      <td>1</td>\n",
       "      <td>15.552000</td>\n",
       "      <td>19.117394</td>\n",
       "      <td>0.000205</td>\n",
       "      <td>0.443380</td>\n",
       "    </tr>\n",
       "    <tr>\n",
       "      <th>1</th>\n",
       "      <td>sun</td>\n",
       "      <td>21.424667</td>\n",
       "      <td>2</td>\n",
       "      <td>10.712333</td>\n",
       "      <td>13.168203</td>\n",
       "      <td>0.000138</td>\n",
       "      <td>0.523208</td>\n",
       "    </tr>\n",
       "    <tr>\n",
       "      <th>2</th>\n",
       "      <td>water * sun</td>\n",
       "      <td>5.694000</td>\n",
       "      <td>2</td>\n",
       "      <td>2.847000</td>\n",
       "      <td>3.499693</td>\n",
       "      <td>0.046376</td>\n",
       "      <td>0.225791</td>\n",
       "    </tr>\n",
       "    <tr>\n",
       "      <th>3</th>\n",
       "      <td>Residual</td>\n",
       "      <td>19.524000</td>\n",
       "      <td>24</td>\n",
       "      <td>0.813500</td>\n",
       "      <td>NaN</td>\n",
       "      <td>NaN</td>\n",
       "      <td>NaN</td>\n",
       "    </tr>\n",
       "  </tbody>\n",
       "</table>\n",
       "</div>"
      ],
      "text/plain": [
       "        Source         SS  DF         MS          F     p-unc       np2\n",
       "0        water  15.552000   1  15.552000  19.117394  0.000205  0.443380\n",
       "1          sun  21.424667   2  10.712333  13.168203  0.000138  0.523208\n",
       "2  water * sun   5.694000   2   2.847000   3.499693  0.046376  0.225791\n",
       "3     Residual  19.524000  24   0.813500        NaN       NaN       NaN"
      ]
     },
     "execution_count": 36,
     "metadata": {},
     "output_type": "execute_result"
    }
   ],
   "source": [
    "pg.anova(plant_data, dv='height', between=['water', 'sun'])"
   ]
  },
  {
   "cell_type": "markdown",
   "id": "d9fbad44-1b73-411d-a861-b3c09e824c9f",
   "metadata": {},
   "source": [
    "Note that Pingouin's `anova` defaults to using type-2 sums of squares. Matlab `anovan` function uses type-3 ss instead.\n",
    "\n",
    "In the above table, we observe an interaction effect between the two factors. If we plot the data, we should the effect of *e.g.* `water` depends on the other factor `sun`:"
   ]
  },
  {
   "cell_type": "code",
   "execution_count": 37,
   "id": "83732c12-c360-42ae-94cf-06d1bf02247b",
   "metadata": {},
   "outputs": [
    {
     "data": {
      "image/png": "[encoded data removed]",
      "text/plain": [
       "<Figure size 640x480 with 1 Axes>"
      ]
     },
     "metadata": {},
     "output_type": "display_data"
    }
   ],
   "source": [
    "sns.boxplot(data=plant_data, x='sun', y='height', hue='water');"
   ]
  },
  {
   "cell_type": "markdown",
   "id": "ae728113-0020-4d50-80bc-9dcb11a3dd42",
   "metadata": {},
   "source": [
    "Alternatively, Pingouin provides an interaction plot:"
   ]
  },
  {
   "cell_type": "code",
   "execution_count": 38,
   "id": "ccc23571-46dd-4250-9c11-feb4eeb2b2e1",
   "metadata": {},
   "outputs": [
    {
     "data": {
      "image/png": "[encoded data removed]",
      "text/plain": [
       "<Figure size 640x480 with 1 Axes>"
      ]
     },
     "metadata": {},
     "output_type": "display_data"
    }
   ],
   "source": [
    "pd.set_option('future.no_silent_downcasting', True) # hide a warning message that the next expression would generate as of pandas 2.2.2 and pingouin 0.5.4\n",
    "pg.plot_paired(data=plant_data, dv='height', within='water', subject='sun');"
   ]
  },
  {
   "cell_type": "markdown",
   "id": "8bf2c9ad-68fd-4f4b-b68c-180de69d3522",
   "metadata": {
    "heading_collapsed": true,
    "hidden": true,
    "tags": []
   },
   "source": [
    "### Assumptions"
   ]
  },
  {
   "cell_type": "markdown",
   "id": "bd484cda-1d0b-4468-a092-f362744f8aa0",
   "metadata": {
    "hidden": true,
    "tags": []
   },
   "source": [
    "The standard *F* test requires the data to exhibit the following properties:\n",
    "\n",
    "* independent observations,\n",
    "* normally distributed residuals,\n",
    "* all groups have equal population variance (*homoscedasticity*),\n",
    "* at least 5 observations ($n \\ge 5$) per group (and equal number)."
   ]
  },
  {
   "cell_type": "markdown",
   "id": "305a944c-3a67-49df-9ff5-9a3b8c36cfed",
   "metadata": {},
   "source": [
    "Pingouin provides [more forms of analyses of (co-)variance](https://pingouin-stats.org/build/html/api.html#anova-and-t-test)."
   ]
  },
  {
   "cell_type": "markdown",
   "id": "e38c759e-8807-4975-9620-9c2100b964a8",
   "metadata": {
    "heading_collapsed": true,
    "tags": []
   },
   "source": [
    "## Checking for common assumptions"
   ]
  },
  {
   "cell_type": "markdown",
   "id": "af5b8858-496a-4045-83de-db7fbb463634",
   "metadata": {
    "hidden": true,
    "tags": []
   },
   "source": [
    "Most parametric tests make assumptions or have requirements on the distribution of the dependent variable or the residuals.\n",
    "\n",
    "The desired properties can be checked with dedicated statistical tests that Pingouin conveniently groups into three functions with self-explanatory names:\n",
    "* [`normality`](https://pingouin-stats.org/build/html/generated/pingouin.normality.html#pingouin.normality)\n",
    "* [`homoscedasticity`](https://pingouin-stats.org/build/html/generated/pingouin.homoscedasticity.html#pingouin.homoscedasticity)\n",
    "* [`sphericity`](https://pingouin-stats.org/build/html/generated/pingouin.sphericity.html#pingouin.sphericity) (not mentioned any further in this material)\n",
    "\n",
    "However, visual checks for the desired properties are often preferred."
   ]
  },
  {
   "cell_type": "markdown",
   "id": "96dc6c80-6816-4088-9ceb-1ddd58759a98",
   "metadata": {
    "hidden": true,
    "tags": []
   },
   "source": [
    "### Normality"
   ]
  },
  {
   "cell_type": "markdown",
   "id": "1ecd70e2-0860-4dc4-9620-b34f2f0e8c31",
   "metadata": {
    "hidden": true,
    "tags": []
   },
   "source": [
    "Having this property is usually not critical, because most tests are fairly robust to non-normality.\n",
    "We only need to avoid cases of \"extreme non-normality\".\n",
    "\n",
    "Beware however that, in the case of residuals (prediction errors of a model), a departure from normality may be an indication of systematic errors in some groups."
   ]
  },
  {
   "cell_type": "code",
   "execution_count": 39,
   "id": "b24c3e20-6cbc-4f03-b189-780c609a3320",
   "metadata": {},
   "outputs": [],
   "source": [
    "np.random.seed(1245619531)\n",
    "\n",
    "x_normal = 2 * stats.norm.rvs(loc=0, scale=1, size=30) # generate 30 observations from the standard normal distribution\n",
    "x_not_normal = stats.norm.rvs(loc=[-1,1], scale=[1,3], size=(15,2)).ravel() # generate 30 observations from a mixture of normal distributions"
   ]
  },
  {
   "cell_type": "markdown",
   "id": "c5fa2537-0d3b-4b1d-bba4-a479cdf2c0a9",
   "metadata": {
    "hidden": true,
    "tags": []
   },
   "source": [
    "#### Graphical approaches"
   ]
  },
  {
   "cell_type": "markdown",
   "id": "c977f26f-df05-4ead-a6cd-5ad9f318db0f",
   "metadata": {},
   "source": [
    "Pingouin provides Q-Q plots:"
   ]
  },
  {
   "cell_type": "code",
   "execution_count": 40,
   "id": "7b4317d7-248a-462f-a252-a815215f4072",
   "metadata": {},
   "outputs": [
    {
     "data": {
      "image/png": "[encoded data removed]",
      "text/plain": [
       "<Figure size 1330x410 with 2 Axes>"
      ]
     },
     "metadata": {},
     "output_type": "display_data"
    }
   ],
   "source": [
    "_, axes = plt.subplots(1, 2, figsize=(13.3,4.1))\n",
    "\n",
    "pg.qqplot(x_normal, ax=axes[0])\n",
    "pg.qqplot(x_not_normal, ax=axes[1]);"
   ]
  },
  {
   "cell_type": "markdown",
   "id": "f0f983f0-6143-44b0-9eee-f6d54eb5cf51",
   "metadata": {
    "hidden": true,
    "tags": []
   },
   "source": [
    "SciPy also provides similar plots (probability plots) with [probplot](https://docs.scipy.org/doc/scipy/reference/generated/scipy.stats.probplot.html):"
   ]
  },
  {
   "cell_type": "code",
   "execution_count": 41,
   "id": "6bcaa795-3a85-4b8c-aad9-d554e244a2ec",
   "metadata": {
    "hidden": true,
    "tags": []
   },
   "outputs": [
    {
     "data": {
      "image/png": "[encoded data removed]",
      "text/plain": [
       "<Figure size 1330x410 with 2 Axes>"
      ]
     },
     "metadata": {},
     "output_type": "display_data"
    }
   ],
   "source": [
    "_, axes = plt.subplots(1, 2, figsize=(13.3,4.1))\n",
    "\n",
    "stats.probplot(x_normal, plot=axes[0])\n",
    "stats.probplot(x_not_normal, plot=axes[1]);"
   ]
  },
  {
   "cell_type": "markdown",
   "id": "8f46e74c-ee1f-454c-a4a1-3e551899e7e7",
   "metadata": {
    "hidden": true
   },
   "source": [
    "#### Normality tests"
   ]
  },
  {
   "cell_type": "markdown",
   "id": "da10f0a4-eb46-4a63-90de-117e428b01d4",
   "metadata": {},
   "source": [
    "With Pingouin:"
   ]
  },
  {
   "cell_type": "code",
   "execution_count": 42,
   "id": "920395a5-7770-45ed-9bd3-80ff71bda307",
   "metadata": {},
   "outputs": [
    {
     "data": {
      "text/html": [
       "<div>\n",
       "<style scoped>\n",
       "    .dataframe tbody tr th:only-of-type {\n",
       "        vertical-align: middle;\n",
       "    }\n",
       "\n",
       "    .dataframe tbody tr th {\n",
       "        vertical-align: top;\n",
       "    }\n",
       "\n",
       "    .dataframe thead th {\n",
       "        text-align: right;\n",
       "    }\n",
       "</style>\n",
       "<table border=\"1\" class=\"dataframe\">\n",
       "  <thead>\n",
       "    <tr style=\"text-align: right;\">\n",
       "      <th></th>\n",
       "      <th>W</th>\n",
       "      <th>pval</th>\n",
       "      <th>normal</th>\n",
       "    </tr>\n",
       "  </thead>\n",
       "  <tbody>\n",
       "    <tr>\n",
       "      <th>0</th>\n",
       "      <td>0.940223</td>\n",
       "      <td>0.092225</td>\n",
       "      <td>True</td>\n",
       "    </tr>\n",
       "  </tbody>\n",
       "</table>\n",
       "</div>"
      ],
      "text/plain": [
       "          W      pval  normal\n",
       "0  0.940223  0.092225    True"
      ]
     },
     "execution_count": 42,
     "metadata": {},
     "output_type": "execute_result"
    }
   ],
   "source": [
    "pg.normality(x_not_normal)#, method='jarque_bera')"
   ]
  },
  {
   "cell_type": "markdown",
   "id": "35c08d95-c21f-4202-8bbf-eed8b50fcdf7",
   "metadata": {},
   "source": [
    "A major issue with tests of normality is they depend too much on the sample size. They are not powerful enough on small samples, and tend to see departures of normality everywhere in large samples."
   ]
  },
  {
   "cell_type": "markdown",
   "id": "81a1572d-1639-42d9-834c-2ba86c7c7dd3",
   "metadata": {
    "hidden": true
   },
   "source": [
    "\n",
    "Similar options can be found in Scipy:\n",
    "* D'Agostino's test: [normaltest](https://docs.scipy.org/doc/scipy/reference/generated/scipy.stats.normaltest.html), preferably for large samples ($n>20$),\n",
    "    * Similar test for skewness only: [skewtest](https://docs.scipy.org/doc/scipy/reference/generated/scipy.stats.skewtest.html) ($n\\ge8$),"
   ]
  },
  {
   "cell_type": "code",
   "execution_count": 43,
   "id": "e964be07-0696-4ff8-844a-3e7d318a7f3a",
   "metadata": {
    "hidden": true,
    "tags": []
   },
   "outputs": [
    {
     "data": {
      "image/png": "[encoded data removed]",
      "text/plain": [
       "<Figure size 1330x410 with 2 Axes>"
      ]
     },
     "metadata": {},
     "output_type": "display_data"
    }
   ],
   "source": [
    "scipy_material.illustration_skewness_kurtosis()"
   ]
  },
  {
   "cell_type": "markdown",
   "id": "eed065d2-dd35-4fdb-ad91-8d387a06c7ea",
   "metadata": {
    "hidden": true
   },
   "source": [
    "* Shapiro-Wilk's test: [shapiro](https://docs.scipy.org/doc/scipy/reference/generated/scipy.stats.shapiro.html),\n",
    "* Generic goodness-of-fit tests: [kstest](https://docs.scipy.org/doc/scipy/reference/generated/scipy.stats.kstest.html) and [anderson](https://docs.scipy.org/doc/scipy/reference/generated/scipy.stats.anderson.html)."
   ]
  },
  {
   "cell_type": "markdown",
   "id": "4c7a08d6-3c74-48ce-ad32-f164089b6ec7",
   "metadata": {
    "heading_collapsed": true,
    "hidden": true,
    "tags": []
   },
   "source": [
    "### Equal variance (homoscedasticity)"
   ]
  },
  {
   "cell_type": "markdown",
   "id": "5e5a893e-6475-401b-9335-b117629b8d0a",
   "metadata": {
    "hidden": true,
    "tags": []
   },
   "source": [
    "#### Graphical approaches\n",
    "\n",
    "Simple per-group box plots."
   ]
  },
  {
   "cell_type": "code",
   "execution_count": 44,
   "id": "8a31b653-d891-4f07-ab8b-73562b2ed86d",
   "metadata": {
    "hidden": true
   },
   "outputs": [
    {
     "data": {
      "image/png": "[encoded data removed]",
      "text/plain": [
       "<Figure size 640x480 with 1 Axes>"
      ]
     },
     "metadata": {},
     "output_type": "display_data"
    }
   ],
   "source": [
    "sns.boxplot(df, y='response', x='group');"
   ]
  },
  {
   "cell_type": "markdown",
   "id": "2ecc864d-c32b-4465-b562-6b23c5f1ace2",
   "metadata": {
    "hidden": true
   },
   "source": [
    "#### Equality-of-variance tests"
   ]
  },
  {
   "cell_type": "code",
   "execution_count": 45,
   "id": "3b2c0d0d-0ab0-4bf7-8128-bcfa4d1a3cec",
   "metadata": {},
   "outputs": [
    {
     "data": {
      "text/html": [
       "<div>\n",
       "<style scoped>\n",
       "    .dataframe tbody tr th:only-of-type {\n",
       "        vertical-align: middle;\n",
       "    }\n",
       "\n",
       "    .dataframe tbody tr th {\n",
       "        vertical-align: top;\n",
       "    }\n",
       "\n",
       "    .dataframe thead th {\n",
       "        text-align: right;\n",
       "    }\n",
       "</style>\n",
       "<table border=\"1\" class=\"dataframe\">\n",
       "  <thead>\n",
       "    <tr style=\"text-align: right;\">\n",
       "      <th></th>\n",
       "      <th>W</th>\n",
       "      <th>pval</th>\n",
       "      <th>equal_var</th>\n",
       "    </tr>\n",
       "  </thead>\n",
       "  <tbody>\n",
       "    <tr>\n",
       "      <th>levene</th>\n",
       "      <td>2.080216</td>\n",
       "      <td>0.144465</td>\n",
       "      <td>True</td>\n",
       "    </tr>\n",
       "  </tbody>\n",
       "</table>\n",
       "</div>"
      ],
      "text/plain": [
       "               W      pval  equal_var\n",
       "levene  2.080216  0.144465       True"
      ]
     },
     "execution_count": 45,
     "metadata": {},
     "output_type": "execute_result"
    }
   ],
   "source": [
    "pg.homoscedasticity(df, dv='response', group='group')"
   ]
  },
  {
   "cell_type": "markdown",
   "id": "348a2ae9-6644-412a-b41c-d494e4620b90",
   "metadata": {
    "hidden": true
   },
   "source": [
    "In SciPy, we also find:\n",
    "* Bartlett's test: [bartlett](https://docs.scipy.org/doc/scipy/reference/generated/scipy.stats.bartlett.html), most basic and common test,\n",
    "* Levene's test: [levene](https://docs.scipy.org/doc/scipy/reference/generated/scipy.stats.levene.html), better for skewed or heavy-tailed distributions,\n",
    "* ...and others: Fligner-Killeen's test ([fligner](https://docs.scipy.org/doc/scipy/reference/generated/scipy.stats.fligner.html)), Ansari-Bradley's test ([ansari](https://docs.scipy.org/doc/scipy/reference/generated/scipy.stats.ansari.html)), etc\n",
    "\n",
    "Example:"
   ]
  },
  {
   "cell_type": "code",
   "execution_count": 46,
   "id": "280180fa-4f20-44a6-a463-2ce9b0ad75a4",
   "metadata": {
    "hidden": true
   },
   "outputs": [
    {
     "data": {
      "text/plain": [
       "BartlettResult(statistic=3.3024375753550594, pvalue=0.19181598314035977)"
      ]
     },
     "execution_count": 46,
     "metadata": {},
     "output_type": "execute_result"
    }
   ],
   "source": [
    "stats.bartlett(A, B, C)"
   ]
  },
  {
   "cell_type": "markdown",
   "id": "e906820a-af04-4a9d-992f-f2e07a7aed91",
   "metadata": {
    "hidden": true
   },
   "source": [
    "In the above example, as there is not enough evidence to reject $H_0$ ($p>0.05$), we can proceed to perform a standard one-way ANOVA, for example with Pingouin's `anova`. Otherwise, we would use Pingouin's [`welch_anova`](https://pingouin-stats.org/generated/pingouin.welch_anova.html) or SciPy's [`alexandergovern`](https://docs.scipy.org/doc/scipy/reference/generated/scipy.stats.alexandergovern.html)."
   ]
  },
  {
   "cell_type": "markdown",
   "id": "c09c6222-4167-4e32-b6da-4abe3a8960de",
   "metadata": {
    "heading_collapsed": true,
    "tags": []
   },
   "source": [
    "## χ² tests"
   ]
  },
  {
   "cell_type": "markdown",
   "id": "1b60daa6-99f2-4b43-9b95-1bcda7114ec2",
   "metadata": {
    "hidden": true,
    "tags": []
   },
   "source": [
    "When the sum of the observations is known, *e.g.* observations are frequencies -- proportions that sum to $1$, we use a $\\chi^2$ test instead of an ANOVA.\n",
    "\n",
    "These tests are named after the $\\chi^2$ distribution. Tests based on this distribution derive a one-sided *p*-value."
   ]
  },
  {
   "cell_type": "code",
   "execution_count": 47,
   "id": "f4a1bcc6-c691-44ff-9932-f34ac5fd9a03",
   "metadata": {},
   "outputs": [
    {
     "data": {
      "image/png": "[encoded data removed]",
      "text/plain": [
       "<Figure size 1330x410 with 2 Axes>"
      ]
     },
     "metadata": {},
     "output_type": "display_data"
    }
   ],
   "source": [
    "scipy_material.illustration_chi2()"
   ]
  },
  {
   "cell_type": "markdown",
   "id": "ac68602f-a5ee-4b75-befc-5fc198a7b5b1",
   "metadata": {},
   "source": [
    "We will use:\n",
    "* SciPy's [`contingency.crosstab`](), [`chisquare`](https://docs.scipy.org/doc/scipy/reference/generated/scipy.stats.chisquare.html) and [`chi2_contingency`](https://docs.scipy.org/doc/scipy/reference/generated/scipy.stats.chi2_contingency.html),\n",
    "* Pingouin's [`chi2_independence`](https://pingouin-stats.org/build/html/generated/pingouin.chi2_independence.html#pingouin.chi2_independence).\n",
    "\n",
    "Scipy's functions take counts as input data, while Pingouin's only function takes a dataframe and the column names of categorical variables.\n",
    "\n",
    "If we have data in long format:"
   ]
  },
  {
   "cell_type": "code",
   "execution_count": 48,
   "id": "141d0591-b63d-49e1-98e7-2491a6fa5d11",
   "metadata": {},
   "outputs": [
    {
     "data": {
      "text/html": [
       "<div>\n",
       "<style scoped>\n",
       "    .dataframe tbody tr th:only-of-type {\n",
       "        vertical-align: middle;\n",
       "    }\n",
       "\n",
       "    .dataframe tbody tr th {\n",
       "        vertical-align: top;\n",
       "    }\n",
       "\n",
       "    .dataframe thead th {\n",
       "        text-align: right;\n",
       "    }\n",
       "</style>\n",
       "<table border=\"1\" class=\"dataframe\">\n",
       "  <thead>\n",
       "    <tr style=\"text-align: right;\">\n",
       "      <th></th>\n",
       "      <th>total_bill</th>\n",
       "      <th>tip</th>\n",
       "      <th>sex</th>\n",
       "      <th>smoker</th>\n",
       "      <th>day</th>\n",
       "      <th>time</th>\n",
       "      <th>size</th>\n",
       "    </tr>\n",
       "  </thead>\n",
       "  <tbody>\n",
       "    <tr>\n",
       "      <th>0</th>\n",
       "      <td>16.99</td>\n",
       "      <td>1.01</td>\n",
       "      <td>Female</td>\n",
       "      <td>No</td>\n",
       "      <td>Sun</td>\n",
       "      <td>Dinner</td>\n",
       "      <td>2</td>\n",
       "    </tr>\n",
       "    <tr>\n",
       "      <th>1</th>\n",
       "      <td>10.34</td>\n",
       "      <td>1.66</td>\n",
       "      <td>Male</td>\n",
       "      <td>No</td>\n",
       "      <td>Sun</td>\n",
       "      <td>Dinner</td>\n",
       "      <td>3</td>\n",
       "    </tr>\n",
       "    <tr>\n",
       "      <th>2</th>\n",
       "      <td>21.01</td>\n",
       "      <td>3.50</td>\n",
       "      <td>Male</td>\n",
       "      <td>No</td>\n",
       "      <td>Sun</td>\n",
       "      <td>Dinner</td>\n",
       "      <td>3</td>\n",
       "    </tr>\n",
       "    <tr>\n",
       "      <th>3</th>\n",
       "      <td>23.68</td>\n",
       "      <td>3.31</td>\n",
       "      <td>Male</td>\n",
       "      <td>No</td>\n",
       "      <td>Sun</td>\n",
       "      <td>Dinner</td>\n",
       "      <td>2</td>\n",
       "    </tr>\n",
       "    <tr>\n",
       "      <th>4</th>\n",
       "      <td>24.59</td>\n",
       "      <td>3.61</td>\n",
       "      <td>Female</td>\n",
       "      <td>No</td>\n",
       "      <td>Sun</td>\n",
       "      <td>Dinner</td>\n",
       "      <td>4</td>\n",
       "    </tr>\n",
       "    <tr>\n",
       "      <th>...</th>\n",
       "      <td>...</td>\n",
       "      <td>...</td>\n",
       "      <td>...</td>\n",
       "      <td>...</td>\n",
       "      <td>...</td>\n",
       "      <td>...</td>\n",
       "      <td>...</td>\n",
       "    </tr>\n",
       "    <tr>\n",
       "      <th>239</th>\n",
       "      <td>29.03</td>\n",
       "      <td>5.92</td>\n",
       "      <td>Male</td>\n",
       "      <td>No</td>\n",
       "      <td>Sat</td>\n",
       "      <td>Dinner</td>\n",
       "      <td>3</td>\n",
       "    </tr>\n",
       "    <tr>\n",
       "      <th>240</th>\n",
       "      <td>27.18</td>\n",
       "      <td>2.00</td>\n",
       "      <td>Female</td>\n",
       "      <td>Yes</td>\n",
       "      <td>Sat</td>\n",
       "      <td>Dinner</td>\n",
       "      <td>2</td>\n",
       "    </tr>\n",
       "    <tr>\n",
       "      <th>241</th>\n",
       "      <td>22.67</td>\n",
       "      <td>2.00</td>\n",
       "      <td>Male</td>\n",
       "      <td>Yes</td>\n",
       "      <td>Sat</td>\n",
       "      <td>Dinner</td>\n",
       "      <td>2</td>\n",
       "    </tr>\n",
       "    <tr>\n",
       "      <th>242</th>\n",
       "      <td>17.82</td>\n",
       "      <td>1.75</td>\n",
       "      <td>Male</td>\n",
       "      <td>No</td>\n",
       "      <td>Sat</td>\n",
       "      <td>Dinner</td>\n",
       "      <td>2</td>\n",
       "    </tr>\n",
       "    <tr>\n",
       "      <th>243</th>\n",
       "      <td>18.78</td>\n",
       "      <td>3.00</td>\n",
       "      <td>Female</td>\n",
       "      <td>No</td>\n",
       "      <td>Thur</td>\n",
       "      <td>Dinner</td>\n",
       "      <td>2</td>\n",
       "    </tr>\n",
       "  </tbody>\n",
       "</table>\n",
       "<p>244 rows × 7 columns</p>\n",
       "</div>"
      ],
      "text/plain": [
       "     total_bill   tip     sex smoker   day    time  size\n",
       "0         16.99  1.01  Female     No   Sun  Dinner     2\n",
       "1         10.34  1.66    Male     No   Sun  Dinner     3\n",
       "2         21.01  3.50    Male     No   Sun  Dinner     3\n",
       "3         23.68  3.31    Male     No   Sun  Dinner     2\n",
       "4         24.59  3.61  Female     No   Sun  Dinner     4\n",
       "..          ...   ...     ...    ...   ...     ...   ...\n",
       "239       29.03  5.92    Male     No   Sat  Dinner     3\n",
       "240       27.18  2.00  Female    Yes   Sat  Dinner     2\n",
       "241       22.67  2.00    Male    Yes   Sat  Dinner     2\n",
       "242       17.82  1.75    Male     No   Sat  Dinner     2\n",
       "243       18.78  3.00  Female     No  Thur  Dinner     2\n",
       "\n",
       "[244 rows x 7 columns]"
      ]
     },
     "execution_count": 48,
     "metadata": {},
     "output_type": "execute_result"
    }
   ],
   "source": [
    "tips = pg.read_dataset('tips')\n",
    "tips"
   ]
  },
  {
   "cell_type": "markdown",
   "id": "2f04ebc2-0fa8-43f8-a1d9-65069f18f53c",
   "metadata": {},
   "source": [
    "We can summarize the crossed counts of the categorical variables in a contingency table, using SciPy's `contingency.crosstab`:"
   ]
  },
  {
   "cell_type": "code",
   "execution_count": 49,
   "id": "d90e3c9a-e4f5-4f07-b3c2-7bbaf1d018b8",
   "metadata": {},
   "outputs": [
    {
     "data": {
      "text/html": [
       "<div>\n",
       "<style scoped>\n",
       "    .dataframe tbody tr th:only-of-type {\n",
       "        vertical-align: middle;\n",
       "    }\n",
       "\n",
       "    .dataframe tbody tr th {\n",
       "        vertical-align: top;\n",
       "    }\n",
       "\n",
       "    .dataframe thead th {\n",
       "        text-align: right;\n",
       "    }\n",
       "</style>\n",
       "<table border=\"1\" class=\"dataframe\">\n",
       "  <thead>\n",
       "    <tr style=\"text-align: right;\">\n",
       "      <th></th>\n",
       "      <th>Fri</th>\n",
       "      <th>Sat</th>\n",
       "      <th>Sun</th>\n",
       "      <th>Thur</th>\n",
       "    </tr>\n",
       "  </thead>\n",
       "  <tbody>\n",
       "    <tr>\n",
       "      <th>Female</th>\n",
       "      <td>9</td>\n",
       "      <td>28</td>\n",
       "      <td>18</td>\n",
       "      <td>32</td>\n",
       "    </tr>\n",
       "    <tr>\n",
       "      <th>Male</th>\n",
       "      <td>10</td>\n",
       "      <td>59</td>\n",
       "      <td>58</td>\n",
       "      <td>30</td>\n",
       "    </tr>\n",
       "  </tbody>\n",
       "</table>\n",
       "</div>"
      ],
      "text/plain": [
       "        Fri  Sat  Sun  Thur\n",
       "Female    9   28   18    32\n",
       "Male     10   59   58    30"
      ]
     },
     "execution_count": 49,
     "metadata": {},
     "output_type": "execute_result"
    }
   ],
   "source": [
    "(row_labels, col_labels), counts = stats.contingency.crosstab(tips['sex'], tips['day'])\n",
    "observed_counts = pd.DataFrame(counts, index=row_labels, columns=col_labels)\n",
    "observed_counts"
   ]
  },
  {
   "cell_type": "markdown",
   "id": "1feb29a6-eeac-4096-8e90-c663fdeea8a8",
   "metadata": {
    "heading_collapsed": true,
    "hidden": true,
    "tags": []
   },
   "source": [
    "### Homogeneity and independence"
   ]
  },
  {
   "cell_type": "markdown",
   "id": "2ef858d5-ec8f-405d-924e-62f5286a94c5",
   "metadata": {
    "hidden": true,
    "tags": []
   },
   "source": [
    "$H_0$: men and women give tips following a similar weekly pattern.\n",
    "\n",
    "If we consider the proportion of each day in the total collected tips:"
   ]
  },
  {
   "cell_type": "code",
   "execution_count": 50,
   "id": "fe4ce304-25ac-4734-9a0a-e20db59b742f",
   "metadata": {
    "hidden": true
   },
   "outputs": [
    {
     "data": {
      "text/html": [
       "<div>\n",
       "<style scoped>\n",
       "    .dataframe tbody tr th:only-of-type {\n",
       "        vertical-align: middle;\n",
       "    }\n",
       "\n",
       "    .dataframe tbody tr th {\n",
       "        vertical-align: top;\n",
       "    }\n",
       "\n",
       "    .dataframe thead th {\n",
       "        text-align: right;\n",
       "    }\n",
       "</style>\n",
       "<table border=\"1\" class=\"dataframe\">\n",
       "  <thead>\n",
       "    <tr style=\"text-align: right;\">\n",
       "      <th></th>\n",
       "      <th>Fri</th>\n",
       "      <th>Sat</th>\n",
       "      <th>Sun</th>\n",
       "      <th>Thur</th>\n",
       "    </tr>\n",
       "  </thead>\n",
       "  <tbody>\n",
       "    <tr>\n",
       "      <th>Altogether</th>\n",
       "      <td>0.077869</td>\n",
       "      <td>0.356557</td>\n",
       "      <td>0.311475</td>\n",
       "      <td>0.254098</td>\n",
       "    </tr>\n",
       "  </tbody>\n",
       "</table>\n",
       "</div>"
      ],
      "text/plain": [
       "                 Fri       Sat       Sun      Thur\n",
       "Altogether  0.077869  0.356557  0.311475  0.254098"
      ]
     },
     "execution_count": 50,
     "metadata": {},
     "output_type": "execute_result"
    }
   ],
   "source": [
    "expected_props = observed_counts.sum(axis=0) / observed_counts.values.sum()\n",
    "\n",
    "pd.DataFrame(dict(Altogether=expected_props)).T"
   ]
  },
  {
   "cell_type": "markdown",
   "id": "7f4b4727-3a9b-474f-b6ad-b632be97b04e",
   "metadata": {
    "hidden": true
   },
   "source": [
    "$H_0$ can be expressed in terms of proportions as:"
   ]
  },
  {
   "cell_type": "code",
   "execution_count": 51,
   "id": "1473b92c-5f36-47a9-a17b-e6be81d9db52",
   "metadata": {},
   "outputs": [
    {
     "data": {
      "text/html": [
       "<div>\n",
       "<style scoped>\n",
       "    .dataframe tbody tr th:only-of-type {\n",
       "        vertical-align: middle;\n",
       "    }\n",
       "\n",
       "    .dataframe tbody tr th {\n",
       "        vertical-align: top;\n",
       "    }\n",
       "\n",
       "    .dataframe thead th {\n",
       "        text-align: right;\n",
       "    }\n",
       "</style>\n",
       "<table border=\"1\" class=\"dataframe\">\n",
       "  <thead>\n",
       "    <tr style=\"text-align: right;\">\n",
       "      <th></th>\n",
       "      <th>Fri</th>\n",
       "      <th>Sat</th>\n",
       "      <th>Sun</th>\n",
       "      <th>Thur</th>\n",
       "    </tr>\n",
       "  </thead>\n",
       "  <tbody>\n",
       "    <tr>\n",
       "      <th>Female</th>\n",
       "      <td>0.077869</td>\n",
       "      <td>0.356557</td>\n",
       "      <td>0.311475</td>\n",
       "      <td>0.254098</td>\n",
       "    </tr>\n",
       "    <tr>\n",
       "      <th>Male</th>\n",
       "      <td>0.077869</td>\n",
       "      <td>0.356557</td>\n",
       "      <td>0.311475</td>\n",
       "      <td>0.254098</td>\n",
       "    </tr>\n",
       "  </tbody>\n",
       "</table>\n",
       "</div>"
      ],
      "text/plain": [
       "             Fri       Sat       Sun      Thur\n",
       "Female  0.077869  0.356557  0.311475  0.254098\n",
       "Male    0.077869  0.356557  0.311475  0.254098"
      ]
     },
     "execution_count": 51,
     "metadata": {},
     "output_type": "execute_result"
    }
   ],
   "source": [
    "pd.DataFrame(dict(Female=expected_props, Male=expected_props)).T"
   ]
  },
  {
   "cell_type": "markdown",
   "id": "a6fa1de7-3da6-4853-9bac-bbd226b31014",
   "metadata": {},
   "source": [
    "Or equivalently in terms of counts:"
   ]
  },
  {
   "cell_type": "code",
   "execution_count": 52,
   "id": "087ea780-304c-459d-a7c0-066817f3d82f",
   "metadata": {
    "hidden": true
   },
   "outputs": [
    {
     "data": {
      "text/html": [
       "<div>\n",
       "<style scoped>\n",
       "    .dataframe tbody tr th:only-of-type {\n",
       "        vertical-align: middle;\n",
       "    }\n",
       "\n",
       "    .dataframe tbody tr th {\n",
       "        vertical-align: top;\n",
       "    }\n",
       "\n",
       "    .dataframe thead th {\n",
       "        text-align: right;\n",
       "    }\n",
       "</style>\n",
       "<table border=\"1\" class=\"dataframe\">\n",
       "  <thead>\n",
       "    <tr style=\"text-align: right;\">\n",
       "      <th></th>\n",
       "      <th>Fri</th>\n",
       "      <th>Sat</th>\n",
       "      <th>Sun</th>\n",
       "      <th>Thur</th>\n",
       "    </tr>\n",
       "  </thead>\n",
       "  <tbody>\n",
       "    <tr>\n",
       "      <th>Female</th>\n",
       "      <td>6.77459</td>\n",
       "      <td>31.020492</td>\n",
       "      <td>27.098361</td>\n",
       "      <td>22.106557</td>\n",
       "    </tr>\n",
       "    <tr>\n",
       "      <th>Male</th>\n",
       "      <td>12.22541</td>\n",
       "      <td>55.979508</td>\n",
       "      <td>48.901639</td>\n",
       "      <td>39.893443</td>\n",
       "    </tr>\n",
       "  </tbody>\n",
       "</table>\n",
       "</div>"
      ],
      "text/plain": [
       "             Fri        Sat        Sun       Thur\n",
       "Female   6.77459  31.020492  27.098361  22.106557\n",
       "Male    12.22541  55.979508  48.901639  39.893443"
      ]
     },
     "execution_count": 52,
     "metadata": {},
     "output_type": "execute_result"
    }
   ],
   "source": [
    "expected_counts = np.outer(observed_counts.sum(axis=1), expected_props)\n",
    "\n",
    "pd.DataFrame(expected_counts, index=row_labels, columns=col_labels)"
   ]
  },
  {
   "cell_type": "markdown",
   "id": "c0f49b1a-3a7a-4ad8-8d2a-9fd3513ad2a6",
   "metadata": {
    "hidden": true
   },
   "source": [
    "These counts are not integers. They are theoretical counts. We can contrast them with the observed counts, and derive the following statistic:\n",
    "\n",
    "$$\n",
    "\\chi^2 = \\sum_{i=1}^{k}\\sum_{j=1}^{l} \\frac{(O_{ij} - E_{ij})^2}{E_{ij}} \\mbox{ } \\mbox{ } \\mbox{ } \\mbox{ } \\mbox{ } \\mbox{ } \\mbox{ } \\sim \\chi^2_{(k-1)(l-1)} \\mbox{ } \\textrm{under} \\mbox{ } H_0\n",
    "$$\n",
    "\n",
    "where $O_{ij}$ are the observed counts and $E_{ij}$ the expected or theoretical counts."
   ]
  },
  {
   "cell_type": "code",
   "execution_count": 53,
   "id": "d9585b87-f5dd-4cf2-ad91-0a79dcc95c86",
   "metadata": {
    "hidden": true
   },
   "outputs": [
    {
     "data": {
      "text/plain": [
       "13.222001372406606"
      ]
     },
     "execution_count": 53,
     "metadata": {},
     "output_type": "execute_result"
    }
   ],
   "source": [
    "j, k = expected_counts.shape\n",
    "dof = (j - 1) * (k - 1)\n",
    "chi2 = np.sum((observed_counts.values - expected_counts) ** 2 / expected_counts)\n",
    "chi2"
   ]
  },
  {
   "cell_type": "markdown",
   "id": "12881bb7-405f-42c0-a892-eea600084170",
   "metadata": {},
   "source": [
    "The $p$-value can calculated as follows:"
   ]
  },
  {
   "cell_type": "code",
   "execution_count": 54,
   "id": "a7cd985e-eb2b-4a72-a221-30e3e0fdf8ec",
   "metadata": {
    "hidden": true,
    "tags": []
   },
   "outputs": [
    {
     "data": {
      "text/plain": [
       "0.004180302092822262"
      ]
     },
     "execution_count": 54,
     "metadata": {},
     "output_type": "execute_result"
    }
   ],
   "source": [
    "stats.chi2(dof).sf(chi2)"
   ]
  },
  {
   "cell_type": "markdown",
   "id": "13d7ef58-e62d-48de-a3a4-2ccc2ac588cb",
   "metadata": {
    "hidden": true
   },
   "source": [
    "SciPy's $\\chi^2$ test for homogeneity/independence is [chi2_contingency](https://docs.scipy.org/doc/scipy/reference/generated/scipy.stats.chi2_contingency.html):"
   ]
  },
  {
   "cell_type": "code",
   "execution_count": 55,
   "id": "4cd7ea08-110a-4ff7-9521-0f12e4169d35",
   "metadata": {
    "hidden": true
   },
   "outputs": [
    {
     "data": {
      "text/plain": [
       "(13.22200137240661, 0.004180302092822257)"
      ]
     },
     "execution_count": 55,
     "metadata": {},
     "output_type": "execute_result"
    }
   ],
   "source": [
    "chi2, pvalue, dof, expected_props = stats.chi2_contingency(observed_counts)\n",
    "(chi2, pvalue)"
   ]
  },
  {
   "cell_type": "markdown",
   "id": "45da92b9-cd4e-4d1b-8996-451285ef1896",
   "metadata": {
    "hidden": true
   },
   "source": [
    "Due to the design of the test, it doesn't matter what factor whose effect is hypothesized to be null under $H_0$. We get the exact same result after transposing the contingency table:"
   ]
  },
  {
   "cell_type": "code",
   "execution_count": 56,
   "id": "d7e7fd75-068c-4f37-b981-498890c4a0d7",
   "metadata": {
    "hidden": true
   },
   "outputs": [
    {
     "data": {
      "text/plain": [
       "(13.22200137240661, 0.004180302092822257)"
      ]
     },
     "execution_count": 56,
     "metadata": {},
     "output_type": "execute_result"
    }
   ],
   "source": [
    "chi2, pvalue, dof, expected_props_T = stats.chi2_contingency(observed_counts.T)\n",
    "(chi2, pvalue)"
   ]
  },
  {
   "cell_type": "markdown",
   "id": "cb3833b5-fc3b-4433-9a91-608d9eeb68cd",
   "metadata": {},
   "source": [
    "As already mentioned, Pingouin's `chi2_independence` is suitable for data in long format:"
   ]
  },
  {
   "cell_type": "code",
   "execution_count": 57,
   "id": "08c1de88-2f70-4bdb-9291-634c872b730d",
   "metadata": {},
   "outputs": [
    {
     "data": {
      "text/html": [
       "<div>\n",
       "<style scoped>\n",
       "    .dataframe tbody tr th:only-of-type {\n",
       "        vertical-align: middle;\n",
       "    }\n",
       "\n",
       "    .dataframe tbody tr th {\n",
       "        vertical-align: top;\n",
       "    }\n",
       "\n",
       "    .dataframe thead th {\n",
       "        text-align: right;\n",
       "    }\n",
       "</style>\n",
       "<table border=\"1\" class=\"dataframe\">\n",
       "  <thead>\n",
       "    <tr style=\"text-align: right;\">\n",
       "      <th></th>\n",
       "      <th>test</th>\n",
       "      <th>lambda</th>\n",
       "      <th>chi2</th>\n",
       "      <th>dof</th>\n",
       "      <th>pval</th>\n",
       "      <th>cramer</th>\n",
       "      <th>power</th>\n",
       "    </tr>\n",
       "  </thead>\n",
       "  <tbody>\n",
       "    <tr>\n",
       "      <th>0</th>\n",
       "      <td>pearson</td>\n",
       "      <td>1.000000</td>\n",
       "      <td>13.222001</td>\n",
       "      <td>3.0</td>\n",
       "      <td>0.004180</td>\n",
       "      <td>0.232784</td>\n",
       "      <td>0.876800</td>\n",
       "    </tr>\n",
       "    <tr>\n",
       "      <th>1</th>\n",
       "      <td>cressie-read</td>\n",
       "      <td>0.666667</td>\n",
       "      <td>13.186226</td>\n",
       "      <td>3.0</td>\n",
       "      <td>0.004251</td>\n",
       "      <td>0.232469</td>\n",
       "      <td>0.875841</td>\n",
       "    </tr>\n",
       "    <tr>\n",
       "      <th>2</th>\n",
       "      <td>log-likelihood</td>\n",
       "      <td>0.000000</td>\n",
       "      <td>13.194401</td>\n",
       "      <td>3.0</td>\n",
       "      <td>0.004235</td>\n",
       "      <td>0.232541</td>\n",
       "      <td>0.876061</td>\n",
       "    </tr>\n",
       "    <tr>\n",
       "      <th>3</th>\n",
       "      <td>freeman-tukey</td>\n",
       "      <td>-0.500000</td>\n",
       "      <td>13.270507</td>\n",
       "      <td>3.0</td>\n",
       "      <td>0.004087</td>\n",
       "      <td>0.233211</td>\n",
       "      <td>0.878089</td>\n",
       "    </tr>\n",
       "    <tr>\n",
       "      <th>4</th>\n",
       "      <td>mod-log-likelihood</td>\n",
       "      <td>-1.000000</td>\n",
       "      <td>13.407679</td>\n",
       "      <td>3.0</td>\n",
       "      <td>0.003833</td>\n",
       "      <td>0.234413</td>\n",
       "      <td>0.881673</td>\n",
       "    </tr>\n",
       "    <tr>\n",
       "      <th>5</th>\n",
       "      <td>neyman</td>\n",
       "      <td>-2.000000</td>\n",
       "      <td>13.873557</td>\n",
       "      <td>3.0</td>\n",
       "      <td>0.003082</td>\n",
       "      <td>0.238451</td>\n",
       "      <td>0.893170</td>\n",
       "    </tr>\n",
       "  </tbody>\n",
       "</table>\n",
       "</div>"
      ],
      "text/plain": [
       "                 test    lambda       chi2  dof      pval    cramer     power\n",
       "0             pearson  1.000000  13.222001  3.0  0.004180  0.232784  0.876800\n",
       "1        cressie-read  0.666667  13.186226  3.0  0.004251  0.232469  0.875841\n",
       "2      log-likelihood  0.000000  13.194401  3.0  0.004235  0.232541  0.876061\n",
       "3       freeman-tukey -0.500000  13.270507  3.0  0.004087  0.233211  0.878089\n",
       "4  mod-log-likelihood -1.000000  13.407679  3.0  0.003833  0.234413  0.881673\n",
       "5              neyman -2.000000  13.873557  3.0  0.003082  0.238451  0.893170"
      ]
     },
     "execution_count": 57,
     "metadata": {},
     "output_type": "execute_result"
    }
   ],
   "source": [
    "expected_counts, observed_counts, test_results = pg.chi2_independence(tips, 'sex', 'day')\n",
    "test_results"
   ]
  },
  {
   "cell_type": "markdown",
   "id": "3d2998ef-7712-40a6-b79d-22b855aa12eb",
   "metadata": {
    "hidden": true,
    "tags": []
   },
   "source": [
    "### Goodness-of-fit"
   ]
  },
  {
   "cell_type": "markdown",
   "id": "d855b1f2-3105-445a-b1a6-b99bceeb66b7",
   "metadata": {
    "hidden": true
   },
   "source": [
    "Instead of inferring theoretical counts from the observed counts, we may want to test *vs* predefined (theoretical) counts. This is essentially the same test.\n",
    "\n",
    "A random example: [Color proportion of M&Ms [Coursera]](https://www.coursera.org/learn/stanford-statistics/lecture/rAwbR/the-color-proportions-of-m-ms):\n",
    "| blue | orange | green | yellow | red | brown |\n",
    "| :-:  | :-:    | :-:   | :-:    | :-: | :-:   |\n",
    "| 24%  | 20%    | 16%   | 14%    | 13% | 13%   |"
   ]
  },
  {
   "cell_type": "code",
   "execution_count": 58,
   "id": "84f4e9b3-a653-422c-8fc5-83b29869ba87",
   "metadata": {
    "hidden": true
   },
   "outputs": [
    {
     "data": {
      "text/plain": [
       "410"
      ]
     },
     "execution_count": 58,
     "metadata": {},
     "output_type": "execute_result"
    }
   ],
   "source": [
    "expected_props  = np.array([ .24, .2, .16, .14, .13, .13 ])\n",
    "observed_counts = np.array([ 85, 79, 56, 64, 58, 68 ])\n",
    "np.sum(observed_counts)"
   ]
  },
  {
   "cell_type": "code",
   "execution_count": 59,
   "id": "8bb2916a-e9a4-4bbe-b04f-14818bb68723",
   "metadata": {
    "hidden": true
   },
   "outputs": [
    {
     "data": {
      "text/plain": [
       "array([98.4, 82. , 65.6, 57.4, 53.3, 53.3])"
      ]
     },
     "execution_count": 59,
     "metadata": {},
     "output_type": "execute_result"
    }
   ],
   "source": [
    "expected_counts = expected_props * np.sum(observed_counts)\n",
    "expected_counts"
   ]
  },
  {
   "cell_type": "markdown",
   "id": "a75bd8d7-f61e-49bc-80b4-cb1f05ccd7c1",
   "metadata": {
    "hidden": true
   },
   "source": [
    "|          | blue | orange | green | yellow | red  | brown |\n",
    "| --:      | :-:  | :-:    | :-:   | :-:    | :-:  | :-:   |\n",
    "| Expected | 98.4 | 82     | 65.6  | 57.4   | 53.3 | 53.3  |\n",
    "| Observed | 85   | 79     | 56    | 64     | 58   | 58    |\n",
    "\n",
    "The statistic is again:\n",
    "\n",
    "$$\n",
    "\\chi^2 = \\sum_{i=1}^{k} \\frac{(O_i - E_i)^2}{E_i} \\mbox{ } \\mbox{ } \\mbox{ } \\mbox{ } \\mbox{ } \\mbox{ } \\mbox{ } \\sim \\chi^2_{k-1} \\mbox{ } \\textrm{under} \\mbox{ } H_0\n",
    "$$"
   ]
  },
  {
   "cell_type": "code",
   "execution_count": 60,
   "id": "a8898631-a5b5-49e8-a158-3e149345391a",
   "metadata": {
    "hidden": true
   },
   "outputs": [
    {
     "data": {
      "text/plain": [
       "8.566983829178941"
      ]
     },
     "execution_count": 60,
     "metadata": {},
     "output_type": "execute_result"
    }
   ],
   "source": [
    "k = len(expected_counts)\n",
    "chi2 = np.sum((observed_counts - expected_counts) ** 2 / expected_counts)\n",
    "chi2"
   ]
  },
  {
   "cell_type": "code",
   "execution_count": 61,
   "id": "7a8af457-13dc-483a-90e3-50d3949c8edf",
   "metadata": {
    "hidden": true
   },
   "outputs": [
    {
     "data": {
      "text/plain": [
       "0.1276329790529603"
      ]
     },
     "execution_count": 61,
     "metadata": {},
     "output_type": "execute_result"
    }
   ],
   "source": [
    "pvalue = stats.chi2(k-1).sf(chi2)\n",
    "pvalue"
   ]
  },
  {
   "cell_type": "markdown",
   "id": "92886c91-f6ef-419d-bfda-e28d9dfcc7bc",
   "metadata": {
    "hidden": true
   },
   "source": [
    "SciPy's implementation of the test is [chisquare](https://docs.scipy.org/doc/scipy/reference/generated/scipy.stats.chisquare.html):"
   ]
  },
  {
   "cell_type": "code",
   "execution_count": 62,
   "id": "1e246915-e9be-4826-9677-d9f30348d0df",
   "metadata": {
    "hidden": true
   },
   "outputs": [
    {
     "data": {
      "text/plain": [
       "Power_divergenceResult(statistic=8.566983829178941, pvalue=0.1276329790529603)"
      ]
     },
     "execution_count": 62,
     "metadata": {},
     "output_type": "execute_result"
    }
   ],
   "source": [
    "stats.chisquare(observed_counts, expected_counts)"
   ]
  },
  {
   "cell_type": "markdown",
   "id": "81cbe581-b511-4e29-89cb-62c234c45fbb",
   "metadata": {},
   "source": [
    "Pingouin's `chi2_independence` is not suitable for performing this test."
   ]
  },
  {
   "cell_type": "markdown",
   "id": "ca862d48",
   "metadata": {
    "heading_collapsed": true,
    "hidden": true,
    "tags": []
   },
   "source": [
    "### Two-sample goodness-of-fit"
   ]
  },
  {
   "cell_type": "markdown",
   "id": "2b1a4872",
   "metadata": {
    "hidden": true
   },
   "source": [
    "The $\\chi^2$ test can also be used for comparing the distributions of a continuous variable for two samples (two groups) in a more general way than a $t$-test for independent samples.\n",
    "\n",
    "The procedure consists in binning the continuous variable so that the problem can be formulated as a homogeneity test, with bins as the levels of one factor, and the grouping criterion as another factor.\n",
    "\n",
    "As a consequence, we will use the same functions as before.\n",
    "\n",
    "A similar test is the two-sample Kolmogorov-Smirnov test implemented in SciPy as [ks_2samp](https://docs.scipy.org/doc/scipy/reference/generated/scipy.stats.ks_2samp.html). This test does not require binning."
   ]
  },
  {
   "cell_type": "code",
   "execution_count": null,
   "id": "e38724a8-405f-45d6-b622-c6f3caaa2025",
   "metadata": {},
   "outputs": [],
   "source": []
  }
 ],
 "metadata": {
  "celltoolbar": "Aucun(e)",
  "kernelspec": {
   "display_name": "scientific_python",
   "language": "python",
   "name": "scientific_python"
  },
  "language_info": {
   "codemirror_mode": {
    "name": "ipython",
    "version": 3
   },
   "file_extension": ".py",
   "mimetype": "text/x-python",
   "name": "python",
   "nbconvert_exporter": "python",
   "pygments_lexer": "ipython3",
   "version": "3.12.7"
  },
  "toc": {
   "base_numbering": 1,
   "nav_menu": {},
   "number_sections": true,
   "sideBar": true,
   "skip_h1_title": true,
   "title_cell": "Table of Contents",
   "title_sidebar": "Contents",
   "toc_cell": false,
   "toc_position": {},
   "toc_section_display": true,
   "toc_window_display": true
  }
 },
 "nbformat": 4,
 "nbformat_minor": 5
}
