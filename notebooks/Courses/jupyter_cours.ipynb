{
 "cells": [
  {
   "cell_type": "markdown",
   "id": "suitable-agent",
   "metadata": {},
   "source": [
    "# <center><b>Course</b></center>\n",
    "\n",
    "<div style=\"text-align:center\">\n",
    "    <img src=\"../images/jupyter.png\" width=\"600px\">\n",
    "    <div>\n",
    "       Bertrand Néron, François Laurent, Etienne Kornobis\n",
    "       <br />\n",
    "       <a src=\" https://research.pasteur.fr/en/team/bioinformatics-and-biostatistics-hub/\">Bioinformatics and Biostatistics HUB</a>\n",
    "       <br />\n",
    "       © Institut Pasteur, 2021\n",
    "    </div>    \n",
    "</div>"
   ]
  },
  {
   "cell_type": "markdown",
   "id": "aggressive-microwave",
   "metadata": {
    "slideshow": {
     "slide_type": "slide"
    }
   },
   "source": [
    "# Introduction to Notebooks and Jupyter\n",
    "\n",
    "## The concept of literate programming\n",
    ">*Literate programming: Instead of imagining that our main task is to instruct a\n",
    ">computer what to do, let us concentrate rather on explaining to human beings\n",
    ">what we want a computer to  do.*\n",
    "\n",
    "<img src=\"../images/donald_knuth.png\" style=\"width: 20%;\" align=\"left\" margin:0 auto/>\n",
    "\n",
    "Donald Knuth (1984)"
   ]
  },
  {
   "cell_type": "markdown",
   "id": "yellow-stick",
   "metadata": {
    "slideshow": {
     "slide_type": "slide"
    },
    "tags": []
   },
   "source": [
    "## The concept of notebook\n",
    "\n",
    "<img src=\"../images/notebook_da_vinci.png\" style=\"width: 20%\" align=\"right\" margin:0 auto/>\n",
    "\n",
    "A single place where live happily together:\n",
    "- code\n",
    "- documentation\n",
    "- reasoning\n",
    "- visualizations"
   ]
  },
  {
   "cell_type": "markdown",
   "id": "vital-watershed",
   "metadata": {
    "slideshow": {
     "slide_type": "slide"
    },
    "tags": []
   },
   "source": [
    "## Many flavors of notebooks\n",
    "\n",
    "<img src=\"../images/spicies_flavors.jpg\" style=\"width: 20%\" align=\"right\" margin:0 auto/>\n",
    "\n",
    "Many technologies have been developed in this direction:\n",
    "\n",
    "- Jupyter: https://jupyter.org/\n",
    "- R Markdown: https://rmarkdown.rstudio.com/\n",
    "- Apache zeppelin: https://zeppelin.apache.org/\n",
    "- Google Colaboratory: https://colab.research.google.com\n",
    "- Observable (client-side): https://observablehq.com/\n",
    "- Spark notebooks (http://spark-notebook.io/)\n",
    "- Beaker (engulfed by Jupyter)\n",
    "- ..."
   ]
  },
  {
   "cell_type": "markdown",
   "id": "electoral-disability",
   "metadata": {
    "slideshow": {
     "slide_type": "slide"
    }
   },
   "source": [
    "## Caveats\n",
    "- Notebooks downsides:\n",
    "  - Can be cumbersome (cell order execution...), not necessarily good as first entry point in Programming\n",
    "  - Beware of bad coding practices (no proper module/library design)\n",
    "  - Difficult for source control\n",
    "  - Testability\n",
    "  \n",
    "But these issues are currently addressed !"
   ]
  },
  {
   "cell_type": "markdown",
   "id": "corporate-composition",
   "metadata": {
    "slideshow": {
     "slide_type": "slide"
    }
   },
   "source": [
    "## Why choosing Jupyter\n",
    "\n",
    "<img src=\"../images/jupyter_languages.png\" style=\"width:30%\" align=\"right\"/>\n",
    "\n",
    "- 40+ languages supported\n",
    "- Extensibility\n",
    "- Community\n",
    "- Recognized and pretty formatted by GitLab and GitHub\n"
   ]
  },
  {
   "cell_type": "markdown",
   "id": "subsequent-proof",
   "metadata": {
    "slideshow": {
     "slide_type": "slide"
    }
   },
   "source": [
    "## The main idea of Jupyter <img src=\"../images/jupyter.png\" style=\"width: 20%\" align=\"right\" margin:0 auto/>\n",
    "\n",
    "An open-source web application to interactively represent a single **json** file where live happily together:\n",
    "- code\n",
    "- documentation\n",
    "- reasoning\n",
    "- visualizations (simple and interactive)\n",
    "\n",
    "Feature overview:\n",
    "- Easy sharing\n",
    "- Multitude of export: interactive notebook, voilà dashboard, html blog, presentation, or simple script.\n",
    "- the future of scientific article publication (at least in programming related fields)\n",
    "\n",
    "Example of a jupyter notebook in json format:\n",
    "\n",
    "```json\n",
    "{\n",
    " \"cells\": [\n",
    "  {\n",
    "   \"cell_type\": \"code\", <----- Indication on the cell type\n",
    "   \"execution_count\": 1,\n",
    "   \"id\": \"ecbffe3c-6e9d-40c8-8b15-5bf317420367\",\n",
    "   \"metadata\": {},\n",
    "   \"outputs\": [\n",
    "    {\n",
    "     \"name\": \"stdout\",\n",
    "     \"output_type\": \"stream\",\n",
    "     \"text\": [\n",
    "      \"This is a code cell\\n\" <----- The output of a code cell\n",
    "     ]\n",
    "    }\n",
    "   ],\n",
    "   \"source\": [\n",
    "    \"print(\\\"This is a code cell\\\")\"  <----- The text actually present in the cell\n",
    "   ]\n",
    "  },\n",
    "  {\n",
    "   \"cell_type\": \"markdown\", <----- Indication on the cell type\n",
    "   \"id\": \"da9c56c7-32a3-40b8-b59b-b3fbc605e629\",\n",
    "   \"metadata\": {},\n",
    "   \"source\": [\n",
    "    \"This one is a markdown cell\"\n",
    "   ]\n",
    "  },\n",
    "```"
   ]
  },
  {
   "cell_type": "markdown",
   "id": "caroline-float",
   "metadata": {
    "slideshow": {
     "slide_type": "slide"
    }
   },
   "source": [
    "## Many IDE flavors for jupyter notebooks\n",
    "\n",
    "- Jupyter notebook (+ extensions)\n",
    "- [Jupyter lab](https://jupyterlab.readthedocs.io/en/stable/) (+ extensions)\n",
    "- [nteract](https://nteract.io/)\n",
    "- Your own editor (visual studio code / pycharm / jupytext / Emacs modes ...)\n",
    "\n",
    "Jupyter lab is the main IDE for Jupyter now but:\n",
    "- extensions do not necessarily work for both Jupyter notebook and lab\n",
    "- Nice features in nteract but cannot use previous extensions"
   ]
  },
  {
   "cell_type": "markdown",
   "id": "funded-singer",
   "metadata": {
    "slideshow": {
     "slide_type": "slide"
    }
   },
   "source": [
    "## Setup\n",
    "### Locally\n",
    "\n",
    "https://jupyter.org/install\n",
    "\n",
    "- Using pip\n",
    "\n",
    "```shell\n",
    "pip install jupyterlab\n",
    "```\n",
    "\n",
    "- Using conda\n",
    "\n",
    "```shell\n",
    "conda env create -n jupyter jupyterlab\n",
    "```\n",
    "\n",
    "### On maestro\n",
    "\n",
    "Check https://confluence.pasteur.fr/display/FAQA/How+to+use+Jupyter-Notebook+on+the+cluster"
   ]
  },
  {
   "cell_type": "markdown",
   "id": "forward-turkey",
   "metadata": {
    "slideshow": {
     "slide_type": "slide"
    }
   },
   "source": [
    "## Exporting/sharing:\n",
    "`jupyter nbconvert` to:\n",
    "- HTML\n",
    "- LaTeX\n",
    "- PDF\n",
    "- Reveal JS\n",
    "- Markdown (md)\n",
    "- ReStructured Text (rst)\n",
    "- executable script\n",
    "\n",
    "JupyterHub https://jupyter.org/hub\n",
    "\n",
    "Binder https://gke.mybinder.org/\n",
    "\n",
    "Github/Gitlab formatting. Ex: https://gitlab.com/khourhin/reproducibility/blob/master/code/analysis_framework/analysis.ipynb\n",
    "\n",
    "And more in development like [Jupyterlite](https://jupyterlite.readthedocs.io/en/latest/) and [Voilà](https://voila.readthedocs.io/en/stable/using.html)."
   ]
  },
  {
   "cell_type": "markdown",
   "id": "egyptian-wings",
   "metadata": {},
   "source": [
    "## Overview"
   ]
  },
  {
   "cell_type": "markdown",
   "id": "sacred-absolute",
   "metadata": {},
   "source": [
    "### Markdown \n",
    "\n",
    "In order to provide clear explanations within your analysis notebooks, you can:\n",
    "\n",
    "- Use *classical* **markdown** ~~eye candy~~ `features` \n",
    "\n",
    "- Include mathematical expressions:\n",
    "\n",
    "$$e^x=\\sum_{i=0}^\\infty \\frac{1}{i!}x^i$$\n",
    "\n",
    "- code snippets in quoteblocks:\n",
    "\n",
    ">```python\n",
    ">x = 42\n",
    ">print(f\"The answer is {x}\")\n",
    ">```\n",
    "\n",
    "- Links: [More on markdown](https://github.com/adam-p/markdown-here/wiki/Markdown-Cheatsheet)\n",
    "\n",
    "- Insert pictures as markdown or html: <img src=\"../images/ada_lovelace.png\" width=\"20%\" align=\"right\"/>"
   ]
  },
  {
   "cell_type": "markdown",
   "id": "automated-provision",
   "metadata": {},
   "source": [
    "### Code examples"
   ]
  },
  {
   "cell_type": "markdown",
   "id": "dietary-manual",
   "metadata": {},
   "source": [
    "#### Python"
   ]
  },
  {
   "cell_type": "code",
   "execution_count": 14,
   "id": "dense-fairy",
   "metadata": {},
   "outputs": [
    {
     "name": "stdout",
     "output_type": "stream",
     "text": [
      "Hello from Python !\n"
     ]
    }
   ],
   "source": [
    "print(\"Hello from Python !\")"
   ]
  },
  {
   "cell_type": "markdown",
   "id": "ordinary-reception",
   "metadata": {},
   "source": [
    "#### Bash"
   ]
  },
  {
   "cell_type": "code",
   "execution_count": 15,
   "id": "moved-drain",
   "metadata": {},
   "outputs": [
    {
     "name": "stdout",
     "output_type": "stream",
     "text": [
      "One syntax for bash cells,\n",
      "The whole cell will be interpreted as Bash...\n"
     ]
    }
   ],
   "source": [
    "%%bash\n",
    "\n",
    "echo \"One syntax for bash cells,\"\n",
    "echo \"The whole cell will be interpreted as Bash...\""
   ]
  },
  {
   "cell_type": "code",
   "execution_count": 16,
   "id": "undefined-buying",
   "metadata": {},
   "outputs": [
    {
     "name": "stdout",
     "output_type": "stream",
     "text": [
      "And here for single bash line.\n"
     ]
    }
   ],
   "source": [
    "! echo \"And here for single bash line.\""
   ]
  },
  {
   "cell_type": "markdown",
   "id": "distinguished-drinking",
   "metadata": {},
   "source": [
    "#### Julia"
   ]
  },
  {
   "cell_type": "code",
   "execution_count": 17,
   "id": "immediate-appraisal",
   "metadata": {},
   "outputs": [
    {
     "name": "stdout",
     "output_type": "stream",
     "text": [
      "Couldn't find program: 'julia'\n"
     ]
    }
   ],
   "source": [
    "%%script julia\n",
    "\n",
    "println(\"Here comes Julia !\")"
   ]
  },
  {
   "cell_type": "markdown",
   "id": "senior-notice",
   "metadata": {},
   "source": [
    "#### NB\n",
    "\n",
    "Currently, making a single notebook with multiple languages is not necessarily easy, especially to pass variables (for example: R cells with a python kernel). Having intermediate output/input files (csv files for example for data) between languages still seems to be the safe option."
   ]
  },
  {
   "cell_type": "markdown",
   "id": "general-lingerie",
   "metadata": {},
   "source": [
    "### Inline plotting"
   ]
  },
  {
   "cell_type": "code",
   "execution_count": 18,
   "id": "similar-color",
   "metadata": {},
   "outputs": [],
   "source": [
    "import pandas as pd\n",
    "import matplotlib.pyplot as plt\n",
    "import seaborn as sns"
   ]
  },
  {
   "cell_type": "code",
   "execution_count": 19,
   "id": "contrary-nicaragua",
   "metadata": {},
   "outputs": [],
   "source": [
    "mi_df = pd.read_csv(\"../data/mi.csv\")"
   ]
  },
  {
   "cell_type": "code",
   "execution_count": 20,
   "id": "civil-manner",
   "metadata": {},
   "outputs": [
    {
     "data": {
      "image/png": "[encoded data removed]",
      "text/plain": [
       "<Figure size 640x480 with 1 Axes>"
      ]
     },
     "metadata": {},
     "output_type": "display_data"
    }
   ],
   "source": [
    "mi_df.boxplot(column=\"HeartRate\", by=\"Smoking\")\n",
    "plt.tight_layout()"
   ]
  },
  {
   "cell_type": "code",
   "execution_count": 21,
   "id": "noticed-details",
   "metadata": {},
   "outputs": [
    {
     "data": {
      "text/plain": [
       "<Axes: xlabel='Smoking', ylabel='HeartRate'>"
      ]
     },
     "execution_count": 21,
     "metadata": {},
     "output_type": "execute_result"
    },
    {
     "data": {
      "image/png": "[encoded data removed]",
      "text/plain": [
       "<Figure size 640x480 with 1 Axes>"
      ]
     },
     "metadata": {},
     "output_type": "display_data"
    }
   ],
   "source": [
    "sns.boxplot(x='Smoking', y='HeartRate', data=mi_df)"
   ]
  },
  {
   "cell_type": "markdown",
   "id": "seventh-desire",
   "metadata": {},
   "source": [
    "### Interactivity\n",
    "\n",
    "There is a lot of option to produce interactive reports using jupyter notebooks, for example:\n",
    "- Plotly/Dash\n",
    "- Bokeh\n",
    "- ipython widgets\n",
    "- voila\n",
    "- ..."
   ]
  },
  {
   "cell_type": "markdown",
   "id": "naval-novelty",
   "metadata": {},
   "source": [
    "#### Ipywidgets"
   ]
  },
  {
   "cell_type": "code",
   "execution_count": 22,
   "id": "atomic-tongue",
   "metadata": {},
   "outputs": [],
   "source": [
    "import ipywidgets as widgets\n",
    "from ipywidgets import interact\n",
    "from pathlib import Path\n",
    "from IPython.display import Image"
   ]
  },
  {
   "cell_type": "code",
   "execution_count": 23,
   "id": "fallen-heavy",
   "metadata": {},
   "outputs": [
    {
     "data": {
      "application/vnd.jupyter.widget-view+json": {
       "model_id": "435850e440d74041b7a5e6b9aa1e6011",
       "version_major": 2,
       "version_minor": 0
      },
      "text/plain": [
       "interactive(children=(IntSlider(value=20, description='x', max=60, min=-20), Output()), _dom_classes=('widget-…"
      ]
     },
     "metadata": {},
     "output_type": "display_data"
    }
   ],
   "source": [
    "@interact\n",
    "def filter_age(x=20):\n",
    "    return mi_df.loc[mi_df.Age < x]"
   ]
  },
  {
   "cell_type": "code",
   "execution_count": 24,
   "id": "comfortable-consistency",
   "metadata": {
    "tags": []
   },
   "outputs": [
    {
     "data": {
      "application/vnd.jupyter.widget-view+json": {
       "model_id": "2490400e1f884172b68ec7479ffa66fc",
       "version_major": 2,
       "version_minor": 0
      },
      "text/plain": [
       "interactive(children=(Dropdown(description='file', options=(PosixPath('../images/rnaseq.png'), PosixPath('../i…"
      ]
     },
     "metadata": {},
     "output_type": "display_data"
    }
   ],
   "source": [
    "@interact\n",
    "def show_images(file=Path(\"../images\").glob(\"*.png\")):\n",
    "    display(Image(file))"
   ]
  },
  {
   "cell_type": "markdown",
   "id": "extraordinary-intellectual",
   "metadata": {},
   "source": [
    "#### Plotly"
   ]
  },
  {
   "cell_type": "code",
   "execution_count": 25,
   "id": "rural-maldives",
   "metadata": {},
   "outputs": [],
   "source": [
    "from plotly import express as px"
   ]
  },
  {
   "cell_type": "code",
   "execution_count": 26,
   "id": "completed-modification",
   "metadata": {},
   "outputs": [
    {
     "data": {
      "application/vnd.plotly.v1+json": {
       "config": {
        "plotlyServerURL": "https://plot.ly"
       },
       "data": [
        {
         "hovertemplate": "x=%{x}<br>index=%{y}<extra></extra>",
         "legendgroup": "",
         "marker": {
          "color": "#636efa",
          "symbol": "circle"
         },
         "mode": "markers",
         "name": "",
         "orientation": "h",
         "showlegend": false,
         "type": "scatter",
         "x": [
          20.13,
          21.33,
          22.18,
          18.68,
          29.01,
          27.51,
          22.59,
          21.6,
          22.26,
          23.04,
          20.06,
          19.31,
          24.97,
          18.82,
          28.66,
          27.45,
          19.57,
          21.15,
          23.03,
          21.55,
          19.84,
          23.41,
          25.21,
          25.21,
          28.19,
          21.9,
          20.01,
          23.23,
          22.86,
          27.28,
          21.71,
          21.93,
          23.91,
          22.49,
          20.57,
          24.23,
          20.95,
          24.6,
          21.79,
          19.22,
          19.38,
          23.06,
          21.5,
          18.59,
          19.46,
          21.82,
          20.56,
          21.78,
          19.95,
          24.38,
          18.67,
          21.71,
          26.02,
          24.74,
          20.43,
          19.1,
          31.24,
          27.41,
          22.22,
          19.59,
          20.9,
          29,
          20.9,
          20.32,
          31.83,
          19.88,
          24.87,
          28.73,
          22.34,
          25.43,
          23.5,
          26.75,
          23.25,
          19.92,
          21.95,
          23.04,
          23.05,
          22.49,
          31.14,
          21.63,
          21.55,
          21.95,
          21.36,
          18.92,
          24.75,
          22.83,
          20.45,
          22.22,
          20.3,
          22.28,
          20.01,
          30.63,
          24.3,
          19.26,
          24.89,
          24.41,
          23.16,
          22.53,
          19.95,
          21.32,
          22.72,
          21.29,
          23.87,
          22.47,
          27.71,
          29.66,
          21.27,
          21.29,
          23.66,
          21.16,
          21.22,
          20.6,
          22.85,
          23.25,
          31.91,
          18.72,
          22.43,
          20.98,
          21.19,
          21.61,
          20.65,
          22.71,
          20.32,
          25.39,
          19.05,
          19.83,
          21.09,
          23.14,
          24.38,
          31.23,
          23.04,
          25.21,
          24.43,
          27.47,
          19.59,
          27.28,
          25.72,
          19.22,
          22.75,
          22.98,
          20.51,
          27.39,
          19.57,
          24.85,
          23.18,
          20.43,
          29.31,
          29.41,
          20.04,
          28.8,
          26.02,
          21.1,
          22.06,
          28.98,
          29.96,
          24,
          19.81,
          19.81,
          22.58,
          20.43,
          20.2,
          21.22,
          24.52,
          20.83,
          27.4,
          20.57,
          30.11,
          27.7,
          21.56,
          31.58,
          24.53,
          18.73,
          25.01,
          25.06,
          24.15,
          22.83,
          23.05,
          27.66,
          22.46,
          21.1,
          23.38,
          21.54,
          20.86,
          23.51,
          22.13,
          25.14,
          24.44,
          25.39,
          22.18,
          27.68,
          22.72,
          31.83,
          20.95,
          28.19,
          22.26,
          24.91,
          23.87,
          25.34,
          19.57,
          22.76,
          22.77,
          24.87,
          20.93,
          25.53,
          20.38,
          26.7,
          19.26,
          24.65,
          31.96,
          20.95,
          20.61,
          25.73,
          24.3,
          20.14,
          27.11,
          27.75,
          22.22,
          22.53,
          27.73,
          19.07,
          25.81,
          18.62,
          23.93,
          24.96,
          28.34,
          25.74,
          25.64,
          22.26,
          25.01,
          21.22,
          31.05,
          24.93,
          21.3,
          26.09,
          24.46,
          22.95,
          23.58,
          25.51,
          20.66,
          30.61,
          25.05,
          22.72,
          23.45,
          22.47,
          25.35,
          23.18,
          24.3,
          25.9,
          22.78,
          25.97,
          22.44,
          21.53,
          25.14,
          21.91,
          22.14,
          31.69,
          22.64,
          23.56,
          22.98,
          21.26,
          21.38,
          28.4,
          28.71,
          25.79,
          22.59,
          29.4,
          21.97,
          23.56,
          25.18,
          21.29,
          22.46,
          24.16,
          28.08,
          23.3,
          27.28,
          23.99,
          22.1,
          20.42,
          26.83,
          19.92,
          19.91,
          18.67,
          21.07,
          21.48,
          28.98,
          18.92,
          21.9,
          31.55,
          20.07,
          24.24,
          21.33,
          20.68,
          25.46,
          25.39,
          21.13,
          20.06,
          20.93,
          24.09,
          23.59,
          19.13,
          27.43,
          21.56,
          20.7,
          23.22,
          23.73,
          20.13,
          23.22,
          25.96,
          29.41,
          20.95,
          23.53,
          19.97,
          30.12,
          19.06,
          20.17,
          24.74,
          22.95,
          25.07,
          26.77,
          21.41,
          23.63,
          22.76,
          25.55,
          23.3,
          22.86,
          19.33,
          23.53,
          27.23,
          21.15,
          26.72,
          26.12,
          25.65,
          20.69,
          25.71,
          20.19,
          21.77,
          24.24,
          23.62,
          23.12,
          22.2,
          27.77,
          21.96,
          19.03,
          19.47,
          22.32,
          30.86,
          27.47,
          27.88,
          20.93,
          21.33,
          21.21,
          20.43,
          25.35,
          31.86,
          22.83,
          20.2,
          20.44,
          24.69,
          21.48,
          20.02,
          20.93,
          21.25,
          22.86,
          25.28,
          23.18,
          25.94,
          23.24,
          21.06,
          30.36,
          24.67,
          25.71,
          28.73,
          27.77,
          26.47,
          23.4,
          28.69,
          25.3,
          21.29,
          23.24,
          26.19,
          25.72,
          22.89,
          24.53,
          21.79,
          27.13,
          21.87,
          24.09,
          22.98,
          21.3,
          25.28,
          26.17,
          22.53,
          26.7,
          24.89,
          25.5,
          18.64,
          23.83,
          21.63,
          20.51,
          24.11,
          23.09,
          24.44,
          26.95,
          30.05,
          25.28,
          24.75,
          23.24,
          24.11,
          28.4,
          27.75,
          24.91,
          21.5,
          31.48,
          26.88,
          22.98,
          26.19,
          25.97,
          26.44,
          23.22,
          24.16,
          25,
          23.76,
          23.59,
          22.79,
          26.77,
          22.99,
          26.06,
          22.54,
          23.45,
          21.84,
          30.48,
          22.75,
          23.22,
          23.24,
          24.15,
          22.14,
          29.58,
          30.79,
          20.97,
          28.98,
          20.47,
          29.72,
          24.28,
          27.96,
          26.58,
          19.36,
          27.33,
          23.87,
          30.81,
          26.17,
          27.63,
          20.71,
          19.6,
          25.09,
          30.46,
          18.5,
          25.47,
          20.39,
          22.54,
          23.03,
          23.91,
          19.59,
          19.06,
          19.46,
          31.61,
          20.93,
          23.91,
          26.76,
          30.09,
          20.66,
          21.87,
          24.88,
          26.37,
          27.73,
          19.77,
          20.7,
          31.64,
          26.12,
          24.6,
          22.49,
          24.38,
          22.94,
          25.39,
          21.82,
          21.56,
          25.47,
          24.09,
          22.13,
          19.77,
          20.44,
          23.63,
          20.79,
          23.71,
          22.1,
          21.09,
          20.31,
          30.44,
          28.47,
          28.54,
          27.4,
          29.68,
          21.25,
          24.16,
          21.9,
          27.55,
          18.9,
          24.65,
          24.74,
          23.14,
          24.84,
          26.98,
          23.42,
          26.02,
          26.49,
          24,
          22.14,
          22.83,
          20.83,
          24.65,
          20.02,
          20.96,
          20.79,
          26.17,
          20.83,
          24.69,
          20.68,
          22.06,
          25,
          23.19,
          22.37,
          23.23,
          21.88,
          29.24,
          21.79,
          24.02,
          30.48,
          23.18,
          30.97,
          25.55,
          21.56,
          23.19,
          29.6,
          26.02,
          25.72,
          23.73,
          22.32,
          29.76,
          31.4,
          24.16,
          25.99,
          31.95,
          26.77,
          25.4,
          19.75,
          22.32,
          23.56,
          26.21,
          24.39,
          27.94,
          28.68,
          23.12,
          27.15,
          26.21,
          24.81,
          31.19,
          25.28,
          28.22,
          19.65,
          22.53,
          20.86,
          23.45,
          25.09,
          21.82,
          28.72,
          28.68,
          22.2,
          22.83,
          24.87,
          25.35,
          24.89,
          24.15,
          23.4,
          25.68,
          23.8,
          25.14,
          21.77,
          20.59,
          25.01,
          30.12,
          19.71,
          26.42,
          22.22,
          27.39,
          26.02,
          23.05,
          24.25,
          21.97,
          25.15,
          26.67,
          22.3,
          24.11,
          28.39,
          23.98,
          23.99,
          26.86,
          28.08,
          30.86,
          22.83,
          27.15,
          25.76,
          29.66,
          26.81,
          22.09,
          23.95,
          24.3,
          27.45,
          24.48,
          28.73,
          25.25,
          25.18,
          24.74,
          28.57,
          30.4,
          26.88,
          24.5,
          27.1,
          30.64,
          28.66,
          26.87,
          27.08,
          25.39,
          19.94,
          21.21,
          28.62,
          30.99,
          20.56,
          23.01,
          31.64,
          25.39,
          28.25,
          29.68,
          21.21,
          21.33,
          22.36,
          24.65,
          22.1,
          19.04,
          22.86,
          23.79,
          21.63,
          20.06,
          23.24,
          24.14,
          23.24,
          18.59,
          24.74,
          20.17,
          21.61,
          27.29,
          22.2,
          24.14,
          24.38,
          30.02,
          30.73,
          23.23,
          23.66,
          21.63,
          22.86,
          23.83,
          30.75,
          25.47,
          21.56,
          19.11,
          27.99,
          21.51,
          29.17,
          28.08,
          28.04,
          23.95,
          26.44,
          29.55,
          24.91,
          22.31,
          27.33,
          19.57,
          20.32,
          31.16,
          23.24,
          29.47,
          21.6,
          24.16,
          21.09,
          29.33,
          29.27,
          22.67,
          24.16,
          25.72,
          23.5,
          26.29,
          28.04,
          27.53,
          28.51,
          25.1,
          23.3,
          22.94,
          23.83,
          21.71,
          24.14,
          26.98,
          24.77,
          23.3,
          22.06,
          21.64,
          25,
          26.5,
          21.5,
          25.97,
          31.67,
          27.33,
          21.79,
          23.92,
          26.36,
          24.96,
          21.15,
          25.18,
          32,
          28.08,
          27.06,
          22.06,
          28.99,
          24.28,
          26.75,
          24.15,
          23.73,
          27.33,
          26.21,
          29.76,
          22.22,
          25.3,
          25.05,
          21.63,
          26.6,
          23.03,
          30.4,
          23.04,
          25.61,
          23.35,
          22.49,
          26.07,
          26.17,
          21.77,
          21.46,
          22.4,
          25.1,
          20.28,
          22.2,
          29.98,
          26.86,
          26.47,
          24.67,
          27.17,
          25.3,
          31.57,
          27.21,
          25.34,
          26.72,
          25.59,
          22.2,
          25.25,
          24.22,
          26.36,
          28.4,
          23.51,
          26.56,
          28.08,
          27.33,
          26.67,
          25.45,
          28.05,
          27.08,
          27.68,
          28.08,
          22.65,
          22.27,
          26.49,
          24.02,
          31.97,
          29.33,
          24.03,
          23.73,
          31.8,
          26.06,
          27.35,
          24.53,
          22.79,
          28.51,
          19.59,
          28.72,
          21.14,
          23.14,
          25.05,
          26.17,
          24.5,
          28.25,
          26.12,
          22.86,
          25.95,
          22.57,
          26.39,
          18.51,
          24.69,
          24.75,
          23.53,
          20.07,
          22.77,
          27.39
         ],
         "xaxis": "x",
         "y": [
          0,
          1,
          2,
          3,
          4,
          5,
          6,
          7,
          8,
          9,
          10,
          11,
          12,
          13,
          14,
          15,
          16,
          17,
          18,
          19,
          20,
          21,
          22,
          23,
          24,
          25,
          26,
          27,
          28,
          29,
          30,
          31,
          32,
          33,
          34,
          35,
          36,
          37,
          38,
          39,
          40,
          41,
          42,
          43,
          44,
          45,
          46,
          47,
          48,
          49,
          50,
          51,
          52,
          53,
          54,
          55,
          56,
          57,
          58,
          59,
          60,
          61,
          62,
          63,
          64,
          65,
          66,
          67,
          68,
          69,
          70,
          71,
          72,
          73,
          74,
          75,
          76,
          77,
          78,
          79,
          80,
          81,
          82,
          83,
          84,
          85,
          86,
          87,
          88,
          89,
          90,
          91,
          92,
          93,
          94,
          95,
          96,
          97,
          98,
          99,
          100,
          101,
          102,
          103,
          104,
          105,
          106,
          107,
          108,
          109,
          110,
          111,
          112,
          113,
          114,
          115,
          116,
          117,
          118,
          119,
          120,
          121,
          122,
          123,
          124,
          125,
          126,
          127,
          128,
          129,
          130,
          131,
          132,
          133,
          134,
          135,
          136,
          137,
          138,
          139,
          140,
          141,
          142,
          143,
          144,
          145,
          146,
          147,
          148,
          149,
          150,
          151,
          152,
          153,
          154,
          155,
          156,
          157,
          158,
          159,
          160,
          161,
          162,
          163,
          164,
          165,
          166,
          167,
          168,
          169,
          170,
          171,
          172,
          173,
          174,
          175,
          176,
          177,
          178,
          179,
          180,
          181,
          182,
          183,
          184,
          185,
          186,
          187,
          188,
          189,
          190,
          191,
          192,
          193,
          194,
          195,
          196,
          197,
          198,
          199,
          200,
          201,
          202,
          203,
          204,
          205,
          206,
          207,
          208,
          209,
          210,
          211,
          212,
          213,
          214,
          215,
          216,
          217,
          218,
          219,
          220,
          221,
          222,
          223,
          224,
          225,
          226,
          227,
          228,
          229,
          230,
          231,
          232,
          233,
          234,
          235,
          236,
          237,
          238,
          239,
          240,
          241,
          242,
          243,
          244,
          245,
          246,
          247,
          248,
          249,
          250,
          251,
          252,
          253,
          254,
          255,
          256,
          257,
          258,
          259,
          260,
          261,
          262,
          263,
          264,
          265,
          266,
          267,
          268,
          269,
          270,
          271,
          272,
          273,
          274,
          275,
          276,
          277,
          278,
          279,
          280,
          281,
          282,
          283,
          284,
          285,
          286,
          287,
          288,
          289,
          290,
          291,
          292,
          293,
          294,
          295,
          296,
          297,
          298,
          299,
          300,
          301,
          302,
          303,
          304,
          305,
          306,
          307,
          308,
          309,
          310,
          311,
          312,
          313,
          314,
          315,
          316,
          317,
          318,
          319,
          320,
          321,
          322,
          323,
          324,
          325,
          326,
          327,
          328,
          329,
          330,
          331,
          332,
          333,
          334,
          335,
          336,
          337,
          338,
          339,
          340,
          341,
          342,
          343,
          344,
          345,
          346,
          347,
          348,
          349,
          350,
          351,
          352,
          353,
          354,
          355,
          356,
          357,
          358,
          359,
          360,
          361,
          362,
          363,
          364,
          365,
          366,
          367,
          368,
          369,
          370,
          371,
          372,
          373,
          374,
          375,
          376,
          377,
          378,
          379,
          380,
          381,
          382,
          383,
          384,
          385,
          386,
          387,
          388,
          389,
          390,
          391,
          392,
          393,
          394,
          395,
          396,
          397,
          398,
          399,
          400,
          401,
          402,
          403,
          404,
          405,
          406,
          407,
          408,
          409,
          410,
          411,
          412,
          413,
          414,
          415,
          416,
          417,
          418,
          419,
          420,
          421,
          422,
          423,
          424,
          425,
          426,
          427,
          428,
          429,
          430,
          431,
          432,
          433,
          434,
          435,
          436,
          437,
          438,
          439,
          440,
          441,
          442,
          443,
          444,
          445,
          446,
          447,
          448,
          449,
          450,
          451,
          452,
          453,
          454,
          455,
          456,
          457,
          458,
          459,
          460,
          461,
          462,
          463,
          464,
          465,
          466,
          467,
          468,
          469,
          470,
          471,
          472,
          473,
          474,
          475,
          476,
          477,
          478,
          479,
          480,
          481,
          482,
          483,
          484,
          485,
          486,
          487,
          488,
          489,
          490,
          491,
          492,
          493,
          494,
          495,
          496,
          497,
          498,
          499,
          500,
          501,
          502,
          503,
          504,
          505,
          506,
          507,
          508,
          509,
          510,
          511,
          512,
          513,
          514,
          515,
          516,
          517,
          518,
          519,
          520,
          521,
          522,
          523,
          524,
          525,
          526,
          527,
          528,
          529,
          530,
          531,
          532,
          533,
          534,
          535,
          536,
          537,
          538,
          539,
          540,
          541,
          542,
          543,
          544,
          545,
          546,
          547,
          548,
          549,
          550,
          551,
          552,
          553,
          554,
          555,
          556,
          557,
          558,
          559,
          560,
          561,
          562,
          563,
          564,
          565,
          566,
          567,
          568,
          569,
          570,
          571,
          572,
          573,
          574,
          575,
          576,
          577,
          578,
          579,
          580,
          581,
          582,
          583,
          584,
          585,
          586,
          587,
          588,
          589,
          590,
          591,
          592,
          593,
          594,
          595,
          596,
          597,
          598,
          599,
          600,
          601,
          602,
          603,
          604,
          605,
          606,
          607,
          608,
          609,
          610,
          611,
          612,
          613,
          614,
          615,
          616,
          617,
          618,
          619,
          620,
          621,
          622,
          623,
          624,
          625,
          626,
          627,
          628,
          629,
          630,
          631,
          632,
          633,
          634,
          635,
          636,
          637,
          638,
          639,
          640,
          641,
          642,
          643,
          644,
          645,
          646,
          647,
          648,
          649,
          650,
          651,
          652,
          653,
          654,
          655,
          656,
          657,
          658,
          659,
          660,
          661,
          662,
          663,
          664,
          665,
          666,
          667,
          668,
          669,
          670,
          671,
          672,
          673,
          674,
          675,
          676,
          677,
          678,
          679,
          680,
          681,
          682,
          683,
          684,
          685,
          686,
          687,
          688,
          689,
          690,
          691,
          692,
          693,
          694,
          695,
          696,
          697,
          698,
          699,
          700,
          701,
          702,
          703,
          704,
          705,
          706,
          707,
          708,
          709,
          710,
          711,
          712,
          713,
          714,
          715,
          716,
          717,
          718,
          719,
          720,
          721,
          722,
          723,
          724,
          725,
          726,
          727,
          728,
          729,
          730,
          731,
          732,
          733,
          734,
          735,
          736,
          737,
          738,
          739,
          740,
          741,
          742,
          743,
          744,
          745,
          746,
          747,
          748,
          749,
          750,
          751,
          752,
          753,
          754,
          755,
          756,
          757,
          758,
          759,
          760,
          761,
          762,
          763,
          764,
          765,
          766,
          767,
          768,
          769,
          770,
          771,
          772,
          773,
          774,
          775,
          776,
          777,
          778,
          779,
          780,
          781,
          782,
          783,
          784,
          785,
          786,
          787,
          788,
          789,
          790,
          791,
          792,
          793,
          794,
          795,
          796,
          797,
          798,
          799,
          800,
          801,
          802,
          803,
          804,
          805,
          806,
          807,
          808,
          809,
          810,
          811,
          812,
          813,
          814,
          815
         ],
         "yaxis": "y"
        }
       ],
       "layout": {
        "autosize": true,
        "legend": {
         "tracegroupgap": 0
        },
        "margin": {
         "t": 60
        },
        "template": {
         "data": {
          "bar": [
           {
            "error_x": {
             "color": "#2a3f5f"
            },
            "error_y": {
             "color": "#2a3f5f"
            },
            "marker": {
             "line": {
              "color": "#E5ECF6",
              "width": 0.5
             },
             "pattern": {
              "fillmode": "overlay",
              "size": 10,
              "solidity": 0.2
             }
            },
            "type": "bar"
           }
          ],
          "barpolar": [
           {
            "marker": {
             "line": {
              "color": "#E5ECF6",
              "width": 0.5
             },
             "pattern": {
              "fillmode": "overlay",
              "size": 10,
              "solidity": 0.2
             }
            },
            "type": "barpolar"
           }
          ],
          "carpet": [
           {
            "aaxis": {
             "endlinecolor": "#2a3f5f",
             "gridcolor": "white",
             "linecolor": "white",
             "minorgridcolor": "white",
             "startlinecolor": "#2a3f5f"
            },
            "baxis": {
             "endlinecolor": "#2a3f5f",
             "gridcolor": "white",
             "linecolor": "white",
             "minorgridcolor": "white",
             "startlinecolor": "#2a3f5f"
            },
            "type": "carpet"
           }
          ],
          "choropleth": [
           {
            "colorbar": {
             "outlinewidth": 0,
             "ticks": ""
            },
            "type": "choropleth"
           }
          ],
          "contour": [
           {
            "colorbar": {
             "outlinewidth": 0,
             "ticks": ""
            },
            "colorscale": [
             [
              0,
              "#0d0887"
             ],
             [
              0.1111111111111111,
              "#46039f"
             ],
             [
              0.2222222222222222,
              "#7201a8"
             ],
             [
              0.3333333333333333,
              "#9c179e"
             ],
             [
              0.4444444444444444,
              "#bd3786"
             ],
             [
              0.5555555555555556,
              "#d8576b"
             ],
             [
              0.6666666666666666,
              "#ed7953"
             ],
             [
              0.7777777777777778,
              "#fb9f3a"
             ],
             [
              0.8888888888888888,
              "#fdca26"
             ],
             [
              1,
              "#f0f921"
             ]
            ],
            "type": "contour"
           }
          ],
          "contourcarpet": [
           {
            "colorbar": {
             "outlinewidth": 0,
             "ticks": ""
            },
            "type": "contourcarpet"
           }
          ],
          "heatmap": [
           {
            "colorbar": {
             "outlinewidth": 0,
             "ticks": ""
            },
            "colorscale": [
             [
              0,
              "#0d0887"
             ],
             [
              0.1111111111111111,
              "#46039f"
             ],
             [
              0.2222222222222222,
              "#7201a8"
             ],
             [
              0.3333333333333333,
              "#9c179e"
             ],
             [
              0.4444444444444444,
              "#bd3786"
             ],
             [
              0.5555555555555556,
              "#d8576b"
             ],
             [
              0.6666666666666666,
              "#ed7953"
             ],
             [
              0.7777777777777778,
              "#fb9f3a"
             ],
             [
              0.8888888888888888,
              "#fdca26"
             ],
             [
              1,
              "#f0f921"
             ]
            ],
            "type": "heatmap"
           }
          ],
          "heatmapgl": [
           {
            "colorbar": {
             "outlinewidth": 0,
             "ticks": ""
            },
            "colorscale": [
             [
              0,
              "#0d0887"
             ],
             [
              0.1111111111111111,
              "#46039f"
             ],
             [
              0.2222222222222222,
              "#7201a8"
             ],
             [
              0.3333333333333333,
              "#9c179e"
             ],
             [
              0.4444444444444444,
              "#bd3786"
             ],
             [
              0.5555555555555556,
              "#d8576b"
             ],
             [
              0.6666666666666666,
              "#ed7953"
             ],
             [
              0.7777777777777778,
              "#fb9f3a"
             ],
             [
              0.8888888888888888,
              "#fdca26"
             ],
             [
              1,
              "#f0f921"
             ]
            ],
            "type": "heatmapgl"
           }
          ],
          "histogram": [
           {
            "marker": {
             "pattern": {
              "fillmode": "overlay",
              "size": 10,
              "solidity": 0.2
             }
            },
            "type": "histogram"
           }
          ],
          "histogram2d": [
           {
            "colorbar": {
             "outlinewidth": 0,
             "ticks": ""
            },
            "colorscale": [
             [
              0,
              "#0d0887"
             ],
             [
              0.1111111111111111,
              "#46039f"
             ],
             [
              0.2222222222222222,
              "#7201a8"
             ],
             [
              0.3333333333333333,
              "#9c179e"
             ],
             [
              0.4444444444444444,
              "#bd3786"
             ],
             [
              0.5555555555555556,
              "#d8576b"
             ],
             [
              0.6666666666666666,
              "#ed7953"
             ],
             [
              0.7777777777777778,
              "#fb9f3a"
             ],
             [
              0.8888888888888888,
              "#fdca26"
             ],
             [
              1,
              "#f0f921"
             ]
            ],
            "type": "histogram2d"
           }
          ],
          "histogram2dcontour": [
           {
            "colorbar": {
             "outlinewidth": 0,
             "ticks": ""
            },
            "colorscale": [
             [
              0,
              "#0d0887"
             ],
             [
              0.1111111111111111,
              "#46039f"
             ],
             [
              0.2222222222222222,
              "#7201a8"
             ],
             [
              0.3333333333333333,
              "#9c179e"
             ],
             [
              0.4444444444444444,
              "#bd3786"
             ],
             [
              0.5555555555555556,
              "#d8576b"
             ],
             [
              0.6666666666666666,
              "#ed7953"
             ],
             [
              0.7777777777777778,
              "#fb9f3a"
             ],
             [
              0.8888888888888888,
              "#fdca26"
             ],
             [
              1,
              "#f0f921"
             ]
            ],
            "type": "histogram2dcontour"
           }
          ],
          "mesh3d": [
           {
            "colorbar": {
             "outlinewidth": 0,
             "ticks": ""
            },
            "type": "mesh3d"
           }
          ],
          "parcoords": [
           {
            "line": {
             "colorbar": {
              "outlinewidth": 0,
              "ticks": ""
             }
            },
            "type": "parcoords"
           }
          ],
          "pie": [
           {
            "automargin": true,
            "type": "pie"
           }
          ],
          "scatter": [
           {
            "fillpattern": {
             "fillmode": "overlay",
             "size": 10,
             "solidity": 0.2
            },
            "type": "scatter"
           }
          ],
          "scatter3d": [
           {
            "line": {
             "colorbar": {
              "outlinewidth": 0,
              "ticks": ""
             }
            },
            "marker": {
             "colorbar": {
              "outlinewidth": 0,
              "ticks": ""
             }
            },
            "type": "scatter3d"
           }
          ],
          "scattercarpet": [
           {
            "marker": {
             "colorbar": {
              "outlinewidth": 0,
              "ticks": ""
             }
            },
            "type": "scattercarpet"
           }
          ],
          "scattergeo": [
           {
            "marker": {
             "colorbar": {
              "outlinewidth": 0,
              "ticks": ""
             }
            },
            "type": "scattergeo"
           }
          ],
          "scattergl": [
           {
            "marker": {
             "colorbar": {
              "outlinewidth": 0,
              "ticks": ""
             }
            },
            "type": "scattergl"
           }
          ],
          "scattermapbox": [
           {
            "marker": {
             "colorbar": {
              "outlinewidth": 0,
              "ticks": ""
             }
            },
            "type": "scattermapbox"
           }
          ],
          "scatterpolar": [
           {
            "marker": {
             "colorbar": {
              "outlinewidth": 0,
              "ticks": ""
             }
            },
            "type": "scatterpolar"
           }
          ],
          "scatterpolargl": [
           {
            "marker": {
             "colorbar": {
              "outlinewidth": 0,
              "ticks": ""
             }
            },
            "type": "scatterpolargl"
           }
          ],
          "scatterternary": [
           {
            "marker": {
             "colorbar": {
              "outlinewidth": 0,
              "ticks": ""
             }
            },
            "type": "scatterternary"
           }
          ],
          "surface": [
           {
            "colorbar": {
             "outlinewidth": 0,
             "ticks": ""
            },
            "colorscale": [
             [
              0,
              "#0d0887"
             ],
             [
              0.1111111111111111,
              "#46039f"
             ],
             [
              0.2222222222222222,
              "#7201a8"
             ],
             [
              0.3333333333333333,
              "#9c179e"
             ],
             [
              0.4444444444444444,
              "#bd3786"
             ],
             [
              0.5555555555555556,
              "#d8576b"
             ],
             [
              0.6666666666666666,
              "#ed7953"
             ],
             [
              0.7777777777777778,
              "#fb9f3a"
             ],
             [
              0.8888888888888888,
              "#fdca26"
             ],
             [
              1,
              "#f0f921"
             ]
            ],
            "type": "surface"
           }
          ],
          "table": [
           {
            "cells": {
             "fill": {
              "color": "#EBF0F8"
             },
             "line": {
              "color": "white"
             }
            },
            "header": {
             "fill": {
              "color": "#C8D4E3"
             },
             "line": {
              "color": "white"
             }
            },
            "type": "table"
           }
          ]
         },
         "layout": {
          "annotationdefaults": {
           "arrowcolor": "#2a3f5f",
           "arrowhead": 0,
           "arrowwidth": 1
          },
          "autotypenumbers": "strict",
          "coloraxis": {
           "colorbar": {
            "outlinewidth": 0,
            "ticks": ""
           }
          },
          "colorscale": {
           "diverging": [
            [
             0,
             "#8e0152"
            ],
            [
             0.1,
             "#c51b7d"
            ],
            [
             0.2,
             "#de77ae"
            ],
            [
             0.3,
             "#f1b6da"
            ],
            [
             0.4,
             "#fde0ef"
            ],
            [
             0.5,
             "#f7f7f7"
            ],
            [
             0.6,
             "#e6f5d0"
            ],
            [
             0.7,
             "#b8e186"
            ],
            [
             0.8,
             "#7fbc41"
            ],
            [
             0.9,
             "#4d9221"
            ],
            [
             1,
             "#276419"
            ]
           ],
           "sequential": [
            [
             0,
             "#0d0887"
            ],
            [
             0.1111111111111111,
             "#46039f"
            ],
            [
             0.2222222222222222,
             "#7201a8"
            ],
            [
             0.3333333333333333,
             "#9c179e"
            ],
            [
             0.4444444444444444,
             "#bd3786"
            ],
            [
             0.5555555555555556,
             "#d8576b"
            ],
            [
             0.6666666666666666,
             "#ed7953"
            ],
            [
             0.7777777777777778,
             "#fb9f3a"
            ],
            [
             0.8888888888888888,
             "#fdca26"
            ],
            [
             1,
             "#f0f921"
            ]
           ],
           "sequentialminus": [
            [
             0,
             "#0d0887"
            ],
            [
             0.1111111111111111,
             "#46039f"
            ],
            [
             0.2222222222222222,
             "#7201a8"
            ],
            [
             0.3333333333333333,
             "#9c179e"
            ],
            [
             0.4444444444444444,
             "#bd3786"
            ],
            [
             0.5555555555555556,
             "#d8576b"
            ],
            [
             0.6666666666666666,
             "#ed7953"
            ],
            [
             0.7777777777777778,
             "#fb9f3a"
            ],
            [
             0.8888888888888888,
             "#fdca26"
            ],
            [
             1,
             "#f0f921"
            ]
           ]
          },
          "colorway": [
           "#636efa",
           "#EF553B",
           "#00cc96",
           "#ab63fa",
           "#FFA15A",
           "#19d3f3",
           "#FF6692",
           "#B6E880",
           "#FF97FF",
           "#FECB52"
          ],
          "font": {
           "color": "#2a3f5f"
          },
          "geo": {
           "bgcolor": "white",
           "lakecolor": "white",
           "landcolor": "#E5ECF6",
           "showlakes": true,
           "showland": true,
           "subunitcolor": "white"
          },
          "hoverlabel": {
           "align": "left"
          },
          "hovermode": "closest",
          "mapbox": {
           "style": "light"
          },
          "paper_bgcolor": "white",
          "plot_bgcolor": "#E5ECF6",
          "polar": {
           "angularaxis": {
            "gridcolor": "white",
            "linecolor": "white",
            "ticks": ""
           },
           "bgcolor": "#E5ECF6",
           "radialaxis": {
            "gridcolor": "white",
            "linecolor": "white",
            "ticks": ""
           }
          },
          "scene": {
           "xaxis": {
            "backgroundcolor": "#E5ECF6",
            "gridcolor": "white",
            "gridwidth": 2,
            "linecolor": "white",
            "showbackground": true,
            "ticks": "",
            "zerolinecolor": "white"
           },
           "yaxis": {
            "backgroundcolor": "#E5ECF6",
            "gridcolor": "white",
            "gridwidth": 2,
            "linecolor": "white",
            "showbackground": true,
            "ticks": "",
            "zerolinecolor": "white"
           },
           "zaxis": {
            "backgroundcolor": "#E5ECF6",
            "gridcolor": "white",
            "gridwidth": 2,
            "linecolor": "white",
            "showbackground": true,
            "ticks": "",
            "zerolinecolor": "white"
           }
          },
          "shapedefaults": {
           "line": {
            "color": "#2a3f5f"
           }
          },
          "ternary": {
           "aaxis": {
            "gridcolor": "white",
            "linecolor": "white",
            "ticks": ""
           },
           "baxis": {
            "gridcolor": "white",
            "linecolor": "white",
            "ticks": ""
           },
           "bgcolor": "#E5ECF6",
           "caxis": {
            "gridcolor": "white",
            "linecolor": "white",
            "ticks": ""
           }
          },
          "title": {
           "x": 0.05
          },
          "xaxis": {
           "automargin": true,
           "gridcolor": "white",
           "linecolor": "white",
           "ticks": "",
           "title": {
            "standoff": 15
           },
           "zerolinecolor": "white",
           "zerolinewidth": 2
          },
          "yaxis": {
           "automargin": true,
           "gridcolor": "white",
           "linecolor": "white",
           "ticks": "",
           "title": {
            "standoff": 15
           },
           "zerolinecolor": "white",
           "zerolinewidth": 2
          }
         }
        },
        "xaxis": {
         "anchor": "y",
         "autorange": true,
         "domain": [
          0,
          1
         ],
         "range": [
          17.677717810331533,
          32.822282189668464
         ],
         "title": {
          "text": "x"
         },
         "type": "linear"
        },
        "yaxis": {
         "anchor": "x",
         "autorange": true,
         "domain": [
          0,
          1
         ],
         "range": [
          -63.10367454068241,
          878.1036745406824
         ],
         "title": {
          "text": "index"
         },
         "type": "linear"
        }
       }
      },
      "image/png": "[encoded data removed]",
      "text/html": [
       "<div>                            <div id=\"0c7ed882-3e8d-4f9a-938b-e1c2e5373259\" class=\"plotly-graph-div\" style=\"height:525px; width:100%;\"></div>            <script type=\"text/javascript\">                require([\"plotly\"], function(Plotly) {                    window.PLOTLYENV=window.PLOTLYENV || {};                                    if (document.getElementById(\"0c7ed882-3e8d-4f9a-938b-e1c2e5373259\")) {                    Plotly.newPlot(                        \"0c7ed882-3e8d-4f9a-938b-e1c2e5373259\",                        [{\"hovertemplate\":\"x=%{x}\\u003cbr\\u003eindex=%{y}\\u003cextra\\u003e\\u003c\\u002fextra\\u003e\",\"legendgroup\":\"\",\"marker\":{\"color\":\"#636efa\",\"symbol\":\"circle\"},\"mode\":\"markers\",\"name\":\"\",\"orientation\":\"h\",\"showlegend\":false,\"x\":[20.13,21.33,22.18,18.68,29.01,27.51,22.59,21.6,22.26,23.04,20.06,19.31,24.97,18.82,28.66,27.45,19.57,21.15,23.03,21.55,19.84,23.41,25.21,25.21,28.19,21.9,20.01,23.23,22.86,27.28,21.71,21.93,23.91,22.49,20.57,24.23,20.95,24.6,21.79,19.22,19.38,23.06,21.5,18.59,19.46,21.82,20.56,21.78,19.95,24.38,18.67,21.71,26.02,24.74,20.43,19.1,31.24,27.41,22.22,19.59,20.9,29.0,20.9,20.32,31.83,19.88,24.87,28.73,22.34,25.43,23.5,26.75,23.25,19.92,21.95,23.04,23.05,22.49,31.14,21.63,21.55,21.95,21.36,18.92,24.75,22.83,20.45,22.22,20.3,22.28,20.01,30.63,24.3,19.26,24.89,24.41,23.16,22.53,19.95,21.32,22.72,21.29,23.87,22.47,27.71,29.66,21.27,21.29,23.66,21.16,21.22,20.6,22.85,23.25,31.91,18.72,22.43,20.98,21.19,21.61,20.65,22.71,20.32,25.39,19.05,19.83,21.09,23.14,24.38,31.23,23.04,25.21,24.43,27.47,19.59,27.28,25.72,19.22,22.75,22.98,20.51,27.39,19.57,24.85,23.18,20.43,29.31,29.41,20.04,28.8,26.02,21.1,22.06,28.98,29.96,24.0,19.81,19.81,22.58,20.43,20.2,21.22,24.52,20.83,27.4,20.57,30.11,27.7,21.56,31.58,24.53,18.73,25.01,25.06,24.15,22.83,23.05,27.66,22.46,21.1,23.38,21.54,20.86,23.51,22.13,25.14,24.44,25.39,22.18,27.68,22.72,31.83,20.95,28.19,22.26,24.91,23.87,25.34,19.57,22.76,22.77,24.87,20.93,25.53,20.38,26.7,19.26,24.65,31.96,20.95,20.61,25.73,24.3,20.14,27.11,27.75,22.22,22.53,27.73,19.07,25.81,18.62,23.93,24.96,28.34,25.74,25.64,22.26,25.01,21.22,31.05,24.93,21.3,26.09,24.46,22.95,23.58,25.51,20.66,30.61,25.05,22.72,23.45,22.47,25.35,23.18,24.3,25.9,22.78,25.97,22.44,21.53,25.14,21.91,22.14,31.69,22.64,23.56,22.98,21.26,21.38,28.4,28.71,25.79,22.59,29.4,21.97,23.56,25.18,21.29,22.46,24.16,28.08,23.3,27.28,23.99,22.1,20.42,26.83,19.92,19.91,18.67,21.07,21.48,28.98,18.92,21.9,31.55,20.07,24.24,21.33,20.68,25.46,25.39,21.13,20.06,20.93,24.09,23.59,19.13,27.43,21.56,20.7,23.22,23.73,20.13,23.22,25.96,29.41,20.95,23.53,19.97,30.12,19.06,20.17,24.74,22.95,25.07,26.77,21.41,23.63,22.76,25.55,23.3,22.86,19.33,23.53,27.23,21.15,26.72,26.12,25.65,20.69,25.71,20.19,21.77,24.24,23.62,23.12,22.2,27.77,21.96,19.03,19.47,22.32,30.86,27.47,27.88,20.93,21.33,21.21,20.43,25.35,31.86,22.83,20.2,20.44,24.69,21.48,20.02,20.93,21.25,22.86,25.28,23.18,25.94,23.24,21.06,30.36,24.67,25.71,28.73,27.77,26.47,23.4,28.69,25.3,21.29,23.24,26.19,25.72,22.89,24.53,21.79,27.13,21.87,24.09,22.98,21.3,25.28,26.17,22.53,26.7,24.89,25.5,18.64,23.83,21.63,20.51,24.11,23.09,24.44,26.95,30.05,25.28,24.75,23.24,24.11,28.4,27.75,24.91,21.5,31.48,26.88,22.98,26.19,25.97,26.44,23.22,24.16,25.0,23.76,23.59,22.79,26.77,22.99,26.06,22.54,23.45,21.84,30.48,22.75,23.22,23.24,24.15,22.14,29.58,30.79,20.97,28.98,20.47,29.72,24.28,27.96,26.58,19.36,27.33,23.87,30.81,26.17,27.63,20.71,19.6,25.09,30.46,18.5,25.47,20.39,22.54,23.03,23.91,19.59,19.06,19.46,31.61,20.93,23.91,26.76,30.09,20.66,21.87,24.88,26.37,27.73,19.77,20.7,31.64,26.12,24.6,22.49,24.38,22.94,25.39,21.82,21.56,25.47,24.09,22.13,19.77,20.44,23.63,20.79,23.71,22.1,21.09,20.31,30.44,28.47,28.54,27.4,29.68,21.25,24.16,21.9,27.55,18.9,24.65,24.74,23.14,24.84,26.98,23.42,26.02,26.49,24.0,22.14,22.83,20.83,24.65,20.02,20.96,20.79,26.17,20.83,24.69,20.68,22.06,25.0,23.19,22.37,23.23,21.88,29.24,21.79,24.02,30.48,23.18,30.97,25.55,21.56,23.19,29.6,26.02,25.72,23.73,22.32,29.76,31.4,24.16,25.99,31.95,26.77,25.4,19.75,22.32,23.56,26.21,24.39,27.94,28.68,23.12,27.15,26.21,24.81,31.19,25.28,28.22,19.65,22.53,20.86,23.45,25.09,21.82,28.72,28.68,22.2,22.83,24.87,25.35,24.89,24.15,23.4,25.68,23.8,25.14,21.77,20.59,25.01,30.12,19.71,26.42,22.22,27.39,26.02,23.05,24.25,21.97,25.15,26.67,22.3,24.11,28.39,23.98,23.99,26.86,28.08,30.86,22.83,27.15,25.76,29.66,26.81,22.09,23.95,24.3,27.45,24.48,28.73,25.25,25.18,24.74,28.57,30.4,26.88,24.5,27.1,30.64,28.66,26.87,27.08,25.39,19.94,21.21,28.62,30.99,20.56,23.01,31.64,25.39,28.25,29.68,21.21,21.33,22.36,24.65,22.1,19.04,22.86,23.79,21.63,20.06,23.24,24.14,23.24,18.59,24.74,20.17,21.61,27.29,22.2,24.14,24.38,30.02,30.73,23.23,23.66,21.63,22.86,23.83,30.75,25.47,21.56,19.11,27.99,21.51,29.17,28.08,28.04,23.95,26.44,29.55,24.91,22.31,27.33,19.57,20.32,31.16,23.24,29.47,21.6,24.16,21.09,29.33,29.27,22.67,24.16,25.72,23.5,26.29,28.04,27.53,28.51,25.1,23.3,22.94,23.83,21.71,24.14,26.98,24.77,23.3,22.06,21.64,25.0,26.5,21.5,25.97,31.67,27.33,21.79,23.92,26.36,24.96,21.15,25.18,32.0,28.08,27.06,22.06,28.99,24.28,26.75,24.15,23.73,27.33,26.21,29.76,22.22,25.3,25.05,21.63,26.6,23.03,30.4,23.04,25.61,23.35,22.49,26.07,26.17,21.77,21.46,22.4,25.1,20.28,22.2,29.98,26.86,26.47,24.67,27.17,25.3,31.57,27.21,25.34,26.72,25.59,22.2,25.25,24.22,26.36,28.4,23.51,26.56,28.08,27.33,26.67,25.45,28.05,27.08,27.68,28.08,22.65,22.27,26.49,24.02,31.97,29.33,24.03,23.73,31.8,26.06,27.35,24.53,22.79,28.51,19.59,28.72,21.14,23.14,25.05,26.17,24.5,28.25,26.12,22.86,25.95,22.57,26.39,18.51,24.69,24.75,23.53,20.07,22.77,27.39],\"xaxis\":\"x\",\"y\":[0,1,2,3,4,5,6,7,8,9,10,11,12,13,14,15,16,17,18,19,20,21,22,23,24,25,26,27,28,29,30,31,32,33,34,35,36,37,38,39,40,41,42,43,44,45,46,47,48,49,50,51,52,53,54,55,56,57,58,59,60,61,62,63,64,65,66,67,68,69,70,71,72,73,74,75,76,77,78,79,80,81,82,83,84,85,86,87,88,89,90,91,92,93,94,95,96,97,98,99,100,101,102,103,104,105,106,107,108,109,110,111,112,113,114,115,116,117,118,119,120,121,122,123,124,125,126,127,128,129,130,131,132,133,134,135,136,137,138,139,140,141,142,143,144,145,146,147,148,149,150,151,152,153,154,155,156,157,158,159,160,161,162,163,164,165,166,167,168,169,170,171,172,173,174,175,176,177,178,179,180,181,182,183,184,185,186,187,188,189,190,191,192,193,194,195,196,197,198,199,200,201,202,203,204,205,206,207,208,209,210,211,212,213,214,215,216,217,218,219,220,221,222,223,224,225,226,227,228,229,230,231,232,233,234,235,236,237,238,239,240,241,242,243,244,245,246,247,248,249,250,251,252,253,254,255,256,257,258,259,260,261,262,263,264,265,266,267,268,269,270,271,272,273,274,275,276,277,278,279,280,281,282,283,284,285,286,287,288,289,290,291,292,293,294,295,296,297,298,299,300,301,302,303,304,305,306,307,308,309,310,311,312,313,314,315,316,317,318,319,320,321,322,323,324,325,326,327,328,329,330,331,332,333,334,335,336,337,338,339,340,341,342,343,344,345,346,347,348,349,350,351,352,353,354,355,356,357,358,359,360,361,362,363,364,365,366,367,368,369,370,371,372,373,374,375,376,377,378,379,380,381,382,383,384,385,386,387,388,389,390,391,392,393,394,395,396,397,398,399,400,401,402,403,404,405,406,407,408,409,410,411,412,413,414,415,416,417,418,419,420,421,422,423,424,425,426,427,428,429,430,431,432,433,434,435,436,437,438,439,440,441,442,443,444,445,446,447,448,449,450,451,452,453,454,455,456,457,458,459,460,461,462,463,464,465,466,467,468,469,470,471,472,473,474,475,476,477,478,479,480,481,482,483,484,485,486,487,488,489,490,491,492,493,494,495,496,497,498,499,500,501,502,503,504,505,506,507,508,509,510,511,512,513,514,515,516,517,518,519,520,521,522,523,524,525,526,527,528,529,530,531,532,533,534,535,536,537,538,539,540,541,542,543,544,545,546,547,548,549,550,551,552,553,554,555,556,557,558,559,560,561,562,563,564,565,566,567,568,569,570,571,572,573,574,575,576,577,578,579,580,581,582,583,584,585,586,587,588,589,590,591,592,593,594,595,596,597,598,599,600,601,602,603,604,605,606,607,608,609,610,611,612,613,614,615,616,617,618,619,620,621,622,623,624,625,626,627,628,629,630,631,632,633,634,635,636,637,638,639,640,641,642,643,644,645,646,647,648,649,650,651,652,653,654,655,656,657,658,659,660,661,662,663,664,665,666,667,668,669,670,671,672,673,674,675,676,677,678,679,680,681,682,683,684,685,686,687,688,689,690,691,692,693,694,695,696,697,698,699,700,701,702,703,704,705,706,707,708,709,710,711,712,713,714,715,716,717,718,719,720,721,722,723,724,725,726,727,728,729,730,731,732,733,734,735,736,737,738,739,740,741,742,743,744,745,746,747,748,749,750,751,752,753,754,755,756,757,758,759,760,761,762,763,764,765,766,767,768,769,770,771,772,773,774,775,776,777,778,779,780,781,782,783,784,785,786,787,788,789,790,791,792,793,794,795,796,797,798,799,800,801,802,803,804,805,806,807,808,809,810,811,812,813,814,815],\"yaxis\":\"y\",\"type\":\"scatter\"}],                        {\"template\":{\"data\":{\"histogram2dcontour\":[{\"type\":\"histogram2dcontour\",\"colorbar\":{\"outlinewidth\":0,\"ticks\":\"\"},\"colorscale\":[[0.0,\"#0d0887\"],[0.1111111111111111,\"#46039f\"],[0.2222222222222222,\"#7201a8\"],[0.3333333333333333,\"#9c179e\"],[0.4444444444444444,\"#bd3786\"],[0.5555555555555556,\"#d8576b\"],[0.6666666666666666,\"#ed7953\"],[0.7777777777777778,\"#fb9f3a\"],[0.8888888888888888,\"#fdca26\"],[1.0,\"#f0f921\"]]}],\"choropleth\":[{\"type\":\"choropleth\",\"colorbar\":{\"outlinewidth\":0,\"ticks\":\"\"}}],\"histogram2d\":[{\"type\":\"histogram2d\",\"colorbar\":{\"outlinewidth\":0,\"ticks\":\"\"},\"colorscale\":[[0.0,\"#0d0887\"],[0.1111111111111111,\"#46039f\"],[0.2222222222222222,\"#7201a8\"],[0.3333333333333333,\"#9c179e\"],[0.4444444444444444,\"#bd3786\"],[0.5555555555555556,\"#d8576b\"],[0.6666666666666666,\"#ed7953\"],[0.7777777777777778,\"#fb9f3a\"],[0.8888888888888888,\"#fdca26\"],[1.0,\"#f0f921\"]]}],\"heatmap\":[{\"type\":\"heatmap\",\"colorbar\":{\"outlinewidth\":0,\"ticks\":\"\"},\"colorscale\":[[0.0,\"#0d0887\"],[0.1111111111111111,\"#46039f\"],[0.2222222222222222,\"#7201a8\"],[0.3333333333333333,\"#9c179e\"],[0.4444444444444444,\"#bd3786\"],[0.5555555555555556,\"#d8576b\"],[0.6666666666666666,\"#ed7953\"],[0.7777777777777778,\"#fb9f3a\"],[0.8888888888888888,\"#fdca26\"],[1.0,\"#f0f921\"]]}],\"heatmapgl\":[{\"type\":\"heatmapgl\",\"colorbar\":{\"outlinewidth\":0,\"ticks\":\"\"},\"colorscale\":[[0.0,\"#0d0887\"],[0.1111111111111111,\"#46039f\"],[0.2222222222222222,\"#7201a8\"],[0.3333333333333333,\"#9c179e\"],[0.4444444444444444,\"#bd3786\"],[0.5555555555555556,\"#d8576b\"],[0.6666666666666666,\"#ed7953\"],[0.7777777777777778,\"#fb9f3a\"],[0.8888888888888888,\"#fdca26\"],[1.0,\"#f0f921\"]]}],\"contourcarpet\":[{\"type\":\"contourcarpet\",\"colorbar\":{\"outlinewidth\":0,\"ticks\":\"\"}}],\"contour\":[{\"type\":\"contour\",\"colorbar\":{\"outlinewidth\":0,\"ticks\":\"\"},\"colorscale\":[[0.0,\"#0d0887\"],[0.1111111111111111,\"#46039f\"],[0.2222222222222222,\"#7201a8\"],[0.3333333333333333,\"#9c179e\"],[0.4444444444444444,\"#bd3786\"],[0.5555555555555556,\"#d8576b\"],[0.6666666666666666,\"#ed7953\"],[0.7777777777777778,\"#fb9f3a\"],[0.8888888888888888,\"#fdca26\"],[1.0,\"#f0f921\"]]}],\"surface\":[{\"type\":\"surface\",\"colorbar\":{\"outlinewidth\":0,\"ticks\":\"\"},\"colorscale\":[[0.0,\"#0d0887\"],[0.1111111111111111,\"#46039f\"],[0.2222222222222222,\"#7201a8\"],[0.3333333333333333,\"#9c179e\"],[0.4444444444444444,\"#bd3786\"],[0.5555555555555556,\"#d8576b\"],[0.6666666666666666,\"#ed7953\"],[0.7777777777777778,\"#fb9f3a\"],[0.8888888888888888,\"#fdca26\"],[1.0,\"#f0f921\"]]}],\"mesh3d\":[{\"type\":\"mesh3d\",\"colorbar\":{\"outlinewidth\":0,\"ticks\":\"\"}}],\"scatter\":[{\"fillpattern\":{\"fillmode\":\"overlay\",\"size\":10,\"solidity\":0.2},\"type\":\"scatter\"}],\"parcoords\":[{\"type\":\"parcoords\",\"line\":{\"colorbar\":{\"outlinewidth\":0,\"ticks\":\"\"}}}],\"scatterpolargl\":[{\"type\":\"scatterpolargl\",\"marker\":{\"colorbar\":{\"outlinewidth\":0,\"ticks\":\"\"}}}],\"bar\":[{\"error_x\":{\"color\":\"#2a3f5f\"},\"error_y\":{\"color\":\"#2a3f5f\"},\"marker\":{\"line\":{\"color\":\"#E5ECF6\",\"width\":0.5},\"pattern\":{\"fillmode\":\"overlay\",\"size\":10,\"solidity\":0.2}},\"type\":\"bar\"}],\"scattergeo\":[{\"type\":\"scattergeo\",\"marker\":{\"colorbar\":{\"outlinewidth\":0,\"ticks\":\"\"}}}],\"scatterpolar\":[{\"type\":\"scatterpolar\",\"marker\":{\"colorbar\":{\"outlinewidth\":0,\"ticks\":\"\"}}}],\"histogram\":[{\"marker\":{\"pattern\":{\"fillmode\":\"overlay\",\"size\":10,\"solidity\":0.2}},\"type\":\"histogram\"}],\"scattergl\":[{\"type\":\"scattergl\",\"marker\":{\"colorbar\":{\"outlinewidth\":0,\"ticks\":\"\"}}}],\"scatter3d\":[{\"type\":\"scatter3d\",\"line\":{\"colorbar\":{\"outlinewidth\":0,\"ticks\":\"\"}},\"marker\":{\"colorbar\":{\"outlinewidth\":0,\"ticks\":\"\"}}}],\"scattermapbox\":[{\"type\":\"scattermapbox\",\"marker\":{\"colorbar\":{\"outlinewidth\":0,\"ticks\":\"\"}}}],\"scatterternary\":[{\"type\":\"scatterternary\",\"marker\":{\"colorbar\":{\"outlinewidth\":0,\"ticks\":\"\"}}}],\"scattercarpet\":[{\"type\":\"scattercarpet\",\"marker\":{\"colorbar\":{\"outlinewidth\":0,\"ticks\":\"\"}}}],\"carpet\":[{\"aaxis\":{\"endlinecolor\":\"#2a3f5f\",\"gridcolor\":\"white\",\"linecolor\":\"white\",\"minorgridcolor\":\"white\",\"startlinecolor\":\"#2a3f5f\"},\"baxis\":{\"endlinecolor\":\"#2a3f5f\",\"gridcolor\":\"white\",\"linecolor\":\"white\",\"minorgridcolor\":\"white\",\"startlinecolor\":\"#2a3f5f\"},\"type\":\"carpet\"}],\"table\":[{\"cells\":{\"fill\":{\"color\":\"#EBF0F8\"},\"line\":{\"color\":\"white\"}},\"header\":{\"fill\":{\"color\":\"#C8D4E3\"},\"line\":{\"color\":\"white\"}},\"type\":\"table\"}],\"barpolar\":[{\"marker\":{\"line\":{\"color\":\"#E5ECF6\",\"width\":0.5},\"pattern\":{\"fillmode\":\"overlay\",\"size\":10,\"solidity\":0.2}},\"type\":\"barpolar\"}],\"pie\":[{\"automargin\":true,\"type\":\"pie\"}]},\"layout\":{\"autotypenumbers\":\"strict\",\"colorway\":[\"#636efa\",\"#EF553B\",\"#00cc96\",\"#ab63fa\",\"#FFA15A\",\"#19d3f3\",\"#FF6692\",\"#B6E880\",\"#FF97FF\",\"#FECB52\"],\"font\":{\"color\":\"#2a3f5f\"},\"hovermode\":\"closest\",\"hoverlabel\":{\"align\":\"left\"},\"paper_bgcolor\":\"white\",\"plot_bgcolor\":\"#E5ECF6\",\"polar\":{\"bgcolor\":\"#E5ECF6\",\"angularaxis\":{\"gridcolor\":\"white\",\"linecolor\":\"white\",\"ticks\":\"\"},\"radialaxis\":{\"gridcolor\":\"white\",\"linecolor\":\"white\",\"ticks\":\"\"}},\"ternary\":{\"bgcolor\":\"#E5ECF6\",\"aaxis\":{\"gridcolor\":\"white\",\"linecolor\":\"white\",\"ticks\":\"\"},\"baxis\":{\"gridcolor\":\"white\",\"linecolor\":\"white\",\"ticks\":\"\"},\"caxis\":{\"gridcolor\":\"white\",\"linecolor\":\"white\",\"ticks\":\"\"}},\"coloraxis\":{\"colorbar\":{\"outlinewidth\":0,\"ticks\":\"\"}},\"colorscale\":{\"sequential\":[[0.0,\"#0d0887\"],[0.1111111111111111,\"#46039f\"],[0.2222222222222222,\"#7201a8\"],[0.3333333333333333,\"#9c179e\"],[0.4444444444444444,\"#bd3786\"],[0.5555555555555556,\"#d8576b\"],[0.6666666666666666,\"#ed7953\"],[0.7777777777777778,\"#fb9f3a\"],[0.8888888888888888,\"#fdca26\"],[1.0,\"#f0f921\"]],\"sequentialminus\":[[0.0,\"#0d0887\"],[0.1111111111111111,\"#46039f\"],[0.2222222222222222,\"#7201a8\"],[0.3333333333333333,\"#9c179e\"],[0.4444444444444444,\"#bd3786\"],[0.5555555555555556,\"#d8576b\"],[0.6666666666666666,\"#ed7953\"],[0.7777777777777778,\"#fb9f3a\"],[0.8888888888888888,\"#fdca26\"],[1.0,\"#f0f921\"]],\"diverging\":[[0,\"#8e0152\"],[0.1,\"#c51b7d\"],[0.2,\"#de77ae\"],[0.3,\"#f1b6da\"],[0.4,\"#fde0ef\"],[0.5,\"#f7f7f7\"],[0.6,\"#e6f5d0\"],[0.7,\"#b8e186\"],[0.8,\"#7fbc41\"],[0.9,\"#4d9221\"],[1,\"#276419\"]]},\"xaxis\":{\"gridcolor\":\"white\",\"linecolor\":\"white\",\"ticks\":\"\",\"title\":{\"standoff\":15},\"zerolinecolor\":\"white\",\"automargin\":true,\"zerolinewidth\":2},\"yaxis\":{\"gridcolor\":\"white\",\"linecolor\":\"white\",\"ticks\":\"\",\"title\":{\"standoff\":15},\"zerolinecolor\":\"white\",\"automargin\":true,\"zerolinewidth\":2},\"scene\":{\"xaxis\":{\"backgroundcolor\":\"#E5ECF6\",\"gridcolor\":\"white\",\"linecolor\":\"white\",\"showbackground\":true,\"ticks\":\"\",\"zerolinecolor\":\"white\",\"gridwidth\":2},\"yaxis\":{\"backgroundcolor\":\"#E5ECF6\",\"gridcolor\":\"white\",\"linecolor\":\"white\",\"showbackground\":true,\"ticks\":\"\",\"zerolinecolor\":\"white\",\"gridwidth\":2},\"zaxis\":{\"backgroundcolor\":\"#E5ECF6\",\"gridcolor\":\"white\",\"linecolor\":\"white\",\"showbackground\":true,\"ticks\":\"\",\"zerolinecolor\":\"white\",\"gridwidth\":2}},\"shapedefaults\":{\"line\":{\"color\":\"#2a3f5f\"}},\"annotationdefaults\":{\"arrowcolor\":\"#2a3f5f\",\"arrowhead\":0,\"arrowwidth\":1},\"geo\":{\"bgcolor\":\"white\",\"landcolor\":\"#E5ECF6\",\"subunitcolor\":\"white\",\"showland\":true,\"showlakes\":true,\"lakecolor\":\"white\"},\"title\":{\"x\":0.05},\"mapbox\":{\"style\":\"light\"}}},\"xaxis\":{\"anchor\":\"y\",\"domain\":[0.0,1.0],\"title\":{\"text\":\"x\"}},\"yaxis\":{\"anchor\":\"x\",\"domain\":[0.0,1.0],\"title\":{\"text\":\"index\"}},\"legend\":{\"tracegroupgap\":0},\"margin\":{\"t\":60}},                        {\"responsive\": true}                    ).then(function(){\n",
       "                            \n",
       "var gd = document.getElementById('0c7ed882-3e8d-4f9a-938b-e1c2e5373259');\n",
       "var x = new MutationObserver(function (mutations, observer) {{\n",
       "        var display = window.getComputedStyle(gd).display;\n",
       "        if (!display || display === 'none') {{\n",
       "            console.log([gd, 'removed!']);\n",
       "            Plotly.purge(gd);\n",
       "            observer.disconnect();\n",
       "        }}\n",
       "}});\n",
       "\n",
       "// Listen for the removal of the full notebook cells\n",
       "var notebookContainer = gd.closest('#notebook-container');\n",
       "if (notebookContainer) {{\n",
       "    x.observe(notebookContainer, {childList: true});\n",
       "}}\n",
       "\n",
       "// Listen for the clearing of the current output cell\n",
       "var outputEl = gd.closest('.output');\n",
       "if (outputEl) {{\n",
       "    x.observe(outputEl, {childList: true});\n",
       "}}\n",
       "\n",
       "                        })                };                });            </script>        </div>"
      ]
     },
     "metadata": {},
     "output_type": "display_data"
    }
   ],
   "source": [
    "px.scatter(mi_df.Age, mi_df.BMI)"
   ]
  },
  {
   "cell_type": "markdown",
   "id": "closing-affect",
   "metadata": {
    "slideshow": {
     "slide_type": "slide"
    }
   },
   "source": [
    "### Much more features\n",
    "\n",
    "- Virtual environment support: venv and conda environment\n",
    "- Presentations (Reveal.js and Rise)\n",
    "- Dashboarding with voilà or others\n",
    "- ..."
   ]
  }
 ],
 "metadata": {
  "kernelspec": {
   "display_name": "Python 3 (ipykernel)",
   "language": "python",
   "name": "python3"
  },
  "language_info": {
   "codemirror_mode": {
    "name": "ipython",
    "version": 3
   },
   "file_extension": ".py",
   "mimetype": "text/x-python",
   "name": "python",
   "nbconvert_exporter": "python",
   "pygments_lexer": "ipython3",
   "version": "3.11.10"
  }
 },
 "nbformat": 4,
 "nbformat_minor": 5
}
