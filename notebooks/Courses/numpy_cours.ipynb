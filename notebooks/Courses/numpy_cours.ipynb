{
 "cells": [
  {
   "cell_type": "markdown",
   "id": "24c3d590-2420-444f-8628-bf77a175fa0b",
   "metadata": {
    "tags": []
   },
   "source": [
    "<div style=\"text-align:center;display:block\">\n",
    "\n",
    "<img src=\"../images/NumPy_logo_2020.png\" style=\"margin:0 auto;width:400px\">\n",
    "<div style=\"text-align:center\">\n",
    "    Bertrand Néron\n",
    "    <br />\n",
    "    <a src=\" https://research.pasteur.fr/en/team/bioinformatics-and-biostatistics-hub/\">Bioinformatics and Biostatistiqucs HUB</a>\n",
    "    <br />\n",
    "    © Institut Pasteur, 2021\n",
    "</div>"
   ]
  },
  {
   "cell_type": "markdown",
   "id": "6fcc5f15-b7bf-415f-b714-645bfbc63317",
   "metadata": {},
   "source": [
    "# installation\n",
    "\n",
    "```python\n",
    "pip install numpy\n",
    "```"
   ]
  },
  {
   "cell_type": "markdown",
   "id": "d1c677bf-8fa3-4fa0-9e69-315e45476533",
   "metadata": {},
   "source": [
    "# Convention"
   ]
  },
  {
   "cell_type": "code",
   "execution_count": 1,
   "id": "bcee0cf5-4c99-4100-88a8-ec3e1ecd2837",
   "metadata": {},
   "outputs": [],
   "source": [
    "import numpy as np"
   ]
  },
  {
   "cell_type": "code",
   "execution_count": 2,
   "id": "044ab6d8-b09c-459e-99d8-8f9133747361",
   "metadata": {},
   "outputs": [
    {
     "data": {
      "text/plain": [
       "array([1, 2, 3])"
      ]
     },
     "execution_count": 2,
     "metadata": {},
     "output_type": "execute_result"
    }
   ],
   "source": [
    "x = np.array([1,2,3])\n",
    "x"
   ]
  },
  {
   "cell_type": "code",
   "execution_count": 3,
   "id": "4a6596da-ddfa-42e9-8dfc-72f90a5f0ef3",
   "metadata": {},
   "outputs": [
    {
     "data": {
      "text/plain": [
       "numpy.ndarray"
      ]
     },
     "execution_count": 3,
     "metadata": {},
     "output_type": "execute_result"
    }
   ],
   "source": [
    "type(x)"
   ]
  },
  {
   "cell_type": "markdown",
   "id": "deb37026-83f1-4b42-a469-7300d953d2b7",
   "metadata": {},
   "source": [
    "*x* is an instance of the object **numpy.ndarray**. The constructor takes as argument a sequence. Here we provided a list hence the ([ ]) syntax.\n",
    "\n",
    "NB2: Following the previous nota bene about the syntax we have:\n",
    "\n",
    "```python\n",
    "a = np.array(1, 2, 3, 4)    # WRONG\n",
    "a = np.array([1, 2, 3, 4])  # RIGHT\n",
    "```\n"
   ]
  },
  {
   "cell_type": "markdown",
   "id": "50834fdb-a7b0-4be4-aa0e-1bfe0a26947a",
   "metadata": {},
   "source": [
    "## NumPy provides fast and memory efficient data structures"
   ]
  },
  {
   "cell_type": "code",
   "execution_count": 4,
   "id": "ecccc640-d531-4c54-81b3-f85d34a8a827",
   "metadata": {},
   "outputs": [
    {
     "name": "stdout",
     "output_type": "stream",
     "text": [
      "CPU times: user 21.4 ms, sys: 0 ns, total: 21.4 ms\n",
      "Wall time: 21.3 ms\n"
     ]
    },
    {
     "data": {
      "text/plain": [
       "499999500000"
      ]
     },
     "execution_count": 4,
     "metadata": {},
     "output_type": "execute_result"
    }
   ],
   "source": [
    "l = range(1000000)\n",
    "%time sum(l)"
   ]
  },
  {
   "cell_type": "code",
   "execution_count": 5,
   "id": "db3afb63-be2a-4724-b69f-041054fd7d41",
   "metadata": {},
   "outputs": [
    {
     "name": "stdout",
     "output_type": "stream",
     "text": [
      "CPU times: user 0 ns, sys: 1.47 ms, total: 1.47 ms\n",
      "Wall time: 769 μs\n"
     ]
    },
    {
     "data": {
      "text/plain": [
       "np.int64(499999500000)"
      ]
     },
     "execution_count": 5,
     "metadata": {},
     "output_type": "execute_result"
    }
   ],
   "source": [
    "x = np.array(l)\n",
    "%time x.sum()"
   ]
  },
  {
   "cell_type": "code",
   "execution_count": 6,
   "id": "333448ab-5b14-4ca9-ab2f-2fecbdadeaf9",
   "metadata": {},
   "outputs": [
    {
     "name": "stdout",
     "output_type": "stream",
     "text": [
      "numpy is ~ 18 faster than pure python\n"
     ]
    }
   ],
   "source": [
    "print(f\"numpy is ~ {26.4/1.43:.0f} faster than pure python\")"
   ]
  },
  {
   "cell_type": "markdown",
   "id": "fc6aea51-6d56-4c8b-adbf-c54b91cf49a2",
   "metadata": {},
   "source": [
    "### Example 2\n",
    "we want to compute the $\\sum X_i^2$ given $X$"
   ]
  },
  {
   "cell_type": "code",
   "execution_count": 7,
   "id": "b94502d7-c31d-4db7-8ad8-595ab4ad7029",
   "metadata": {},
   "outputs": [
    {
     "name": "stdout",
     "output_type": "stream",
     "text": [
      "CPU times: user 73 ms, sys: 23.9 ms, total: 96.9 ms\n",
      "Wall time: 96.1 ms\n"
     ]
    },
    {
     "data": {
      "text/plain": [
       "333332833333500000"
      ]
     },
     "execution_count": 7,
     "metadata": {},
     "output_type": "execute_result"
    }
   ],
   "source": [
    "l = range(1000000)\n",
    "%time sum([x**2 for x in l])"
   ]
  },
  {
   "cell_type": "code",
   "execution_count": 8,
   "id": "e942f0d5-b41d-48be-86fe-2207581db30e",
   "metadata": {},
   "outputs": [
    {
     "name": "stdout",
     "output_type": "stream",
     "text": [
      "CPU times: user 1.74 ms, sys: 1.07 ms, total: 2.81 ms\n",
      "Wall time: 1.57 ms\n"
     ]
    },
    {
     "data": {
      "text/plain": [
       "np.int64(333332833333500000)"
      ]
     },
     "execution_count": 8,
     "metadata": {},
     "output_type": "execute_result"
    }
   ],
   "source": [
    "x = np.array(l)\n",
    "%time (x**2).sum()"
   ]
  },
  {
   "cell_type": "code",
   "execution_count": 9,
   "id": "212d4ec5-bc87-4907-92c0-6aae8ec53d76",
   "metadata": {},
   "outputs": [
    {
     "name": "stdout",
     "output_type": "stream",
     "text": [
      "numpy is ~ 116 faster than pure python\n"
     ]
    }
   ],
   "source": [
    "print(f\"numpy is ~ {265/2.28:.0f} faster than pure python\")"
   ]
  },
  {
   "cell_type": "markdown",
   "id": "1bc9282c-fb8f-4e4e-a3d6-5a8fe09c6681",
   "metadata": {},
   "source": [
    "## Creates N-D arrays"
   ]
  },
  {
   "cell_type": "markdown",
   "id": "31fd728d-8c04-4ae8-9327-b331cc39dcab",
   "metadata": {},
   "source": [
    "## 1-D array"
   ]
  },
  {
   "cell_type": "code",
   "execution_count": 10,
   "id": "4d0d92c4-89bb-4d1a-bd5b-79c9061c7828",
   "metadata": {},
   "outputs": [],
   "source": [
    "one_d = np.array([1, 2, 10, 2, 1 ])"
   ]
  },
  {
   "cell_type": "code",
   "execution_count": 11,
   "id": "98111601-9c39-4a7c-a313-c862397c698d",
   "metadata": {},
   "outputs": [
    {
     "data": {
      "text/plain": [
       "5"
      ]
     },
     "execution_count": 11,
     "metadata": {},
     "output_type": "execute_result"
    }
   ],
   "source": [
    "len(one_d)"
   ]
  },
  {
   "cell_type": "markdown",
   "id": "a14a0991-3494-4ee3-bdca-5a18e8ee21c3",
   "metadata": {},
   "source": [
    "Indexing/slicing works like Python sequences"
   ]
  },
  {
   "cell_type": "code",
   "execution_count": 12,
   "id": "cc434831-4126-4f8a-aa0a-5eabfb99b493",
   "metadata": {},
   "outputs": [
    {
     "data": {
      "text/plain": [
       "np.int64(10)"
      ]
     },
     "execution_count": 12,
     "metadata": {},
     "output_type": "execute_result"
    }
   ],
   "source": [
    "one_d[2]"
   ]
  },
  {
   "cell_type": "code",
   "execution_count": 13,
   "id": "9719751d-eb51-40c7-9f02-2e28ae78d2d4",
   "metadata": {},
   "outputs": [
    {
     "data": {
      "text/plain": [
       "array([ 2, 10,  2,  1])"
      ]
     },
     "execution_count": 13,
     "metadata": {},
     "output_type": "execute_result"
    }
   ],
   "source": [
    "one_d[1:]"
   ]
  },
  {
   "cell_type": "code",
   "execution_count": 14,
   "id": "2349c0be-d24c-4184-9d1d-0d840738284c",
   "metadata": {},
   "outputs": [
    {
     "data": {
      "text/plain": [
       "array([10,  2])"
      ]
     },
     "execution_count": 14,
     "metadata": {},
     "output_type": "execute_result"
    }
   ],
   "source": [
    "one_d[2:4]"
   ]
  },
  {
   "cell_type": "code",
   "execution_count": 15,
   "id": "32f093f2-bce7-4591-bb3b-ebfc794dc09d",
   "metadata": {},
   "outputs": [],
   "source": [
    "### 2-D arrays"
   ]
  },
  {
   "cell_type": "markdown",
   "id": "cd1caf41-0081-4e3a-8c92-1357f331bf5f",
   "metadata": {},
   "source": [
    "Here is a naive way to build a 2D matrix with values going from 1 to 12. Later, we will use more power full\n",
    "method to do this (arange, reshape, ...)"
   ]
  },
  {
   "cell_type": "code",
   "execution_count": 16,
   "id": "7a8c6bcb-1304-4108-9311-131af5b3ded7",
   "metadata": {},
   "outputs": [],
   "source": [
    "n1 = [1, 2, 3]\n",
    "n2 = [4, 5, 6]\n",
    "n3 = [7, 8, 9]\n",
    "n4 = [10, 11, 12]\n",
    "two_d = np.array([n1, n2, n3, n4])"
   ]
  },
  {
   "cell_type": "code",
   "execution_count": 17,
   "id": "b0f7a780-971e-4587-9457-793934dea9fd",
   "metadata": {},
   "outputs": [
    {
     "data": {
      "text/plain": [
       "2"
      ]
     },
     "execution_count": 17,
     "metadata": {},
     "output_type": "execute_result"
    }
   ],
   "source": [
    "two_d.ndim"
   ]
  },
  {
   "cell_type": "code",
   "execution_count": 18,
   "id": "8bc4629e-ad79-4d27-a336-be1159b248d0",
   "metadata": {},
   "outputs": [
    {
     "data": {
      "text/plain": [
       "1"
      ]
     },
     "execution_count": 18,
     "metadata": {},
     "output_type": "execute_result"
    }
   ],
   "source": [
    "one_d.ndim"
   ]
  },
  {
   "cell_type": "code",
   "execution_count": 19,
   "id": "87f4a252-b7d9-44bc-b0f1-a0b032bbfd65",
   "metadata": {},
   "outputs": [
    {
     "name": "stdout",
     "output_type": "stream",
     "text": [
      "(4, 3) (5,)\n"
     ]
    }
   ],
   "source": [
    "print(two_d.shape, one_d.shape)"
   ]
  },
  {
   "cell_type": "markdown",
   "id": "a852f3c6-c47c-4716-ac22-235a8f5ab4c9",
   "metadata": {},
   "source": [
    "### Indexing: LC convention (Line / Column)\n",
    "\n",
    "For a 5x5 matrix, the indexing works as follows\n",
    "\n",
    "<img src=\"img/matrix.png\">"
   ]
  },
  {
   "cell_type": "code",
   "execution_count": 20,
   "id": "ccc4dd58-d503-4c51-9269-50b15ba9e41c",
   "metadata": {},
   "outputs": [
    {
     "data": {
      "text/plain": [
       "array([[ 1,  2,  3],\n",
       "       [ 4,  5,  6],\n",
       "       [ 7,  8,  9],\n",
       "       [10, 11, 12]])"
      ]
     },
     "execution_count": 20,
     "metadata": {},
     "output_type": "execute_result"
    }
   ],
   "source": [
    "two_d"
   ]
  },
  {
   "cell_type": "code",
   "execution_count": 21,
   "id": "24f76bdb-c003-4ec9-be44-35fd464fa575",
   "metadata": {},
   "outputs": [
    {
     "data": {
      "text/plain": [
       "np.int64(11)"
      ]
     },
     "execution_count": 21,
     "metadata": {},
     "output_type": "execute_result"
    }
   ],
   "source": [
    "# To get 11, last row, second column:\n",
    "two_d[3, 1]"
   ]
  },
  {
   "cell_type": "code",
   "execution_count": 22,
   "id": "0627549d-0732-47b5-b1f5-70b634bb59c0",
   "metadata": {},
   "outputs": [
    {
     "data": {
      "text/plain": [
       "np.int64(11)"
      ]
     },
     "execution_count": 22,
     "metadata": {},
     "output_type": "execute_result"
    }
   ],
   "source": [
    "# equivalent but a bit slower:\n",
    "two_d[3][1]"
   ]
  },
  {
   "cell_type": "markdown",
   "id": "be724779-6f50-4b06-8df1-b0c51b76804e",
   "metadata": {},
   "source": [
    "### 3-D arrays?\n",
    "\n",
    "you manipulate 3D arrays almost every day "
   ]
  },
  {
   "cell_type": "markdown",
   "id": "3902efeb-e719-4734-a13d-28e02044b249",
   "metadata": {},
   "source": [
    "A black and white image is a 2D matrix with a value between 0 (black) and 255 (white) for each pixel (0-255 for 8 bits encoded image)"
   ]
  },
  {
   "cell_type": "markdown",
   "id": "402ad8ce-b753-4583-8fa6-db1465e418aa",
   "metadata": {},
   "source": [
    "<img src=\"img/image_BW_numpy.png\" style=\"margin:0 auto;width:200px\">"
   ]
  },
  {
   "cell_type": "markdown",
   "id": "18e8fcc2-0a82-4f12-9045-53961c4576c2",
   "metadata": {},
   "source": [
    "A color image is a 3D matrix, it's the supperposition of 3 2D matrix one for the Red, one for the Green and one for the Blue"
   ]
  },
  {
   "cell_type": "markdown",
   "id": "4a1379cd-8ab4-4dd0-8911-bff59b247466",
   "metadata": {},
   "source": [
    "<img src=\"img/colored_image_numpy.png\" style=\"margin:0 auto;width:400px\">"
   ]
  },
  {
   "cell_type": "markdown",
   "id": "3a351fc3-635b-4513-ada2-f71ae2a9b485",
   "metadata": {},
   "source": [
    "#### axis\n",
    "in numpy when we do operation on matrix we have to specify on which direction you wnat to do the operation\n",
    "\n",
    "for instance you have a 2D matrix and you have the operator sum.\n",
    "but you need to tell numpy if you want to sum along the columns or the rows.\n",
    "for that numpy have a parameter axis\n",
    "in 2D matrix axis=0 is the row axis axis=1 is the columns axis"
   ]
  },
  {
   "cell_type": "markdown",
   "id": "84dab023-ccb1-43e6-86a4-b94c72a8bfa9",
   "metadata": {},
   "source": [
    "<img src=\"img/axis.png\" style=\"margin:0 auto;width:600px\">"
   ]
  },
  {
   "cell_type": "markdown",
   "id": "d76492fc-71fe-44a0-ba67-7b407220e24d",
   "metadata": {},
   "source": [
    "### Can you imagine a 4D array?\n",
    "\n",
    "> Yes a film can be view as a sequence of colored image, so it's a 4D array"
   ]
  },
  {
   "cell_type": "markdown",
   "id": "dd9901f1-016b-4874-9586-a8fdd10fe98c",
   "metadata": {},
   "source": [
    "<img src=\"img/4D_array.png\">"
   ]
  },
  {
   "cell_type": "markdown",
   "id": "03e4057d-bbe3-4a52-8412-a30549f79a0a",
   "metadata": {},
   "source": [
    "Volume of air and at each position we measure the pressure and temperature. \n",
    "To simplify, we decompose the volume in 2x2x3 smaller cubes"
   ]
  },
  {
   "cell_type": "code",
   "execution_count": 23,
   "id": "5a609b66-da1a-45e6-a2b1-c27e9ca2dfa4",
   "metadata": {},
   "outputs": [],
   "source": [
    "c1 = [1,2,3]; c2 = [1,2,3]; c3 = [1,2,3]; c4 = [1,2,3]; \n",
    "c5 = [1,2,3]; c6 = [1,2,3]; c7 = [1,2,3]; c8 = [1,2,3]; \n",
    "x = np.array(\n",
    "    [                   # first dimension (2 slices)\n",
    "        [               # second dimension (2 rows)\n",
    "            [           # third dimension (2 columns)\n",
    "                c1, c2\n",
    "            ],  \n",
    "            [\n",
    "                c3, c4\n",
    "            ]\n",
    "        ],\n",
    "        [\n",
    "            [\n",
    "                c5, c6\n",
    "            ],\n",
    "            [\n",
    "                c7, c8\n",
    "            ]\n",
    "        ]\n",
    "    ])        "
   ]
  },
  {
   "cell_type": "code",
   "execution_count": 24,
   "id": "71b2219a-5d91-42ac-93f2-cb89d6aad801",
   "metadata": {},
   "outputs": [
    {
     "data": {
      "text/plain": [
       "(2, 2, 2, 3)"
      ]
     },
     "execution_count": 24,
     "metadata": {},
     "output_type": "execute_result"
    }
   ],
   "source": [
    "x.shape"
   ]
  },
  {
   "cell_type": "markdown",
   "id": "533fde0b-fb1d-4bf3-b258-7e588e51e29e",
   "metadata": {},
   "source": [
    "## Function to create arrays"
   ]
  },
  {
   "cell_type": "code",
   "execution_count": 25,
   "id": "7b8555b9-80c6-4558-9aa1-dfe7de7c4c62",
   "metadata": {},
   "outputs": [
    {
     "data": {
      "text/plain": [
       "array([[1., 1., 1.],\n",
       "       [1., 1., 1.]])"
      ]
     },
     "execution_count": 25,
     "metadata": {},
     "output_type": "execute_result"
    }
   ],
   "source": [
    "# 2D array \n",
    "np.ones((2,3))"
   ]
  },
  {
   "cell_type": "code",
   "execution_count": 26,
   "id": "7d11d736-9a38-4bcd-a067-b8edd94bd66b",
   "metadata": {},
   "outputs": [
    {
     "data": {
      "text/plain": [
       "array([[[1., 1., 1., 1., 1.],\n",
       "        [1., 1., 1., 1., 1.],\n",
       "        [1., 1., 1., 1., 1.],\n",
       "        [1., 1., 1., 1., 1.]],\n",
       "\n",
       "       [[1., 1., 1., 1., 1.],\n",
       "        [1., 1., 1., 1., 1.],\n",
       "        [1., 1., 1., 1., 1.],\n",
       "        [1., 1., 1., 1., 1.]],\n",
       "\n",
       "       [[1., 1., 1., 1., 1.],\n",
       "        [1., 1., 1., 1., 1.],\n",
       "        [1., 1., 1., 1., 1.],\n",
       "        [1., 1., 1., 1., 1.]]])"
      ]
     },
     "execution_count": 26,
     "metadata": {},
     "output_type": "execute_result"
    }
   ],
   "source": [
    "# 3 D array\n",
    "np.ones((3,4,5))"
   ]
  },
  {
   "cell_type": "markdown",
   "id": "7b0e8c5a-d5c3-45ee-9c95-66363a79c2ce",
   "metadata": {},
   "source": [
    "### The **arange** function\n",
    "\n",
    "> Evenly spaced values within a given interval based on a **step**"
   ]
  },
  {
   "cell_type": "code",
   "execution_count": 27,
   "id": "5660a98d-c9b0-4117-a869-8257592d82ce",
   "metadata": {},
   "outputs": [],
   "source": [
    "a = np.arange(1, 10) # not that the end is exclusive and the step is 1 by default"
   ]
  },
  {
   "cell_type": "code",
   "execution_count": 28,
   "id": "1b090b77-4113-4290-8c48-ca10c5207752",
   "metadata": {},
   "outputs": [
    {
     "data": {
      "text/plain": [
       "array([0, 2, 4, 6, 8])"
      ]
     },
     "execution_count": 28,
     "metadata": {},
     "output_type": "execute_result"
    }
   ],
   "source": [
    "np.arange(0, 10, step=2)"
   ]
  },
  {
   "cell_type": "markdown",
   "id": "73efa449-2b29-43b6-8fb9-ca03fd639750",
   "metadata": {},
   "source": [
    "The **reshape** methode\n",
    "\n",
    "> Gives a new shape to an array without changing its data."
   ]
  },
  {
   "cell_type": "code",
   "execution_count": 29,
   "id": "8d43a13e-9283-490e-b8f5-32291128bbd0",
   "metadata": {},
   "outputs": [
    {
     "data": {
      "text/plain": [
       "array([[1, 2, 3],\n",
       "       [4, 5, 6],\n",
       "       [7, 8, 9]])"
      ]
     },
     "execution_count": 29,
     "metadata": {},
     "output_type": "execute_result"
    }
   ],
   "source": [
    "a2 = a.reshape(3,3)\n",
    "a2"
   ]
  },
  {
   "cell_type": "markdown",
   "id": "fcf73865-bc24-4bb9-b8b9-24ff264a8a9c",
   "metadata": {},
   "source": [
    "**NB** the product of dimensions = number of values\n",
    "```python\n",
    "len(a) = 9 \n",
    "3 * 3 = 9\n",
    "```"
   ]
  },
  {
   "cell_type": "code",
   "execution_count": 30,
   "id": "47bd6cf0-8cb3-4f99-acb4-cca110dc67d0",
   "metadata": {},
   "outputs": [
    {
     "data": {
      "text/plain": [
       "array([[1, 2, 3],\n",
       "       [4, 5, 6],\n",
       "       [7, 8, 9]])"
      ]
     },
     "execution_count": 30,
     "metadata": {},
     "output_type": "execute_result"
    }
   ],
   "source": [
    "# equivalent to\n",
    "\n",
    "a2 = np.reshape(a, (3,3))\n",
    "a2"
   ]
  },
  {
   "cell_type": "markdown",
   "id": "f6f81aa8-d6ad-483d-9be8-e4525ae579eb",
   "metadata": {},
   "source": [
    "### the **linspace** function\n",
    "\n",
    "> Evenly spaced values within a given interval based on a **number of points**"
   ]
  },
  {
   "cell_type": "code",
   "execution_count": 31,
   "id": "1dc1c67c-df2b-409f-acd9-ba69ccee7c47",
   "metadata": {},
   "outputs": [
    {
     "data": {
      "text/plain": [
       "array([0.        , 0.11111111, 0.22222222, 0.33333333, 0.44444444,\n",
       "       0.55555556, 0.66666667, 0.77777778, 0.88888889, 1.        ])"
      ]
     },
     "execution_count": 31,
     "metadata": {},
     "output_type": "execute_result"
    }
   ],
   "source": [
    "np.linspace(0, 1, 10)"
   ]
  },
  {
   "cell_type": "markdown",
   "id": "33fbe07c-0166-49b3-a4b1-d4fb0fa9c379",
   "metadata": {},
   "source": [
    "### ones, zeros, diag, eye, empty"
   ]
  },
  {
   "cell_type": "code",
   "execution_count": 32,
   "id": "4ba5244e-ffbe-40d8-9e4b-bb1669fefbd2",
   "metadata": {},
   "outputs": [
    {
     "data": {
      "text/plain": [
       "array([[5, 0, 0, 0],\n",
       "       [0, 5, 0, 0],\n",
       "       [0, 0, 1, 0],\n",
       "       [0, 0, 0, 1]])"
      ]
     },
     "execution_count": 32,
     "metadata": {},
     "output_type": "execute_result"
    }
   ],
   "source": [
    "np.diag((5,5,1,1))"
   ]
  },
  {
   "cell_type": "code",
   "execution_count": 33,
   "id": "c2dfdfe1-f90c-4dc7-9708-cd776b8700d9",
   "metadata": {},
   "outputs": [
    {
     "data": {
      "text/plain": [
       "array([[1., 1.],\n",
       "       [1., 1.]])"
      ]
     },
     "execution_count": 33,
     "metadata": {},
     "output_type": "execute_result"
    }
   ],
   "source": [
    "np.ones((2,2))"
   ]
  },
  {
   "cell_type": "code",
   "execution_count": 34,
   "id": "5d89026e-6b57-4264-979b-26fe0479a3a4",
   "metadata": {},
   "outputs": [
    {
     "data": {
      "text/plain": [
       "array([[0., 0.],\n",
       "       [0., 0.]])"
      ]
     },
     "execution_count": 34,
     "metadata": {},
     "output_type": "execute_result"
    }
   ],
   "source": [
    "np.zeros((2,2))"
   ]
  },
  {
   "cell_type": "code",
   "execution_count": 35,
   "id": "f9e8e9af-5c5b-4509-932a-25313f6c8095",
   "metadata": {},
   "outputs": [
    {
     "data": {
      "text/plain": [
       "array([[1., 0., 0.],\n",
       "       [0., 1., 0.],\n",
       "       [0., 0., 1.]])"
      ]
     },
     "execution_count": 35,
     "metadata": {},
     "output_type": "execute_result"
    }
   ],
   "source": [
    "np.eye(3)"
   ]
  },
  {
   "cell_type": "markdown",
   "id": "7844105b-26b8-4cf1-9742-ca38db857695",
   "metadata": {},
   "source": [
    "# Random values\n",
    "\n",
    "> Python language has its own random module but numpy has more functionalities."
   ]
  },
  {
   "cell_type": "markdown",
   "id": "e73ecd23-a1eb-47ef-be1f-f92130547340",
   "metadata": {},
   "source": [
    "First you have to create a Generator object, usualy by using the default_rng function"
   ]
  },
  {
   "cell_type": "code",
   "execution_count": 36,
   "id": "8e18d829-b9e4-4880-b35e-a96fc713d95f",
   "metadata": {},
   "outputs": [],
   "source": [
    "rng = np.random.default_rng() "
   ]
  },
  {
   "cell_type": "markdown",
   "id": "55fbac7f-33d1-4108-9f50-6aaf6db640a7",
   "metadata": {},
   "source": [
    "then use random methods"
   ]
  },
  {
   "cell_type": "code",
   "execution_count": 37,
   "id": "81be533a-3beb-4af8-9e26-69ad5d44e41d",
   "metadata": {},
   "outputs": [
    {
     "data": {
      "text/plain": [
       "0.07493730781019758"
      ]
     },
     "execution_count": 37,
     "metadata": {},
     "output_type": "execute_result"
    }
   ],
   "source": [
    "# Generate one random float uniformly distributed over the range [0, 1)\n",
    "rng.random() # result below may vary"
   ]
  },
  {
   "cell_type": "code",
   "execution_count": 38,
   "id": "f085514b-5fcd-4112-a045-23eb6f6f3e5c",
   "metadata": {},
   "outputs": [
    {
     "data": {
      "text/plain": [
       "array([ 0.97665436,  0.10830955, -0.48716618,  0.47222301, -1.95684758,\n",
       "       -1.10186154, -0.85026678,  0.73181136,  0.28125178, -0.19334269])"
      ]
     },
     "execution_count": 38,
     "metadata": {},
     "output_type": "execute_result"
    }
   ],
   "source": [
    "# array of normally distributed values\n",
    "# with mean=0 (loc) and std=1.0 (scale) (defaults)\n",
    "rng.normal(loc=0.0, scale=1.0, size=10)\n"
   ]
  },
  {
   "cell_type": "code",
   "execution_count": 39,
   "id": "9dcf97f4-1984-4739-a49a-9c9c7a7d4a98",
   "metadata": {},
   "outputs": [
    {
     "data": {
      "text/plain": [
       "array([[ 3.48679819,  3.04781574],\n",
       "       [ 3.70247583,  1.76402619],\n",
       "       [ 0.44962379,  2.8026444 ],\n",
       "       [ 3.81113791,  0.74001679],\n",
       "       [-0.34301959,  2.8487461 ]])"
      ]
     },
     "execution_count": 39,
     "metadata": {},
     "output_type": "execute_result"
    }
   ],
   "source": [
    "# a 2Darray of normally distributed values\n",
    "rng.normal(loc=1.0, scale=2.0, size=(5,2))"
   ]
  },
  {
   "cell_type": "code",
   "execution_count": 40,
   "id": "8faa1d85-e2cf-482f-af13-1a339f85b273",
   "metadata": {},
   "outputs": [
    {
     "data": {
      "text/plain": [
       "array([1.53764539, 0.10407965, 0.14943287, 1.33850036, 1.29547856,\n",
       "       1.92918736, 0.0350858 , 1.34860414, 1.72703453, 0.32842712])"
      ]
     },
     "execution_count": 40,
     "metadata": {},
     "output_type": "execute_result"
    }
   ],
   "source": [
    "# array of uniform distributed values\n",
    "rng.uniform(low=0, high=2, size=10)"
   ]
  },
  {
   "cell_type": "code",
   "execution_count": 41,
   "id": "3494d529-5fef-47ef-9014-64b6d3d69244",
   "metadata": {},
   "outputs": [
    {
     "data": {
      "text/plain": [
       "0.08564916714362436"
      ]
     },
     "execution_count": 41,
     "metadata": {},
     "output_type": "execute_result"
    }
   ],
   "source": [
    "# you can specify a seed when you build a random generator\n",
    "s_rng = np.random.default_rng(seed=3)\n",
    "\n",
    "s_rng.random()"
   ]
  },
  {
   "cell_type": "markdown",
   "id": "2d2948e4-3d1e-4c22-b5e9-b92889282bf5",
   "metadata": {},
   "source": [
    "* https://numpy.org/doc/stable/reference/random/index.html\n",
    "* https://numpy.org/doc/stable/reference/random/generator.html#numpy.random.default_rng\n",
    "* https://numpy.org/doc/stable/reference/random/generator.html#numpy.random.Generator"
   ]
  },
  {
   "cell_type": "markdown",
   "id": "2c0eea6a-b4d2-4c28-9674-af82879f6101",
   "metadata": {},
   "source": [
    "## old way to generate random values\n",
    "\n",
    "These functions will be deprecated soon"
   ]
  },
  {
   "cell_type": "code",
   "execution_count": 42,
   "id": "adff2440-1323-4e47-a7c1-05b2298b9c1f",
   "metadata": {},
   "outputs": [
    {
     "data": {
      "text/plain": [
       "0.38646383961446507"
      ]
     },
     "execution_count": 42,
     "metadata": {},
     "output_type": "execute_result"
    }
   ],
   "source": [
    "# uniform random values between 0 and 1\n",
    "np.random.rand()"
   ]
  },
  {
   "cell_type": "code",
   "execution_count": 43,
   "id": "89a1f130-0549-4127-87cc-bca1e6d8fcf0",
   "metadata": {},
   "outputs": [
    {
     "data": {
      "text/plain": [
       "1.035199530576272"
      ]
     },
     "execution_count": 43,
     "metadata": {},
     "output_type": "execute_result"
    }
   ],
   "source": [
    "# normal distribution\n",
    "np.random.randn()"
   ]
  },
  {
   "cell_type": "code",
   "execution_count": 44,
   "id": "96e4cd87-5d98-4e27-ba8f-3a7573975224",
   "metadata": {},
   "outputs": [
    {
     "data": {
      "text/plain": [
       "array([ 1.11832894,  2.0021714 ,  0.58719543, -0.56612414, -0.12557549,\n",
       "       -0.27136275,  1.51259438, -0.73849808,  0.77444285,  0.54480857])"
      ]
     },
     "execution_count": 44,
     "metadata": {},
     "output_type": "execute_result"
    }
   ],
   "source": [
    "# array of normally distributed values\n",
    "# with mean=0 (loc) and std=1.0 (scale) (defaults)\n",
    "np.random.normal(loc=0.0, scale=1.0, size=10)"
   ]
  },
  {
   "cell_type": "code",
   "execution_count": 45,
   "id": "c1119efa-0d17-424d-8d76-7e0047988143",
   "metadata": {},
   "outputs": [
    {
     "data": {
      "text/plain": [
       "array([[ 0.83273837, -0.05496048],\n",
       "       [ 2.75752077,  0.61157395],\n",
       "       [-0.05946127, -0.55505366],\n",
       "       [-3.14976828,  2.48233988],\n",
       "       [ 3.67011564,  1.6567874 ]])"
      ]
     },
     "execution_count": 45,
     "metadata": {},
     "output_type": "execute_result"
    }
   ],
   "source": [
    "# a 2Darray of normally distributed values\n",
    "np.random.normal(loc=1.0, scale=2.0, size=(5,2))"
   ]
  },
  {
   "cell_type": "code",
   "execution_count": 46,
   "id": "8c6345c7-01e5-4bde-8624-be7567fe79f3",
   "metadata": {},
   "outputs": [
    {
     "data": {
      "text/plain": [
       "array([0.2491329 , 1.23861051, 0.06156969, 1.99958024, 1.01311919,\n",
       "       0.61799875, 0.95377215, 0.72350694, 0.98002253, 1.65238567])"
      ]
     },
     "execution_count": 46,
     "metadata": {},
     "output_type": "execute_result"
    }
   ],
   "source": [
    "# array of uniform distributed values\n",
    "np.random.uniform(low=0, high=2, size=10)"
   ]
  },
  {
   "cell_type": "markdown",
   "id": "8f1555d9-55cd-4b03-811c-f2224822d518",
   "metadata": {},
   "source": [
    "# data types"
   ]
  },
  {
   "cell_type": "code",
   "execution_count": 47,
   "id": "bb4a7d5b-d2a3-42a7-8bce-7c3ecab1f30f",
   "metadata": {},
   "outputs": [
    {
     "data": {
      "text/plain": [
       "dtype('int64')"
      ]
     },
     "execution_count": 47,
     "metadata": {},
     "output_type": "execute_result"
    }
   ],
   "source": [
    "x = np.array([1,2,3])\n",
    "x.dtype"
   ]
  },
  {
   "cell_type": "code",
   "execution_count": 48,
   "id": "b6761fbb-7a96-4244-a433-3d9d4861f6ee",
   "metadata": {},
   "outputs": [
    {
     "data": {
      "text/plain": [
       "dtype('float64')"
      ]
     },
     "execution_count": 48,
     "metadata": {},
     "output_type": "execute_result"
    }
   ],
   "source": [
    "x = np.array([1., 2, 3.5])\n",
    "x.dtype"
   ]
  },
  {
   "cell_type": "code",
   "execution_count": 49,
   "id": "24b99d8b-fa40-4450-9571-0e9039daa568",
   "metadata": {},
   "outputs": [
    {
     "data": {
      "text/plain": [
       "dtype('float64')"
      ]
     },
     "execution_count": 49,
     "metadata": {},
     "output_type": "execute_result"
    }
   ],
   "source": [
    "x = np.array([1,2,3], dtype=float)\n",
    "x.dtype"
   ]
  },
  {
   "cell_type": "markdown",
   "id": "94f69731-19cc-44c5-896c-6866a0517c74",
   "metadata": {},
   "source": [
    "You can cast data from datatype to an other"
   ]
  },
  {
   "cell_type": "code",
   "execution_count": 50,
   "id": "de2cde1e-5dc6-40b7-8367-68bc4b6a13a5",
   "metadata": {},
   "outputs": [
    {
     "name": "stdout",
     "output_type": "stream",
     "text": [
      "int64\n",
      "float64\n"
     ]
    },
    {
     "data": {
      "text/plain": [
       "array([1., 2., 3.])"
      ]
     },
     "execution_count": 50,
     "metadata": {},
     "output_type": "execute_result"
    }
   ],
   "source": [
    "x = np.array([1, 2, 3])\n",
    "print(x.dtype)\n",
    "x = x.astype(float)\n",
    "print(x.dtype)\n",
    "x"
   ]
  },
  {
   "cell_type": "markdown",
   "id": "e091dae2-3205-4644-9657-cd813039726e",
   "metadata": {},
   "source": [
    "<div class=\"alert alert-warning\">\n",
    "If you mix types, the most complex type is used\n",
    "</div>"
   ]
  },
  {
   "cell_type": "code",
   "execution_count": 51,
   "id": "2b335534-e646-4660-a67c-a8ad965ddfef",
   "metadata": {},
   "outputs": [
    {
     "data": {
      "text/plain": [
       "array(['1.0', '1', 'oups'], dtype='<U32')"
      ]
     },
     "execution_count": 51,
     "metadata": {},
     "output_type": "execute_result"
    }
   ],
   "source": [
    "np.array([1.0, 1, \"oups\"])"
   ]
  },
  {
   "cell_type": "markdown",
   "id": "6dc94a3f-5335-4833-baac-80389552358b",
   "metadata": {},
   "source": [
    "Of course if the conversion make sense"
   ]
  },
  {
   "cell_type": "code",
   "execution_count": 52,
   "id": "7ac6175d-dfde-4814-aeaa-2e84ee87dd53",
   "metadata": {},
   "outputs": [
    {
     "ename": "ValueError",
     "evalue": "could not convert string to float: np.str_('oups')",
     "output_type": "error",
     "traceback": [
      "\u001b[0;31m---------------------------------------------------------------------------\u001b[0m",
      "\u001b[0;31mValueError\u001b[0m                                Traceback (most recent call last)",
      "Cell \u001b[0;32mIn[52], line 2\u001b[0m\n\u001b[1;32m      1\u001b[0m x \u001b[38;5;241m=\u001b[39m np\u001b[38;5;241m.\u001b[39marray([\u001b[38;5;241m1.0\u001b[39m, \u001b[38;5;241m1\u001b[39m, \u001b[38;5;124m\"\u001b[39m\u001b[38;5;124moups\u001b[39m\u001b[38;5;124m\"\u001b[39m])\n\u001b[0;32m----> 2\u001b[0m x \u001b[38;5;241m=\u001b[39m \u001b[43mx\u001b[49m\u001b[38;5;241;43m.\u001b[39;49m\u001b[43mastype\u001b[49m\u001b[43m(\u001b[49m\u001b[38;5;28;43mfloat\u001b[39;49m\u001b[43m)\u001b[49m\n",
      "\u001b[0;31mValueError\u001b[0m: could not convert string to float: np.str_('oups')"
     ]
    }
   ],
   "source": [
    "x = np.array([1.0, 1, \"oups\"])\n",
    "x = x.astype(float)"
   ]
  },
  {
   "cell_type": "markdown",
   "id": "2b9be850-666f-4e96-bdf3-30bc53741a77",
   "metadata": {},
   "source": [
    "<div class=\"practical\">\n",
    "<h1>Basic indexing and slicing </h1>\n",
    "</div>\n",
    "\n",
    "# Example in 2D\n",
    "\n",
    "Syntax. First axis is for rows and second for columns:"
   ]
  },
  {
   "cell_type": "markdown",
   "id": "e870925c-e520-43c1-85c0-3450af31ca26",
   "metadata": {},
   "source": [
    "<img src=\"../images/exo_table1.png\">"
   ]
  },
  {
   "cell_type": "markdown",
   "id": "a718bf74-be4b-4464-9d6d-7d0f26f6f984",
   "metadata": {},
   "source": [
    "Create the array shown above. Then, with slicing and indexing, \n",
    "> - extract first row, \n",
    "> - extract first column (orange cells)\n",
    "> - extract even values only, odd values only\n",
    "> - extract the 4 blue cells\n",
    "> - extract the 2 green cells\n",
    "> - extract the 2x2 sub-matrix in bottom right corner"
   ]
  },
  {
   "cell_type": "code",
   "execution_count": 53,
   "id": "fe54df35-dd1d-44eb-8087-7122b1e07265",
   "metadata": {},
   "outputs": [
    {
     "data": {
      "text/plain": [
       "array([[ 0,  1,  2,  3,  4],\n",
       "       [10, 11, 12, 13, 14],\n",
       "       [20, 21, 22, 23, 24],\n",
       "       [30, 31, 32, 33, 34],\n",
       "       [40, 41, 42, 43, 44]])"
      ]
     },
     "execution_count": 53,
     "metadata": {},
     "output_type": "execute_result"
    }
   ],
   "source": [
    "r = np.arange(5)\n",
    "m = np.array([r, r+10, r+20, r+30, r+40])\n",
    "m"
   ]
  },
  {
   "cell_type": "code",
   "execution_count": 54,
   "id": "9c204b45-396d-4b43-acd2-00a84f57a33a",
   "metadata": {},
   "outputs": [
    {
     "data": {
      "text/plain": [
       "array([0, 1, 2, 3, 4])"
      ]
     },
     "execution_count": 54,
     "metadata": {},
     "output_type": "execute_result"
    }
   ],
   "source": [
    "# first row\n",
    "m[0, :]"
   ]
  },
  {
   "cell_type": "code",
   "execution_count": 55,
   "id": "8369f926-2572-4afc-a89b-6d35ff8b1921",
   "metadata": {},
   "outputs": [
    {
     "data": {
      "text/plain": [
       "(np.int64(11), np.int64(13), np.int64(31), np.int64(33))"
      ]
     },
     "execution_count": 55,
     "metadata": {},
     "output_type": "execute_result"
    }
   ],
   "source": [
    "# blue cells\n",
    "m[1,1], m[1,3], m[3,1], m[3,3]"
   ]
  },
  {
   "cell_type": "code",
   "execution_count": 56,
   "id": "22448595-9e9b-4e1d-9328-2ab409b83077",
   "metadata": {},
   "outputs": [
    {
     "data": {
      "text/plain": [
       "array([[11, 13],\n",
       "       [31, 33]])"
      ]
     },
     "execution_count": 56,
     "metadata": {},
     "output_type": "execute_result"
    }
   ],
   "source": [
    "# even values\n",
    "m[1::2, 1::2]"
   ]
  },
  {
   "cell_type": "code",
   "execution_count": 57,
   "id": "12cadf07-283f-4437-8586-846f94fd8721",
   "metadata": {},
   "outputs": [
    {
     "data": {
      "text/plain": [
       "array([ 0, 10, 20, 30, 40])"
      ]
     },
     "execution_count": 57,
     "metadata": {},
     "output_type": "execute_result"
    }
   ],
   "source": [
    "# orange column\n",
    "m[:,0]"
   ]
  },
  {
   "cell_type": "code",
   "execution_count": 58,
   "id": "48e14271-99bb-4089-b761-d338c7975ede",
   "metadata": {},
   "outputs": [
    {
     "data": {
      "text/plain": [
       "array([23, 24])"
      ]
     },
     "execution_count": 58,
     "metadata": {},
     "output_type": "execute_result"
    }
   ],
   "source": [
    "# green cells\n",
    "m[2, -2:]"
   ]
  },
  {
   "cell_type": "code",
   "execution_count": 59,
   "id": "98a2ff9b-1906-4b2b-9fff-4a735597606b",
   "metadata": {},
   "outputs": [
    {
     "data": {
      "text/plain": [
       "array([[33, 34],\n",
       "       [43, 44]])"
      ]
     },
     "execution_count": 59,
     "metadata": {},
     "output_type": "execute_result"
    }
   ],
   "source": [
    "# blue sub corner\n",
    "m[-2:, -2:]"
   ]
  },
  {
   "cell_type": "markdown",
   "id": "cd1049f2-8936-4d61-a26b-38fea3684a2b",
   "metadata": {},
   "source": [
    "# Copies and views\n",
    "\n",
    "We are manipulating objects. So be careful with the references"
   ]
  },
  {
   "cell_type": "code",
   "execution_count": 60,
   "id": "05e69472-aa21-4f51-8989-e759ee7a1159",
   "metadata": {},
   "outputs": [],
   "source": [
    "## views"
   ]
  },
  {
   "cell_type": "code",
   "execution_count": 61,
   "id": "3da2f5f2-c302-4e35-b5c3-3d4f3f8d860f",
   "metadata": {},
   "outputs": [],
   "source": [
    "a = np.array([1,2,3,4,5])\n",
    "b = a.view()"
   ]
  },
  {
   "cell_type": "code",
   "execution_count": 62,
   "id": "503d63fa-58b2-4bfe-af4c-d08e54f41103",
   "metadata": {},
   "outputs": [
    {
     "data": {
      "text/plain": [
       "(array([1, 2, 3, 4, 5]), array([1, 2, 3, 4, 5]))"
      ]
     },
     "execution_count": 62,
     "metadata": {},
     "output_type": "execute_result"
    }
   ],
   "source": [
    "a, b"
   ]
  },
  {
   "cell_type": "code",
   "execution_count": 63,
   "id": "f4664618-a1aa-40e7-b2e3-19221bd7954a",
   "metadata": {},
   "outputs": [],
   "source": [
    "a[2] = 30"
   ]
  },
  {
   "cell_type": "code",
   "execution_count": 64,
   "id": "e4a1c3f9-8a02-46be-bb51-14db61cb7755",
   "metadata": {},
   "outputs": [
    {
     "data": {
      "text/plain": [
       "(array([ 1,  2, 30,  4,  5]), array([ 1,  2, 30,  4,  5]))"
      ]
     },
     "execution_count": 64,
     "metadata": {},
     "output_type": "execute_result"
    }
   ],
   "source": [
    "a, b"
   ]
  },
  {
   "cell_type": "code",
   "execution_count": 65,
   "id": "58efbf90-4a57-46ed-bb97-c998f4f9d025",
   "metadata": {},
   "outputs": [],
   "source": [
    "b[-2:] = 0"
   ]
  },
  {
   "cell_type": "code",
   "execution_count": 66,
   "id": "16178b9b-f7f7-4805-9493-ac6c55fb013f",
   "metadata": {},
   "outputs": [
    {
     "data": {
      "text/plain": [
       "(array([ 1,  2, 30,  0,  0]), array([ 1,  2, 30,  0,  0]))"
      ]
     },
     "execution_count": 66,
     "metadata": {},
     "output_type": "execute_result"
    }
   ],
   "source": [
    "a, b"
   ]
  },
  {
   "cell_type": "markdown",
   "id": "53fea18b-23b6-4d62-9394-b4bdbb6f0d19",
   "metadata": {},
   "source": [
    "<div class=\"alert alert-warning\">\n",
    "    [:] does <span style=\"font-weight:bold\">NOT</span> make a shallow copy as for python list it's equivalent to a view\n",
    "</div>"
   ]
  },
  {
   "cell_type": "code",
   "execution_count": 67,
   "id": "44a0929f-fb62-4f50-bf00-a0eabcfaf387",
   "metadata": {},
   "outputs": [
    {
     "data": {
      "text/plain": [
       "(array([  1,   2, 300,   4,   5]), array([  1,   2, 300,   4,   5]))"
      ]
     },
     "execution_count": 67,
     "metadata": {},
     "output_type": "execute_result"
    }
   ],
   "source": [
    "a = np.array([1,2,3,4,5])\n",
    "b = a[:]\n",
    "a[2] = 300\n",
    "a, b"
   ]
  },
  {
   "cell_type": "code",
   "execution_count": 68,
   "id": "aebba68e-5679-4a73-8b79-e355eb630dee",
   "metadata": {},
   "outputs": [
    {
     "data": {
      "text/plain": [
       "array([  1,   2, 300,   4,   5])"
      ]
     },
     "execution_count": 68,
     "metadata": {},
     "output_type": "execute_result"
    }
   ],
   "source": [
    "c = a.copy()\n",
    "c"
   ]
  },
  {
   "cell_type": "code",
   "execution_count": 69,
   "id": "287123c1-5ab2-4ede-8371-2699fc8aedb0",
   "metadata": {},
   "outputs": [
    {
     "data": {
      "text/plain": [
       "(array([  1,   2, 150,   4,   5]), array([  1,   2, 300,   4,   5]))"
      ]
     },
     "execution_count": 69,
     "metadata": {},
     "output_type": "execute_result"
    }
   ],
   "source": [
    "c[2] = 150\n",
    "c, a"
   ]
  },
  {
   "cell_type": "markdown",
   "id": "6fde6353-b338-4f83-8b57-b336df3dcf12",
   "metadata": {},
   "source": [
    "# Fancy indexing \n",
    "\n",
    "> As we have seen before, standard Python slicing and indexing works on NumpPy array.\n",
    "> Yet, NumPy provides more indexing, which can be performed with boolean or integer arrays, also called **masked**"
   ]
  },
  {
   "cell_type": "markdown",
   "id": "1af388f7-8270-45c6-952a-5513bf2216eb",
   "metadata": {},
   "source": [
    "## Indexing with boolean masks\n",
    "\n",
    "> Boolean mask is a very powerful feature in NumPy.\n",
    "> It can be used to index an array, and assign new values to a sub-array. \n",
    "> Note also that it creates copies not views"
   ]
  },
  {
   "cell_type": "code",
   "execution_count": 70,
   "id": "df226fb1-d572-42b7-993a-e5710cfe7abd",
   "metadata": {},
   "outputs": [
    {
     "data": {
      "text/plain": [
       "array([ 0,  1,  2,  3,  4,  5,  6,  7,  8,  9, 10, 11, 12, 13, 14, 15])"
      ]
     },
     "execution_count": 70,
     "metadata": {},
     "output_type": "execute_result"
    }
   ],
   "source": [
    "data = np.arange(16)\n",
    "data"
   ]
  },
  {
   "cell_type": "markdown",
   "id": "632306f0-25a3-4b98-b8c6-ff20599aa866",
   "metadata": {},
   "source": [
    "Find all multiple of 7"
   ]
  },
  {
   "cell_type": "code",
   "execution_count": 71,
   "id": "fb5b4ee3-49dd-423e-a6c1-e6b04887ef65",
   "metadata": {},
   "outputs": [
    {
     "data": {
      "text/plain": [
       "array([ True, False, False, False, False, False, False,  True, False,\n",
       "       False, False, False, False, False,  True, False])"
      ]
     },
     "execution_count": 71,
     "metadata": {},
     "output_type": "execute_result"
    }
   ],
   "source": [
    "data % 7 == 0"
   ]
  },
  {
   "cell_type": "code",
   "execution_count": 72,
   "id": "bdbfa641-41f3-47df-b701-9e1bb53585a1",
   "metadata": {},
   "outputs": [
    {
     "data": {
      "text/plain": [
       "array([ 0,  7, 14])"
      ]
     },
     "execution_count": 72,
     "metadata": {},
     "output_type": "execute_result"
    }
   ],
   "source": [
    "mask = (data % 7 == 0)\n",
    "data[mask]"
   ]
  },
  {
   "cell_type": "code",
   "execution_count": 73,
   "id": "70a9d62a-6652-41dd-9757-bed6bd523939",
   "metadata": {},
   "outputs": [
    {
     "data": {
      "text/plain": [
       "array([-100,    1,    2,    3,    4,    5,    6, -100,    8,    9,   10,\n",
       "         11,   12,   13, -100,   15])"
      ]
     },
     "execution_count": 73,
     "metadata": {},
     "output_type": "execute_result"
    }
   ],
   "source": [
    "# Replaces values: \n",
    "data[mask] = -100\n",
    "data"
   ]
  },
  {
   "cell_type": "code",
   "execution_count": 74,
   "id": "3e83e3cb-89b9-42a5-af67-5925c2b6f6ec",
   "metadata": {},
   "outputs": [],
   "source": [
    "## Indexing with an array of integers"
   ]
  },
  {
   "cell_type": "code",
   "execution_count": 75,
   "id": "dbcc4a1e-20e1-4dcc-99b2-80d18eaeb1f2",
   "metadata": {},
   "outputs": [
    {
     "data": {
      "text/plain": [
       "array([-1,  2, -3, -4])"
      ]
     },
     "execution_count": 75,
     "metadata": {},
     "output_type": "execute_result"
    }
   ],
   "source": [
    "data = np.array([-1, 2, -3, -4, -5, 10, 20])\n",
    "indices = [0, 1, 2, 3]\n",
    "data[indices]"
   ]
  },
  {
   "cell_type": "code",
   "execution_count": 76,
   "id": "7a2cb72a-5ea3-45a9-a428-bb9f91b38267",
   "metadata": {},
   "outputs": [
    {
     "data": {
      "text/plain": [
       "array([-1, -3, -4, -5])"
      ]
     },
     "execution_count": 76,
     "metadata": {},
     "output_type": "execute_result"
    }
   ],
   "source": [
    "data[data<0]"
   ]
  },
  {
   "cell_type": "markdown",
   "id": "7fdcb734-ae19-445e-9ac9-09227185799c",
   "metadata": {},
   "source": [
    "<img src=\"img/exo_table2.png\">"
   ]
  },
  {
   "cell_type": "markdown",
   "id": "e6503506-a1a5-450b-abb4-97d7b665c44a",
   "metadata": {},
   "source": [
    "Create the array above and extract the following data sets:\n",
    "> - the 9 blue cells\n",
    "> - the 5 orange cells \n",
    "> - the green cells"
   ]
  },
  {
   "cell_type": "code",
   "execution_count": 77,
   "id": "4aa35130-ab00-4454-9e95-dd1b83c0ef65",
   "metadata": {},
   "outputs": [],
   "source": [
    "m = np.array([[i+j for i in range(6)] for j in range(0, 60, 10)])"
   ]
  },
  {
   "cell_type": "code",
   "execution_count": 78,
   "id": "004c6b0a-b746-440b-b0de-768105c5f8ff",
   "metadata": {},
   "outputs": [
    {
     "data": {
      "text/plain": [
       "array([[ 0,  1,  2,  3,  4,  5],\n",
       "       [10, 11, 12, 13, 14, 15],\n",
       "       [20, 21, 22, 23, 24, 25],\n",
       "       [30, 31, 32, 33, 34, 35],\n",
       "       [40, 41, 42, 43, 44, 45],\n",
       "       [50, 51, 52, 53, 54, 55]])"
      ]
     },
     "execution_count": 78,
     "metadata": {},
     "output_type": "execute_result"
    }
   ],
   "source": [
    "m"
   ]
  },
  {
   "cell_type": "code",
   "execution_count": 79,
   "id": "fd6ffaa9-51ae-4c5f-9df5-fee28c60c8ce",
   "metadata": {},
   "outputs": [
    {
     "data": {
      "text/plain": [
       "array([ 1, 12, 23, 34, 45])"
      ]
     },
     "execution_count": 79,
     "metadata": {},
     "output_type": "execute_result"
    }
   ],
   "source": [
    "# orange\n",
    "m[(0,1,2,3,4), (1,2,3,4,5)]"
   ]
  },
  {
   "cell_type": "code",
   "execution_count": 80,
   "id": "138b542e-7600-4a44-857e-ff22196248f8",
   "metadata": {},
   "outputs": [
    {
     "data": {
      "text/plain": [
       "array([[30, 32, 35],\n",
       "       [40, 42, 45],\n",
       "       [50, 52, 55]])"
      ]
     },
     "execution_count": 80,
     "metadata": {},
     "output_type": "execute_result"
    }
   ],
   "source": [
    "# blue:\n",
    "m[3:, [0,2,5]]"
   ]
  },
  {
   "cell_type": "code",
   "execution_count": 81,
   "id": "9f46cd0e-1091-45d8-bef6-0556ebd4de87",
   "metadata": {},
   "outputs": [
    {
     "data": {
      "text/plain": [
       "array([ 4, 24, 54])"
      ]
     },
     "execution_count": 81,
     "metadata": {},
     "output_type": "execute_result"
    }
   ],
   "source": [
    "# green\n",
    "m[np.array([True, False,True,False,False,True]),4]"
   ]
  },
  {
   "cell_type": "code",
   "execution_count": 82,
   "id": "db0028dc-5cf2-4bc0-a104-d861bed4cb1e",
   "metadata": {},
   "outputs": [
    {
     "data": {
      "text/plain": [
       "array([ 4, 24, 54])"
      ]
     },
     "execution_count": 82,
     "metadata": {},
     "output_type": "execute_result"
    }
   ],
   "source": [
    "# green\n",
    "m[np.array([1, 0, 1, 0, 0, 1], dtype=bool), 4]"
   ]
  },
  {
   "cell_type": "markdown",
   "id": "de6caebb-8bf9-4494-bd9e-1e3f01e6c3d1",
   "metadata": {},
   "source": [
    "# Numerical operations"
   ]
  },
  {
   "cell_type": "code",
   "execution_count": 83,
   "id": "d514d0e2-d739-4f46-a04b-423b65222ab0",
   "metadata": {},
   "outputs": [],
   "source": [
    "a = np.array([[4, 7], \n",
    "              [2, 6]])\n",
    "\n",
    "b = np.array([[0.6, -0.7],\n",
    "              [-0.2, 0.4]])"
   ]
  },
  {
   "cell_type": "code",
   "execution_count": 84,
   "id": "a9a1823e-3d4b-46d8-85c6-131d9e8a24ed",
   "metadata": {},
   "outputs": [
    {
     "data": {
      "text/plain": [
       "array([[4.6, 6.3],\n",
       "       [1.8, 6.4]])"
      ]
     },
     "execution_count": 84,
     "metadata": {},
     "output_type": "execute_result"
    }
   ],
   "source": [
    "a + b"
   ]
  },
  {
   "cell_type": "markdown",
   "id": "126f72e2-85f6-4fc7-a9cd-1de1ab33d390",
   "metadata": {},
   "source": [
    "<div class=\"alert alert-warning\">\n",
    "Again be careful with copies and views\n",
    "</div>"
   ]
  },
  {
   "cell_type": "code",
   "execution_count": 85,
   "id": "abaeea51-55b6-4bd7-806a-af9a5b7c7bc6",
   "metadata": {},
   "outputs": [],
   "source": [
    "c = b.copy()"
   ]
  },
  {
   "cell_type": "code",
   "execution_count": 86,
   "id": "df03e4ad-5ab2-41e9-a4ab-ebf5ce95c81a",
   "metadata": {},
   "outputs": [],
   "source": [
    "c *= 2"
   ]
  },
  {
   "cell_type": "code",
   "execution_count": 87,
   "id": "cda76afb-1fc7-4163-a0b0-f3073c84a6a3",
   "metadata": {},
   "outputs": [
    {
     "data": {
      "text/plain": [
       "(array([[ 1.2, -1.4],\n",
       "        [-0.4,  0.8]]),\n",
       " array([[ 0.6, -0.7],\n",
       "        [-0.2,  0.4]]))"
      ]
     },
     "execution_count": 87,
     "metadata": {},
     "output_type": "execute_result"
    }
   ],
   "source": [
    "c, b"
   ]
  },
  {
   "cell_type": "code",
   "execution_count": 88,
   "id": "4225c892-6cb0-4646-b77a-6f6048b6b6ed",
   "metadata": {},
   "outputs": [
    {
     "data": {
      "text/plain": [
       "array([[ 2.4, -4.9],\n",
       "       [-0.4,  2.4]])"
      ]
     },
     "execution_count": 88,
     "metadata": {},
     "output_type": "execute_result"
    }
   ],
   "source": [
    "# elementwise product\n",
    "a * b"
   ]
  },
  {
   "cell_type": "markdown",
   "id": "94a02111-0279-4a87-ba0e-ae478609efed",
   "metadata": {},
   "source": [
    "<div class=\"alert alert-warning\">\n",
    "This is not a matrix product\n",
    "</div>"
   ]
  },
  {
   "cell_type": "code",
   "execution_count": 89,
   "id": "1b473d9c-0829-4126-865c-02868e3cbd9e",
   "metadata": {},
   "outputs": [
    {
     "data": {
      "text/plain": [
       "array([[ 1.00000000e+00,  3.33066907e-16],\n",
       "       [-1.11022302e-16,  1.00000000e+00]])"
      ]
     },
     "execution_count": 89,
     "metadata": {},
     "output_type": "execute_result"
    }
   ],
   "source": [
    "# matrix product\n",
    "a.dot(b)"
   ]
  },
  {
   "cell_type": "code",
   "execution_count": 90,
   "id": "7801f83c-97af-4914-be29-4cebd6600901",
   "metadata": {},
   "outputs": [
    {
     "data": {
      "text/plain": [
       "array([[ 1.,  0.],\n",
       "       [-0.,  1.]])"
      ]
     },
     "execution_count": 90,
     "metadata": {},
     "output_type": "execute_result"
    }
   ],
   "source": [
    "a.dot(b).round()"
   ]
  },
  {
   "cell_type": "markdown",
   "id": "e81611c8-de34-4c8c-97b9-baa2bf5740f9",
   "metadata": {},
   "source": [
    "# Reductions"
   ]
  },
  {
   "cell_type": "code",
   "execution_count": 91,
   "id": "d18a1e4d-5bf7-46a8-a4f7-968b692e2ce8",
   "metadata": {},
   "outputs": [],
   "source": [
    "x = np.array([1,2,3,4,-1,-2,-3,-4])"
   ]
  },
  {
   "cell_type": "code",
   "execution_count": 92,
   "id": "2d537f9c-454b-4b75-879a-626cd97fc9ee",
   "metadata": {},
   "outputs": [
    {
     "name": "stdout",
     "output_type": "stream",
     "text": [
      "sum = 0\n",
      "min = -4\n",
      "max = 4\n",
      "position of the max = 3\n"
     ]
    }
   ],
   "source": [
    "print(\"sum =\", x.sum())\n",
    "print(\"min =\", x.min())\n",
    "print(\"max =\", x.max())\n",
    "print(\"position of the max =\", x.argmax())"
   ]
  },
  {
   "cell_type": "code",
   "execution_count": 93,
   "id": "e501a139-9e25-40b4-8c24-ee830f8ddfe1",
   "metadata": {},
   "outputs": [],
   "source": [
    "a = np.array([\n",
    "    [1,10,1],\n",
    "    [2,8,3]\n",
    "])"
   ]
  },
  {
   "cell_type": "code",
   "execution_count": 94,
   "id": "67bb7f69-c474-4fc8-bf05-9ea39a886425",
   "metadata": {},
   "outputs": [
    {
     "data": {
      "text/plain": [
       "np.int64(25)"
      ]
     },
     "execution_count": 94,
     "metadata": {},
     "output_type": "execute_result"
    }
   ],
   "source": [
    "a.sum()"
   ]
  },
  {
   "cell_type": "code",
   "execution_count": 95,
   "id": "7c4cdca1-e81b-4eea-b7dd-5a7a490f9da0",
   "metadata": {},
   "outputs": [
    {
     "data": {
      "text/plain": [
       "array([ 3, 18,  4])"
      ]
     },
     "execution_count": 95,
     "metadata": {},
     "output_type": "execute_result"
    }
   ],
   "source": [
    "a.sum(axis=0) # sum along the axis 0 or rows"
   ]
  },
  {
   "cell_type": "code",
   "execution_count": 96,
   "id": "53413090-49ba-4ecb-96de-6edc48169bff",
   "metadata": {},
   "outputs": [
    {
     "data": {
      "text/plain": [
       "array([12, 13])"
      ]
     },
     "execution_count": 96,
     "metadata": {},
     "output_type": "execute_result"
    }
   ],
   "source": [
    "a.sum(axis=1) # sum along the axis 1 or columns"
   ]
  },
  {
   "cell_type": "markdown",
   "id": "65f7da4e-18c1-4c85-ad5b-fe34fd6e703a",
   "metadata": {},
   "source": [
    "# Iterations"
   ]
  },
  {
   "cell_type": "code",
   "execution_count": 97,
   "id": "671bd896-5aa0-4ebf-b894-addf94453844",
   "metadata": {},
   "outputs": [],
   "source": [
    "x = np.random.normal(size=12).reshape(6,2)"
   ]
  },
  {
   "cell_type": "code",
   "execution_count": 98,
   "id": "9ba4ce3a-51ab-4284-97df-0d0c87625783",
   "metadata": {},
   "outputs": [
    {
     "data": {
      "text/plain": [
       "array([[-0.26020648,  0.26368625],\n",
       "       [ 0.42129755, -0.56914431],\n",
       "       [-0.40631094, -2.08134291],\n",
       "       [-0.1991786 ,  1.04618945],\n",
       "       [-0.50518875, -1.01945961],\n",
       "       [ 0.40947048,  0.40108879]])"
      ]
     },
     "execution_count": 98,
     "metadata": {},
     "output_type": "execute_result"
    }
   ],
   "source": [
    "x"
   ]
  },
  {
   "cell_type": "code",
   "execution_count": 99,
   "id": "7402047a-c8ef-4015-be8e-16e72c0e9bd4",
   "metadata": {},
   "outputs": [
    {
     "name": "stdout",
     "output_type": "stream",
     "text": [
      "[-0.26020648  0.26368625]\n",
      "[-0.1991786   1.04618945]\n",
      "[0.40947048 0.40108879]\n"
     ]
    }
   ],
   "source": [
    "for row in x:\n",
    "    if row.sum() > 0 :\n",
    "        print(row)"
   ]
  },
  {
   "cell_type": "code",
   "execution_count": 100,
   "id": "5d844860-7ff0-459b-b9ac-6f2064fc9433",
   "metadata": {},
   "outputs": [
    {
     "name": "stdout",
     "output_type": "stream",
     "text": [
      "1.046189447818475\n"
     ]
    }
   ],
   "source": [
    "for item in x.flat:\n",
    "    if item >1:\n",
    "        print(item)"
   ]
  },
  {
   "cell_type": "code",
   "execution_count": 101,
   "id": "126c649a-2d22-474a-b296-79780879bfd2",
   "metadata": {},
   "outputs": [
    {
     "name": "stderr",
     "output_type": "stream",
     "text": [
      "/tmp/ipykernel_30528/3450995395.py:1: RuntimeWarning: invalid value encountered in sqrt\n",
      "  res = np.sqrt(-1)\n"
     ]
    }
   ],
   "source": [
    "res = np.sqrt(-1)"
   ]
  },
  {
   "cell_type": "code",
   "execution_count": 102,
   "id": "de9dcc1b-50fa-4c36-ae0c-949c6feec993",
   "metadata": {},
   "outputs": [
    {
     "data": {
      "text/plain": [
       "np.float64(nan)"
      ]
     },
     "execution_count": 102,
     "metadata": {},
     "output_type": "execute_result"
    }
   ],
   "source": [
    "res"
   ]
  },
  {
   "cell_type": "code",
   "execution_count": 103,
   "id": "4baa648b-3dac-4b6f-8bcb-ec412bc70588",
   "metadata": {},
   "outputs": [
    {
     "data": {
      "text/plain": [
       "np.True_"
      ]
     },
     "execution_count": 103,
     "metadata": {},
     "output_type": "execute_result"
    }
   ],
   "source": [
    "np.isnan(res)"
   ]
  },
  {
   "cell_type": "code",
   "execution_count": 104,
   "id": "5e7cca16-f5c3-42fc-8000-8d51a9a8a306",
   "metadata": {},
   "outputs": [
    {
     "data": {
      "text/plain": [
       "1.7976931348623157e+308"
      ]
     },
     "execution_count": 104,
     "metadata": {},
     "output_type": "execute_result"
    }
   ],
   "source": [
    "import sys\n",
    "sys.float_info.max"
   ]
  },
  {
   "cell_type": "code",
   "execution_count": 105,
   "id": "60ae8823-eea4-4fa4-8143-c28363cc057f",
   "metadata": {},
   "outputs": [
    {
     "name": "stderr",
     "output_type": "stream",
     "text": [
      "/tmp/ipykernel_30528/3411038522.py:1: RuntimeWarning: overflow encountered in multiply\n",
      "  res = np.array([1e308,1e300]) * 10\n"
     ]
    }
   ],
   "source": [
    "res = np.array([1e308,1e300]) * 10"
   ]
  },
  {
   "cell_type": "code",
   "execution_count": 106,
   "id": "0f1d4df4-f241-4631-9cbd-adf47a59f1a7",
   "metadata": {},
   "outputs": [
    {
     "data": {
      "text/plain": [
       "array([    inf, 1.e+301])"
      ]
     },
     "execution_count": 106,
     "metadata": {},
     "output_type": "execute_result"
    }
   ],
   "source": [
    "res"
   ]
  },
  {
   "cell_type": "markdown",
   "id": "3e68aac4-2052-4741-9b1f-245e0e84fa0f",
   "metadata": {},
   "source": [
    "# Resizing"
   ]
  },
  {
   "cell_type": "code",
   "execution_count": 107,
   "id": "7c3004c5-76a7-467b-9439-ecc01c32e65f",
   "metadata": {},
   "outputs": [],
   "source": [
    "a = np.diag([1,2,3,4])"
   ]
  },
  {
   "cell_type": "code",
   "execution_count": 108,
   "id": "21f0e588-628a-4c28-872f-6f1057950b8e",
   "metadata": {},
   "outputs": [
    {
     "data": {
      "text/plain": [
       "array([[1, 0, 0, 0],\n",
       "       [0, 2, 0, 0],\n",
       "       [0, 0, 3, 0],\n",
       "       [0, 0, 0, 4],\n",
       "       [0, 0, 0, 0]])"
      ]
     },
     "execution_count": 108,
     "metadata": {},
     "output_type": "execute_result"
    }
   ],
   "source": [
    "# Can be used to add a column or a row\n",
    "a.resize((5,4))\n",
    "a"
   ]
  },
  {
   "cell_type": "markdown",
   "id": "5539cdf8-c6ff-4e69-a489-4fcc4081987f",
   "metadata": {},
   "source": [
    "# transpose"
   ]
  },
  {
   "cell_type": "code",
   "execution_count": 109,
   "id": "43e34be1-6075-4358-97ea-b1f317b8fa8e",
   "metadata": {},
   "outputs": [
    {
     "data": {
      "text/plain": [
       "array([[ 0,  1,  2,  3],\n",
       "       [ 4,  5,  6,  7],\n",
       "       [ 8,  9, 10, 11]])"
      ]
     },
     "execution_count": 109,
     "metadata": {},
     "output_type": "execute_result"
    }
   ],
   "source": [
    "a = np.arange(12).reshape((3,4))\n",
    "a"
   ]
  },
  {
   "cell_type": "code",
   "execution_count": 110,
   "id": "f377af8c-b264-4bdc-bce1-43cc5f7d7788",
   "metadata": {},
   "outputs": [
    {
     "data": {
      "text/plain": [
       "array([[ 0,  4,  8],\n",
       "       [ 1,  5,  9],\n",
       "       [ 2,  6, 10],\n",
       "       [ 3,  7, 11]])"
      ]
     },
     "execution_count": 110,
     "metadata": {},
     "output_type": "execute_result"
    }
   ],
   "source": [
    "b = a.T\n",
    "b"
   ]
  },
  {
   "cell_type": "markdown",
   "id": "8cdcb8a7-899d-41d6-a34a-aad8d985a9e1",
   "metadata": {},
   "source": [
    "# swapaxes\n",
    "\n",
    "Interchange two axes of an array.\n",
    "(https://numpy.org/doc/stable/reference/generated/numpy.swapaxes.html)"
   ]
  },
  {
   "cell_type": "code",
   "execution_count": 111,
   "id": "1c44286f-0a9c-4943-9288-6797ecebfb90",
   "metadata": {},
   "outputs": [
    {
     "data": {
      "text/plain": [
       "array([[[ 0,  1],\n",
       "        [ 2,  3],\n",
       "        [ 4,  5],\n",
       "        [ 6,  7]],\n",
       "\n",
       "       [[ 8,  9],\n",
       "        [10, 11],\n",
       "        [12, 13],\n",
       "        [14, 15]],\n",
       "\n",
       "       [[16, 17],\n",
       "        [18, 19],\n",
       "        [20, 21],\n",
       "        [22, 23]]])"
      ]
     },
     "execution_count": 111,
     "metadata": {},
     "output_type": "execute_result"
    }
   ],
   "source": [
    "a = np.arange(24).reshape((3,4,2))\n",
    "a"
   ]
  },
  {
   "cell_type": "code",
   "execution_count": 112,
   "id": "669aacba-f92b-417c-bac2-a03bcb90c529",
   "metadata": {},
   "outputs": [
    {
     "data": {
      "text/plain": [
       "array([[[ 0,  8, 16],\n",
       "        [ 2, 10, 18],\n",
       "        [ 4, 12, 20],\n",
       "        [ 6, 14, 22]],\n",
       "\n",
       "       [[ 1,  9, 17],\n",
       "        [ 3, 11, 19],\n",
       "        [ 5, 13, 21],\n",
       "        [ 7, 15, 23]]])"
      ]
     },
     "execution_count": 112,
     "metadata": {},
     "output_type": "execute_result"
    }
   ],
   "source": [
    "b = a.swapaxes(0,2)\n",
    "b"
   ]
  },
  {
   "cell_type": "code",
   "execution_count": 113,
   "id": "62303e1d-5192-4112-9809-b0fcdd3b053b",
   "metadata": {},
   "outputs": [
    {
     "data": {
      "text/plain": [
       "((3, 4, 2), (2, 4, 3))"
      ]
     },
     "execution_count": 113,
     "metadata": {},
     "output_type": "execute_result"
    }
   ],
   "source": [
    "a.shape, b.shape"
   ]
  },
  {
   "cell_type": "markdown",
   "id": "eebd0afa-3a38-41e5-8dbc-ac9a8b4d1460",
   "metadata": {},
   "source": [
    "# array concatenation"
   ]
  },
  {
   "cell_type": "code",
   "execution_count": 114,
   "id": "41f5d5e0-6734-4cc4-a34b-124080bca6ee",
   "metadata": {},
   "outputs": [
    {
     "data": {
      "text/plain": [
       "array([[1, 2, 3],\n",
       "       [4, 5, 6]])"
      ]
     },
     "execution_count": 114,
     "metadata": {},
     "output_type": "execute_result"
    }
   ],
   "source": [
    "a = np.array([1, 2, 3])\n",
    "b = np.array([4, 5, 6])\n",
    "c = np.vstack([a, b])\n",
    "c"
   ]
  },
  {
   "cell_type": "code",
   "execution_count": 115,
   "id": "5dfb4a39-bea4-4fee-96b9-b705a04d4fe1",
   "metadata": {},
   "outputs": [
    {
     "data": {
      "text/plain": [
       "array([1, 2, 3, 4, 5, 6])"
      ]
     },
     "execution_count": 115,
     "metadata": {},
     "output_type": "execute_result"
    }
   ],
   "source": [
    "# equivalent of the + operator with list\n",
    "np.hstack([a,b])"
   ]
  },
  {
   "cell_type": "code",
   "execution_count": 116,
   "id": "cd14e23e-bb95-4270-ae9b-bbaf65940498",
   "metadata": {},
   "outputs": [
    {
     "data": {
      "text/plain": [
       "array([[ 0,  1,  2, 10, 11, 12],\n",
       "       [ 3,  4,  5, 13, 14, 15]])"
      ]
     },
     "execution_count": 116,
     "metadata": {},
     "output_type": "execute_result"
    }
   ],
   "source": [
    "a = np.arange(6).reshape(2,3)\n",
    "b = np.arange(10,16).reshape(2,3)\n",
    "np.hstack([a,b])"
   ]
  },
  {
   "cell_type": "markdown",
   "id": "1345c700-b01a-4f49-9976-07fcd582cfd8",
   "metadata": {},
   "source": [
    "# Sorting"
   ]
  },
  {
   "cell_type": "code",
   "execution_count": 117,
   "id": "62861c8f-3128-4a06-b23b-4908fbfeea60",
   "metadata": {},
   "outputs": [
    {
     "data": {
      "text/plain": [
       "array([ 1,  2,  5,  7,  8, 10])"
      ]
     },
     "execution_count": 117,
     "metadata": {},
     "output_type": "execute_result"
    }
   ],
   "source": [
    "a = np.array([5,1,10,2,7,8])\n",
    "a.sort() # inplace\n",
    "a"
   ]
  },
  {
   "cell_type": "code",
   "execution_count": 118,
   "id": "0dd2dedc-3b44-4ac3-9fa9-f7211f2bbc5e",
   "metadata": {},
   "outputs": [
    {
     "data": {
      "text/plain": [
       "array([ 1,  2,  5,  7,  8, 10])"
      ]
     },
     "execution_count": 118,
     "metadata": {},
     "output_type": "execute_result"
    }
   ],
   "source": [
    "a = np.array([5,1,10,2,7,8])\n",
    "sorted_a = np.sort(a) # new array\n",
    "sorted_a"
   ]
  },
  {
   "cell_type": "code",
   "execution_count": 119,
   "id": "7a3842bf-e445-4203-9674-ec6d2fd50586",
   "metadata": {},
   "outputs": [
    {
     "data": {
      "text/plain": [
       "array([ 5,  1, 10,  2,  7,  8])"
      ]
     },
     "execution_count": 119,
     "metadata": {},
     "output_type": "execute_result"
    }
   ],
   "source": [
    "a"
   ]
  },
  {
   "cell_type": "code",
   "execution_count": 120,
   "id": "2f8c81b1-fac2-4073-a965-166e1d144170",
   "metadata": {},
   "outputs": [
    {
     "data": {
      "text/plain": [
       "array([1, 3, 0, 4, 5, 2])"
      ]
     },
     "execution_count": 120,
     "metadata": {},
     "output_type": "execute_result"
    }
   ],
   "source": [
    "a = np.array([5,1,10,2,7,8])\n",
    "a.argsort()"
   ]
  },
  {
   "cell_type": "markdown",
   "id": "12dc5a6c-a439-45df-bde5-03f63bf6111d",
   "metadata": {},
   "source": [
    "# Loading data\n",
    "\n",
    "Numpy has its own reader of tabulated data sets\n",
    "\n",
    "np.genfromtxt, np.loads, ...\n",
    "\n",
    "However, we will use pandas read_csv function that is far better"
   ]
  },
  {
   "cell_type": "code",
   "execution_count": null,
   "id": "438224df-8e68-4666-9e45-b55917be05bf",
   "metadata": {},
   "outputs": [],
   "source": []
  }
 ],
 "metadata": {
  "kernelspec": {
   "display_name": "Python 3 (ipykernel)",
   "language": "python",
   "name": "python3"
  },
  "language_info": {
   "codemirror_mode": {
    "name": "ipython",
    "version": 3
   },
   "file_extension": ".py",
   "mimetype": "text/x-python",
   "name": "python",
   "nbconvert_exporter": "python",
   "pygments_lexer": "ipython3",
   "version": "3.11.10"
  }
 },
 "nbformat": 4,
 "nbformat_minor": 5
}
