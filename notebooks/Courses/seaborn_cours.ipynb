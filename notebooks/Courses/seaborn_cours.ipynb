{
 "cells": [
  {
   "cell_type": "markdown",
   "id": "vocal-argument",
   "metadata": {},
   "source": [
    "# <center><b>Course</b></center>\n",
    "\n",
    "<div style=\"text-align:center\">\n",
    "    <img src=\"../images/seaborn.png\" width=\"600px\">\n",
    "    <div>\n",
    "       Bertrand Néron, François Laurent, Etienne Kornobis\n",
    "       <br />\n",
    "       <a src=\" https://research.pasteur.fr/en/team/bioinformatics-and-biostatistics-hub/\">Bioinformatics and Biostatistiqucs HUB</a>\n",
    "       <br />\n",
    "       © Institut Pasteur, 2021\n",
    "    </div>    \n",
    "</div>"
   ]
  },
  {
   "cell_type": "markdown",
   "id": "minute-stylus",
   "metadata": {},
   "source": [
    "# A glimpse at Seaborn"
   ]
  },
  {
   "cell_type": "markdown",
   "id": "monthly-royalty",
   "metadata": {},
   "source": [
    "Seaborn is a Python data visualization library based on **Matplotlib**. It provides a high-level interface for drawing attractive and informative statistical graphics while still being able to use matplotlib features.\n",
    "\n",
    "It is organized depending on the type of data you want to represent:"
   ]
  },
  {
   "cell_type": "markdown",
   "id": "suffering-attendance",
   "metadata": {},
   "source": [
    "<img src=\"../images/seaborn_plots.png\" width=\"600px\">"
   ]
  },
  {
   "cell_type": "markdown",
   "id": "legislative-currency",
   "metadata": {},
   "source": [
    "You can use the `relplot`, `displot`, `catplot` group functions or directly call the function corresponding to a specific plot."
   ]
  },
  {
   "cell_type": "code",
   "execution_count": null,
   "id": "apparent-logan",
   "metadata": {},
   "outputs": [],
   "source": [
    "import pandas as pd\n",
    "import numpy as np\n",
    "import seaborn as sns\n",
    "import matplotlib.pyplot as plt"
   ]
  },
  {
   "cell_type": "code",
   "execution_count": null,
   "id": "3c569d0b-7cdc-4d33-b42b-67fd34bdf4ca",
   "metadata": {},
   "outputs": [],
   "source": [
    "import warnings\n",
    "warnings.simplefilter(action='ignore', category=FutureWarning, lineno=1498)\n",
    "warnings.simplefilter(action='ignore', category=UserWarning, lineno=118)\n"
   ]
  },
  {
   "cell_type": "markdown",
   "id": "99f2823d-fbc0-44ff-958e-9ef35297307d",
   "metadata": {},
   "source": [
    "## Simple plot with 2 variables (relplot)"
   ]
  },
  {
   "cell_type": "code",
   "execution_count": null,
   "id": "96dbb85d-f996-4c73-9d51-da2699539ca0",
   "metadata": {},
   "outputs": [],
   "source": [
    "temp = pd.read_csv(\"../data/fr_sp_it_temp.tsv\", sep=\"\\t\", header=0, index_col=0)\n",
    "temp.head()"
   ]
  },
  {
   "cell_type": "code",
   "execution_count": null,
   "id": "a199f0f2-4f6d-4a1d-bbc7-bd47e826d3d2",
   "metadata": {},
   "outputs": [],
   "source": [
    "paris = temp[temp.City == 'Paris']\n",
    "paris.head()"
   ]
  },
  {
   "cell_type": "code",
   "execution_count": null,
   "id": "e3985842-23f3-4ce8-ab5e-5cbd1d9ec2ee",
   "metadata": {},
   "outputs": [],
   "source": [
    "sns.relplot(data=paris, x=\"Year\", y=\"Tmp\")"
   ]
  },
  {
   "cell_type": "code",
   "execution_count": null,
   "id": "7ec21722-b094-4052-bb99-0f9306684f8a",
   "metadata": {},
   "outputs": [],
   "source": [
    "sns.lineplot(data=paris, x=\"Year\", y=\"Tmp\")"
   ]
  },
  {
   "cell_type": "code",
   "execution_count": null,
   "id": "885b9d4b-5543-40fb-a878-c171f68c60c9",
   "metadata": {},
   "outputs": [],
   "source": [
    "sns.lineplot(data=paris, x=\"Year\", y=\"Tmp\", marker=\"o\")"
   ]
  },
  {
   "cell_type": "code",
   "execution_count": null,
   "id": "49c86b68-18d9-48ef-9812-fa114a54dafb",
   "metadata": {},
   "outputs": [],
   "source": [
    "sns.lineplot(data=paris, x=\"Year\", y=\"Tmp\", marker=\"o\", linestyle=\"--\", color=\"green\")"
   ]
  },
  {
   "cell_type": "markdown",
   "id": "d7039e35-0b13-4af8-b290-4533e4011d45",
   "metadata": {},
   "source": [
    "Seaborn is using matplotlib under the hood, so all available linestyles, markers and colors are described in https://matplotlib.org/stable/api/_as_gen/matplotlib.pyplot.plot.html"
   ]
  },
  {
   "cell_type": "markdown",
   "id": "b6c2f491-83b6-47d1-a01a-0c95551a0abd",
   "metadata": {},
   "source": [
    "## Several plots"
   ]
  },
  {
   "cell_type": "code",
   "execution_count": null,
   "id": "9ba40313-00ec-4af5-835f-53e8e8c8a3dd",
   "metadata": {},
   "outputs": [],
   "source": [
    "sns.lineplot(data=temp, x=\"Year\", y=\"Tmp\", hue=\"City\")"
   ]
  },
  {
   "cell_type": "markdown",
   "id": "8b1a4d48-39fe-4808-8d27-6fba456ada0f",
   "metadata": {},
   "source": [
    "## Formatting"
   ]
  },
  {
   "cell_type": "markdown",
   "id": "510057ce-aa3a-4ab2-9d60-fe1e4e901c4c",
   "metadata": {},
   "source": [
    "### Annotations"
   ]
  },
  {
   "cell_type": "markdown",
   "id": "5049f6ef-aff4-495e-9660-966ee4a96e13",
   "metadata": {},
   "source": [
    "In order to pretty format our graph, we can use matplotlib.pyplot (here `plt`) functionalities to control the legend, add title and x and y labels: "
   ]
  },
  {
   "cell_type": "code",
   "execution_count": null,
   "id": "fd32ce6a-0d94-4e62-a09f-defb568cf00c",
   "metadata": {},
   "outputs": [],
   "source": [
    "sns.lineplot(data=temp, x=\"Year\", y=\"Tmp\", hue=\"City\")\n",
    "\n",
    "plt.legend(ncol=2)\n",
    "plt.xlabel(\"Year\")\n",
    "plt.ylabel(\"Tp in °F\")\n",
    "plt.title(\"Average Temperature\")"
   ]
  },
  {
   "cell_type": "markdown",
   "id": "2691f293-228f-4670-b92b-81e0e1ac92e4",
   "metadata": {},
   "source": [
    "### xlim, ylim"
   ]
  },
  {
   "cell_type": "code",
   "execution_count": null,
   "id": "b5a7a48d-fed8-4cac-86b3-7299ade9b3ac",
   "metadata": {},
   "outputs": [],
   "source": [
    "sns.lineplot(data=temp, x=\"Year\", y=\"Tmp\", hue=\"City\")\n",
    "plt.legend(ncol=2)\n",
    "plt.xlabel(\"Year\")\n",
    "plt.ylabel(\"Tp in °F\")\n",
    "plt.title(\"Average Temperature\")\n",
    "\n",
    "plt.xlim([2000,2010])\n",
    "plt.ylim([50,70])"
   ]
  },
  {
   "cell_type": "markdown",
   "id": "bd7a6c33-6d57-4d92-a03b-a81b66ce6f4a",
   "metadata": {},
   "source": [
    "### axvline, axhline"
   ]
  },
  {
   "cell_type": "code",
   "execution_count": null,
   "id": "c35ab008-cb2b-4faa-b86a-b136fc349d5b",
   "metadata": {},
   "outputs": [],
   "source": [
    "sns.lineplot(data=temp, x=\"Year\", y=\"Tmp\", hue=\"City\")\n",
    "plt.legend(ncol=2)\n",
    "plt.xlabel(\"Year\")\n",
    "plt.ylabel(\"Tp in °F\")\n",
    "plt.title(\"Average Temperature\")\n",
    "\n",
    "# Adding horizontal and vertical lines with an alpha parameter\n",
    "plt.axvline(2008, color=\"grey\", linestyle=\"--\", alpha=0.5)\n",
    "plt.axhline(55, color=\"grey\", linestyle=\"-.\", alpha=0.5)"
   ]
  },
  {
   "cell_type": "markdown",
   "id": "ecological-memphis",
   "metadata": {},
   "source": [
    "## Distribution plots\n",
    "### Histograms and KDE plots\n",
    "\n",
    "A histogram is displaying a frequency distribution of a **continuous** dataset using bars."
   ]
  },
  {
   "cell_type": "code",
   "execution_count": null,
   "id": "smooth-persian",
   "metadata": {},
   "outputs": [],
   "source": [
    "df = pd.read_csv(\"../data/titanic.csv\")"
   ]
  },
  {
   "cell_type": "code",
   "execution_count": null,
   "id": "brazilian-greene",
   "metadata": {},
   "outputs": [],
   "source": [
    "sns.displot(data=df, x=\"Age\")"
   ]
  },
  {
   "cell_type": "markdown",
   "id": "0e500391-b081-4e3f-a87b-014abd847f68",
   "metadata": {},
   "source": [
    "To overplot different distributions segregated by a categorical variable, you can use the `hue` parameter:"
   ]
  },
  {
   "cell_type": "code",
   "execution_count": null,
   "id": "5cd0ce9b-288a-45c8-9b9e-769e75e1bd63",
   "metadata": {},
   "outputs": [],
   "source": [
    "sns.displot(data=df, x=\"Age\", hue=\"Survived\")"
   ]
  },
  {
   "cell_type": "markdown",
   "id": "3289632b-63f9-4e0a-841a-b17a7c42c506",
   "metadata": {},
   "source": [
    "#### Influence of bins"
   ]
  },
  {
   "cell_type": "code",
   "execution_count": null,
   "id": "vietnamese-proceeding",
   "metadata": {},
   "outputs": [],
   "source": [
    "sns.displot(data=df, x=\"Age\", hue=\"Survived\", bins=50)"
   ]
  },
  {
   "cell_type": "code",
   "execution_count": null,
   "id": "dd5a9532-82ee-4d71-bd0a-c3a24c0ec444",
   "metadata": {},
   "outputs": [],
   "source": [
    "sns.displot(data=df, x=\"Age\", hue=\"Survived\", bins=10)"
   ]
  },
  {
   "cell_type": "markdown",
   "id": "f23420fc-d840-4bd9-9763-74ef506b1c65",
   "metadata": {},
   "source": [
    "#### KDE curve"
   ]
  },
  {
   "cell_type": "markdown",
   "id": "unknown-yacht",
   "metadata": {},
   "source": [
    "Here is the corresponding continuous probability density curve (kde):"
   ]
  },
  {
   "cell_type": "code",
   "execution_count": null,
   "id": "active-stephen",
   "metadata": {},
   "outputs": [],
   "source": [
    "sns.displot(data=df, x=\"Age\", hue=\"Survived\", kind=\"kde\")"
   ]
  },
  {
   "cell_type": "code",
   "execution_count": null,
   "id": "narrative-illinois",
   "metadata": {},
   "outputs": [],
   "source": [
    "sns.displot(data=df, x=\"Age\", hue=\"Survived\", kde=True)"
   ]
  },
  {
   "cell_type": "markdown",
   "id": "floral-supervisor",
   "metadata": {},
   "source": [
    "## Categorical plots\n",
    "### Barplot\n",
    "\n",
    "A barplot is a way of displaying for example counts, frequencies or averages for different categories."
   ]
  },
  {
   "cell_type": "code",
   "execution_count": null,
   "id": "about-participant",
   "metadata": {},
   "outputs": [],
   "source": [
    "sns.catplot(data=df, x=\"Sex\", y=\"Age\", kind=\"bar\")"
   ]
  },
  {
   "cell_type": "markdown",
   "id": "designing-deviation",
   "metadata": {},
   "source": [
    "### Swarmplot"
   ]
  },
  {
   "cell_type": "code",
   "execution_count": null,
   "id": "laughing-contributor",
   "metadata": {},
   "outputs": [],
   "source": [
    "sns.catplot(data=df, x=\"Pclass\", y=\"Fare\", kind=\"swarm\")"
   ]
  },
  {
   "cell_type": "markdown",
   "id": "polished-developer",
   "metadata": {},
   "source": [
    "### Boxplot\n",
    "\n",
    "Box plots visually show the distribution of numerical data and skewness through displaying the data quartiles (or percentiles) and averages.\n",
    "\n",
    "Box plots show the five-number summary of a set of data: including the minimum score, first (lower) quartile, median, third (upper) quartile, and maximum score.\n",
    "\n",
    "<div>\n",
    " <img src=\"../images/boxplot_explanation.png\" />\n",
    "</div>\n",
    "\n",
    "for more explanation visit\n",
    "https://www.simplypsychology.org/boxplots.html"
   ]
  },
  {
   "cell_type": "code",
   "execution_count": null,
   "id": "demographic-original",
   "metadata": {},
   "outputs": [],
   "source": [
    "sns.catplot(data=df, x=\"Pclass\", y=\"Fare\", kind=\"box\")"
   ]
  },
  {
   "cell_type": "markdown",
   "id": "27290d30-3c5d-4161-8cf8-0b0cb9f22654",
   "metadata": {},
   "source": [
    "### Violinplot\n",
    "\n",
    "Sometimes the median and mean aren't enough to understand a dataset. Are most of the values clustered around the median? Or are they clustered around the minimum and the maximum with nothing in the middle? When you have questions like these, distribution plots are your friends.\n",
    "\n",
    "The box plot is an old standby for visualizing basic distributions. It's convenient for comparing summary statistics (such as range and quartiles), but it doesn't let you see variations in the data. For multimodal distributions (those with multiple peaks) this can be particularly limiting.\n",
    "\n",
    "But fret not—this is where the violin plot comes in. A violin plot is a hybrid of a box plot and a kernel density plot, which shows peaks in the data.\n",
    "\n",
    "formore explanation visit: https://mode.com/blog/violin-plot-examples/"
   ]
  },
  {
   "cell_type": "code",
   "execution_count": null,
   "id": "359478ff-ec41-43b4-87fe-227e93e2d41f",
   "metadata": {},
   "outputs": [],
   "source": [
    "sns.catplot(data=df, x=\"Pclass\", y=\"Fare\", kind=\"violin\")"
   ]
  },
  {
   "cell_type": "markdown",
   "id": "facial-spell",
   "metadata": {},
   "source": [
    "## Scatterplot\n",
    "\n",
    "A scatter plot (aka scatter chart, scatter graph) uses dots to represent values for two different numeric variables. The position of each dot on the horizontal and vertical axis indicates values for an individual data point. Scatter plots are used to observe relationships between variables.\n",
    "\n",
    "https://chartio.com/learn/charts/what-is-a-scatter-plot/"
   ]
  },
  {
   "cell_type": "code",
   "execution_count": null,
   "id": "academic-kazakhstan",
   "metadata": {},
   "outputs": [],
   "source": [
    "sns.scatterplot(data=df, x=\"Age\", y=\"Fare\", hue=\"Sex\", size=\"Pclass\", alpha=0.5)"
   ]
  },
  {
   "cell_type": "markdown",
   "id": "differential-sauce",
   "metadata": {},
   "source": [
    "## Heatmap"
   ]
  },
  {
   "cell_type": "code",
   "execution_count": null,
   "id": "mighty-barrier",
   "metadata": {},
   "outputs": [],
   "source": [
    "uniform_data = np.random.rand(5, 5)\n",
    "sns.heatmap(uniform_data, vmin=0, vmax=1)"
   ]
  },
  {
   "cell_type": "code",
   "execution_count": null,
   "id": "0f988aac-b37a-4163-917c-03597e74b8b4",
   "metadata": {},
   "outputs": [],
   "source": [
    "sns.heatmap(uniform_data, vmin=0, vmax=1, annot=True)"
   ]
  },
  {
   "cell_type": "markdown",
   "id": "8fc43d40-d07b-4052-9579-fc0e93d621d1",
   "metadata": {},
   "source": [
    "## How to make subplots (Matplotlib)\n",
    "\n",
    "We can pack several plots in a figure.\n",
    "There is several way to do that, here we describe the *pyplot.subplots* function\n",
    "> https://matplotlib.org/stable/api/_as_gen/matplotlib.pyplot.subplots.html\n",
    "\n",
    "When using seaborn plotting function the high level catplot, displot and relplot methods will not work with subplots. You should be specific and use the lower level methods such as histplot, boxplot etc... "
   ]
  },
  {
   "cell_type": "code",
   "execution_count": null,
   "id": "f57d267f-bcc4-4ed2-8aa1-557fe666ccce",
   "metadata": {},
   "outputs": [],
   "source": [
    "fig, axs = plt.subplots(2,2, figsize=(9,7)) # 2 rows, 2 columns\n",
    "\n",
    "sns.histplot(data=df, x=\"Age\", hue=\"Survived\", kde=True, ax=axs[0,0], palette=[\"grey\", \"black\"])\n",
    "sns.boxplot(data=df, x=\"Pclass\", y=\"Fare\", ax=axs[0,1], palette=[\"lightgreen\", \"green\", \"darkgreen\"])\n",
    "sns.barplot(data=df, x=\"Sex\", y=\"Age\", ax=axs[1,0])\n",
    "sns.scatterplot(data=df, x=\"Age\", y=\"Fare\", hue=\"Sex\", size=\"Pclass\", alpha=0.5, ax=axs[1,1])"
   ]
  },
  {
   "cell_type": "code",
   "execution_count": null,
   "id": "bf1edc04-10a3-4c3c-8c6c-072594953bf6",
   "metadata": {},
   "outputs": [],
   "source": [
    "# More complex visualisations can be incorporated in a function\n",
    "def titanic_graph():\n",
    "\n",
    "    fig, axs = plt.subplots(2,2, figsize=(9,7)) # 2 rows, 2 columns\n",
    "\n",
    "    sns.histplot(data=df, x=\"Age\", hue=\"Survived\", kde=True, ax=axs[0,0], palette=[\"grey\", \"black\"])\n",
    "    sns.boxplot(data=df, x=\"Pclass\", y=\"Fare\", ax=axs[0,1], palette=[\"lightgreen\", \"green\", \"darkgreen\"])\n",
    "    sns.barplot(data=df, x=\"Sex\", y=\"Age\", ax=axs[1,0])\n",
    "    sns.scatterplot(data=df, x=\"Age\", y=\"Fare\", hue=\"Sex\", size=\"Pclass\", alpha=0.5, ax=axs[1,1])"
   ]
  },
  {
   "cell_type": "code",
   "execution_count": null,
   "id": "05bdefdd-8474-4241-a9a3-be576adbc941",
   "metadata": {},
   "outputs": [],
   "source": [
    "titanic_graph()"
   ]
  },
  {
   "cell_type": "markdown",
   "id": "07f3defa-f36d-4bf2-a7ae-5c05e4190412",
   "metadata": {},
   "source": [
    "## Saving figures (Matplotlib)"
   ]
  },
  {
   "cell_type": "code",
   "execution_count": null,
   "id": "1c0c03bc-f3f4-4a62-ae30-fedd26e5ec46",
   "metadata": {},
   "outputs": [],
   "source": [
    "titanic_graph()\n",
    "plt.savefig(\"titanic_visualization.pdf\")"
   ]
  }
 ],
 "metadata": {
  "kernelspec": {
   "display_name": "Python 3 (ipykernel)",
   "language": "python",
   "name": "python3"
  },
  "language_info": {
   "codemirror_mode": {
    "name": "ipython",
    "version": 3
   },
   "file_extension": ".py",
   "mimetype": "text/x-python",
   "name": "python",
   "nbconvert_exporter": "python",
   "pygments_lexer": "ipython3",
   "version": "3.11.10"
  }
 },
 "nbformat": 4,
 "nbformat_minor": 5
}
